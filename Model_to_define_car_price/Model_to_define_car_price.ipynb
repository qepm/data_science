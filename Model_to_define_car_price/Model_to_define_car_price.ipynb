{
 "cells": [
  {
   "cell_type": "markdown",
   "metadata": {},
   "source": [
    "# Определение стоимости автомобилей"
   ]
  },
  {
   "cell_type": "markdown",
   "metadata": {},
   "source": [
    "## Подготовка данных"
   ]
  },
  {
   "cell_type": "code",
   "execution_count": 1,
   "metadata": {},
   "outputs": [],
   "source": [
    "import pandas as pd\n",
    "import numpy as np\n",
    "\n",
    "from sklearn.model_selection import train_test_split\n",
    "from sklearn.preprocessing import StandardScaler\n",
    "from sklearn.metrics import mean_squared_error\n",
    "from sklearn.preprocessing import PolynomialFeatures, OrdinalEncoder\n",
    "from sklearn.linear_model import LinearRegression, Ridge, Lasso\n",
    "from sklearn.tree import DecisionTreeRegressor\n",
    "from sklearn.ensemble import ExtraTreesRegressor\n",
    "from sklearn.model_selection import cross_val_score, GridSearchCV\n",
    "from sklearn.pipeline import Pipeline\n",
    "\n",
    "from catboost import CatBoostRegressor\n",
    "from lightgbm import LGBMRegressor\n",
    "\n",
    "import matplotlib.pyplot as plt\n",
    "\n",
    "import warnings\n",
    "warnings.filterwarnings('ignore')"
   ]
  },
  {
   "cell_type": "code",
   "execution_count": 2,
   "metadata": {},
   "outputs": [
    {
     "name": "stdout",
     "output_type": "stream",
     "text": [
      "<class 'pandas.core.frame.DataFrame'>\n",
      "RangeIndex: 354369 entries, 0 to 354368\n",
      "Data columns (total 16 columns):\n",
      "DateCrawled          354369 non-null object\n",
      "Price                354369 non-null int64\n",
      "VehicleType          316879 non-null object\n",
      "RegistrationYear     354369 non-null int64\n",
      "Gearbox              334536 non-null object\n",
      "Power                354369 non-null int64\n",
      "Model                334664 non-null object\n",
      "Kilometer            354369 non-null int64\n",
      "RegistrationMonth    354369 non-null int64\n",
      "FuelType             321474 non-null object\n",
      "Brand                354369 non-null object\n",
      "NotRepaired          283215 non-null object\n",
      "DateCreated          354369 non-null object\n",
      "NumberOfPictures     354369 non-null int64\n",
      "PostalCode           354369 non-null int64\n",
      "LastSeen             354369 non-null object\n",
      "dtypes: int64(7), object(9)\n",
      "memory usage: 43.3+ MB\n"
     ]
    },
    {
     "data": {
      "text/plain": [
       "None"
      ]
     },
     "metadata": {},
     "output_type": "display_data"
    }
   ],
   "source": [
    "auto_df = pd.read_csv('/datasets/autos.csv')\n",
    "display(auto_df.info())"
   ]
  },
  {
   "cell_type": "code",
   "execution_count": 3,
   "metadata": {},
   "outputs": [
    {
     "data": {
      "text/html": [
       "<div>\n",
       "<style scoped>\n",
       "    .dataframe tbody tr th:only-of-type {\n",
       "        vertical-align: middle;\n",
       "    }\n",
       "\n",
       "    .dataframe tbody tr th {\n",
       "        vertical-align: top;\n",
       "    }\n",
       "\n",
       "    .dataframe thead th {\n",
       "        text-align: right;\n",
       "    }\n",
       "</style>\n",
       "<table border=\"1\" class=\"dataframe\">\n",
       "  <thead>\n",
       "    <tr style=\"text-align: right;\">\n",
       "      <th></th>\n",
       "      <th>DateCrawled</th>\n",
       "      <th>Price</th>\n",
       "      <th>VehicleType</th>\n",
       "      <th>RegistrationYear</th>\n",
       "      <th>Gearbox</th>\n",
       "      <th>Power</th>\n",
       "      <th>Model</th>\n",
       "      <th>Kilometer</th>\n",
       "      <th>RegistrationMonth</th>\n",
       "      <th>FuelType</th>\n",
       "      <th>Brand</th>\n",
       "      <th>NotRepaired</th>\n",
       "      <th>DateCreated</th>\n",
       "      <th>NumberOfPictures</th>\n",
       "      <th>PostalCode</th>\n",
       "      <th>LastSeen</th>\n",
       "    </tr>\n",
       "  </thead>\n",
       "  <tbody>\n",
       "    <tr>\n",
       "      <td>0</td>\n",
       "      <td>2016-03-24 11:52:17</td>\n",
       "      <td>480</td>\n",
       "      <td>NaN</td>\n",
       "      <td>1993</td>\n",
       "      <td>manual</td>\n",
       "      <td>0</td>\n",
       "      <td>golf</td>\n",
       "      <td>150000</td>\n",
       "      <td>0</td>\n",
       "      <td>petrol</td>\n",
       "      <td>volkswagen</td>\n",
       "      <td>NaN</td>\n",
       "      <td>2016-03-24 00:00:00</td>\n",
       "      <td>0</td>\n",
       "      <td>70435</td>\n",
       "      <td>2016-04-07 03:16:57</td>\n",
       "    </tr>\n",
       "    <tr>\n",
       "      <td>1</td>\n",
       "      <td>2016-03-24 10:58:45</td>\n",
       "      <td>18300</td>\n",
       "      <td>coupe</td>\n",
       "      <td>2011</td>\n",
       "      <td>manual</td>\n",
       "      <td>190</td>\n",
       "      <td>NaN</td>\n",
       "      <td>125000</td>\n",
       "      <td>5</td>\n",
       "      <td>gasoline</td>\n",
       "      <td>audi</td>\n",
       "      <td>yes</td>\n",
       "      <td>2016-03-24 00:00:00</td>\n",
       "      <td>0</td>\n",
       "      <td>66954</td>\n",
       "      <td>2016-04-07 01:46:50</td>\n",
       "    </tr>\n",
       "    <tr>\n",
       "      <td>2</td>\n",
       "      <td>2016-03-14 12:52:21</td>\n",
       "      <td>9800</td>\n",
       "      <td>suv</td>\n",
       "      <td>2004</td>\n",
       "      <td>auto</td>\n",
       "      <td>163</td>\n",
       "      <td>grand</td>\n",
       "      <td>125000</td>\n",
       "      <td>8</td>\n",
       "      <td>gasoline</td>\n",
       "      <td>jeep</td>\n",
       "      <td>NaN</td>\n",
       "      <td>2016-03-14 00:00:00</td>\n",
       "      <td>0</td>\n",
       "      <td>90480</td>\n",
       "      <td>2016-04-05 12:47:46</td>\n",
       "    </tr>\n",
       "    <tr>\n",
       "      <td>3</td>\n",
       "      <td>2016-03-17 16:54:04</td>\n",
       "      <td>1500</td>\n",
       "      <td>small</td>\n",
       "      <td>2001</td>\n",
       "      <td>manual</td>\n",
       "      <td>75</td>\n",
       "      <td>golf</td>\n",
       "      <td>150000</td>\n",
       "      <td>6</td>\n",
       "      <td>petrol</td>\n",
       "      <td>volkswagen</td>\n",
       "      <td>no</td>\n",
       "      <td>2016-03-17 00:00:00</td>\n",
       "      <td>0</td>\n",
       "      <td>91074</td>\n",
       "      <td>2016-03-17 17:40:17</td>\n",
       "    </tr>\n",
       "    <tr>\n",
       "      <td>4</td>\n",
       "      <td>2016-03-31 17:25:20</td>\n",
       "      <td>3600</td>\n",
       "      <td>small</td>\n",
       "      <td>2008</td>\n",
       "      <td>manual</td>\n",
       "      <td>69</td>\n",
       "      <td>fabia</td>\n",
       "      <td>90000</td>\n",
       "      <td>7</td>\n",
       "      <td>gasoline</td>\n",
       "      <td>skoda</td>\n",
       "      <td>no</td>\n",
       "      <td>2016-03-31 00:00:00</td>\n",
       "      <td>0</td>\n",
       "      <td>60437</td>\n",
       "      <td>2016-04-06 10:17:21</td>\n",
       "    </tr>\n",
       "  </tbody>\n",
       "</table>\n",
       "</div>"
      ],
      "text/plain": [
       "           DateCrawled  Price VehicleType  RegistrationYear Gearbox  Power  \\\n",
       "0  2016-03-24 11:52:17    480         NaN              1993  manual      0   \n",
       "1  2016-03-24 10:58:45  18300       coupe              2011  manual    190   \n",
       "2  2016-03-14 12:52:21   9800         suv              2004    auto    163   \n",
       "3  2016-03-17 16:54:04   1500       small              2001  manual     75   \n",
       "4  2016-03-31 17:25:20   3600       small              2008  manual     69   \n",
       "\n",
       "   Model  Kilometer  RegistrationMonth  FuelType       Brand NotRepaired  \\\n",
       "0   golf     150000                  0    petrol  volkswagen         NaN   \n",
       "1    NaN     125000                  5  gasoline        audi         yes   \n",
       "2  grand     125000                  8  gasoline        jeep         NaN   \n",
       "3   golf     150000                  6    petrol  volkswagen          no   \n",
       "4  fabia      90000                  7  gasoline       skoda          no   \n",
       "\n",
       "           DateCreated  NumberOfPictures  PostalCode             LastSeen  \n",
       "0  2016-03-24 00:00:00                 0       70435  2016-04-07 03:16:57  \n",
       "1  2016-03-24 00:00:00                 0       66954  2016-04-07 01:46:50  \n",
       "2  2016-03-14 00:00:00                 0       90480  2016-04-05 12:47:46  \n",
       "3  2016-03-17 00:00:00                 0       91074  2016-03-17 17:40:17  \n",
       "4  2016-03-31 00:00:00                 0       60437  2016-04-06 10:17:21  "
      ]
     },
     "execution_count": 3,
     "metadata": {},
     "output_type": "execute_result"
    }
   ],
   "source": [
    "auto_df.head()"
   ]
  },
  {
   "cell_type": "code",
   "execution_count": 4,
   "metadata": {},
   "outputs": [
    {
     "data": {
      "text/plain": [
       "(354369, 16)"
      ]
     },
     "execution_count": 4,
     "metadata": {},
     "output_type": "execute_result"
    }
   ],
   "source": [
    "auto_df.shape"
   ]
  },
  {
   "cell_type": "code",
   "execution_count": 5,
   "metadata": {},
   "outputs": [
    {
     "data": {
      "text/plain": [
       "DateCrawled          0.000000\n",
       "Price                0.000000\n",
       "VehicleType          0.105794\n",
       "RegistrationYear     0.000000\n",
       "Gearbox              0.055967\n",
       "Power                0.000000\n",
       "Model                0.055606\n",
       "Kilometer            0.000000\n",
       "RegistrationMonth    0.000000\n",
       "FuelType             0.092827\n",
       "Brand                0.000000\n",
       "NotRepaired          0.200791\n",
       "DateCreated          0.000000\n",
       "NumberOfPictures     0.000000\n",
       "PostalCode           0.000000\n",
       "LastSeen             0.000000\n",
       "dtype: float64"
      ]
     },
     "execution_count": 5,
     "metadata": {},
     "output_type": "execute_result"
    }
   ],
   "source": [
    "auto_df.isna().mean()"
   ]
  },
  {
   "cell_type": "code",
   "execution_count": 6,
   "metadata": {},
   "outputs": [
    {
     "data": {
      "text/plain": [
       "DateCrawled              0\n",
       "Price                    0\n",
       "VehicleType          37490\n",
       "RegistrationYear         0\n",
       "Gearbox              19833\n",
       "Power                    0\n",
       "Model                19705\n",
       "Kilometer                0\n",
       "RegistrationMonth        0\n",
       "FuelType             32895\n",
       "Brand                    0\n",
       "NotRepaired          71154\n",
       "DateCreated              0\n",
       "NumberOfPictures         0\n",
       "PostalCode               0\n",
       "LastSeen                 0\n",
       "dtype: int64"
      ]
     },
     "execution_count": 6,
     "metadata": {},
     "output_type": "execute_result"
    }
   ],
   "source": [
    "auto_df.isna().sum()"
   ]
  },
  {
   "cell_type": "markdown",
   "metadata": {},
   "source": [
    "В столбцах VehicleType, Gearbox, FuelType и NotRepaired есть пропусками. Расммотрим данные в каждом столбце."
   ]
  },
  {
   "cell_type": "code",
   "execution_count": 7,
   "metadata": {},
   "outputs": [
    {
     "name": "stdout",
     "output_type": "stream",
     "text": [
      "Количество марок автомобилей: 40\n",
      "Количество моделей автомобилей: 251\n",
      "Кузов автомобиля: 9\n",
      "Средний пробег: 128211\n"
     ]
    }
   ],
   "source": [
    "print(\"Количество марок автомобилей:\", len(auto_df[\"Brand\"].unique()))\n",
    "print(\"Количество моделей автомобилей:\", len(auto_df[\"Model\"].unique()))\n",
    "print(\"Кузов автомобиля:\", len(auto_df[\"VehicleType\"].unique()))\n",
    "print(\"Средний пробег: {:.0f}\".format(auto_df[\"Kilometer\"].mean()))"
   ]
  },
  {
   "cell_type": "code",
   "execution_count": 8,
   "metadata": {},
   "outputs": [
    {
     "name": "stdout",
     "output_type": "stream",
     "text": [
      "[1993 2011 2004 2001 2008 1995 1980 2014 1998 2005 1910 2016 2007 2009\n",
      " 2002 2018 1997 1990 2017 1981 2003 1994 1991 1984 2006 1999 2012 2010\n",
      " 2000 1992 2013 1996 1985 1989 2015 1982 1976 1983 1973 1111 1969 1971\n",
      " 1987 1986 1988 1970 1965 1945 1925 1974 1979 1955 1978 1972 1968 1977\n",
      " 1961 1960 1966 1975 1963 1964 5000 1954 1958 1967 1959 9999 1956 3200\n",
      " 1000 1941 8888 1500 2200 4100 1962 1929 1957 1940 3000 2066 1949 2019\n",
      " 1937 1951 1800 1953 1234 8000 5300 9000 2900 6000 5900 5911 1933 1400\n",
      " 1950 4000 1948 1952 1200 8500 1932 1255 3700 3800 4800 1942 7000 1935\n",
      " 1936 6500 1923 2290 2500 1930 1001 9450 1944 1943 1934 1938 1688 2800\n",
      " 1253 1928 1919 5555 5600 1600 2222 1039 9996 1300 8455 1931 1915 4500\n",
      " 1920 1602 7800 9229 1947 1927 7100 8200 1946 7500 3500]\n"
     ]
    }
   ],
   "source": [
    "print(auto_df['RegistrationYear'].unique())"
   ]
  },
  {
   "cell_type": "code",
   "execution_count": 9,
   "metadata": {},
   "outputs": [
    {
     "name": "stdout",
     "output_type": "stream",
     "text": [
      "[ 0  5  8  6  7 10 12 11  2  3  1  4  9]\n"
     ]
    }
   ],
   "source": [
    "print(auto_df['RegistrationMonth'].unique())"
   ]
  },
  {
   "cell_type": "code",
   "execution_count": 10,
   "metadata": {},
   "outputs": [
    {
     "name": "stdout",
     "output_type": "stream",
     "text": [
      "[    0   190   163    75    69   102   109    50   125   101   105   140\n",
      "   115   131    60   136   160   231    90   118   193    99   113   218\n",
      "   122   129    70   306    95    61   177    80   170    55   143    64\n",
      "   286   232   150   156    82   155    54   185    87   180    86    84\n",
      "   224   235   200   178   265    77   110   144   120   116   184   126\n",
      "   204    88   194   305   197   179   250    45   313    41   165    98\n",
      "   130   114   211    56   201   213    58   107    83   174   100   220\n",
      "    85    73   192    68    66   299    74    52   147    65   310    71\n",
      "    97   239   203     5   300   103   258   320    63    81   148    44\n",
      "   145   230   280   260   104   188   333   186   117   141    59   132\n",
      "   234   158    39    92    51   135    53   209    43   146    67   106\n",
      "   166   276   344    72   249   237   245   111   326   279    23   138\n",
      "   175    96   226    26    37   301   334   128   133   124    33   219\n",
      "   241   167    94   182   196   238  1398   228   112    48   272   139\n",
      "  1799    40   240    79   256   360   243   375   252   396   340   108\n",
      "   121   345   187   289   222   198   284   450   233   387   152   347\n",
      "   172    57   137   212   476   314    30     7    47   173   290   207\n",
      "   205   171   750    78    91    89   349   325    76   151   350   953\n",
      "    93   142   500   343   199   119   164    16   264   367   208   210\n",
      "    46   435  1001   225   127   176   161   603   307   354    35   206\n",
      "   771   355   273   223   255   123   154   149  7515  1400   268   620\n",
      "   169   400   275    34     2   242  1779   285   162   328  1753   329\n",
      "   134   420   247   168 10317   215    18   330   283    62    10   214\n",
      "   183   254    15   321   322   315   952   600   181   426   599   379\n",
      "   999    22   157    42   195   553     4   309   507   381   271   440\n",
      "   189   401  1111  2729    21   236  1240  1704   521     1  1900   270\n",
      "    24   159   292   808   515  1200   303    29    38  1993    14   216\n",
      "   610   504    49   267   331   363   261   385  1011   253   696 10520\n",
      "   376   227   311    27   217    20  1999    11  1056    25   394    12\n",
      "   298   296  1659   294   551  6920   246    17  1800  1625   368   390\n",
      "   221  1367   259   606   327  2017  1597   266   374   392     9   405\n",
      "    13   262   601   430   295     8   411   900   541  7512   382 10218\n",
      "  7544  1102   287    19   751   297  1090   457   282   602   388     6\n",
      "  1000  5411   335  1360   202  3750   805  1062  1024 11530   364  1796\n",
      "  5000   269   460  1002   288  1780 12012 17932   316  2005  1399   191\n",
      "   278  1300   380   257   449  1256   153  1653   520   560   281 12510\n",
      "     3  1500   386    32  1202  2016  1436  1405   671   274  1288  1055\n",
      " 10912 15016  6226  1115   277  1105   341  1223  2340  8404  1968   338\n",
      "   445  1920   370   517  4400 10710 10522  9010   431  1164 11509   371\n",
      "  1501   428 11635    36   304   348  1703  1910  1995   579 10000   580\n",
      "   408    31  1005   358  1403   489  5575 19211   585   960   365   353\n",
      "   490   352  1801   346   550  3199   800  7508  1312   357  1937   950\n",
      "  4700  1600  3454 19208   251   850   337   700  8011  2331  2789   487\n",
      "   519  2461  6006  3500  5815  6018  1781  1503   612  1596   229  1506\n",
      "  5809 15020  5867  2172  1598 17410  1363   584  1054   851  1339   318\n",
      "   510   525  1700    28  1151   685  6011   317   703  1771 15001   514\n",
      "   362   332   324  6045   530   425   308  6010   475   903   640  2000\n",
      "   248   651  2799 17011   505  1103  1521   351 16051   398  9000  1998\n",
      " 10311   409  1230 17019 12684  8259  1895   901  1317   871   909  2201\n",
      "  1595   776 17700 11011  1199   459  1162  1120 15033  1896   339   361\n",
      "   574  6512   454   650 13616   604   607 16312  1082   336 20000   416\n",
      "   678  6012  1401  1021  1870 13636  1250  9710   323  1158  2009   902\n",
      "  6062  1275   572   244   399  1016   743  1221  2402 16011  1362   544\n",
      "   645   907   702 12512  1986  1003  1432  9013  9011   442  1017  1394\n",
      " 15017 10910  1992   540  2018 11025  1433  1701  2792  1502  1239  1390\n",
      " 14009  1160  1351 11111  1783  9007   923  1149   754  1988   402  2004\n",
      "  5420  1793  1324   356  7511  1299   293 19312  1079  1689   998  1100\n",
      "  9012  1933   508 16311   682  1252  1922  7529   732  2389  2200  1707\n",
      "  1416  8500  1012   485  3000 10110   421  4507  1631  7518   377  1004\n",
      "  2007  2598  1548  1241]\n"
     ]
    }
   ],
   "source": [
    "print(auto_df['Power'].unique())"
   ]
  },
  {
   "cell_type": "markdown",
   "metadata": {},
   "source": [
    "Значимые признаки:\n",
    "\n",
    "Power — мощность (л.с.); показатель напрямую влияет на цену авто\n",
    "\n",
    "VehicleType — тип автомобильного кузова; чем больше функциональных возможностей у авто, тем выше цена\n",
    "\n",
    "Gearbox — тип коробки передач; при наличии автомата стоимость авто растет\n",
    "\n",
    "Model — модель автомобиля; как и марка авто влияет на цену\n",
    "\n",
    "Kilometer — пробег (км); чем больше пробег у авто,тем меньше ее цена при прочих равных\n",
    "\n",
    "FuelType — тип топлива; показатель определяет конфигурацию двигателя\n",
    "\n",
    "Brand — марка автомобиля; напрямую влияет на цену\n",
    "\n",
    "NotRepaired — была машина в ремонте или нет; через амортизацию влияет на цену\n",
    "\n",
    "RegistrationYear — год регистрации автомобиля; чем старше авто, тем ниже стоимость при прочих равных\n",
    "\n"
   ]
  },
  {
   "cell_type": "markdown",
   "metadata": {},
   "source": [
    "Целевой признак - Price (цена)"
   ]
  },
  {
   "cell_type": "markdown",
   "metadata": {},
   "source": [
    "Создадим новый датафрейм с необходиммыми столбцами для дальнейшей работы"
   ]
  },
  {
   "cell_type": "code",
   "execution_count": 11,
   "metadata": {},
   "outputs": [],
   "source": [
    "new_auto_df = auto_df[['VehicleType', \n",
    "                         'Gearbox', \n",
    "                         'Power',\n",
    "                         'Kilometer',\n",
    "                         'FuelType',\n",
    "                         'Brand',\n",
    "                         'NotRepaired',\n",
    "                         'RegistrationYear',\n",
    "                         'Model',\n",
    "                         'Price']]"
   ]
  },
  {
   "cell_type": "code",
   "execution_count": 12,
   "metadata": {},
   "outputs": [
    {
     "name": "stdout",
     "output_type": "stream",
     "text": [
      "<class 'pandas.core.frame.DataFrame'>\n",
      "RangeIndex: 354369 entries, 0 to 354368\n",
      "Data columns (total 10 columns):\n",
      "VehicleType         316879 non-null object\n",
      "Gearbox             334536 non-null object\n",
      "Power               354369 non-null int64\n",
      "Kilometer           354369 non-null int64\n",
      "FuelType            321474 non-null object\n",
      "Brand               354369 non-null object\n",
      "NotRepaired         283215 non-null object\n",
      "RegistrationYear    354369 non-null int64\n",
      "Model               334664 non-null object\n",
      "Price               354369 non-null int64\n",
      "dtypes: int64(4), object(6)\n",
      "memory usage: 27.0+ MB\n"
     ]
    }
   ],
   "source": [
    "new_auto_df.info()"
   ]
  },
  {
   "cell_type": "code",
   "execution_count": 13,
   "metadata": {
    "scrolled": false
   },
   "outputs": [
    {
     "data": {
      "text/html": [
       "<div>\n",
       "<style scoped>\n",
       "    .dataframe tbody tr th:only-of-type {\n",
       "        vertical-align: middle;\n",
       "    }\n",
       "\n",
       "    .dataframe tbody tr th {\n",
       "        vertical-align: top;\n",
       "    }\n",
       "\n",
       "    .dataframe thead th {\n",
       "        text-align: right;\n",
       "    }\n",
       "</style>\n",
       "<table border=\"1\" class=\"dataframe\">\n",
       "  <thead>\n",
       "    <tr style=\"text-align: right;\">\n",
       "      <th></th>\n",
       "      <th>VehicleType</th>\n",
       "      <th>Gearbox</th>\n",
       "      <th>Power</th>\n",
       "      <th>Kilometer</th>\n",
       "      <th>FuelType</th>\n",
       "      <th>Brand</th>\n",
       "      <th>NotRepaired</th>\n",
       "      <th>RegistrationYear</th>\n",
       "      <th>Model</th>\n",
       "      <th>Price</th>\n",
       "    </tr>\n",
       "  </thead>\n",
       "  <tbody>\n",
       "    <tr>\n",
       "      <td>0</td>\n",
       "      <td>NaN</td>\n",
       "      <td>manual</td>\n",
       "      <td>0</td>\n",
       "      <td>150000</td>\n",
       "      <td>petrol</td>\n",
       "      <td>volkswagen</td>\n",
       "      <td>NaN</td>\n",
       "      <td>1993</td>\n",
       "      <td>golf</td>\n",
       "      <td>480</td>\n",
       "    </tr>\n",
       "    <tr>\n",
       "      <td>1</td>\n",
       "      <td>coupe</td>\n",
       "      <td>manual</td>\n",
       "      <td>190</td>\n",
       "      <td>125000</td>\n",
       "      <td>gasoline</td>\n",
       "      <td>audi</td>\n",
       "      <td>yes</td>\n",
       "      <td>2011</td>\n",
       "      <td>NaN</td>\n",
       "      <td>18300</td>\n",
       "    </tr>\n",
       "    <tr>\n",
       "      <td>2</td>\n",
       "      <td>suv</td>\n",
       "      <td>auto</td>\n",
       "      <td>163</td>\n",
       "      <td>125000</td>\n",
       "      <td>gasoline</td>\n",
       "      <td>jeep</td>\n",
       "      <td>NaN</td>\n",
       "      <td>2004</td>\n",
       "      <td>grand</td>\n",
       "      <td>9800</td>\n",
       "    </tr>\n",
       "    <tr>\n",
       "      <td>3</td>\n",
       "      <td>small</td>\n",
       "      <td>manual</td>\n",
       "      <td>75</td>\n",
       "      <td>150000</td>\n",
       "      <td>petrol</td>\n",
       "      <td>volkswagen</td>\n",
       "      <td>no</td>\n",
       "      <td>2001</td>\n",
       "      <td>golf</td>\n",
       "      <td>1500</td>\n",
       "    </tr>\n",
       "    <tr>\n",
       "      <td>4</td>\n",
       "      <td>small</td>\n",
       "      <td>manual</td>\n",
       "      <td>69</td>\n",
       "      <td>90000</td>\n",
       "      <td>gasoline</td>\n",
       "      <td>skoda</td>\n",
       "      <td>no</td>\n",
       "      <td>2008</td>\n",
       "      <td>fabia</td>\n",
       "      <td>3600</td>\n",
       "    </tr>\n",
       "    <tr>\n",
       "      <td>...</td>\n",
       "      <td>...</td>\n",
       "      <td>...</td>\n",
       "      <td>...</td>\n",
       "      <td>...</td>\n",
       "      <td>...</td>\n",
       "      <td>...</td>\n",
       "      <td>...</td>\n",
       "      <td>...</td>\n",
       "      <td>...</td>\n",
       "      <td>...</td>\n",
       "    </tr>\n",
       "    <tr>\n",
       "      <td>354364</td>\n",
       "      <td>NaN</td>\n",
       "      <td>manual</td>\n",
       "      <td>0</td>\n",
       "      <td>150000</td>\n",
       "      <td>petrol</td>\n",
       "      <td>mitsubishi</td>\n",
       "      <td>yes</td>\n",
       "      <td>2005</td>\n",
       "      <td>colt</td>\n",
       "      <td>0</td>\n",
       "    </tr>\n",
       "    <tr>\n",
       "      <td>354365</td>\n",
       "      <td>NaN</td>\n",
       "      <td>NaN</td>\n",
       "      <td>0</td>\n",
       "      <td>20000</td>\n",
       "      <td>NaN</td>\n",
       "      <td>sonstige_autos</td>\n",
       "      <td>NaN</td>\n",
       "      <td>2005</td>\n",
       "      <td>NaN</td>\n",
       "      <td>2200</td>\n",
       "    </tr>\n",
       "    <tr>\n",
       "      <td>354366</td>\n",
       "      <td>convertible</td>\n",
       "      <td>auto</td>\n",
       "      <td>101</td>\n",
       "      <td>125000</td>\n",
       "      <td>petrol</td>\n",
       "      <td>smart</td>\n",
       "      <td>no</td>\n",
       "      <td>2000</td>\n",
       "      <td>fortwo</td>\n",
       "      <td>1199</td>\n",
       "    </tr>\n",
       "    <tr>\n",
       "      <td>354367</td>\n",
       "      <td>bus</td>\n",
       "      <td>manual</td>\n",
       "      <td>102</td>\n",
       "      <td>150000</td>\n",
       "      <td>gasoline</td>\n",
       "      <td>volkswagen</td>\n",
       "      <td>no</td>\n",
       "      <td>1996</td>\n",
       "      <td>transporter</td>\n",
       "      <td>9200</td>\n",
       "    </tr>\n",
       "    <tr>\n",
       "      <td>354368</td>\n",
       "      <td>wagon</td>\n",
       "      <td>manual</td>\n",
       "      <td>100</td>\n",
       "      <td>150000</td>\n",
       "      <td>gasoline</td>\n",
       "      <td>volkswagen</td>\n",
       "      <td>NaN</td>\n",
       "      <td>2002</td>\n",
       "      <td>golf</td>\n",
       "      <td>3400</td>\n",
       "    </tr>\n",
       "  </tbody>\n",
       "</table>\n",
       "<p>354369 rows × 10 columns</p>\n",
       "</div>"
      ],
      "text/plain": [
       "        VehicleType Gearbox  Power  Kilometer  FuelType           Brand  \\\n",
       "0               NaN  manual      0     150000    petrol      volkswagen   \n",
       "1             coupe  manual    190     125000  gasoline            audi   \n",
       "2               suv    auto    163     125000  gasoline            jeep   \n",
       "3             small  manual     75     150000    petrol      volkswagen   \n",
       "4             small  manual     69      90000  gasoline           skoda   \n",
       "...             ...     ...    ...        ...       ...             ...   \n",
       "354364          NaN  manual      0     150000    petrol      mitsubishi   \n",
       "354365          NaN     NaN      0      20000       NaN  sonstige_autos   \n",
       "354366  convertible    auto    101     125000    petrol           smart   \n",
       "354367          bus  manual    102     150000  gasoline      volkswagen   \n",
       "354368        wagon  manual    100     150000  gasoline      volkswagen   \n",
       "\n",
       "       NotRepaired  RegistrationYear        Model  Price  \n",
       "0              NaN              1993         golf    480  \n",
       "1              yes              2011          NaN  18300  \n",
       "2              NaN              2004        grand   9800  \n",
       "3               no              2001         golf   1500  \n",
       "4               no              2008        fabia   3600  \n",
       "...            ...               ...          ...    ...  \n",
       "354364         yes              2005         colt      0  \n",
       "354365         NaN              2005          NaN   2200  \n",
       "354366          no              2000       fortwo   1199  \n",
       "354367          no              1996  transporter   9200  \n",
       "354368         NaN              2002         golf   3400  \n",
       "\n",
       "[354369 rows x 10 columns]"
      ]
     },
     "execution_count": 13,
     "metadata": {},
     "output_type": "execute_result"
    }
   ],
   "source": [
    "new_auto_df"
   ]
  },
  {
   "cell_type": "code",
   "execution_count": 14,
   "metadata": {},
   "outputs": [
    {
     "data": {
      "text/plain": [
       "array([1993, 2011, 2004, 2001, 2008, 1995, 1980, 2014, 1998, 2005, 1910,\n",
       "       2016, 2007, 2009, 2002, 2018, 1997, 1990, 2017, 1981, 2003, 1994,\n",
       "       1991, 1984, 2006, 1999, 2012, 2010, 2000, 1992, 2013, 1996, 1985,\n",
       "       1989, 2015, 1982, 1976, 1983, 1973, 1111, 1969, 1971, 1987, 1986,\n",
       "       1988, 1970, 1965, 1945, 1925, 1974, 1979, 1955, 1978, 1972, 1968,\n",
       "       1977, 1961, 1960, 1966, 1975, 1963, 1964, 5000, 1954, 1958, 1967,\n",
       "       1959, 9999, 1956, 3200, 1000, 1941, 8888, 1500, 2200, 4100, 1962,\n",
       "       1929, 1957, 1940, 3000, 2066, 1949, 2019, 1937, 1951, 1800, 1953,\n",
       "       1234, 8000, 5300, 9000, 2900, 6000, 5900, 5911, 1933, 1400, 1950,\n",
       "       4000, 1948, 1952, 1200, 8500, 1932, 1255, 3700, 3800, 4800, 1942,\n",
       "       7000, 1935, 1936, 6500, 1923, 2290, 2500, 1930, 1001, 9450, 1944,\n",
       "       1943, 1934, 1938, 1688, 2800, 1253, 1928, 1919, 5555, 5600, 1600,\n",
       "       2222, 1039, 9996, 1300, 8455, 1931, 1915, 4500, 1920, 1602, 7800,\n",
       "       9229, 1947, 1927, 7100, 8200, 1946, 7500, 3500])"
      ]
     },
     "execution_count": 14,
     "metadata": {},
     "output_type": "execute_result"
    }
   ],
   "source": [
    "new_auto_df['RegistrationYear'].unique()"
   ]
  },
  {
   "cell_type": "markdown",
   "metadata": {},
   "source": [
    "В данных достаточно много NaN, нулей и просто некорректных значений."
   ]
  },
  {
   "cell_type": "markdown",
   "metadata": {},
   "source": [
    "Столбцы, требующие обработки:\n",
    "\n",
    "NotRepaired. Для всех пропусков установим значение 'yes'.\n",
    "\n",
    "RegistrationYear. Приведем к реальным значениям.\n",
    "\n",
    "Model. Для всех пропусков установим значение 'unknown'.\n",
    "\n",
    "VehicleType. Будем ориентироваться на столбец Brand при восстановлении пропущенных значений.\n",
    "\n",
    "Gearbox. Для всех пропусков установим значение 'manual'.\n",
    "\n",
    "Power. Приведем к реальным значениям.\n",
    "\n",
    "FuelType. Будем ориентироваться на столбец Brand при восстановлении пропущенных значений.\n",
    "\n"
   ]
  },
  {
   "cell_type": "markdown",
   "metadata": {},
   "source": [
    "Рассмотрим данные по целевому признаку Price"
   ]
  },
  {
   "cell_type": "code",
   "execution_count": 15,
   "metadata": {},
   "outputs": [
    {
     "data": {
      "text/plain": [
       "0        10772\n",
       "500       5670\n",
       "1500      5394\n",
       "1000      4649\n",
       "1200      4594\n",
       "         ...  \n",
       "13440        1\n",
       "1414         1\n",
       "8069         1\n",
       "10370        1\n",
       "384          1\n",
       "Name: Price, Length: 3731, dtype: int64"
      ]
     },
     "execution_count": 15,
     "metadata": {},
     "output_type": "execute_result"
    }
   ],
   "source": [
    "new_auto_df['Price'].value_counts()"
   ]
  },
  {
   "cell_type": "markdown",
   "metadata": {},
   "source": [
    "нулей быть не должно, избавимся от них"
   ]
  },
  {
   "cell_type": "code",
   "execution_count": 16,
   "metadata": {},
   "outputs": [],
   "source": [
    "new_auto_df = new_auto_df.query('Price > 0')"
   ]
  },
  {
   "cell_type": "code",
   "execution_count": 17,
   "metadata": {
    "scrolled": false
   },
   "outputs": [
    {
     "data": {
      "text/plain": [
       "count    343597.000000\n",
       "mean       4555.121974\n",
       "std        4515.058553\n",
       "min           1.000000\n",
       "25%        1200.000000\n",
       "50%        2890.000000\n",
       "75%        6500.000000\n",
       "max       20000.000000\n",
       "Name: Price, dtype: float64"
      ]
     },
     "execution_count": 17,
     "metadata": {},
     "output_type": "execute_result"
    },
    {
     "data": {
      "image/png": "[encoded data removed]",
      "text/plain": [
       "<Figure size 1080x720 with 1 Axes>"
      ]
     },
     "metadata": {
      "needs_background": "light"
     },
     "output_type": "display_data"
    }
   ],
   "source": [
    "new_auto_df['Price'].hist(bins = 100, figsize = (15, 10))\n",
    "new_auto_df['Price'].describe()"
   ]
  },
  {
   "cell_type": "markdown",
   "metadata": {},
   "source": [
    "Выделим квантили 10% и 90%"
   ]
  },
  {
   "cell_type": "code",
   "execution_count": 18,
   "metadata": {},
   "outputs": [
    {
     "data": {
      "text/plain": [
       "0.1      590.0\n",
       "0.9    11500.0\n",
       "Name: Price, dtype: float64"
      ]
     },
     "execution_count": 18,
     "metadata": {},
     "output_type": "execute_result"
    }
   ],
   "source": [
    "new_auto_df['Price'].quantile([.1, 0.9])"
   ]
  },
  {
   "cell_type": "code",
   "execution_count": 19,
   "metadata": {},
   "outputs": [],
   "source": [
    "new_auto_df = new_auto_df.query('590 <= Price <= 11500')"
   ]
  },
  {
   "cell_type": "code",
   "execution_count": 20,
   "metadata": {},
   "outputs": [
    {
     "name": "stdout",
     "output_type": "stream",
     "text": [
      "<class 'pandas.core.frame.DataFrame'>\n",
      "Int64Index: 275222 entries, 2 to 354368\n",
      "Data columns (total 10 columns):\n",
      "VehicleType         250663 non-null object\n",
      "Gearbox             263098 non-null object\n",
      "Power               275222 non-null int64\n",
      "Kilometer           275222 non-null int64\n",
      "FuelType            254219 non-null object\n",
      "Brand               275222 non-null object\n",
      "NotRepaired         225684 non-null object\n",
      "RegistrationYear    275222 non-null int64\n",
      "Model               262333 non-null object\n",
      "Price               275222 non-null int64\n",
      "dtypes: int64(4), object(6)\n",
      "memory usage: 23.1+ MB\n"
     ]
    }
   ],
   "source": [
    "new_auto_df.info()"
   ]
  },
  {
   "cell_type": "code",
   "execution_count": 21,
   "metadata": {},
   "outputs": [
    {
     "data": {
      "text/plain": [
       "count    275222.000000\n",
       "mean       3774.329556\n",
       "std        2843.765198\n",
       "min         590.000000\n",
       "25%        1450.000000\n",
       "50%        2899.000000\n",
       "75%        5500.000000\n",
       "max       11500.000000\n",
       "Name: Price, dtype: float64"
      ]
     },
     "execution_count": 21,
     "metadata": {},
     "output_type": "execute_result"
    }
   ],
   "source": [
    "new_auto_df['Price'].describe()"
   ]
  },
  {
   "cell_type": "markdown",
   "metadata": {},
   "source": [
    "Рассмаотрим столбец RegistrationYear"
   ]
  },
  {
   "cell_type": "code",
   "execution_count": 22,
   "metadata": {},
   "outputs": [
    {
     "data": {
      "text/plain": [
       "count    275222.000000\n",
       "mean       2003.686838\n",
       "std          63.744556\n",
       "min        1000.000000\n",
       "25%        1999.000000\n",
       "50%        2003.000000\n",
       "75%        2007.000000\n",
       "max        9999.000000\n",
       "Name: RegistrationYear, dtype: float64"
      ]
     },
     "execution_count": 22,
     "metadata": {},
     "output_type": "execute_result"
    },
    {
     "data": {
      "image/png": "[encoded data removed]",
      "text/plain": [
       "<Figure size 1080x720 with 1 Axes>"
      ]
     },
     "metadata": {
      "needs_background": "light"
     },
     "output_type": "display_data"
    }
   ],
   "source": [
    "new_auto_df['RegistrationYear'].hist(bins = 100, figsize = (15, 10))\n",
    "new_auto_df['RegistrationYear'].describe()"
   ]
  },
  {
   "cell_type": "code",
   "execution_count": 23,
   "metadata": {
    "scrolled": true
   },
   "outputs": [
    {
     "data": {
      "text/plain": [
       "2005    19877\n",
       "2000    18819\n",
       "2003    18722\n",
       "2004    18548\n",
       "1999    18334\n",
       "        ...  \n",
       "1945        1\n",
       "1944        1\n",
       "1936        1\n",
       "1935        1\n",
       "4100        1\n",
       "Name: RegistrationYear, Length: 121, dtype: int64"
      ]
     },
     "execution_count": 23,
     "metadata": {},
     "output_type": "execute_result"
    }
   ],
   "source": [
    "new_auto_df['RegistrationYear'].value_counts()"
   ]
  },
  {
   "cell_type": "code",
   "execution_count": 24,
   "metadata": {},
   "outputs": [
    {
     "data": {
      "text/plain": [
       "array([2004, 2001, 2008, 1995, 1998, 2005, 2007, 2009, 2002, 2018, 2017,\n",
       "       1981, 2003, 2016, 1991, 1984, 1999, 2006, 2010, 2000, 1992, 1993,\n",
       "       1997, 2013, 1994, 1996, 1990, 2012, 1989, 2011, 1985, 1982, 2014,\n",
       "       1976, 1973, 2015, 1971, 1987, 1983, 1988, 1980, 1970, 1986, 1945,\n",
       "       1965, 1925, 1979, 1974, 1955, 1978, 1972, 1968, 1977, 1966, 1910,\n",
       "       1975, 1961, 1963, 1969, 1964, 1958, 1967, 3200, 1960, 1941, 9999,\n",
       "       8888, 1500, 4100, 1957, 2066, 2019, 1937, 1951, 1959, 1954, 1234,\n",
       "       5300, 1962, 9000, 2900, 6000, 1953, 5911, 1400, 5000, 1000, 1952,\n",
       "       8500, 1950, 3700, 1942, 7000, 1956, 1935, 1923, 2290, 1930, 1001,\n",
       "       9450, 1944, 1929, 2500, 1938, 1934, 1943, 1928, 5555, 1600, 1800,\n",
       "       1932, 1039, 3000, 2800, 1931, 1948, 4500, 7800, 1936, 7100, 1946])"
      ]
     },
     "execution_count": 24,
     "metadata": {},
     "output_type": "execute_result"
    }
   ],
   "source": [
    "new_auto_df['RegistrationYear'].unique()"
   ]
  },
  {
   "cell_type": "markdown",
   "metadata": {},
   "source": [
    "В данном столбце присутствуют выбросы. Уберем хвост."
   ]
  },
  {
   "cell_type": "code",
   "execution_count": 25,
   "metadata": {},
   "outputs": [],
   "source": [
    "date = pd.to_datetime(auto_df['DateCrawled'])"
   ]
  },
  {
   "cell_type": "code",
   "execution_count": 26,
   "metadata": {},
   "outputs": [
    {
     "data": {
      "text/plain": [
       "Timestamp('2016-04-07 14:36:58')"
      ]
     },
     "execution_count": 26,
     "metadata": {},
     "output_type": "execute_result"
    }
   ],
   "source": [
    "date.max()"
   ]
  },
  {
   "cell_type": "markdown",
   "metadata": {},
   "source": [
    "Рассмотрим левую часть гистограммы"
   ]
  },
  {
   "cell_type": "code",
   "execution_count": 27,
   "metadata": {},
   "outputs": [
    {
     "data": {
      "text/plain": [
       "<matplotlib.axes._subplots.AxesSubplot at 0x7f6222136890>"
      ]
     },
     "execution_count": 27,
     "metadata": {},
     "output_type": "execute_result"
    },
    {
     "data": {
      "image/png": "[encoded data removed]",
      "text/plain": [
       "<Figure size 1080x720 with 1 Axes>"
      ]
     },
     "metadata": {
      "needs_background": "light"
     },
     "output_type": "display_data"
    }
   ],
   "source": [
    "new_auto_df = new_auto_df.query('1899 < RegistrationYear < 2017')\n",
    "new_auto_df['RegistrationYear'].hist(bins = 100, figsize = (15, 10))"
   ]
  },
  {
   "cell_type": "markdown",
   "metadata": {},
   "source": [
    "Возьмем срез по левой части не ранее 1980"
   ]
  },
  {
   "cell_type": "code",
   "execution_count": 28,
   "metadata": {},
   "outputs": [
    {
     "data": {
      "text/plain": [
       "<matplotlib.axes._subplots.AxesSubplot at 0x7f6222136850>"
      ]
     },
     "execution_count": 28,
     "metadata": {},
     "output_type": "execute_result"
    },
    {
     "data": {
      "image/png": "[encoded data removed]",
      "text/plain": [
       "<Figure size 1080x720 with 1 Axes>"
      ]
     },
     "metadata": {
      "needs_background": "light"
     },
     "output_type": "display_data"
    }
   ],
   "source": [
    "new_auto_df = new_auto_df.query('1979 < RegistrationYear < 2017')\n",
    "new_auto_df['RegistrationYear'].hist(bins = 50, figsize = (15, 10))"
   ]
  },
  {
   "cell_type": "markdown",
   "metadata": {},
   "source": [
    "Заменим значения NaN в столбцах Gearbox, NotRepaired и Model."
   ]
  },
  {
   "cell_type": "code",
   "execution_count": 29,
   "metadata": {},
   "outputs": [
    {
     "data": {
      "text/plain": [
       "VehicleType         0.047323\n",
       "Gearbox             0.000000\n",
       "Power               0.000000\n",
       "Kilometer           0.000000\n",
       "FuelType            0.061600\n",
       "Brand               0.000000\n",
       "NotRepaired         0.000000\n",
       "RegistrationYear    0.000000\n",
       "Model               0.000000\n",
       "Price               0.000000\n",
       "dtype: float64"
      ]
     },
     "execution_count": 29,
     "metadata": {},
     "output_type": "execute_result"
    }
   ],
   "source": [
    "new_auto_df.fillna({'Gearbox':'manual', \n",
    "                           'NotRepaired':'yes',\n",
    "                           'Model':'unknown'},\n",
    "                          inplace = True)\n",
    "new_auto_df.isna().mean()"
   ]
  },
  {
   "cell_type": "markdown",
   "metadata": {},
   "source": [
    "Исследуем количество пропусков в столбце VehicleType"
   ]
  },
  {
   "cell_type": "code",
   "execution_count": 30,
   "metadata": {},
   "outputs": [
    {
     "data": {
      "text/plain": [
       "sedan          73148\n",
       "small          62937\n",
       "wagon          52197\n",
       "bus            24199\n",
       "convertible    15261\n",
       "coupe          11028\n",
       "suv             7464\n",
       "other           2389\n",
       "Name: VehicleType, dtype: int64"
      ]
     },
     "metadata": {},
     "output_type": "display_data"
    },
    {
     "data": {
      "text/plain": [
       "12350"
      ]
     },
     "execution_count": 30,
     "metadata": {},
     "output_type": "execute_result"
    }
   ],
   "source": [
    "display(new_auto_df['VehicleType'].value_counts())\n",
    "new_auto_df['VehicleType'].isna().sum()"
   ]
  },
  {
   "cell_type": "markdown",
   "metadata": {},
   "source": [
    "Заменим значения NaN в соответствии с популярным типом кузова для каждого бренда."
   ]
  },
  {
   "cell_type": "code",
   "execution_count": 31,
   "metadata": {},
   "outputs": [
    {
     "data": {
      "text/html": [
       "<div>\n",
       "<style scoped>\n",
       "    .dataframe tbody tr th:only-of-type {\n",
       "        vertical-align: middle;\n",
       "    }\n",
       "\n",
       "    .dataframe tbody tr th {\n",
       "        vertical-align: top;\n",
       "    }\n",
       "\n",
       "    .dataframe thead tr th {\n",
       "        text-align: left;\n",
       "    }\n",
       "\n",
       "    .dataframe thead tr:last-of-type th {\n",
       "        text-align: right;\n",
       "    }\n",
       "</style>\n",
       "<table border=\"1\" class=\"dataframe\">\n",
       "  <thead>\n",
       "    <tr>\n",
       "      <th></th>\n",
       "      <th colspan=\"21\" halign=\"left\">count</th>\n",
       "    </tr>\n",
       "    <tr>\n",
       "      <th></th>\n",
       "      <th colspan=\"21\" halign=\"left\">Price</th>\n",
       "    </tr>\n",
       "    <tr>\n",
       "      <th>Brand</th>\n",
       "      <th>alfa_romeo</th>\n",
       "      <th>audi</th>\n",
       "      <th>bmw</th>\n",
       "      <th>chevrolet</th>\n",
       "      <th>chrysler</th>\n",
       "      <th>citroen</th>\n",
       "      <th>dacia</th>\n",
       "      <th>daewoo</th>\n",
       "      <th>daihatsu</th>\n",
       "      <th>fiat</th>\n",
       "      <th>...</th>\n",
       "      <th>seat</th>\n",
       "      <th>skoda</th>\n",
       "      <th>smart</th>\n",
       "      <th>sonstige_autos</th>\n",
       "      <th>subaru</th>\n",
       "      <th>suzuki</th>\n",
       "      <th>toyota</th>\n",
       "      <th>trabant</th>\n",
       "      <th>volkswagen</th>\n",
       "      <th>volvo</th>\n",
       "    </tr>\n",
       "    <tr>\n",
       "      <th>VehicleType</th>\n",
       "      <th></th>\n",
       "      <th></th>\n",
       "      <th></th>\n",
       "      <th></th>\n",
       "      <th></th>\n",
       "      <th></th>\n",
       "      <th></th>\n",
       "      <th></th>\n",
       "      <th></th>\n",
       "      <th></th>\n",
       "      <th></th>\n",
       "      <th></th>\n",
       "      <th></th>\n",
       "      <th></th>\n",
       "      <th></th>\n",
       "      <th></th>\n",
       "      <th></th>\n",
       "      <th></th>\n",
       "      <th></th>\n",
       "      <th></th>\n",
       "      <th></th>\n",
       "    </tr>\n",
       "  </thead>\n",
       "  <tbody>\n",
       "    <tr>\n",
       "      <td>bus</td>\n",
       "      <td>NaN</td>\n",
       "      <td>10.0</td>\n",
       "      <td>5.0</td>\n",
       "      <td>116.0</td>\n",
       "      <td>351.0</td>\n",
       "      <td>1158.0</td>\n",
       "      <td>35.0</td>\n",
       "      <td>23.0</td>\n",
       "      <td>29.0</td>\n",
       "      <td>728.0</td>\n",
       "      <td>...</td>\n",
       "      <td>550.0</td>\n",
       "      <td>208.0</td>\n",
       "      <td>1.0</td>\n",
       "      <td>160.0</td>\n",
       "      <td>15.0</td>\n",
       "      <td>25.0</td>\n",
       "      <td>400.0</td>\n",
       "      <td>NaN</td>\n",
       "      <td>7546.0</td>\n",
       "      <td>NaN</td>\n",
       "    </tr>\n",
       "    <tr>\n",
       "      <td>convertible</td>\n",
       "      <td>134.0</td>\n",
       "      <td>1034.0</td>\n",
       "      <td>2326.0</td>\n",
       "      <td>9.0</td>\n",
       "      <td>200.0</td>\n",
       "      <td>99.0</td>\n",
       "      <td>NaN</td>\n",
       "      <td>1.0</td>\n",
       "      <td>17.0</td>\n",
       "      <td>381.0</td>\n",
       "      <td>...</td>\n",
       "      <td>NaN</td>\n",
       "      <td>2.0</td>\n",
       "      <td>1093.0</td>\n",
       "      <td>143.0</td>\n",
       "      <td>1.0</td>\n",
       "      <td>33.0</td>\n",
       "      <td>61.0</td>\n",
       "      <td>24.0</td>\n",
       "      <td>2265.0</td>\n",
       "      <td>48.0</td>\n",
       "    </tr>\n",
       "    <tr>\n",
       "      <td>coupe</td>\n",
       "      <td>194.0</td>\n",
       "      <td>785.0</td>\n",
       "      <td>2648.0</td>\n",
       "      <td>48.0</td>\n",
       "      <td>34.0</td>\n",
       "      <td>125.0</td>\n",
       "      <td>NaN</td>\n",
       "      <td>2.0</td>\n",
       "      <td>NaN</td>\n",
       "      <td>138.0</td>\n",
       "      <td>...</td>\n",
       "      <td>59.0</td>\n",
       "      <td>3.0</td>\n",
       "      <td>330.0</td>\n",
       "      <td>68.0</td>\n",
       "      <td>3.0</td>\n",
       "      <td>1.0</td>\n",
       "      <td>186.0</td>\n",
       "      <td>2.0</td>\n",
       "      <td>955.0</td>\n",
       "      <td>51.0</td>\n",
       "    </tr>\n",
       "    <tr>\n",
       "      <td>other</td>\n",
       "      <td>7.0</td>\n",
       "      <td>87.0</td>\n",
       "      <td>173.0</td>\n",
       "      <td>26.0</td>\n",
       "      <td>6.0</td>\n",
       "      <td>90.0</td>\n",
       "      <td>6.0</td>\n",
       "      <td>5.0</td>\n",
       "      <td>6.0</td>\n",
       "      <td>148.0</td>\n",
       "      <td>...</td>\n",
       "      <td>45.0</td>\n",
       "      <td>20.0</td>\n",
       "      <td>8.0</td>\n",
       "      <td>144.0</td>\n",
       "      <td>5.0</td>\n",
       "      <td>11.0</td>\n",
       "      <td>15.0</td>\n",
       "      <td>4.0</td>\n",
       "      <td>585.0</td>\n",
       "      <td>2.0</td>\n",
       "    </tr>\n",
       "    <tr>\n",
       "      <td>sedan</td>\n",
       "      <td>749.0</td>\n",
       "      <td>8567.0</td>\n",
       "      <td>13995.0</td>\n",
       "      <td>185.0</td>\n",
       "      <td>216.0</td>\n",
       "      <td>570.0</td>\n",
       "      <td>98.0</td>\n",
       "      <td>79.0</td>\n",
       "      <td>38.0</td>\n",
       "      <td>740.0</td>\n",
       "      <td>...</td>\n",
       "      <td>1397.0</td>\n",
       "      <td>779.0</td>\n",
       "      <td>27.0</td>\n",
       "      <td>241.0</td>\n",
       "      <td>123.0</td>\n",
       "      <td>131.0</td>\n",
       "      <td>819.0</td>\n",
       "      <td>114.0</td>\n",
       "      <td>16199.0</td>\n",
       "      <td>512.0</td>\n",
       "    </tr>\n",
       "    <tr>\n",
       "      <td>small</td>\n",
       "      <td>203.0</td>\n",
       "      <td>1038.0</td>\n",
       "      <td>330.0</td>\n",
       "      <td>566.0</td>\n",
       "      <td>10.0</td>\n",
       "      <td>1354.0</td>\n",
       "      <td>218.0</td>\n",
       "      <td>204.0</td>\n",
       "      <td>374.0</td>\n",
       "      <td>4082.0</td>\n",
       "      <td>...</td>\n",
       "      <td>2649.0</td>\n",
       "      <td>1029.0</td>\n",
       "      <td>3141.0</td>\n",
       "      <td>155.0</td>\n",
       "      <td>76.0</td>\n",
       "      <td>819.0</td>\n",
       "      <td>1512.0</td>\n",
       "      <td>35.0</td>\n",
       "      <td>14459.0</td>\n",
       "      <td>6.0</td>\n",
       "    </tr>\n",
       "    <tr>\n",
       "      <td>suv</td>\n",
       "      <td>NaN</td>\n",
       "      <td>17.0</td>\n",
       "      <td>451.0</td>\n",
       "      <td>259.0</td>\n",
       "      <td>15.0</td>\n",
       "      <td>14.0</td>\n",
       "      <td>164.0</td>\n",
       "      <td>1.0</td>\n",
       "      <td>44.0</td>\n",
       "      <td>18.0</td>\n",
       "      <td>...</td>\n",
       "      <td>3.0</td>\n",
       "      <td>46.0</td>\n",
       "      <td>NaN</td>\n",
       "      <td>240.0</td>\n",
       "      <td>50.0</td>\n",
       "      <td>665.0</td>\n",
       "      <td>349.0</td>\n",
       "      <td>NaN</td>\n",
       "      <td>570.0</td>\n",
       "      <td>111.0</td>\n",
       "    </tr>\n",
       "    <tr>\n",
       "      <td>wagon</td>\n",
       "      <td>397.0</td>\n",
       "      <td>8353.0</td>\n",
       "      <td>6210.0</td>\n",
       "      <td>94.0</td>\n",
       "      <td>213.0</td>\n",
       "      <td>506.0</td>\n",
       "      <td>246.0</td>\n",
       "      <td>32.0</td>\n",
       "      <td>16.0</td>\n",
       "      <td>319.0</td>\n",
       "      <td>...</td>\n",
       "      <td>275.0</td>\n",
       "      <td>2215.0</td>\n",
       "      <td>8.0</td>\n",
       "      <td>99.0</td>\n",
       "      <td>232.0</td>\n",
       "      <td>74.0</td>\n",
       "      <td>495.0</td>\n",
       "      <td>47.0</td>\n",
       "      <td>10681.0</td>\n",
       "      <td>1596.0</td>\n",
       "    </tr>\n",
       "  </tbody>\n",
       "</table>\n",
       "<p>8 rows × 40 columns</p>\n",
       "</div>"
      ],
      "text/plain": [
       "                 count                                                     \\\n",
       "                 Price                                                      \n",
       "Brand       alfa_romeo    audi      bmw chevrolet chrysler citroen  dacia   \n",
       "VehicleType                                                                 \n",
       "bus                NaN    10.0      5.0     116.0    351.0  1158.0   35.0   \n",
       "convertible      134.0  1034.0   2326.0       9.0    200.0    99.0    NaN   \n",
       "coupe            194.0   785.0   2648.0      48.0     34.0   125.0    NaN   \n",
       "other              7.0    87.0    173.0      26.0      6.0    90.0    6.0   \n",
       "sedan            749.0  8567.0  13995.0     185.0    216.0   570.0   98.0   \n",
       "small            203.0  1038.0    330.0     566.0     10.0  1354.0  218.0   \n",
       "suv                NaN    17.0    451.0     259.0     15.0    14.0  164.0   \n",
       "wagon            397.0  8353.0   6210.0      94.0    213.0   506.0  246.0   \n",
       "\n",
       "                                     ...                          \\\n",
       "                                     ...                           \n",
       "Brand       daewoo daihatsu    fiat  ...    seat   skoda   smart   \n",
       "VehicleType                          ...                           \n",
       "bus           23.0     29.0   728.0  ...   550.0   208.0     1.0   \n",
       "convertible    1.0     17.0   381.0  ...     NaN     2.0  1093.0   \n",
       "coupe          2.0      NaN   138.0  ...    59.0     3.0   330.0   \n",
       "other          5.0      6.0   148.0  ...    45.0    20.0     8.0   \n",
       "sedan         79.0     38.0   740.0  ...  1397.0   779.0    27.0   \n",
       "small        204.0    374.0  4082.0  ...  2649.0  1029.0  3141.0   \n",
       "suv            1.0     44.0    18.0  ...     3.0    46.0     NaN   \n",
       "wagon         32.0     16.0   319.0  ...   275.0  2215.0     8.0   \n",
       "\n",
       "                                                                             \n",
       "                                                                             \n",
       "Brand       sonstige_autos subaru suzuki  toyota trabant volkswagen   volvo  \n",
       "VehicleType                                                                  \n",
       "bus                  160.0   15.0   25.0   400.0     NaN     7546.0     NaN  \n",
       "convertible          143.0    1.0   33.0    61.0    24.0     2265.0    48.0  \n",
       "coupe                 68.0    3.0    1.0   186.0     2.0      955.0    51.0  \n",
       "other                144.0    5.0   11.0    15.0     4.0      585.0     2.0  \n",
       "sedan                241.0  123.0  131.0   819.0   114.0    16199.0   512.0  \n",
       "small                155.0   76.0  819.0  1512.0    35.0    14459.0     6.0  \n",
       "suv                  240.0   50.0  665.0   349.0     NaN      570.0   111.0  \n",
       "wagon                 99.0  232.0   74.0   495.0    47.0    10681.0  1596.0  \n",
       "\n",
       "[8 rows x 40 columns]"
      ]
     },
     "metadata": {},
     "output_type": "display_data"
    },
    {
     "data": {
      "text/plain": [
       "sedan          749\n",
       "wagon          397\n",
       "small          203\n",
       "coupe          194\n",
       "convertible    134\n",
       "other            7\n",
       "Name: VehicleType, dtype: int64"
      ]
     },
     "execution_count": 31,
     "metadata": {},
     "output_type": "execute_result"
    }
   ],
   "source": [
    "vehicle_df_table = new_auto_df.pivot_table(index = ['VehicleType'], \n",
    "                                                          columns = ['Brand'],\n",
    "                                                          values = ['Price'],\n",
    "                                                          aggfunc = ['count'])\n",
    "display(vehicle_df_table)\n",
    "new_auto_df[new_auto_df['Brand'] == 'alfa_romeo']['VehicleType'].value_counts()"
   ]
  },
  {
   "cell_type": "code",
   "execution_count": 32,
   "metadata": {},
   "outputs": [
    {
     "data": {
      "text/html": [
       "<div>\n",
       "<style scoped>\n",
       "    .dataframe tbody tr th:only-of-type {\n",
       "        vertical-align: middle;\n",
       "    }\n",
       "\n",
       "    .dataframe tbody tr th {\n",
       "        vertical-align: top;\n",
       "    }\n",
       "\n",
       "    .dataframe thead th {\n",
       "        text-align: right;\n",
       "    }\n",
       "</style>\n",
       "<table border=\"1\" class=\"dataframe\">\n",
       "  <thead>\n",
       "    <tr style=\"text-align: right;\">\n",
       "      <th>Brand</th>\n",
       "      <th>alfa_romeo</th>\n",
       "      <th>audi</th>\n",
       "      <th>bmw</th>\n",
       "      <th>chevrolet</th>\n",
       "      <th>chrysler</th>\n",
       "      <th>citroen</th>\n",
       "      <th>dacia</th>\n",
       "      <th>daewoo</th>\n",
       "      <th>daihatsu</th>\n",
       "      <th>fiat</th>\n",
       "      <th>...</th>\n",
       "      <th>seat</th>\n",
       "      <th>skoda</th>\n",
       "      <th>smart</th>\n",
       "      <th>sonstige_autos</th>\n",
       "      <th>subaru</th>\n",
       "      <th>suzuki</th>\n",
       "      <th>toyota</th>\n",
       "      <th>trabant</th>\n",
       "      <th>volkswagen</th>\n",
       "      <th>volvo</th>\n",
       "    </tr>\n",
       "    <tr>\n",
       "      <th>VehicleType</th>\n",
       "      <th></th>\n",
       "      <th></th>\n",
       "      <th></th>\n",
       "      <th></th>\n",
       "      <th></th>\n",
       "      <th></th>\n",
       "      <th></th>\n",
       "      <th></th>\n",
       "      <th></th>\n",
       "      <th></th>\n",
       "      <th></th>\n",
       "      <th></th>\n",
       "      <th></th>\n",
       "      <th></th>\n",
       "      <th></th>\n",
       "      <th></th>\n",
       "      <th></th>\n",
       "      <th></th>\n",
       "      <th></th>\n",
       "      <th></th>\n",
       "      <th></th>\n",
       "    </tr>\n",
       "  </thead>\n",
       "  <tbody>\n",
       "    <tr>\n",
       "      <td>bus</td>\n",
       "      <td>NaN</td>\n",
       "      <td>10.0</td>\n",
       "      <td>5.0</td>\n",
       "      <td>116.0</td>\n",
       "      <td>351.0</td>\n",
       "      <td>1158.0</td>\n",
       "      <td>35.0</td>\n",
       "      <td>23.0</td>\n",
       "      <td>29.0</td>\n",
       "      <td>728.0</td>\n",
       "      <td>...</td>\n",
       "      <td>550.0</td>\n",
       "      <td>208.0</td>\n",
       "      <td>1.0</td>\n",
       "      <td>160.0</td>\n",
       "      <td>15.0</td>\n",
       "      <td>25.0</td>\n",
       "      <td>400.0</td>\n",
       "      <td>NaN</td>\n",
       "      <td>7546.0</td>\n",
       "      <td>NaN</td>\n",
       "    </tr>\n",
       "    <tr>\n",
       "      <td>convertible</td>\n",
       "      <td>134.0</td>\n",
       "      <td>1034.0</td>\n",
       "      <td>2326.0</td>\n",
       "      <td>9.0</td>\n",
       "      <td>200.0</td>\n",
       "      <td>99.0</td>\n",
       "      <td>NaN</td>\n",
       "      <td>1.0</td>\n",
       "      <td>17.0</td>\n",
       "      <td>381.0</td>\n",
       "      <td>...</td>\n",
       "      <td>NaN</td>\n",
       "      <td>2.0</td>\n",
       "      <td>1093.0</td>\n",
       "      <td>143.0</td>\n",
       "      <td>1.0</td>\n",
       "      <td>33.0</td>\n",
       "      <td>61.0</td>\n",
       "      <td>24.0</td>\n",
       "      <td>2265.0</td>\n",
       "      <td>48.0</td>\n",
       "    </tr>\n",
       "    <tr>\n",
       "      <td>coupe</td>\n",
       "      <td>194.0</td>\n",
       "      <td>785.0</td>\n",
       "      <td>2648.0</td>\n",
       "      <td>48.0</td>\n",
       "      <td>34.0</td>\n",
       "      <td>125.0</td>\n",
       "      <td>NaN</td>\n",
       "      <td>2.0</td>\n",
       "      <td>NaN</td>\n",
       "      <td>138.0</td>\n",
       "      <td>...</td>\n",
       "      <td>59.0</td>\n",
       "      <td>3.0</td>\n",
       "      <td>330.0</td>\n",
       "      <td>68.0</td>\n",
       "      <td>3.0</td>\n",
       "      <td>1.0</td>\n",
       "      <td>186.0</td>\n",
       "      <td>2.0</td>\n",
       "      <td>955.0</td>\n",
       "      <td>51.0</td>\n",
       "    </tr>\n",
       "    <tr>\n",
       "      <td>other</td>\n",
       "      <td>7.0</td>\n",
       "      <td>87.0</td>\n",
       "      <td>173.0</td>\n",
       "      <td>26.0</td>\n",
       "      <td>6.0</td>\n",
       "      <td>90.0</td>\n",
       "      <td>6.0</td>\n",
       "      <td>5.0</td>\n",
       "      <td>6.0</td>\n",
       "      <td>148.0</td>\n",
       "      <td>...</td>\n",
       "      <td>45.0</td>\n",
       "      <td>20.0</td>\n",
       "      <td>8.0</td>\n",
       "      <td>144.0</td>\n",
       "      <td>5.0</td>\n",
       "      <td>11.0</td>\n",
       "      <td>15.0</td>\n",
       "      <td>4.0</td>\n",
       "      <td>585.0</td>\n",
       "      <td>2.0</td>\n",
       "    </tr>\n",
       "    <tr>\n",
       "      <td>sedan</td>\n",
       "      <td>749.0</td>\n",
       "      <td>8567.0</td>\n",
       "      <td>13995.0</td>\n",
       "      <td>185.0</td>\n",
       "      <td>216.0</td>\n",
       "      <td>570.0</td>\n",
       "      <td>98.0</td>\n",
       "      <td>79.0</td>\n",
       "      <td>38.0</td>\n",
       "      <td>740.0</td>\n",
       "      <td>...</td>\n",
       "      <td>1397.0</td>\n",
       "      <td>779.0</td>\n",
       "      <td>27.0</td>\n",
       "      <td>241.0</td>\n",
       "      <td>123.0</td>\n",
       "      <td>131.0</td>\n",
       "      <td>819.0</td>\n",
       "      <td>114.0</td>\n",
       "      <td>16199.0</td>\n",
       "      <td>512.0</td>\n",
       "    </tr>\n",
       "    <tr>\n",
       "      <td>small</td>\n",
       "      <td>203.0</td>\n",
       "      <td>1038.0</td>\n",
       "      <td>330.0</td>\n",
       "      <td>566.0</td>\n",
       "      <td>10.0</td>\n",
       "      <td>1354.0</td>\n",
       "      <td>218.0</td>\n",
       "      <td>204.0</td>\n",
       "      <td>374.0</td>\n",
       "      <td>4082.0</td>\n",
       "      <td>...</td>\n",
       "      <td>2649.0</td>\n",
       "      <td>1029.0</td>\n",
       "      <td>3141.0</td>\n",
       "      <td>155.0</td>\n",
       "      <td>76.0</td>\n",
       "      <td>819.0</td>\n",
       "      <td>1512.0</td>\n",
       "      <td>35.0</td>\n",
       "      <td>14459.0</td>\n",
       "      <td>6.0</td>\n",
       "    </tr>\n",
       "    <tr>\n",
       "      <td>suv</td>\n",
       "      <td>NaN</td>\n",
       "      <td>17.0</td>\n",
       "      <td>451.0</td>\n",
       "      <td>259.0</td>\n",
       "      <td>15.0</td>\n",
       "      <td>14.0</td>\n",
       "      <td>164.0</td>\n",
       "      <td>1.0</td>\n",
       "      <td>44.0</td>\n",
       "      <td>18.0</td>\n",
       "      <td>...</td>\n",
       "      <td>3.0</td>\n",
       "      <td>46.0</td>\n",
       "      <td>NaN</td>\n",
       "      <td>240.0</td>\n",
       "      <td>50.0</td>\n",
       "      <td>665.0</td>\n",
       "      <td>349.0</td>\n",
       "      <td>NaN</td>\n",
       "      <td>570.0</td>\n",
       "      <td>111.0</td>\n",
       "    </tr>\n",
       "    <tr>\n",
       "      <td>wagon</td>\n",
       "      <td>397.0</td>\n",
       "      <td>8353.0</td>\n",
       "      <td>6210.0</td>\n",
       "      <td>94.0</td>\n",
       "      <td>213.0</td>\n",
       "      <td>506.0</td>\n",
       "      <td>246.0</td>\n",
       "      <td>32.0</td>\n",
       "      <td>16.0</td>\n",
       "      <td>319.0</td>\n",
       "      <td>...</td>\n",
       "      <td>275.0</td>\n",
       "      <td>2215.0</td>\n",
       "      <td>8.0</td>\n",
       "      <td>99.0</td>\n",
       "      <td>232.0</td>\n",
       "      <td>74.0</td>\n",
       "      <td>495.0</td>\n",
       "      <td>47.0</td>\n",
       "      <td>10681.0</td>\n",
       "      <td>1596.0</td>\n",
       "    </tr>\n",
       "  </tbody>\n",
       "</table>\n",
       "<p>8 rows × 40 columns</p>\n",
       "</div>"
      ],
      "text/plain": [
       "Brand        alfa_romeo    audi      bmw  chevrolet  chrysler  citroen  dacia  \\\n",
       "VehicleType                                                                     \n",
       "bus                 NaN    10.0      5.0      116.0     351.0   1158.0   35.0   \n",
       "convertible       134.0  1034.0   2326.0        9.0     200.0     99.0    NaN   \n",
       "coupe             194.0   785.0   2648.0       48.0      34.0    125.0    NaN   \n",
       "other               7.0    87.0    173.0       26.0       6.0     90.0    6.0   \n",
       "sedan             749.0  8567.0  13995.0      185.0     216.0    570.0   98.0   \n",
       "small             203.0  1038.0    330.0      566.0      10.0   1354.0  218.0   \n",
       "suv                 NaN    17.0    451.0      259.0      15.0     14.0  164.0   \n",
       "wagon             397.0  8353.0   6210.0       94.0     213.0    506.0  246.0   \n",
       "\n",
       "Brand        daewoo  daihatsu    fiat  ...    seat   skoda   smart  \\\n",
       "VehicleType                            ...                           \n",
       "bus            23.0      29.0   728.0  ...   550.0   208.0     1.0   \n",
       "convertible     1.0      17.0   381.0  ...     NaN     2.0  1093.0   \n",
       "coupe           2.0       NaN   138.0  ...    59.0     3.0   330.0   \n",
       "other           5.0       6.0   148.0  ...    45.0    20.0     8.0   \n",
       "sedan          79.0      38.0   740.0  ...  1397.0   779.0    27.0   \n",
       "small         204.0     374.0  4082.0  ...  2649.0  1029.0  3141.0   \n",
       "suv             1.0      44.0    18.0  ...     3.0    46.0     NaN   \n",
       "wagon          32.0      16.0   319.0  ...   275.0  2215.0     8.0   \n",
       "\n",
       "Brand        sonstige_autos  subaru  suzuki  toyota  trabant  volkswagen  \\\n",
       "VehicleType                                                                \n",
       "bus                   160.0    15.0    25.0   400.0      NaN      7546.0   \n",
       "convertible           143.0     1.0    33.0    61.0     24.0      2265.0   \n",
       "coupe                  68.0     3.0     1.0   186.0      2.0       955.0   \n",
       "other                 144.0     5.0    11.0    15.0      4.0       585.0   \n",
       "sedan                 241.0   123.0   131.0   819.0    114.0     16199.0   \n",
       "small                 155.0    76.0   819.0  1512.0     35.0     14459.0   \n",
       "suv                   240.0    50.0   665.0   349.0      NaN       570.0   \n",
       "wagon                  99.0   232.0    74.0   495.0     47.0     10681.0   \n",
       "\n",
       "Brand         volvo  \n",
       "VehicleType          \n",
       "bus             NaN  \n",
       "convertible    48.0  \n",
       "coupe          51.0  \n",
       "other           2.0  \n",
       "sedan         512.0  \n",
       "small           6.0  \n",
       "suv           111.0  \n",
       "wagon        1596.0  \n",
       "\n",
       "[8 rows x 40 columns]"
      ]
     },
     "execution_count": 32,
     "metadata": {},
     "output_type": "execute_result"
    }
   ],
   "source": [
    "vehicle_df_table = vehicle_df_table['count']['Price']\n",
    "vehicle_df_table"
   ]
  },
  {
   "cell_type": "code",
   "execution_count": 33,
   "metadata": {},
   "outputs": [
    {
     "name": "stdout",
     "output_type": "stream",
     "text": [
      "<class 'pandas.core.frame.DataFrame'>\n",
      "Int64Index: 260973 entries, 2 to 354368\n",
      "Data columns (total 10 columns):\n",
      "VehicleType         248623 non-null object\n",
      "Gearbox             260973 non-null object\n",
      "Power               260973 non-null int64\n",
      "Kilometer           260973 non-null int64\n",
      "FuelType            244897 non-null object\n",
      "Brand               260973 non-null object\n",
      "NotRepaired         260973 non-null object\n",
      "RegistrationYear    260973 non-null int64\n",
      "Model               260973 non-null object\n",
      "Price               260973 non-null int64\n",
      "dtypes: int64(4), object(6)\n",
      "memory usage: 21.9+ MB\n"
     ]
    }
   ],
   "source": [
    "new_auto_df.info()"
   ]
  },
  {
   "cell_type": "markdown",
   "metadata": {},
   "source": [
    "Заполним столбец Brand, Model и  пропуски по столбцу VehicleType."
   ]
  },
  {
   "cell_type": "code",
   "execution_count": 34,
   "metadata": {},
   "outputs": [],
   "source": [
    "new_auto_df.fillna({'VehicleType':0}, inplace = True)"
   ]
  },
  {
   "cell_type": "code",
   "execution_count": 35,
   "metadata": {},
   "outputs": [],
   "source": [
    "def fillna_brand(row, row_number, vehicle_df_table):\n",
    "    brand = row[5]\n",
    "    fill_value = row[row_number]\n",
    "    if row[row_number] == 0:\n",
    "        fill_value = vehicle_df_table[brand].idxmax()\n",
    "    return fill_value"
   ]
  },
  {
   "cell_type": "code",
   "execution_count": 36,
   "metadata": {},
   "outputs": [],
   "source": [
    "new_auto_df['VehicleType'] = new_auto_df.apply(\n",
    "                                fillna_brand, \n",
    "                                args = [0, vehicle_df_table],\n",
    "                                axis = 1)"
   ]
  },
  {
   "cell_type": "code",
   "execution_count": 37,
   "metadata": {},
   "outputs": [
    {
     "data": {
      "text/plain": [
       "0"
      ]
     },
     "metadata": {},
     "output_type": "display_data"
    },
    {
     "data": {
      "text/plain": [
       "sedan          80165\n",
       "small          67926\n",
       "wagon          52427\n",
       "bus            24249\n",
       "convertible    15261\n",
       "coupe          11046\n",
       "suv             7510\n",
       "other           2389\n",
       "Name: VehicleType, dtype: int64"
      ]
     },
     "execution_count": 37,
     "metadata": {},
     "output_type": "execute_result"
    }
   ],
   "source": [
    "display(new_auto_df['VehicleType'].isna().sum())\n",
    "new_auto_df['VehicleType'].value_counts()"
   ]
  },
  {
   "cell_type": "markdown",
   "metadata": {},
   "source": [
    "Перейдем к заполнению пропусков в столбце FuelType"
   ]
  },
  {
   "cell_type": "code",
   "execution_count": 38,
   "metadata": {},
   "outputs": [
    {
     "data": {
      "text/plain": [
       "petrol      163663\n",
       "gasoline     75919\n",
       "lpg           4546\n",
       "cng            491\n",
       "hybrid         124\n",
       "other           90\n",
       "electric        64\n",
       "Name: FuelType, dtype: int64"
      ]
     },
     "execution_count": 38,
     "metadata": {},
     "output_type": "execute_result"
    }
   ],
   "source": [
    "new_auto_df['FuelType'].value_counts()"
   ]
  },
  {
   "cell_type": "code",
   "execution_count": 39,
   "metadata": {},
   "outputs": [
    {
     "data": {
      "text/html": [
       "<div>\n",
       "<style scoped>\n",
       "    .dataframe tbody tr th:only-of-type {\n",
       "        vertical-align: middle;\n",
       "    }\n",
       "\n",
       "    .dataframe tbody tr th {\n",
       "        vertical-align: top;\n",
       "    }\n",
       "\n",
       "    .dataframe thead th {\n",
       "        text-align: right;\n",
       "    }\n",
       "</style>\n",
       "<table border=\"1\" class=\"dataframe\">\n",
       "  <thead>\n",
       "    <tr style=\"text-align: right;\">\n",
       "      <th>Brand</th>\n",
       "      <th>alfa_romeo</th>\n",
       "      <th>audi</th>\n",
       "      <th>bmw</th>\n",
       "      <th>chevrolet</th>\n",
       "      <th>chrysler</th>\n",
       "      <th>citroen</th>\n",
       "      <th>dacia</th>\n",
       "      <th>daewoo</th>\n",
       "      <th>daihatsu</th>\n",
       "      <th>fiat</th>\n",
       "      <th>...</th>\n",
       "      <th>seat</th>\n",
       "      <th>skoda</th>\n",
       "      <th>smart</th>\n",
       "      <th>sonstige_autos</th>\n",
       "      <th>subaru</th>\n",
       "      <th>suzuki</th>\n",
       "      <th>toyota</th>\n",
       "      <th>trabant</th>\n",
       "      <th>volkswagen</th>\n",
       "      <th>volvo</th>\n",
       "    </tr>\n",
       "    <tr>\n",
       "      <th>FuelType</th>\n",
       "      <th></th>\n",
       "      <th></th>\n",
       "      <th></th>\n",
       "      <th></th>\n",
       "      <th></th>\n",
       "      <th></th>\n",
       "      <th></th>\n",
       "      <th></th>\n",
       "      <th></th>\n",
       "      <th></th>\n",
       "      <th></th>\n",
       "      <th></th>\n",
       "      <th></th>\n",
       "      <th></th>\n",
       "      <th></th>\n",
       "      <th></th>\n",
       "      <th></th>\n",
       "      <th></th>\n",
       "      <th></th>\n",
       "      <th></th>\n",
       "      <th></th>\n",
       "    </tr>\n",
       "  </thead>\n",
       "  <tbody>\n",
       "    <tr>\n",
       "      <td>cng</td>\n",
       "      <td>NaN</td>\n",
       "      <td>1.0</td>\n",
       "      <td>7.0</td>\n",
       "      <td>4.0</td>\n",
       "      <td>NaN</td>\n",
       "      <td>7.0</td>\n",
       "      <td>2.0</td>\n",
       "      <td>NaN</td>\n",
       "      <td>NaN</td>\n",
       "      <td>63.0</td>\n",
       "      <td>...</td>\n",
       "      <td>NaN</td>\n",
       "      <td>6.0</td>\n",
       "      <td>2.0</td>\n",
       "      <td>7.0</td>\n",
       "      <td>2.0</td>\n",
       "      <td>NaN</td>\n",
       "      <td>NaN</td>\n",
       "      <td>NaN</td>\n",
       "      <td>164.0</td>\n",
       "      <td>20.0</td>\n",
       "    </tr>\n",
       "    <tr>\n",
       "      <td>electric</td>\n",
       "      <td>NaN</td>\n",
       "      <td>2.0</td>\n",
       "      <td>3.0</td>\n",
       "      <td>NaN</td>\n",
       "      <td>NaN</td>\n",
       "      <td>NaN</td>\n",
       "      <td>NaN</td>\n",
       "      <td>NaN</td>\n",
       "      <td>1.0</td>\n",
       "      <td>3.0</td>\n",
       "      <td>...</td>\n",
       "      <td>NaN</td>\n",
       "      <td>NaN</td>\n",
       "      <td>3.0</td>\n",
       "      <td>17.0</td>\n",
       "      <td>NaN</td>\n",
       "      <td>NaN</td>\n",
       "      <td>NaN</td>\n",
       "      <td>NaN</td>\n",
       "      <td>1.0</td>\n",
       "      <td>NaN</td>\n",
       "    </tr>\n",
       "    <tr>\n",
       "      <td>gasoline</td>\n",
       "      <td>520.0</td>\n",
       "      <td>8858.0</td>\n",
       "      <td>8045.0</td>\n",
       "      <td>153.0</td>\n",
       "      <td>322.0</td>\n",
       "      <td>1377.0</td>\n",
       "      <td>164.0</td>\n",
       "      <td>1.0</td>\n",
       "      <td>4.0</td>\n",
       "      <td>1283.0</td>\n",
       "      <td>...</td>\n",
       "      <td>1393.0</td>\n",
       "      <td>1470.0</td>\n",
       "      <td>833.0</td>\n",
       "      <td>358.0</td>\n",
       "      <td>22.0</td>\n",
       "      <td>192.0</td>\n",
       "      <td>843.0</td>\n",
       "      <td>1.0</td>\n",
       "      <td>20372.0</td>\n",
       "      <td>762.0</td>\n",
       "    </tr>\n",
       "    <tr>\n",
       "      <td>hybrid</td>\n",
       "      <td>NaN</td>\n",
       "      <td>NaN</td>\n",
       "      <td>NaN</td>\n",
       "      <td>NaN</td>\n",
       "      <td>NaN</td>\n",
       "      <td>NaN</td>\n",
       "      <td>NaN</td>\n",
       "      <td>NaN</td>\n",
       "      <td>NaN</td>\n",
       "      <td>2.0</td>\n",
       "      <td>...</td>\n",
       "      <td>1.0</td>\n",
       "      <td>NaN</td>\n",
       "      <td>1.0</td>\n",
       "      <td>2.0</td>\n",
       "      <td>NaN</td>\n",
       "      <td>NaN</td>\n",
       "      <td>61.0</td>\n",
       "      <td>NaN</td>\n",
       "      <td>4.0</td>\n",
       "      <td>NaN</td>\n",
       "    </tr>\n",
       "    <tr>\n",
       "      <td>lpg</td>\n",
       "      <td>30.0</td>\n",
       "      <td>405.0</td>\n",
       "      <td>695.0</td>\n",
       "      <td>161.0</td>\n",
       "      <td>80.0</td>\n",
       "      <td>62.0</td>\n",
       "      <td>49.0</td>\n",
       "      <td>22.0</td>\n",
       "      <td>5.0</td>\n",
       "      <td>61.0</td>\n",
       "      <td>...</td>\n",
       "      <td>56.0</td>\n",
       "      <td>48.0</td>\n",
       "      <td>3.0</td>\n",
       "      <td>80.0</td>\n",
       "      <td>27.0</td>\n",
       "      <td>16.0</td>\n",
       "      <td>19.0</td>\n",
       "      <td>NaN</td>\n",
       "      <td>460.0</td>\n",
       "      <td>93.0</td>\n",
       "    </tr>\n",
       "    <tr>\n",
       "      <td>other</td>\n",
       "      <td>NaN</td>\n",
       "      <td>NaN</td>\n",
       "      <td>5.0</td>\n",
       "      <td>NaN</td>\n",
       "      <td>NaN</td>\n",
       "      <td>2.0</td>\n",
       "      <td>NaN</td>\n",
       "      <td>NaN</td>\n",
       "      <td>NaN</td>\n",
       "      <td>2.0</td>\n",
       "      <td>...</td>\n",
       "      <td>NaN</td>\n",
       "      <td>NaN</td>\n",
       "      <td>1.0</td>\n",
       "      <td>9.0</td>\n",
       "      <td>NaN</td>\n",
       "      <td>1.0</td>\n",
       "      <td>NaN</td>\n",
       "      <td>22.0</td>\n",
       "      <td>13.0</td>\n",
       "      <td>2.0</td>\n",
       "    </tr>\n",
       "    <tr>\n",
       "      <td>petrol</td>\n",
       "      <td>1117.0</td>\n",
       "      <td>10301.0</td>\n",
       "      <td>16761.0</td>\n",
       "      <td>956.0</td>\n",
       "      <td>626.0</td>\n",
       "      <td>2436.0</td>\n",
       "      <td>532.0</td>\n",
       "      <td>317.0</td>\n",
       "      <td>513.0</td>\n",
       "      <td>5069.0</td>\n",
       "      <td>...</td>\n",
       "      <td>3513.0</td>\n",
       "      <td>2707.0</td>\n",
       "      <td>3734.0</td>\n",
       "      <td>732.0</td>\n",
       "      <td>437.0</td>\n",
       "      <td>1530.0</td>\n",
       "      <td>2885.0</td>\n",
       "      <td>167.0</td>\n",
       "      <td>31865.0</td>\n",
       "      <td>1401.0</td>\n",
       "    </tr>\n",
       "  </tbody>\n",
       "</table>\n",
       "<p>7 rows × 40 columns</p>\n",
       "</div>"
      ],
      "text/plain": [
       "Brand     alfa_romeo     audi      bmw  chevrolet  chrysler  citroen  dacia  \\\n",
       "FuelType                                                                      \n",
       "cng              NaN      1.0      7.0        4.0       NaN      7.0    2.0   \n",
       "electric         NaN      2.0      3.0        NaN       NaN      NaN    NaN   \n",
       "gasoline       520.0   8858.0   8045.0      153.0     322.0   1377.0  164.0   \n",
       "hybrid           NaN      NaN      NaN        NaN       NaN      NaN    NaN   \n",
       "lpg             30.0    405.0    695.0      161.0      80.0     62.0   49.0   \n",
       "other            NaN      NaN      5.0        NaN       NaN      2.0    NaN   \n",
       "petrol        1117.0  10301.0  16761.0      956.0     626.0   2436.0  532.0   \n",
       "\n",
       "Brand     daewoo  daihatsu    fiat  ...    seat   skoda   smart  \\\n",
       "FuelType                            ...                           \n",
       "cng          NaN       NaN    63.0  ...     NaN     6.0     2.0   \n",
       "electric     NaN       1.0     3.0  ...     NaN     NaN     3.0   \n",
       "gasoline     1.0       4.0  1283.0  ...  1393.0  1470.0   833.0   \n",
       "hybrid       NaN       NaN     2.0  ...     1.0     NaN     1.0   \n",
       "lpg         22.0       5.0    61.0  ...    56.0    48.0     3.0   \n",
       "other        NaN       NaN     2.0  ...     NaN     NaN     1.0   \n",
       "petrol     317.0     513.0  5069.0  ...  3513.0  2707.0  3734.0   \n",
       "\n",
       "Brand     sonstige_autos  subaru  suzuki  toyota  trabant  volkswagen   volvo  \n",
       "FuelType                                                                       \n",
       "cng                  7.0     2.0     NaN     NaN      NaN       164.0    20.0  \n",
       "electric            17.0     NaN     NaN     NaN      NaN         1.0     NaN  \n",
       "gasoline           358.0    22.0   192.0   843.0      1.0     20372.0   762.0  \n",
       "hybrid               2.0     NaN     NaN    61.0      NaN         4.0     NaN  \n",
       "lpg                 80.0    27.0    16.0    19.0      NaN       460.0    93.0  \n",
       "other                9.0     NaN     1.0     NaN     22.0        13.0     2.0  \n",
       "petrol             732.0   437.0  1530.0  2885.0    167.0     31865.0  1401.0  \n",
       "\n",
       "[7 rows x 40 columns]"
      ]
     },
     "metadata": {},
     "output_type": "display_data"
    }
   ],
   "source": [
    "fuel_df_table = new_auto_df.pivot_table(index = ['FuelType'], \n",
    "                                                          columns = ['Brand'],\n",
    "                                                          values = ['Price'],\n",
    "                                                          aggfunc = ['count'])\n",
    "fuel_df_table = fuel_df_table['count']['Price']\n",
    "display(fuel_df_table)"
   ]
  },
  {
   "cell_type": "code",
   "execution_count": 40,
   "metadata": {},
   "outputs": [],
   "source": [
    "new_auto_df.fillna({'FuelType':0}, inplace = True)"
   ]
  },
  {
   "cell_type": "code",
   "execution_count": 41,
   "metadata": {},
   "outputs": [],
   "source": [
    "new_auto_df['FuelType'] = new_auto_df.apply(\n",
    "                                fillna_brand, \n",
    "                                args = [4, vehicle_df_table],\n",
    "                                axis = 1)"
   ]
  },
  {
   "cell_type": "code",
   "execution_count": 42,
   "metadata": {},
   "outputs": [
    {
     "data": {
      "text/plain": [
       "0"
      ]
     },
     "metadata": {},
     "output_type": "display_data"
    },
    {
     "data": {
      "text/plain": [
       "petrol      163663\n",
       "gasoline     75919\n",
       "sedan         8919\n",
       "small         6622\n",
       "lpg           4546\n",
       "cng            491\n",
       "wagon          386\n",
       "hybrid         124\n",
       "other           90\n",
       "bus             67\n",
       "electric        64\n",
       "suv             62\n",
       "coupe           20\n",
       "Name: FuelType, dtype: int64"
      ]
     },
     "execution_count": 42,
     "metadata": {},
     "output_type": "execute_result"
    }
   ],
   "source": [
    "display(new_auto_df['FuelType'].isna().sum())\n",
    "new_auto_df['FuelType'].value_counts()"
   ]
  },
  {
   "cell_type": "code",
   "execution_count": 43,
   "metadata": {
    "scrolled": true
   },
   "outputs": [
    {
     "data": {
      "text/plain": [
       "VehicleType         0.0\n",
       "Gearbox             0.0\n",
       "Power               0.0\n",
       "Kilometer           0.0\n",
       "FuelType            0.0\n",
       "Brand               0.0\n",
       "NotRepaired         0.0\n",
       "RegistrationYear    0.0\n",
       "Model               0.0\n",
       "Price               0.0\n",
       "dtype: float64"
      ]
     },
     "execution_count": 43,
     "metadata": {},
     "output_type": "execute_result"
    }
   ],
   "source": [
    "new_auto_df.isna().mean()"
   ]
  },
  {
   "cell_type": "markdown",
   "metadata": {},
   "source": [
    "C пропусками разобрались, перейдем к столбцу Power"
   ]
  },
  {
   "cell_type": "code",
   "execution_count": 44,
   "metadata": {},
   "outputs": [
    {
     "data": {
      "text/plain": [
       "count    260973.000000\n",
       "mean        110.479302\n",
       "std         185.688773\n",
       "min           0.000000\n",
       "25%          75.000000\n",
       "50%         105.000000\n",
       "75%         140.000000\n",
       "max       20000.000000\n",
       "Name: Power, dtype: float64"
      ]
     },
     "execution_count": 44,
     "metadata": {},
     "output_type": "execute_result"
    },
    {
     "data": {
      "image/png": "[encoded data removed]",
      "text/plain": [
       "<Figure size 1080x720 with 1 Axes>"
      ]
     },
     "metadata": {
      "needs_background": "light"
     },
     "output_type": "display_data"
    }
   ],
   "source": [
    "new_auto_df['Power'].hist(bins = 100, figsize = (15, 10))\n",
    "new_auto_df['Power'].describe()"
   ]
  },
  {
   "cell_type": "markdown",
   "metadata": {},
   "source": [
    "Разброс весьбма сильный, ликвидируем значения , которые больше 1000 л.с."
   ]
  },
  {
   "cell_type": "code",
   "execution_count": 45,
   "metadata": {},
   "outputs": [
    {
     "data": {
      "text/plain": [
       "count    260759.000000\n",
       "mean        107.145429\n",
       "std          57.336145\n",
       "min           0.000000\n",
       "25%          75.000000\n",
       "50%         105.000000\n",
       "75%         140.000000\n",
       "max        1000.000000\n",
       "Name: Power, dtype: float64"
      ]
     },
     "execution_count": 45,
     "metadata": {},
     "output_type": "execute_result"
    },
    {
     "data": {
      "image/png": "[encoded data removed]",
      "text/plain": [
       "<Figure size 1080x720 with 1 Axes>"
      ]
     },
     "metadata": {
      "needs_background": "light"
     },
     "output_type": "display_data"
    }
   ],
   "source": [
    "new_auto_df = new_auto_df.query('Power < 1001')\n",
    "new_auto_df['Power'].hist(bins = 100, figsize = (15, 10))\n",
    "new_auto_df['Power'].describe()"
   ]
  },
  {
   "cell_type": "markdown",
   "metadata": {},
   "source": [
    "Судя по описнаию данных в столбце и гистрограмме есть машину, у которых количество л.с. = 0. Удалим эти строки, а с правой стороны ограничим 350 л.с."
   ]
  },
  {
   "cell_type": "code",
   "execution_count": 46,
   "metadata": {
    "scrolled": true
   },
   "outputs": [
    {
     "data": {
      "text/plain": [
       "<matplotlib.axes._subplots.AxesSubplot at 0x7f6221ec20d0>"
      ]
     },
     "execution_count": 46,
     "metadata": {},
     "output_type": "execute_result"
    },
    {
     "data": {
      "image/png": "[encoded data removed]",
      "text/plain": [
       "<Figure size 1080x720 with 1 Axes>"
      ]
     },
     "metadata": {
      "needs_background": "light"
     },
     "output_type": "display_data"
    }
   ],
   "source": [
    "fixed_auto_df = new_auto_df.query('30 < Power < 351')\n",
    "fixed_auto_df['Power'].hist(bins = 100, figsize = (15, 10))"
   ]
  },
  {
   "cell_type": "code",
   "execution_count": 47,
   "metadata": {
    "scrolled": true
   },
   "outputs": [
    {
     "data": {
      "text/plain": [
       "count    237573.000000\n",
       "mean        117.001111\n",
       "std          47.216719\n",
       "min          31.000000\n",
       "25%          77.000000\n",
       "50%         109.000000\n",
       "75%         143.000000\n",
       "max         350.000000\n",
       "Name: Power, dtype: float64"
      ]
     },
     "execution_count": 47,
     "metadata": {},
     "output_type": "execute_result"
    }
   ],
   "source": [
    "fixed_auto_df['Power'].describe()"
   ]
  },
  {
   "cell_type": "code",
   "execution_count": 48,
   "metadata": {},
   "outputs": [
    {
     "name": "stdout",
     "output_type": "stream",
     "text": [
      "<class 'pandas.core.frame.DataFrame'>\n",
      "Int64Index: 237573 entries, 2 to 354368\n",
      "Data columns (total 10 columns):\n",
      "VehicleType         237573 non-null object\n",
      "Gearbox             237573 non-null object\n",
      "Power               237573 non-null int64\n",
      "Kilometer           237573 non-null int64\n",
      "FuelType            237573 non-null object\n",
      "Brand               237573 non-null object\n",
      "NotRepaired         237573 non-null object\n",
      "RegistrationYear    237573 non-null int64\n",
      "Model               237573 non-null object\n",
      "Price               237573 non-null int64\n",
      "dtypes: int64(4), object(6)\n",
      "memory usage: 19.9+ MB\n"
     ]
    }
   ],
   "source": [
    "fixed_auto_df.info()"
   ]
  },
  {
   "cell_type": "markdown",
   "metadata": {},
   "source": [
    "Заменим тип столбцов Gearbox и NotRepaired на boolean.\n",
    "\n",
    "AutoGearbox. 1(auto) - означает автоматическую коробку передач. 0(manual) - механическую.\n",
    "IsNotRepaired. 1(yes) - означает машину без ремонта. 0(no) - с ремонтом."
   ]
  },
  {
   "cell_type": "code",
   "execution_count": 49,
   "metadata": {},
   "outputs": [],
   "source": [
    "fixed_auto_df['AutoGearbox'] = 0\n",
    "fixed_auto_df.loc[fixed_auto_df['Gearbox'] == 'auto', 'AutoGearbox'] = 1"
   ]
  },
  {
   "cell_type": "code",
   "execution_count": 50,
   "metadata": {},
   "outputs": [
    {
     "data": {
      "text/plain": [
       "0    194524\n",
       "1     43049\n",
       "Name: AutoGearbox, dtype: int64"
      ]
     },
     "metadata": {},
     "output_type": "display_data"
    },
    {
     "data": {
      "text/plain": [
       "manual    194524\n",
       "auto       43049\n",
       "Name: Gearbox, dtype: int64"
      ]
     },
     "execution_count": 50,
     "metadata": {},
     "output_type": "execute_result"
    }
   ],
   "source": [
    "display(fixed_auto_df['AutoGearbox'].value_counts())\n",
    "fixed_auto_df['Gearbox'].value_counts()"
   ]
  },
  {
   "cell_type": "code",
   "execution_count": 51,
   "metadata": {},
   "outputs": [],
   "source": [
    "fixed_auto_df['IsNotRepaired'] = 0\n",
    "fixed_auto_df.loc[fixed_auto_df['NotRepaired'] == 'yes', 'IsNotRepaired'] = 1"
   ]
  },
  {
   "cell_type": "code",
   "execution_count": 52,
   "metadata": {},
   "outputs": [
    {
     "data": {
      "text/plain": [
       "0    184642\n",
       "1     52931\n",
       "Name: IsNotRepaired, dtype: int64"
      ]
     },
     "metadata": {},
     "output_type": "display_data"
    },
    {
     "data": {
      "text/plain": [
       "no     184642\n",
       "yes     52931\n",
       "Name: NotRepaired, dtype: int64"
      ]
     },
     "execution_count": 52,
     "metadata": {},
     "output_type": "execute_result"
    }
   ],
   "source": [
    "display(fixed_auto_df['IsNotRepaired'].value_counts())\n",
    "fixed_auto_df['NotRepaired'].value_counts()"
   ]
  },
  {
   "cell_type": "markdown",
   "metadata": {},
   "source": [
    "Изменим тип данных и удалим ненужные столбцы"
   ]
  },
  {
   "cell_type": "code",
   "execution_count": 53,
   "metadata": {},
   "outputs": [],
   "source": [
    "fixed_auto_df.drop(['NotRepaired','Gearbox'], inplace = True, axis = 1)"
   ]
  },
  {
   "cell_type": "code",
   "execution_count": 54,
   "metadata": {},
   "outputs": [],
   "source": [
    "fixed_auto_df['IsNotRepaired'] = pd.to_numeric(fixed_auto_df['IsNotRepaired'], downcast = 'integer')\n",
    "fixed_auto_df['AutoGearbox'] = pd.to_numeric(fixed_auto_df['AutoGearbox'], downcast = 'integer')\n",
    "fixed_auto_df['RegistrationYear'] = pd.to_numeric(fixed_auto_df['RegistrationYear'], downcast = 'integer')\n",
    "fixed_auto_df['Power'] = pd.to_numeric(fixed_auto_df['Power'], downcast = 'integer')\n",
    "fixed_auto_df['Kilometer'] = pd.to_numeric(fixed_auto_df['Kilometer'], downcast = 'integer')\n",
    "fixed_auto_df['Price'] = pd.to_numeric(fixed_auto_df['Price'], downcast = 'integer')"
   ]
  },
  {
   "cell_type": "code",
   "execution_count": 55,
   "metadata": {},
   "outputs": [
    {
     "name": "stdout",
     "output_type": "stream",
     "text": [
      "<class 'pandas.core.frame.DataFrame'>\n",
      "Int64Index: 237573 entries, 2 to 354368\n",
      "Data columns (total 10 columns):\n",
      "VehicleType         237573 non-null object\n",
      "Power               237573 non-null int16\n",
      "Kilometer           237573 non-null int32\n",
      "FuelType            237573 non-null object\n",
      "Brand               237573 non-null object\n",
      "RegistrationYear    237573 non-null int16\n",
      "Model               237573 non-null object\n",
      "Price               237573 non-null int16\n",
      "AutoGearbox         237573 non-null int8\n",
      "IsNotRepaired       237573 non-null int8\n",
      "dtypes: int16(3), int32(1), int8(2), object(4)\n",
      "memory usage: 11.8+ MB\n"
     ]
    }
   ],
   "source": [
    "fixed_auto_df.info()"
   ]
  },
  {
   "cell_type": "markdown",
   "metadata": {},
   "source": [
    "### Вывод по шагу 1"
   ]
  },
  {
   "cell_type": "markdown",
   "metadata": {},
   "source": [
    "В рамках первого шага:\n",
    "\n",
    "Исследована таблица с данными.\n",
    "\n",
    "Разобраны пропуски и некорректные значения.\n",
    "\n",
    "Избавились от лишних столбцов для обучения модели.\n",
    "\n",
    "Заполнены пропуски в столбцах и удалены некорректные значения.\n",
    "\n",
    "Заменили тип данных в необходимых столбцах.\n"
   ]
  },
  {
   "cell_type": "markdown",
   "metadata": {},
   "source": [
    "## Обучение моделей"
   ]
  },
  {
   "cell_type": "markdown",
   "metadata": {},
   "source": [
    "Будем использовать регрессоры для обучения модели:\n",
    "\n",
    "LinearRegression\n",
    "\n",
    "Ridge\n",
    "\n",
    "DecisionTreeRegressor\n",
    "\n",
    "CatBoostRegressor\n",
    "\n",
    "LGBMRegressor\n",
    "\n",
    "MSE будет использована для всех моделей в роли метрики и в финальной таблице конвертируем в RMSE. \n",
    "Качество моделей при этом проверим используя кроссвалидацию.\n",
    "\n",
    "Подготовим три типа признаков для кроссвалидации:\n",
    "\n",
    "Постоянные - original_features.\n",
    "Закодированные методом OHE - ohe_features.\n",
    "Закодированные методом OE - ordinal_features."
   ]
  },
  {
   "cell_type": "code",
   "execution_count": 56,
   "metadata": {},
   "outputs": [],
   "source": [
    "original_features = fixed_auto_df.drop('Price', axis = 1)"
   ]
  },
  {
   "cell_type": "code",
   "execution_count": 57,
   "metadata": {},
   "outputs": [],
   "source": [
    "encoder = OrdinalEncoder()\n",
    "cat_columns = ['VehicleType', 'FuelType', 'Brand', 'Model']\n",
    "cat_features = original_features[cat_columns]\n",
    "cat_features = pd.DataFrame(encoder.fit_transform(cat_features),\n",
    "                                columns = cat_features.columns, \n",
    "                                index = cat_features.index)\n",
    "ordinal_features = original_features.copy()\n",
    "for column in cat_columns:\n",
    "    ordinal_features[column] = cat_features[column]"
   ]
  },
  {
   "cell_type": "code",
   "execution_count": 58,
   "metadata": {},
   "outputs": [],
   "source": [
    "ohe_features = pd.get_dummies(original_features, drop_first = True)"
   ]
  },
  {
   "cell_type": "code",
   "execution_count": 59,
   "metadata": {},
   "outputs": [],
   "source": [
    "target = fixed_auto_df['Price']"
   ]
  },
  {
   "cell_type": "code",
   "execution_count": 60,
   "metadata": {},
   "outputs": [],
   "source": [
    "original_features_train, original_features_test, target_train, target_test = train_test_split(\n",
    "    original_features, target, test_size = 0.25, random_state = 12345)\n",
    "\n",
    "ordinal_features_train = ordinal_features.loc[original_features_train.index, :]\n",
    "ordinal_features_test = ordinal_features.loc[original_features_test.index, :]\n",
    "\n",
    "ohe_features_train = ohe_features.loc[original_features_train.index, :]\n",
    "ohe_features_test = ohe_features.loc[original_features_test.index, :]"
   ]
  },
  {
   "cell_type": "markdown",
   "metadata": {},
   "source": [
    "### Линейная регрессия"
   ]
  },
  {
   "cell_type": "code",
   "execution_count": 61,
   "metadata": {},
   "outputs": [
    {
     "name": "stdout",
     "output_type": "stream",
     "text": [
      "# Train for MSE\n",
      "\n",
      "Mean RMSE LinearRegression = 1712.233016655608\n",
      "CPU times: user 59.1 s, sys: 25.3 s, total: 1min 24s\n",
      "Wall time: 1min 24s\n"
     ]
    }
   ],
   "source": [
    "%%time\n",
    "\n",
    "regressor = LinearRegression()\n",
    "print('# Train for MSE')\n",
    "print()\n",
    "RMSE_LR = (cross_val_score(regressor, \n",
    "                             ohe_features_train, \n",
    "                             target_train, \n",
    "                             cv = 5, \n",
    "                             scoring = 'neg_mean_squared_error').mean() * -1) ** 0.5\n",
    "print('Mean RMSE LinearRegression =', RMSE_LR)"
   ]
  },
  {
   "cell_type": "code",
   "execution_count": 62,
   "metadata": {},
   "outputs": [
    {
     "name": "stdout",
     "output_type": "stream",
     "text": [
      "# Train for MSE\n",
      "\n",
      "Mean RMSE LinearRegression = 1951756575581.364\n",
      "CPU times: user 1min 4s, sys: 27.3 s, total: 1min 31s\n",
      "Wall time: 1min 32s\n"
     ]
    }
   ],
   "source": [
    "%%time\n",
    "\n",
    "regressor = LinearRegression()\n",
    "scaller = StandardScaler()\n",
    "pipeline = Pipeline([(\"standard_scaller\", scaller), (\"linear_regression\", regressor)])\n",
    "print('# Train for MSE')\n",
    "print()\n",
    "RMSE_LR_S = (cross_val_score(pipeline,\n",
    "                                ohe_features_train, \n",
    "                                target_train, \n",
    "                                cv = 5, \n",
    "                                scoring = 'neg_mean_squared_error').mean() * -1) ** 0.5\n",
    "print('Mean RMSE LinearRegression =', RMSE_LR_S)"
   ]
  },
  {
   "cell_type": "markdown",
   "metadata": {},
   "source": [
    "Масштабирование признаков не помогает улучшить модель. "
   ]
  },
  {
   "cell_type": "markdown",
   "metadata": {},
   "source": [
    "### Регрессия Ridge"
   ]
  },
  {
   "cell_type": "code",
   "execution_count": 63,
   "metadata": {},
   "outputs": [
    {
     "name": "stdout",
     "output_type": "stream",
     "text": [
      "# Tuning hyper-parameters for MSE\n",
      "\n",
      "Best parameters set found on development set:\n",
      "\n",
      "{'solver': 'auto'}\n",
      "\n",
      "Grid scores on development set:\n",
      "\n",
      "1712.625293 for {'solver': 'auto'}\n",
      "1712.625293 for {'solver': 'svd'}\n",
      "1712.625293 for {'solver': 'cholesky'}\n",
      "2738.844210 for {'solver': 'lsqr'}\n",
      "2358.333775 for {'solver': 'sparse_cg'}\n",
      "\n",
      "CPU times: user 1min 19s, sys: 33.6 s, total: 1min 53s\n",
      "Wall time: 1min 53s\n"
     ]
    }
   ],
   "source": [
    "%%time\n",
    "\n",
    "regressor = Ridge()\n",
    "hyperparams = [{'solver':['auto', 'svd', 'cholesky', 'lsqr','sparse_cg']}]\n",
    "\n",
    "\n",
    "print('# Tuning hyper-parameters for MSE')\n",
    "print()\n",
    "clf = GridSearchCV(regressor, hyperparams, scoring = 'neg_mean_squared_error')\n",
    "clf.fit(ohe_features_train, target_train)\n",
    "print(\"Best parameters set found on development set:\")\n",
    "print()\n",
    "print(clf.best_params_)\n",
    "print()\n",
    "print(\"Grid scores on development set:\")\n",
    "print()\n",
    "means = clf.cv_results_['mean_test_score']\n",
    "stds = clf.cv_results_['std_test_score']\n",
    "for mean, std, params in zip(means, stds, clf.cv_results_['params']):\n",
    "    print(\"%0.6f for %r\"% ((mean*-1)** 0.5, params))\n",
    "print()\n",
    "\n",
    "RMSE_R = (max(means)*-1) ** 0.5"
   ]
  },
  {
   "cell_type": "markdown",
   "metadata": {},
   "source": [
    "### Регрессия DecisionTreeRegresso"
   ]
  },
  {
   "cell_type": "markdown",
   "metadata": {},
   "source": [
    "Проведем два эксперимента.\n",
    "\n",
    "Проверим модель на принаках, закодированных по методу OHE.\n",
    "На признаках, закодированных по методу OE."
   ]
  },
  {
   "cell_type": "code",
   "execution_count": 64,
   "metadata": {},
   "outputs": [
    {
     "name": "stdout",
     "output_type": "stream",
     "text": [
      "# Tuning hyper-parameters for MSE\n",
      "\n",
      "Best parameters set found on development set:\n",
      "\n",
      "{'criterion': 'mse', 'max_depth': 15, 'random_state': 12345}\n",
      "\n",
      "Grid scores on development set:\n",
      "\n",
      "2100.808513 for {'criterion': 'mse', 'max_depth': 2, 'random_state': 12345}\n",
      "1944.164574 for {'criterion': 'mse', 'max_depth': 3, 'random_state': 12345}\n",
      "1782.708853 for {'criterion': 'mse', 'max_depth': 4, 'random_state': 12345}\n",
      "1688.846858 for {'criterion': 'mse', 'max_depth': 5, 'random_state': 12345}\n",
      "1607.181326 for {'criterion': 'mse', 'max_depth': 6, 'random_state': 12345}\n",
      "1548.988373 for {'criterion': 'mse', 'max_depth': 7, 'random_state': 12345}\n",
      "1493.669378 for {'criterion': 'mse', 'max_depth': 8, 'random_state': 12345}\n",
      "1454.172563 for {'criterion': 'mse', 'max_depth': 9, 'random_state': 12345}\n",
      "1417.353672 for {'criterion': 'mse', 'max_depth': 10, 'random_state': 12345}\n",
      "1390.898418 for {'criterion': 'mse', 'max_depth': 11, 'random_state': 12345}\n",
      "1371.047668 for {'criterion': 'mse', 'max_depth': 12, 'random_state': 12345}\n",
      "1356.908468 for {'criterion': 'mse', 'max_depth': 13, 'random_state': 12345}\n",
      "1350.725514 for {'criterion': 'mse', 'max_depth': 14, 'random_state': 12345}\n",
      "1350.719734 for {'criterion': 'mse', 'max_depth': 15, 'random_state': 12345}\n",
      "1352.207562 for {'criterion': 'mse', 'max_depth': 16, 'random_state': 12345}\n",
      "1355.592354 for {'criterion': 'mse', 'max_depth': 17, 'random_state': 12345}\n",
      "1361.543981 for {'criterion': 'mse', 'max_depth': 18, 'random_state': 12345}\n",
      "1361.948223 for {'criterion': 'mse', 'max_depth': 19, 'random_state': 12345}\n",
      "1365.848085 for {'criterion': 'mse', 'max_depth': 20, 'random_state': 12345}\n",
      "1369.397127 for {'criterion': 'mse', 'max_depth': 21, 'random_state': 12345}\n",
      "1375.723421 for {'criterion': 'mse', 'max_depth': 22, 'random_state': 12345}\n",
      "1378.727634 for {'criterion': 'mse', 'max_depth': 23, 'random_state': 12345}\n",
      "1384.719496 for {'criterion': 'mse', 'max_depth': 24, 'random_state': 12345}\n",
      "1388.790710 for {'criterion': 'mse', 'max_depth': 25, 'random_state': 12345}\n",
      "1389.892264 for {'criterion': 'mse', 'max_depth': 26, 'random_state': 12345}\n",
      "1394.231437 for {'criterion': 'mse', 'max_depth': 27, 'random_state': 12345}\n",
      "1392.098558 for {'criterion': 'mse', 'max_depth': 28, 'random_state': 12345}\n",
      "1397.076723 for {'criterion': 'mse', 'max_depth': 29, 'random_state': 12345}\n",
      "1396.927315 for {'criterion': 'mse', 'max_depth': 30, 'random_state': 12345}\n",
      "\n",
      "CPU times: user 4min 53s, sys: 9.9 s, total: 5min 3s\n",
      "Wall time: 5min 6s\n"
     ]
    }
   ],
   "source": [
    "%%time\n",
    "\n",
    "regressor = DecisionTreeRegressor() \n",
    "max_depth_list = [x for x in range(2, 31)]\n",
    "hyperparams = [{'criterion':['mse'], \n",
    "                'max_depth':max_depth_list, \n",
    "                'random_state':[12345]}]\n",
    "\n",
    "print('# Tuning hyper-parameters for MSE')\n",
    "print()\n",
    "clf = GridSearchCV(regressor, hyperparams, scoring = 'neg_mean_squared_error')\n",
    "clf.fit(ohe_features_train, target_train)\n",
    "print(\"Best parameters set found on development set:\")\n",
    "print()\n",
    "print(clf.best_params_)\n",
    "print()\n",
    "print(\"Grid scores on development set:\")\n",
    "print()\n",
    "means = clf.cv_results_['mean_test_score']\n",
    "stds = clf.cv_results_['std_test_score']\n",
    "for mean, std, params in zip(means, stds, clf.cv_results_['params']):\n",
    "    print(\"%0.6f for %r\"% ((mean*-1)** 0.5, params))\n",
    "print()\n",
    "\n",
    "RMSE_DTR_ohe = (max(means)*-1) ** 0.5"
   ]
  },
  {
   "cell_type": "code",
   "execution_count": 65,
   "metadata": {},
   "outputs": [
    {
     "name": "stdout",
     "output_type": "stream",
     "text": [
      "# Tuning hyper-parameters for MSE\n",
      "\n",
      "Best parameters set found on development set:\n",
      "\n",
      "{'criterion': 'mse', 'max_depth': 13, 'random_state': 12345}\n",
      "\n",
      "Grid scores on development set:\n",
      "\n",
      "2100.808513 for {'criterion': 'mse', 'max_depth': 2, 'random_state': 12345}\n",
      "1944.164574 for {'criterion': 'mse', 'max_depth': 3, 'random_state': 12345}\n",
      "1780.039582 for {'criterion': 'mse', 'max_depth': 4, 'random_state': 12345}\n",
      "1686.576247 for {'criterion': 'mse', 'max_depth': 5, 'random_state': 12345}\n",
      "1604.272591 for {'criterion': 'mse', 'max_depth': 6, 'random_state': 12345}\n",
      "1539.328991 for {'criterion': 'mse', 'max_depth': 7, 'random_state': 12345}\n",
      "1485.657607 for {'criterion': 'mse', 'max_depth': 8, 'random_state': 12345}\n",
      "1445.656162 for {'criterion': 'mse', 'max_depth': 9, 'random_state': 12345}\n",
      "1407.735259 for {'criterion': 'mse', 'max_depth': 10, 'random_state': 12345}\n",
      "1384.444674 for {'criterion': 'mse', 'max_depth': 11, 'random_state': 12345}\n",
      "1370.883269 for {'criterion': 'mse', 'max_depth': 12, 'random_state': 12345}\n",
      "1363.856384 for {'criterion': 'mse', 'max_depth': 13, 'random_state': 12345}\n",
      "1364.537575 for {'criterion': 'mse', 'max_depth': 14, 'random_state': 12345}\n",
      "1373.207619 for {'criterion': 'mse', 'max_depth': 15, 'random_state': 12345}\n",
      "1386.086695 for {'criterion': 'mse', 'max_depth': 16, 'random_state': 12345}\n",
      "1397.941713 for {'criterion': 'mse', 'max_depth': 17, 'random_state': 12345}\n",
      "1408.921383 for {'criterion': 'mse', 'max_depth': 18, 'random_state': 12345}\n",
      "1416.534551 for {'criterion': 'mse', 'max_depth': 19, 'random_state': 12345}\n",
      "1426.484745 for {'criterion': 'mse', 'max_depth': 20, 'random_state': 12345}\n",
      "1434.735998 for {'criterion': 'mse', 'max_depth': 21, 'random_state': 12345}\n",
      "1438.923413 for {'criterion': 'mse', 'max_depth': 22, 'random_state': 12345}\n",
      "1440.937350 for {'criterion': 'mse', 'max_depth': 23, 'random_state': 12345}\n",
      "1441.703693 for {'criterion': 'mse', 'max_depth': 24, 'random_state': 12345}\n",
      "1445.490345 for {'criterion': 'mse', 'max_depth': 25, 'random_state': 12345}\n",
      "1444.866746 for {'criterion': 'mse', 'max_depth': 26, 'random_state': 12345}\n",
      "1447.944472 for {'criterion': 'mse', 'max_depth': 27, 'random_state': 12345}\n",
      "1447.508157 for {'criterion': 'mse', 'max_depth': 28, 'random_state': 12345}\n",
      "1446.700804 for {'criterion': 'mse', 'max_depth': 29, 'random_state': 12345}\n",
      "1443.620468 for {'criterion': 'mse', 'max_depth': 30, 'random_state': 12345}\n",
      "\n",
      "CPU times: user 33.4 s, sys: 0 ns, total: 33.4 s\n",
      "Wall time: 34 s\n"
     ]
    }
   ],
   "source": [
    "%%time\n",
    "\n",
    "regressor = DecisionTreeRegressor() \n",
    "max_depth_list = [x for x in range(2, 31)]\n",
    "hyperparams = [{'criterion':['mse'], \n",
    "                'max_depth':max_depth_list, \n",
    "                'random_state':[12345]}]\n",
    "\n",
    "print('# Tuning hyper-parameters for MSE')\n",
    "print()\n",
    "clf = GridSearchCV(regressor, hyperparams, scoring = 'neg_mean_squared_error')\n",
    "clf.fit(ordinal_features_train, target_train)\n",
    "print(\"Best parameters set found on development set:\")\n",
    "print()\n",
    "print(clf.best_params_)\n",
    "print()\n",
    "print(\"Grid scores on development set:\")\n",
    "print()\n",
    "means = clf.cv_results_['mean_test_score']\n",
    "stds = clf.cv_results_['std_test_score']\n",
    "for mean, std, params in zip(means, stds, clf.cv_results_['params']):\n",
    "    print(\"%0.6f for %r\"% ((mean*-1)** 0.5, params))\n",
    "print()\n",
    "\n",
    "RMSE_DTR_ordinal = (max(means)*-1) ** 0.5"
   ]
  },
  {
   "cell_type": "markdown",
   "metadata": {},
   "source": [
    "Обучение на OHE данных дало похожий результат, что и порядковое кодирование признаков. Занесем оба эксперимента в финальную таблицу."
   ]
  },
  {
   "cell_type": "markdown",
   "metadata": {},
   "source": [
    "### Регрессия CatBoostRegressor"
   ]
  },
  {
   "cell_type": "markdown",
   "metadata": {},
   "source": [
    "Выполним 2 теста -обучим модель на данных, закодированных по методу OE и обучим на оригинальных данных с указанием категорий."
   ]
  },
  {
   "cell_type": "code",
   "execution_count": 66,
   "metadata": {},
   "outputs": [
    {
     "name": "stdout",
     "output_type": "stream",
     "text": [
      "# Tuning hyper-parameters for MSE\n",
      "\n",
      "Best parameters set found on development set:\n",
      "\n",
      "{'learning_rate': 0.5, 'random_state': 12345, 'verbose': False}\n",
      "\n",
      "Grid scores on development set:\n",
      "\n",
      "1176.961915 for {'learning_rate': 0.1, 'random_state': 12345, 'verbose': False}\n",
      "1165.909853 for {'learning_rate': 0.5, 'random_state': 12345, 'verbose': False}\n",
      "1182.524067 for {'learning_rate': 0.8, 'random_state': 12345, 'verbose': False}\n",
      "\n",
      "CPU times: user 14min 54s, sys: 1min 56s, total: 16min 50s\n",
      "Wall time: 17min 6s\n"
     ]
    }
   ],
   "source": [
    "%%time\n",
    "\n",
    "regressor = CatBoostRegressor() \n",
    "hyperparams = [{'learning_rate':[0.1, 0.5, 0.8],\n",
    "                'random_state':[12345],\n",
    "                'verbose':[False]}]\n",
    "\n",
    "print('# Tuning hyper-parameters for MSE')\n",
    "print()\n",
    "clf = GridSearchCV(regressor, hyperparams, scoring = 'neg_mean_squared_error')\n",
    "clf.fit(ordinal_features_train, target_train)\n",
    "print(\"Best parameters set found on development set:\")\n",
    "print()\n",
    "print(clf.best_params_)\n",
    "print()\n",
    "print(\"Grid scores on development set:\")\n",
    "print()\n",
    "means = clf.cv_results_['mean_test_score']\n",
    "stds = clf.cv_results_['std_test_score']\n",
    "for mean, std, params in zip(means, stds, clf.cv_results_['params']):\n",
    "    print(\"%0.6f for %r\"% ((mean*-1)** 0.5, params))\n",
    "print()\n",
    "\n",
    "RMSE_CBR_ordinal = (max(means)*-1) ** 0.5"
   ]
  },
  {
   "cell_type": "code",
   "execution_count": 67,
   "metadata": {},
   "outputs": [
    {
     "name": "stdout",
     "output_type": "stream",
     "text": [
      "# Train for MSE\n",
      "\n",
      "Mean RMSE CatBoostRegressor = 1183.5011120840963\n",
      "CPU times: user 5min 44s, sys: 39.8 s, total: 6min 24s\n",
      "Wall time: 6min 30s\n"
     ]
    }
   ],
   "source": [
    "%%time\n",
    "\n",
    "regressor = CatBoostRegressor(learning_rate = 0.5,\n",
    "                              iterations = 200,\n",
    "                              random_state = 12345, \n",
    "                              verbose = False, \n",
    "                              cat_features = ['VehicleType', 'FuelType', 'Brand', 'Model']) \n",
    "print('# Train for MSE')\n",
    "print()\n",
    "RMSE_CBR_original = (cross_val_score(regressor,\n",
    "                                original_features_train, \n",
    "                                target_train, \n",
    "                                cv = 5, \n",
    "                                scoring = 'neg_mean_squared_error').mean() * -1) ** 0.5\n",
    "print('Mean RMSE CatBoostRegressor =', RMSE_CBR_original)"
   ]
  },
  {
   "cell_type": "markdown",
   "metadata": {},
   "source": [
    "### Регрессия LGBMRegressor"
   ]
  },
  {
   "cell_type": "code",
   "execution_count": 68,
   "metadata": {},
   "outputs": [
    {
     "name": "stdout",
     "output_type": "stream",
     "text": [
      "# Tuning hyper-parameters for MSE\n",
      "\n",
      "Best parameters set found on development set:\n",
      "\n",
      "{'learning_rate': 0.3, 'num_leaves': 100, 'random_state': 12345}\n",
      "\n",
      "Grid scores on development set:\n",
      "\n",
      "1229.441966 for {'learning_rate': 0.1, 'num_leaves': 31, 'random_state': 12345}\n",
      "1180.501453 for {'learning_rate': 0.1, 'num_leaves': 100, 'random_state': 12345}\n",
      "1194.332508 for {'learning_rate': 0.3, 'num_leaves': 31, 'random_state': 12345}\n",
      "1164.737292 for {'learning_rate': 0.3, 'num_leaves': 100, 'random_state': 12345}\n",
      "\n",
      "CPU times: user 5min 25s, sys: 0 ns, total: 5min 25s\n",
      "Wall time: 5min 28s\n"
     ]
    }
   ],
   "source": [
    "%%time\n",
    "\n",
    "regressor = LGBMRegressor() \n",
    "hyperparams = [{'num_leaves':[31, 100], \n",
    "                'learning_rate':[0.1, 0.3],\n",
    "                'random_state':[12345]}]\n",
    "\n",
    "print('# Tuning hyper-parameters for MSE')\n",
    "print()\n",
    "clf = GridSearchCV(regressor, hyperparams, scoring = 'neg_mean_squared_error')\n",
    "clf.fit(ordinal_features_train, target_train)\n",
    "print(\"Best parameters set found on development set:\")\n",
    "print()\n",
    "print(clf.best_params_)\n",
    "print()\n",
    "print(\"Grid scores on development set:\")\n",
    "print()\n",
    "means = clf.cv_results_['mean_test_score']\n",
    "stds = clf.cv_results_['std_test_score']\n",
    "for mean, std, params in zip(means, stds, clf.cv_results_['params']):\n",
    "    print(\"%0.6f for %r\"% ((mean*-1)** 0.5, params))\n",
    "print()\n",
    "\n",
    "RMSE_LGBMR = (max(means)*-1) ** 0.5"
   ]
  },
  {
   "cell_type": "code",
   "execution_count": 69,
   "metadata": {},
   "outputs": [],
   "source": [
    "#regressor"
   ]
  },
  {
   "cell_type": "markdown",
   "metadata": {},
   "source": [
    "## Вывод по шагу 2"
   ]
  },
  {
   "cell_type": "markdown",
   "metadata": {},
   "source": [
    "Исследовали пять регрессионных моделей. По итогам исследования получены лучшие гиперпараметры и время их выполнения."
   ]
  },
  {
   "cell_type": "markdown",
   "metadata": {},
   "source": [
    "## Анализ моделей"
   ]
  },
  {
   "cell_type": "markdown",
   "metadata": {},
   "source": [
    "Проведем обучение на каждой модели с лучшими гиперпараметрами."
   ]
  },
  {
   "cell_type": "markdown",
   "metadata": {},
   "source": [
    "### Линейная регрессия"
   ]
  },
  {
   "cell_type": "code",
   "execution_count": 70,
   "metadata": {},
   "outputs": [
    {
     "name": "stdout",
     "output_type": "stream",
     "text": [
      "CPU times: user 14.8 s, sys: 4.79 s, total: 19.6 s\n",
      "Wall time: 19.7 s\n"
     ]
    },
    {
     "data": {
      "text/plain": [
       "LinearRegression(copy_X=True, fit_intercept=True, n_jobs=None, normalize=False)"
      ]
     },
     "execution_count": 70,
     "metadata": {},
     "output_type": "execute_result"
    }
   ],
   "source": [
    "%%time\n",
    "\n",
    "model = LinearRegression()\n",
    "model.fit(ohe_features_train, target_train)"
   ]
  },
  {
   "cell_type": "code",
   "execution_count": 71,
   "metadata": {},
   "outputs": [
    {
     "name": "stdout",
     "output_type": "stream",
     "text": [
      "CPU times: user 97.9 ms, sys: 115 ms, total: 213 ms\n",
      "Wall time: 190 ms\n"
     ]
    }
   ],
   "source": [
    "%%time\n",
    "\n",
    "target_predict = model.predict(ohe_features_test)"
   ]
  },
  {
   "cell_type": "code",
   "execution_count": 72,
   "metadata": {},
   "outputs": [],
   "source": [
    "final_RMSE_LR = mean_squared_error(target_test, target_predict) ** 0.5"
   ]
  },
  {
   "cell_type": "code",
   "execution_count": 96,
   "metadata": {},
   "outputs": [
    {
     "data": {
      "text/plain": [
       "1716.1114060001414"
      ]
     },
     "execution_count": 96,
     "metadata": {},
     "output_type": "execute_result"
    }
   ],
   "source": [
    "final_RMSE_LR"
   ]
  },
  {
   "cell_type": "markdown",
   "metadata": {},
   "source": [
    "### Регрессия Ridge"
   ]
  },
  {
   "cell_type": "code",
   "execution_count": 73,
   "metadata": {},
   "outputs": [
    {
     "name": "stdout",
     "output_type": "stream",
     "text": [
      "CPU times: user 26.8 s, sys: 6.06 s, total: 32.9 s\n",
      "Wall time: 32.9 s\n"
     ]
    },
    {
     "data": {
      "text/plain": [
       "Ridge(alpha=1.0, copy_X=True, fit_intercept=True, max_iter=None,\n",
       "      normalize=False, random_state=None, solver='svd', tol=0.001)"
      ]
     },
     "execution_count": 73,
     "metadata": {},
     "output_type": "execute_result"
    }
   ],
   "source": [
    "%%time\n",
    "\n",
    "model = Ridge(solver = 'svd')\n",
    "model.fit(ohe_features_train, target_train)"
   ]
  },
  {
   "cell_type": "code",
   "execution_count": 74,
   "metadata": {},
   "outputs": [
    {
     "name": "stdout",
     "output_type": "stream",
     "text": [
      "CPU times: user 75 ms, sys: 68.2 ms, total: 143 ms\n",
      "Wall time: 189 ms\n"
     ]
    }
   ],
   "source": [
    "%%time\n",
    "\n",
    "target_predict = model.predict(ohe_features_test)"
   ]
  },
  {
   "cell_type": "code",
   "execution_count": 75,
   "metadata": {},
   "outputs": [],
   "source": [
    "final_RMSE_R = mean_squared_error(target_test, target_predict) ** 0.5"
   ]
  },
  {
   "cell_type": "code",
   "execution_count": 95,
   "metadata": {},
   "outputs": [
    {
     "data": {
      "text/plain": [
       "1716.1690723226145"
      ]
     },
     "execution_count": 95,
     "metadata": {},
     "output_type": "execute_result"
    }
   ],
   "source": [
    "final_RMSE_R"
   ]
  },
  {
   "cell_type": "markdown",
   "metadata": {},
   "source": [
    "### Регрессия DecisionTreeRegressor"
   ]
  },
  {
   "cell_type": "code",
   "execution_count": 76,
   "metadata": {},
   "outputs": [
    {
     "name": "stdout",
     "output_type": "stream",
     "text": [
      "CPU times: user 4.69 s, sys: 54.1 ms, total: 4.75 s\n",
      "Wall time: 4.76 s\n"
     ]
    },
    {
     "data": {
      "text/plain": [
       "DecisionTreeRegressor(criterion='mse', max_depth=15, max_features=None,\n",
       "                      max_leaf_nodes=None, min_impurity_decrease=0.0,\n",
       "                      min_impurity_split=None, min_samples_leaf=1,\n",
       "                      min_samples_split=2, min_weight_fraction_leaf=0.0,\n",
       "                      presort=False, random_state=12345, splitter='best')"
      ]
     },
     "execution_count": 76,
     "metadata": {},
     "output_type": "execute_result"
    }
   ],
   "source": [
    "%%time\n",
    "\n",
    "model = DecisionTreeRegressor(criterion = 'mse', \n",
    "                              max_depth = 15, \n",
    "                              random_state = 12345) \n",
    "model.fit(ohe_features_train, target_train)"
   ]
  },
  {
   "cell_type": "code",
   "execution_count": 77,
   "metadata": {},
   "outputs": [
    {
     "name": "stdout",
     "output_type": "stream",
     "text": [
      "CPU times: user 68.1 ms, sys: 30.2 ms, total: 98.3 ms\n",
      "Wall time: 112 ms\n"
     ]
    }
   ],
   "source": [
    "%%time\n",
    "\n",
    "target_predict = model.predict(ohe_features_test)"
   ]
  },
  {
   "cell_type": "code",
   "execution_count": 78,
   "metadata": {},
   "outputs": [],
   "source": [
    "final_RMSE_DTR_ohe = mean_squared_error(target_test, target_predict) ** 0.5"
   ]
  },
  {
   "cell_type": "code",
   "execution_count": 79,
   "metadata": {},
   "outputs": [
    {
     "name": "stdout",
     "output_type": "stream",
     "text": [
      "CPU times: user 523 ms, sys: 0 ns, total: 523 ms\n",
      "Wall time: 537 ms\n"
     ]
    },
    {
     "data": {
      "text/plain": [
       "DecisionTreeRegressor(criterion='mse', max_depth=15, max_features=None,\n",
       "                      max_leaf_nodes=None, min_impurity_decrease=0.0,\n",
       "                      min_impurity_split=None, min_samples_leaf=1,\n",
       "                      min_samples_split=2, min_weight_fraction_leaf=0.0,\n",
       "                      presort=False, random_state=12345, splitter='best')"
      ]
     },
     "execution_count": 79,
     "metadata": {},
     "output_type": "execute_result"
    }
   ],
   "source": [
    "%%time\n",
    "\n",
    "model = DecisionTreeRegressor(criterion = 'mse', \n",
    "                              max_depth = 15, \n",
    "                              random_state = 12345) \n",
    "model.fit(ordinal_features_train, target_train)"
   ]
  },
  {
   "cell_type": "code",
   "execution_count": 80,
   "metadata": {},
   "outputs": [
    {
     "name": "stdout",
     "output_type": "stream",
     "text": [
      "CPU times: user 17.8 ms, sys: 1.95 ms, total: 19.7 ms\n",
      "Wall time: 17.5 ms\n"
     ]
    }
   ],
   "source": [
    "%%time\n",
    "\n",
    "target_predict = model.predict(ordinal_features_test)"
   ]
  },
  {
   "cell_type": "code",
   "execution_count": 81,
   "metadata": {},
   "outputs": [],
   "source": [
    "final_RMSE_DTR_ordinal = mean_squared_error(target_test, target_predict) ** 0.5"
   ]
  },
  {
   "cell_type": "code",
   "execution_count": 94,
   "metadata": {},
   "outputs": [
    {
     "data": {
      "text/plain": [
       "1328.6430817040484"
      ]
     },
     "execution_count": 94,
     "metadata": {},
     "output_type": "execute_result"
    }
   ],
   "source": [
    "final_RMSE_DTR_ordinal"
   ]
  },
  {
   "cell_type": "markdown",
   "metadata": {},
   "source": [
    "### Регрессия CatBoostRegressor"
   ]
  },
  {
   "cell_type": "code",
   "execution_count": 82,
   "metadata": {},
   "outputs": [
    {
     "name": "stdout",
     "output_type": "stream",
     "text": [
      "CPU times: user 1min 59s, sys: 15.7 s, total: 2min 15s\n",
      "Wall time: 2min 17s\n"
     ]
    },
    {
     "data": {
      "text/plain": [
       "<catboost.core.CatBoostRegressor at 0x7f6221cc18d0>"
      ]
     },
     "execution_count": 82,
     "metadata": {},
     "output_type": "execute_result"
    }
   ],
   "source": [
    "%%time\n",
    "\n",
    "model = CatBoostRegressor(learning_rate = 0.5, \n",
    "                          random_state = 12345, \n",
    "                          verbose = False) \n",
    "model.fit(ordinal_features_train, target_train)"
   ]
  },
  {
   "cell_type": "code",
   "execution_count": 83,
   "metadata": {},
   "outputs": [
    {
     "name": "stdout",
     "output_type": "stream",
     "text": [
      "CPU times: user 130 ms, sys: 3.69 ms, total: 134 ms\n",
      "Wall time: 79.2 ms\n"
     ]
    }
   ],
   "source": [
    "%%time\n",
    "\n",
    "target_predict = model.predict(ordinal_features_test)"
   ]
  },
  {
   "cell_type": "code",
   "execution_count": 84,
   "metadata": {},
   "outputs": [],
   "source": [
    "final_RMSE_CBR_ordinal = mean_squared_error(target_test, target_predict) ** 0.5"
   ]
  },
  {
   "cell_type": "code",
   "execution_count": 85,
   "metadata": {},
   "outputs": [
    {
     "name": "stdout",
     "output_type": "stream",
     "text": [
      "CPU times: user 1min 23s, sys: 9.93 s, total: 1min 33s\n",
      "Wall time: 1min 34s\n"
     ]
    },
    {
     "data": {
      "text/plain": [
       "<catboost.core.CatBoostRegressor at 0x7f6221c96410>"
      ]
     },
     "execution_count": 85,
     "metadata": {},
     "output_type": "execute_result"
    }
   ],
   "source": [
    "%%time\n",
    "\n",
    "model = CatBoostRegressor(learning_rate = 0.3, \n",
    "                          iterations = 200, \n",
    "                          random_state = 12345, \n",
    "                          verbose = False,\n",
    "                          cat_features = ['VehicleType','FuelType','Brand','Model']) \n",
    "model.fit(original_features_train, target_train)"
   ]
  },
  {
   "cell_type": "code",
   "execution_count": 86,
   "metadata": {},
   "outputs": [
    {
     "name": "stdout",
     "output_type": "stream",
     "text": [
      "CPU times: user 211 ms, sys: 25.2 ms, total: 237 ms\n",
      "Wall time: 166 ms\n"
     ]
    }
   ],
   "source": [
    "%%time\n",
    "\n",
    "target_predict = model.predict(original_features_test)"
   ]
  },
  {
   "cell_type": "code",
   "execution_count": 87,
   "metadata": {},
   "outputs": [],
   "source": [
    "final_RMSE_CBR_original = mean_squared_error(target_test, target_predict) ** 0.5"
   ]
  },
  {
   "cell_type": "code",
   "execution_count": 93,
   "metadata": {},
   "outputs": [
    {
     "data": {
      "text/plain": [
       "1187.437740437242"
      ]
     },
     "execution_count": 93,
     "metadata": {},
     "output_type": "execute_result"
    }
   ],
   "source": [
    "final_RMSE_CBR_original"
   ]
  },
  {
   "cell_type": "markdown",
   "metadata": {},
   "source": [
    "### Регрессия LGBMRegressor"
   ]
  },
  {
   "cell_type": "code",
   "execution_count": 88,
   "metadata": {},
   "outputs": [
    {
     "name": "stdout",
     "output_type": "stream",
     "text": [
      "CPU times: user 3min 14s, sys: 0 ns, total: 3min 14s\n",
      "Wall time: 3min 16s\n"
     ]
    },
    {
     "data": {
      "text/plain": [
       "LGBMRegressor(boosting_type='gbdt', class_weight=None, colsample_bytree=1.0,\n",
       "              importance_type='split', learning_rate=0.3, max_depth=-1,\n",
       "              min_child_samples=20, min_child_weight=0.001, min_split_gain=0.0,\n",
       "              n_estimators=100, n_jobs=-1, num_leaves=100, objective=None,\n",
       "              random_state=12345, reg_alpha=0.0, reg_lambda=0.0, silent=True,\n",
       "              subsample=1.0, subsample_for_bin=200000, subsample_freq=0)"
      ]
     },
     "execution_count": 88,
     "metadata": {},
     "output_type": "execute_result"
    }
   ],
   "source": [
    "%%time\n",
    "\n",
    "model = LGBMRegressor(learning_rate = 0.3, \n",
    "                      num_leaves = 100, \n",
    "                      random_state = 12345)\n",
    "model.fit(ordinal_features_train, target_train)"
   ]
  },
  {
   "cell_type": "code",
   "execution_count": 89,
   "metadata": {},
   "outputs": [
    {
     "name": "stdout",
     "output_type": "stream",
     "text": [
      "CPU times: user 605 ms, sys: 0 ns, total: 605 ms\n",
      "Wall time: 607 ms\n"
     ]
    }
   ],
   "source": [
    "%%time\n",
    "\n",
    "target_predict = model.predict(ordinal_features_test)"
   ]
  },
  {
   "cell_type": "code",
   "execution_count": 92,
   "metadata": {},
   "outputs": [
    {
     "data": {
      "text/plain": [
       "array([1920.2199015 , 2774.89069367, 5639.56659962, ..., 1650.2696384 ,\n",
       "       2310.87021774, 1931.26954735])"
      ]
     },
     "execution_count": 92,
     "metadata": {},
     "output_type": "execute_result"
    }
   ],
   "source": [
    "target_predict"
   ]
  },
  {
   "cell_type": "code",
   "execution_count": 90,
   "metadata": {},
   "outputs": [],
   "source": [
    "final_RMSE_LGBMR = mean_squared_error(target_test, target_predict) ** 0.5"
   ]
  },
  {
   "cell_type": "code",
   "execution_count": 91,
   "metadata": {},
   "outputs": [
    {
     "data": {
      "text/plain": [
       "1156.4799799531052"
      ]
     },
     "execution_count": 91,
     "metadata": {},
     "output_type": "execute_result"
    }
   ],
   "source": [
    "final_RMSE_LGBMR"
   ]
  },
  {
   "cell_type": "markdown",
   "metadata": {},
   "source": [
    "### Сравнение моделей"
   ]
  },
  {
   "cell_type": "markdown",
   "metadata": {},
   "source": [
    "Основываясь на полученных результатах можно сделать вывод, что наименьшую ошибку выдает LGBM (1156), на обучение данной модели ушло ~ 5 min 28 s, в то же время на обучение Linear Regression ушло всего ~ 1 min 24 s, но ошибки в этой моделе большие (1716), а на обучение CatBoost ушло ~ 17 min 6 s с.  "
   ]
  },
  {
   "cell_type": "markdown",
   "metadata": {},
   "source": [
    "### Итоговый вывод"
   ]
  },
  {
   "cell_type": "markdown",
   "metadata": {},
   "source": [
    "При выполнении проекта было сделано следующее:\n",
    "\n",
    "Данные загружены, проведена предобработка и последующаяобработка данных.\n",
    "Было произведено сравнение моделей с использованием различных наборов гиперпараметров.\n",
    "Выбрана лучшая модель по результатам метрики RMSE и времени обучения.\n",
    "\n",
    "Исходя из поставленной задачи:\n",
    "\n",
    "Заказчику важны:\n",
    "\n",
    "качество предсказания;\n",
    "\n",
    "скорость предсказания;\n",
    "\n",
    "время обучения.\n",
    "\n",
    "С точки зрения минимальной ошибки лучшая модель - LGBM. Следом за ним идет CatBoostRegressor и у DecisionTreeRegressor третье место. Между  С точки зрения времени между CatBoost и LGBM разница не большая, однаок, сточки зрения времени, между ними пропасть и CatBoost сильно проигрывает. Исходя из совокупности результатов лучше моделью можно признать LGBM. Сочетания скорости и точности на подготовленных данных выводит его в лидеры рейтинга. Все остальные при прочих равных показали себя слабее.\n",
    "\n",
    "LinearRegression и Ridge показали себя на этой задачи слабовато.\n",
    "\n",
    "После проведенного исследования можно выявить следующую специфику. Если в задаче на первом месте точность и есть время - регрессор LGBM предскажет лучше всех. Для задач, в которых время не приоритетная метрика, CatBoostRegressor может также показать хороший результат."
   ]
  },
  {
   "cell_type": "code",
   "execution_count": null,
   "metadata": {},
   "outputs": [],
   "source": []
  }
 ],
 "metadata": {
  "ExecuteTimeLog": [
   {
    "duration": 1589,
    "start_time": "2021-07-09T16:19:44.128Z"
   },
   {
    "duration": 1324,
    "start_time": "2021-07-09T16:20:39.613Z"
   },
   {
    "duration": 27,
    "start_time": "2021-07-09T16:20:44.833Z"
   },
   {
    "duration": 401,
    "start_time": "2021-07-09T16:21:33.990Z"
   },
   {
    "duration": 5,
    "start_time": "2021-07-09T16:21:38.992Z"
   },
   {
    "duration": 173,
    "start_time": "2021-07-09T16:22:05.148Z"
   },
   {
    "duration": 150,
    "start_time": "2021-07-09T16:22:21.800Z"
   },
   {
    "duration": 258,
    "start_time": "2021-07-09T16:28:24.535Z"
   },
   {
    "duration": 74,
    "start_time": "2021-07-09T16:28:51.117Z"
   },
   {
    "duration": 92,
    "start_time": "2021-07-09T16:30:45.119Z"
   },
   {
    "duration": 260,
    "start_time": "2021-07-09T16:30:54.378Z"
   },
   {
    "duration": 7,
    "start_time": "2021-07-09T16:31:06.603Z"
   },
   {
    "duration": 7,
    "start_time": "2021-07-09T16:31:39.941Z"
   },
   {
    "duration": 85,
    "start_time": "2021-07-09T16:32:27.499Z"
   },
   {
    "duration": 8,
    "start_time": "2021-07-09T16:33:09.525Z"
   },
   {
    "duration": 85,
    "start_time": "2021-07-09T16:37:17.676Z"
   },
   {
    "duration": 143,
    "start_time": "2021-07-09T17:19:00.064Z"
   },
   {
    "duration": 9,
    "start_time": "2021-07-10T07:47:15.031Z"
   },
   {
    "duration": 46,
    "start_time": "2021-07-10T07:47:34.179Z"
   },
   {
    "duration": 95,
    "start_time": "2021-07-10T07:47:38.585Z"
   },
   {
    "duration": 25,
    "start_time": "2021-07-10T07:48:08.591Z"
   },
   {
    "duration": 7,
    "start_time": "2021-07-10T07:50:06.210Z"
   },
   {
    "duration": 24,
    "start_time": "2021-07-10T07:50:13.729Z"
   },
   {
    "duration": 25,
    "start_time": "2021-07-10T07:50:37.288Z"
   },
   {
    "duration": 278,
    "start_time": "2021-07-10T07:50:44.087Z"
   },
   {
    "duration": 260,
    "start_time": "2021-07-10T07:50:47.963Z"
   },
   {
    "duration": 24,
    "start_time": "2021-07-10T07:50:50.421Z"
   },
   {
    "duration": 8,
    "start_time": "2021-07-10T07:51:05.928Z"
   },
   {
    "duration": 86,
    "start_time": "2021-07-10T07:52:03.787Z"
   },
   {
    "duration": 13,
    "start_time": "2021-07-10T07:53:32.414Z"
   },
   {
    "duration": 9,
    "start_time": "2021-07-10T07:53:43.494Z"
   },
   {
    "duration": 91,
    "start_time": "2021-07-10T07:55:36.325Z"
   },
   {
    "duration": 53,
    "start_time": "2021-07-10T07:56:07.153Z"
   },
   {
    "duration": 751,
    "start_time": "2021-07-10T07:56:22.970Z"
   },
   {
    "duration": 17,
    "start_time": "2021-07-10T08:00:13.136Z"
   },
   {
    "duration": 16,
    "start_time": "2021-07-10T08:01:01.722Z"
   },
   {
    "duration": 52,
    "start_time": "2021-07-10T08:02:56.728Z"
   },
   {
    "duration": 78,
    "start_time": "2021-07-10T08:02:58.391Z"
   },
   {
    "duration": 61,
    "start_time": "2021-07-10T08:03:08.251Z"
   },
   {
    "duration": 717,
    "start_time": "2021-07-10T08:06:20.505Z"
   },
   {
    "duration": 18,
    "start_time": "2021-07-10T08:06:42.333Z"
   },
   {
    "duration": 88,
    "start_time": "2021-07-10T08:09:05.328Z"
   },
   {
    "duration": 75,
    "start_time": "2021-07-10T08:12:13.366Z"
   },
   {
    "duration": 7,
    "start_time": "2021-07-10T08:12:13.549Z"
   },
   {
    "duration": 7,
    "start_time": "2021-07-10T08:12:22.539Z"
   },
   {
    "duration": 7,
    "start_time": "2021-07-10T08:13:29.053Z"
   },
   {
    "duration": 12,
    "start_time": "2021-07-10T08:13:29.190Z"
   },
   {
    "duration": 9,
    "start_time": "2021-07-10T08:15:45.530Z"
   },
   {
    "duration": 825,
    "start_time": "2021-07-10T08:33:11.216Z"
   },
   {
    "duration": 689,
    "start_time": "2021-07-10T08:34:46.700Z"
   },
   {
    "duration": 121,
    "start_time": "2021-07-10T08:40:09.236Z"
   },
   {
    "duration": 47,
    "start_time": "2021-07-10T08:41:48.277Z"
   },
   {
    "duration": 330,
    "start_time": "2021-07-10T08:44:00.983Z"
   },
   {
    "duration": 127,
    "start_time": "2021-07-10T08:44:12.960Z"
   },
   {
    "duration": 37,
    "start_time": "2021-07-10T08:45:52.165Z"
   },
   {
    "duration": 72,
    "start_time": "2021-07-10T08:46:31.395Z"
   },
   {
    "duration": 86,
    "start_time": "2021-07-10T08:47:43.352Z"
   },
   {
    "duration": 16,
    "start_time": "2021-07-10T08:48:21.712Z"
   },
   {
    "duration": 4,
    "start_time": "2021-07-10T08:49:42.352Z"
   },
   {
    "duration": 284,
    "start_time": "2021-07-10T08:49:45.113Z"
   },
   {
    "duration": 14996,
    "start_time": "2021-07-10T08:50:00.275Z"
   },
   {
    "duration": 52,
    "start_time": "2021-07-10T08:50:20.308Z"
   },
   {
    "duration": 35,
    "start_time": "2021-07-10T08:54:20.943Z"
   },
   {
    "duration": 126,
    "start_time": "2021-07-10T08:55:30.612Z"
   },
   {
    "duration": 39,
    "start_time": "2021-07-10T08:55:39.788Z"
   },
   {
    "duration": 15,
    "start_time": "2021-07-10T08:55:51.355Z"
   },
   {
    "duration": 4,
    "start_time": "2021-07-10T08:56:05.542Z"
   },
   {
    "duration": 12025,
    "start_time": "2021-07-10T08:56:05.756Z"
   },
   {
    "duration": 45,
    "start_time": "2021-07-10T08:56:20.535Z"
   },
   {
    "duration": 36,
    "start_time": "2021-07-10T08:56:25.836Z"
   },
   {
    "duration": 102,
    "start_time": "2021-07-10T08:57:01.969Z"
   },
   {
    "duration": 17,
    "start_time": "2021-07-10T08:57:22.660Z"
   },
   {
    "duration": 14608,
    "start_time": "2021-07-10T08:57:59.388Z"
   },
   {
    "duration": 47,
    "start_time": "2021-07-10T08:58:30.340Z"
   },
   {
    "duration": 73,
    "start_time": "2021-07-10T08:58:49.687Z"
   },
   {
    "duration": 730,
    "start_time": "2021-07-10T08:59:51.890Z"
   },
   {
    "duration": 731,
    "start_time": "2021-07-10T09:01:12.905Z"
   },
   {
    "duration": 783,
    "start_time": "2021-07-10T09:04:19.839Z"
   },
   {
    "duration": 766,
    "start_time": "2021-07-10T09:05:56.694Z"
   },
   {
    "duration": 861,
    "start_time": "2021-07-10T09:06:20.201Z"
   },
   {
    "duration": 20,
    "start_time": "2021-07-10T09:06:24.397Z"
   },
   {
    "duration": 269,
    "start_time": "2021-07-10T09:06:32.385Z"
   },
   {
    "duration": 67,
    "start_time": "2021-07-10T09:06:55.068Z"
   },
   {
    "duration": 35,
    "start_time": "2021-07-10T09:11:39.990Z"
   },
   {
    "duration": 37,
    "start_time": "2021-07-10T09:11:50.346Z"
   },
   {
    "duration": 40,
    "start_time": "2021-07-10T09:13:16.509Z"
   },
   {
    "duration": 36,
    "start_time": "2021-07-10T09:13:21.673Z"
   },
   {
    "duration": 21,
    "start_time": "2021-07-10T09:16:15.633Z"
   },
   {
    "duration": 42,
    "start_time": "2021-07-10T09:16:39.418Z"
   },
   {
    "duration": 65,
    "start_time": "2021-07-10T09:16:40.697Z"
   },
   {
    "duration": 15,
    "start_time": "2021-07-10T13:19:30.876Z"
   },
   {
    "duration": 319,
    "start_time": "2021-07-10T13:20:07.003Z"
   },
   {
    "duration": 376,
    "start_time": "2021-07-10T13:20:15.652Z"
   },
   {
    "duration": 4,
    "start_time": "2021-07-10T13:20:24.094Z"
   },
   {
    "duration": 897,
    "start_time": "2021-07-10T13:21:28.391Z"
   },
   {
    "duration": 75572,
    "start_time": "2021-07-10T13:23:38.200Z"
   },
   {
    "duration": 85413,
    "start_time": "2021-07-10T13:25:13.966Z"
   },
   {
    "duration": 123076,
    "start_time": "2021-07-10T13:28:04.380Z"
   },
   {
    "duration": 323917,
    "start_time": "2021-07-10T13:31:00.124Z"
   },
   {
    "duration": 310847,
    "start_time": "2021-07-10T13:38:12.408Z"
   },
   {
    "duration": 33771,
    "start_time": "2021-07-10T13:43:47.978Z"
   },
   {
    "duration": 1087416,
    "start_time": "2021-07-10T13:45:03.251Z"
   },
   {
    "duration": 399588,
    "start_time": "2021-07-10T14:13:17.187Z"
   },
   {
    "duration": 6953693,
    "start_time": "2021-07-10T14:20:12.969Z"
   },
   {
    "duration": 24299,
    "start_time": "2021-07-10T16:16:06.666Z"
   },
   {
    "duration": 387,
    "start_time": "2021-07-10T16:16:30.969Z"
   },
   {
    "duration": 6,
    "start_time": "2021-07-10T16:16:31.359Z"
   },
   {
    "duration": 40700,
    "start_time": "2021-07-10T16:16:31.368Z"
   },
   {
    "duration": 201,
    "start_time": "2021-07-10T16:17:12.156Z"
   },
   {
    "duration": 6,
    "start_time": "2021-07-10T16:17:12.361Z"
   },
   {
    "duration": 6724,
    "start_time": "2021-07-10T16:17:12.458Z"
   },
   {
    "duration": 132,
    "start_time": "2021-07-10T16:17:19.186Z"
   },
   {
    "duration": 4,
    "start_time": "2021-07-10T16:17:19.321Z"
   },
   {
    "duration": 734,
    "start_time": "2021-07-10T16:17:19.328Z"
   },
   {
    "duration": 23,
    "start_time": "2021-07-10T16:17:20.065Z"
   },
   {
    "duration": 5,
    "start_time": "2021-07-10T16:17:20.091Z"
   },
   {
    "duration": 137172,
    "start_time": "2021-07-10T16:17:20.099Z"
   },
   {
    "duration": 103,
    "start_time": "2021-07-10T16:19:37.273Z"
   },
   {
    "duration": 5,
    "start_time": "2021-07-10T16:19:37.379Z"
   },
   {
    "duration": 97445,
    "start_time": "2021-07-10T16:19:37.387Z"
   },
   {
    "duration": 338,
    "start_time": "2021-07-10T16:21:14.835Z"
   },
   {
    "duration": 5,
    "start_time": "2021-07-10T16:21:15.175Z"
   },
   {
    "duration": 632881,
    "start_time": "2021-07-10T16:21:15.182Z"
   },
   {
    "duration": 1291,
    "start_time": "2021-07-10T16:31:48.065Z"
   },
   {
    "duration": 5,
    "start_time": "2021-07-10T16:31:49.358Z"
   },
   {
    "duration": 2471843,
    "start_time": "2021-07-10T16:35:04.529Z"
   },
   {
    "duration": 6,
    "start_time": "2021-07-11T15:19:20.495Z"
   },
   {
    "duration": 4,
    "start_time": "2021-07-11T15:19:26.658Z"
   },
   {
    "duration": 108852,
    "start_time": "2021-07-11T15:21:08.214Z"
   },
   {
    "duration": 1505,
    "start_time": "2021-07-11T15:30:32.651Z"
   },
   {
    "duration": 1283,
    "start_time": "2021-07-11T15:30:34.159Z"
   },
   {
    "duration": 33,
    "start_time": "2021-07-11T15:30:35.445Z"
   },
   {
    "duration": 4,
    "start_time": "2021-07-11T15:30:35.481Z"
   },
   {
    "duration": 179,
    "start_time": "2021-07-11T15:30:35.488Z"
   },
   {
    "duration": 169,
    "start_time": "2021-07-11T15:30:35.670Z"
   },
   {
    "duration": 68,
    "start_time": "2021-07-11T15:30:38.685Z"
   },
   {
    "duration": 7,
    "start_time": "2021-07-11T15:30:38.820Z"
   },
   {
    "duration": 6,
    "start_time": "2021-07-11T15:30:38.940Z"
   },
   {
    "duration": 9,
    "start_time": "2021-07-11T15:30:39.069Z"
   },
   {
    "duration": 34,
    "start_time": "2021-07-11T15:30:43.013Z"
   },
   {
    "duration": 108,
    "start_time": "2021-07-11T15:30:43.050Z"
   },
   {
    "duration": 30,
    "start_time": "2021-07-11T15:30:43.161Z"
   },
   {
    "duration": 17,
    "start_time": "2021-07-11T15:30:43.194Z"
   },
   {
    "duration": 20,
    "start_time": "2021-07-11T15:30:48.550Z"
   },
   {
    "duration": 58,
    "start_time": "2021-07-11T15:30:48.813Z"
   },
   {
    "duration": 992,
    "start_time": "2021-07-11T15:30:48.942Z"
   },
   {
    "duration": 29,
    "start_time": "2021-07-11T15:30:49.937Z"
   },
   {
    "duration": 88,
    "start_time": "2021-07-11T15:30:49.970Z"
   },
   {
    "duration": 109,
    "start_time": "2021-07-11T15:30:50.062Z"
   },
   {
    "duration": 22,
    "start_time": "2021-07-11T15:30:50.175Z"
   },
   {
    "duration": 874,
    "start_time": "2021-07-11T15:30:50.200Z"
   },
   {
    "duration": 15,
    "start_time": "2021-07-11T15:30:51.077Z"
   },
   {
    "duration": 7,
    "start_time": "2021-07-11T15:30:51.096Z"
   },
   {
    "duration": 131,
    "start_time": "2021-07-11T15:30:51.105Z"
   },
   {
    "duration": 31,
    "start_time": "2021-07-11T15:30:51.239Z"
   },
   {
    "duration": 932,
    "start_time": "2021-07-11T15:30:51.274Z"
   },
   {
    "duration": 742,
    "start_time": "2021-07-11T15:30:52.210Z"
   },
   {
    "duration": 132,
    "start_time": "2021-07-11T15:30:52.958Z"
   },
   {
    "duration": 63,
    "start_time": "2021-07-11T15:30:53.093Z"
   },
   {
    "duration": 150,
    "start_time": "2021-07-11T15:30:53.159Z"
   },
   {
    "duration": 50,
    "start_time": "2021-07-11T15:30:53.312Z"
   },
   {
    "duration": 90,
    "start_time": "2021-07-11T15:30:53.366Z"
   },
   {
    "duration": 23,
    "start_time": "2021-07-11T15:30:53.461Z"
   },
   {
    "duration": 16,
    "start_time": "2021-07-11T15:30:53.486Z"
   },
   {
    "duration": 14828,
    "start_time": "2021-07-11T15:30:53.504Z"
   },
   {
    "duration": 59,
    "start_time": "2021-07-11T15:31:08.334Z"
   },
   {
    "duration": 34,
    "start_time": "2021-07-11T15:31:08.396Z"
   },
   {
    "duration": 111,
    "start_time": "2021-07-11T15:31:08.457Z"
   },
   {
    "duration": 20,
    "start_time": "2021-07-11T15:31:08.572Z"
   },
   {
    "duration": 15340,
    "start_time": "2021-07-11T15:31:08.595Z"
   },
   {
    "duration": 60,
    "start_time": "2021-07-11T15:31:23.938Z"
   },
   {
    "duration": 94,
    "start_time": "2021-07-11T15:31:24.000Z"
   },
   {
    "duration": 805,
    "start_time": "2021-07-11T15:31:24.096Z"
   },
   {
    "duration": 835,
    "start_time": "2021-07-11T15:31:24.903Z"
   },
   {
    "duration": 826,
    "start_time": "2021-07-11T15:31:25.741Z"
   },
   {
    "duration": 17,
    "start_time": "2021-07-11T15:31:26.571Z"
   },
   {
    "duration": 90,
    "start_time": "2021-07-11T15:31:26.591Z"
   },
   {
    "duration": 38,
    "start_time": "2021-07-11T15:31:26.683Z"
   },
   {
    "duration": 67,
    "start_time": "2021-07-11T15:31:26.724Z"
   },
   {
    "duration": 44,
    "start_time": "2021-07-11T15:31:26.793Z"
   },
   {
    "duration": 45,
    "start_time": "2021-07-11T15:31:26.856Z"
   },
   {
    "duration": 21,
    "start_time": "2021-07-11T15:31:26.903Z"
   },
   {
    "duration": 63,
    "start_time": "2021-07-11T15:31:26.926Z"
   },
   {
    "duration": 66,
    "start_time": "2021-07-11T15:31:26.991Z"
   },
   {
    "duration": 21,
    "start_time": "2021-07-11T15:31:33.054Z"
   },
   {
    "duration": 340,
    "start_time": "2021-07-11T15:31:33.179Z"
   },
   {
    "duration": 416,
    "start_time": "2021-07-11T15:31:33.521Z"
   },
   {
    "duration": 4,
    "start_time": "2021-07-11T15:31:33.940Z"
   },
   {
    "duration": 962,
    "start_time": "2021-07-11T15:31:33.946Z"
   },
   {
    "duration": 84786,
    "start_time": "2021-07-11T15:31:38.091Z"
   },
   {
    "duration": 92599,
    "start_time": "2021-07-11T15:33:02.958Z"
   },
   {
    "duration": 113594,
    "start_time": "2021-07-11T15:34:35.563Z"
   },
   {
    "duration": 306530,
    "start_time": "2021-07-11T15:36:29.169Z"
   },
   {
    "duration": 33973,
    "start_time": "2021-07-11T15:41:35.701Z"
   },
   {
    "duration": 1026486,
    "start_time": "2021-07-11T15:42:09.677Z"
   },
   {
    "duration": 390303,
    "start_time": "2021-07-11T15:59:16.166Z"
   },
   {
    "duration": 328291,
    "start_time": "2021-07-11T16:05:46.473Z"
   },
   {
    "duration": 3,
    "start_time": "2021-07-11T16:11:14.767Z"
   },
   {
    "duration": 19694,
    "start_time": "2021-07-11T16:11:14.772Z"
   },
   {
    "duration": 196,
    "start_time": "2021-07-11T16:11:34.468Z"
   },
   {
    "duration": 98,
    "start_time": "2021-07-11T16:11:34.758Z"
   },
   {
    "duration": 32902,
    "start_time": "2021-07-11T16:11:34.860Z"
   },
   {
    "duration": 196,
    "start_time": "2021-07-11T16:12:07.765Z"
   },
   {
    "duration": 7,
    "start_time": "2021-07-11T16:12:08.056Z"
   },
   {
    "duration": 4856,
    "start_time": "2021-07-11T16:12:08.066Z"
   },
   {
    "duration": 117,
    "start_time": "2021-07-11T16:12:12.924Z"
   },
   {
    "duration": 12,
    "start_time": "2021-07-11T16:12:13.043Z"
   },
   {
    "duration": 544,
    "start_time": "2021-07-11T16:12:13.057Z"
   },
   {
    "duration": 22,
    "start_time": "2021-07-11T16:12:13.603Z"
   },
   {
    "duration": 29,
    "start_time": "2021-07-11T16:12:13.627Z"
   },
   {
    "duration": 137426,
    "start_time": "2021-07-11T16:12:13.658Z"
   },
   {
    "duration": 83,
    "start_time": "2021-07-11T16:14:31.089Z"
   },
   {
    "duration": 6,
    "start_time": "2021-07-11T16:14:31.175Z"
   },
   {
    "duration": 94351,
    "start_time": "2021-07-11T16:14:31.255Z"
   },
   {
    "duration": 171,
    "start_time": "2021-07-11T16:16:05.608Z"
   },
   {
    "duration": 5,
    "start_time": "2021-07-11T16:16:05.857Z"
   },
   {
    "duration": 196101,
    "start_time": "2021-07-11T16:16:05.864Z"
   },
   {
    "duration": 688,
    "start_time": "2021-07-11T16:19:21.968Z"
   },
   {
    "duration": 5,
    "start_time": "2021-07-11T16:19:22.659Z"
   },
   {
    "duration": 5,
    "start_time": "2021-07-11T16:51:24.529Z"
   },
   {
    "duration": 6,
    "start_time": "2021-07-11T16:51:41.549Z"
   },
   {
    "duration": 5,
    "start_time": "2021-07-11T16:51:54.986Z"
   },
   {
    "duration": 6,
    "start_time": "2021-07-11T16:52:15.279Z"
   },
   {
    "duration": 7,
    "start_time": "2021-07-11T16:52:25.754Z"
   },
   {
    "duration": 5,
    "start_time": "2021-07-11T16:52:34.294Z"
   }
  ],
  "kernelspec": {
   "display_name": "Python 3",
   "language": "python",
   "name": "python3"
  },
  "language_info": {
   "codemirror_mode": {
    "name": "ipython",
    "version": 3
   },
   "file_extension": ".py",
   "mimetype": "text/x-python",
   "name": "python",
   "nbconvert_exporter": "python",
   "pygments_lexer": "ipython3",
   "version": "3.7.7"
  },
  "toc": {
   "base_numbering": 1,
   "nav_menu": {},
   "number_sections": true,
   "sideBar": true,
   "skip_h1_title": true,
   "title_cell": "Table of Contents",
   "title_sidebar": "Contents",
   "toc_cell": false,
   "toc_position": {},
   "toc_section_display": true,
   "toc_window_display": false
  }
 },
 "nbformat": 4,
 "nbformat_minor": 2
}
