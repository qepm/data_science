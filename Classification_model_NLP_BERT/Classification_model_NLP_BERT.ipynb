{
 "cells": [
  {
   "cell_type": "markdown",
   "metadata": {},
   "source": [
    "# Проект для «Викишоп»"
   ]
  },
  {
   "cell_type": "markdown",
   "metadata": {},
   "source": [
    "## Подготовка"
   ]
  },
  {
   "cell_type": "code",
   "execution_count": 1,
   "metadata": {},
   "outputs": [],
   "source": [
    "import numpy as np\n",
    "import pandas as pd\n",
    "import re\n",
    "import nltk\n",
    "from nltk.corpus import stopwords as nltk_stopwords\n",
    "from sklearn.feature_extraction.text import TfidfVectorizer\n",
    "from sklearn.model_selection import train_test_split, cross_val_score, GridSearchCV\n",
    "from sklearn.linear_model import LogisticRegression, SGDClassifier\n",
    "from sklearn.tree import DecisionTreeClassifier\n",
    "from catboost import CatBoostClassifier\n",
    "from sklearn.metrics import f1_score, precision_score, recall_score, accuracy_score, roc_auc_score, roc_curve\n",
    "from sklearn.utils import shuffle\n",
    "from pymystem3 import Mystem\n",
    "import matplotlib.pyplot as plt\n",
    "import warnings\n",
    "warnings.filterwarnings('ignore')"
   ]
  },
  {
   "cell_type": "code",
   "execution_count": 2,
   "metadata": {},
   "outputs": [
    {
     "data": {
      "text/html": [
       "<div>\n",
       "<style scoped>\n",
       "    .dataframe tbody tr th:only-of-type {\n",
       "        vertical-align: middle;\n",
       "    }\n",
       "\n",
       "    .dataframe tbody tr th {\n",
       "        vertical-align: top;\n",
       "    }\n",
       "\n",
       "    .dataframe thead th {\n",
       "        text-align: right;\n",
       "    }\n",
       "</style>\n",
       "<table border=\"1\" class=\"dataframe\">\n",
       "  <thead>\n",
       "    <tr style=\"text-align: right;\">\n",
       "      <th></th>\n",
       "      <th>text</th>\n",
       "      <th>toxic</th>\n",
       "    </tr>\n",
       "  </thead>\n",
       "  <tbody>\n",
       "    <tr>\n",
       "      <td>0</td>\n",
       "      <td>Explanation\\nWhy the edits made under my usern...</td>\n",
       "      <td>0</td>\n",
       "    </tr>\n",
       "    <tr>\n",
       "      <td>1</td>\n",
       "      <td>D'aww! He matches this background colour I'm s...</td>\n",
       "      <td>0</td>\n",
       "    </tr>\n",
       "    <tr>\n",
       "      <td>2</td>\n",
       "      <td>Hey man, I'm really not trying to edit war. It...</td>\n",
       "      <td>0</td>\n",
       "    </tr>\n",
       "    <tr>\n",
       "      <td>3</td>\n",
       "      <td>\"\\nMore\\nI can't make any real suggestions on ...</td>\n",
       "      <td>0</td>\n",
       "    </tr>\n",
       "    <tr>\n",
       "      <td>4</td>\n",
       "      <td>You, sir, are my hero. Any chance you remember...</td>\n",
       "      <td>0</td>\n",
       "    </tr>\n",
       "  </tbody>\n",
       "</table>\n",
       "</div>"
      ],
      "text/plain": [
       "                                                text  toxic\n",
       "0  Explanation\\nWhy the edits made under my usern...      0\n",
       "1  D'aww! He matches this background colour I'm s...      0\n",
       "2  Hey man, I'm really not trying to edit war. It...      0\n",
       "3  \"\\nMore\\nI can't make any real suggestions on ...      0\n",
       "4  You, sir, are my hero. Any chance you remember...      0"
      ]
     },
     "execution_count": 2,
     "metadata": {},
     "output_type": "execute_result"
    }
   ],
   "source": [
    "toxic_df = pd.read_csv('/datasets/toxic_comments.csv')\n",
    "toxic_df.head()"
   ]
  },
  {
   "cell_type": "code",
   "execution_count": 3,
   "metadata": {
    "scrolled": true
   },
   "outputs": [
    {
     "name": "stdout",
     "output_type": "stream",
     "text": [
      "<class 'pandas.core.frame.DataFrame'>\n",
      "RangeIndex: 159571 entries, 0 to 159570\n",
      "Data columns (total 2 columns):\n",
      "text     159571 non-null object\n",
      "toxic    159571 non-null int64\n",
      "dtypes: int64(1), object(1)\n",
      "memory usage: 2.4+ MB\n"
     ]
    }
   ],
   "source": [
    "toxic_df.info()"
   ]
  },
  {
   "cell_type": "markdown",
   "metadata": {},
   "source": [
    "Проверим сбалансированность классов"
   ]
  },
  {
   "cell_type": "code",
   "execution_count": 4,
   "metadata": {},
   "outputs": [
    {
     "data": {
      "text/plain": [
       "0    143346\n",
       "1     16225\n",
       "Name: toxic, dtype: int64"
      ]
     },
     "metadata": {},
     "output_type": "display_data"
    },
    {
     "data": {
      "text/plain": [
       "8.834884437596301"
      ]
     },
     "execution_count": 4,
     "metadata": {},
     "output_type": "execute_result"
    }
   ],
   "source": [
    "display(toxic_df['toxic'].value_counts())\n",
    "ratio = toxic_df['toxic'].value_counts()[0] / toxic_df['toxic'].value_counts()[1]\n",
    "ratio"
   ]
  },
  {
   "cell_type": "markdown",
   "metadata": {},
   "source": [
    "Классы не сбалансированы с коэффициентом 1:8.83. Найдем оптимальный способ балансировки и потом сравним качество.\n",
    "\n",
    "Этапы:\n",
    "\n",
    "Изменение весов в модели обучения\n",
    "\n",
    "Ресемплирование с уменьшением класса 0"
   ]
  },
  {
   "cell_type": "markdown",
   "metadata": {},
   "source": [
    "Подготовим признаки и целевой признак перед обучением."
   ]
  },
  {
   "cell_type": "code",
   "execution_count": 5,
   "metadata": {},
   "outputs": [
    {
     "name": "stdout",
     "output_type": "stream",
     "text": [
      "CPU times: user 40.6 s, sys: 6.85 s, total: 47.4 s\n",
      "Wall time: 1min 40s\n"
     ]
    }
   ],
   "source": [
    "%%time\n",
    "\n",
    "m = Mystem()\n",
    "\n",
    "def lemmatize_text(text):\n",
    "    text = text.lower()\n",
    "    lemm_text = \"\".join(m.lemmatize(text))\n",
    "    cleared_text = re.sub(r'[^a-zA-Z]', ' ', lemm_text) \n",
    "    return \" \".join(cleared_text.split())\n",
    "\n",
    "toxic_df['lemm_text'] = toxic_df['text'].apply(lemmatize_text)\n",
    "\n",
    "toxic_df = toxic_df.drop(['text'], axis = 1)\n",
    "del m"
   ]
  },
  {
   "cell_type": "markdown",
   "metadata": {},
   "source": [
    "Разобьем выборку в следующем соотношении 60/20/20. По причине большого размера выборки уменьшим количество кроссвалидаций до 3."
   ]
  },
  {
   "cell_type": "code",
   "execution_count": 6,
   "metadata": {},
   "outputs": [],
   "source": [
    "target = toxic_df['toxic']\n",
    "features = toxic_df.drop(['toxic'], axis = 1)"
   ]
  },
  {
   "cell_type": "code",
   "execution_count": 7,
   "metadata": {},
   "outputs": [],
   "source": [
    "features_train, features_valid, target_train, target_valid = train_test_split(features, \n",
    "                                                                              target, \n",
    "                                                                              test_size = 0.4, \n",
    "                                                                              random_state = 12345)\n",
    "features_valid, features_test, target_valid, target_test = train_test_split(features_valid, \n",
    "                                                                            target_valid, \n",
    "                                                                            test_size = 0.5,\n",
    "                                                                            random_state = 12345)"
   ]
  },
  {
   "cell_type": "code",
   "execution_count": 8,
   "metadata": {},
   "outputs": [
    {
     "name": "stderr",
     "output_type": "stream",
     "text": [
      "[nltk_data] Downloading package stopwords to /home/jovyan/nltk_data...\n",
      "[nltk_data]   Package stopwords is already up-to-date!\n"
     ]
    },
    {
     "name": "stdout",
     "output_type": "stream",
     "text": [
      "(95742, 126482)\n",
      "(31914, 126482)\n",
      "(31915, 126482)\n"
     ]
    }
   ],
   "source": [
    "nltk.download('stopwords')\n",
    "stopwords = set(nltk_stopwords.words('english'))\n",
    "cv_counts = 3\n",
    "count_tf_idf = TfidfVectorizer(stop_words = stopwords)\n",
    "\n",
    "features_train = count_tf_idf.fit_transform(features_train['lemm_text'].values.astype('U'))\n",
    "features_valid = count_tf_idf.transform(features_valid['lemm_text'].values.astype('U'))\n",
    "features_test = count_tf_idf.transform(features_test['lemm_text'].values.astype('U'))\n",
    "print(features_train.shape)\n",
    "print(features_valid.shape)\n",
    "print(features_test.shape)"
   ]
  },
  {
   "cell_type": "code",
   "execution_count": 9,
   "metadata": {},
   "outputs": [
    {
     "name": "stdout",
     "output_type": "stream",
     "text": [
      "F1 на CV 0.6735400940998678\n",
      "CPU times: user 11.9 s, sys: 12.1 s, total: 24.1 s\n",
      "Wall time: 24.1 s\n"
     ]
    }
   ],
   "source": [
    "%%time\n",
    "\n",
    "model = LogisticRegression()\n",
    "train_f1 = cross_val_score(model, \n",
    "                      features_train, \n",
    "                      target_train, \n",
    "                      cv = cv_counts, \n",
    "                      scoring = 'f1').mean()\n",
    "print('F1 на CV', train_f1)"
   ]
  },
  {
   "cell_type": "markdown",
   "metadata": {},
   "source": [
    "### Поменяем баланс классов"
   ]
  },
  {
   "cell_type": "markdown",
   "metadata": {},
   "source": [
    "#### Веса классов"
   ]
  },
  {
   "cell_type": "code",
   "execution_count": 10,
   "metadata": {},
   "outputs": [
    {
     "name": "stdout",
     "output_type": "stream",
     "text": [
      "F1 на CV с балансированными классами 0.7512582899041655\n",
      "CPU times: user 20.6 s, sys: 20.6 s, total: 41.3 s\n",
      "Wall time: 41.3 s\n"
     ]
    }
   ],
   "source": [
    "%%time\n",
    "\n",
    "dict_class={0:1, 1:ratio}\n",
    "model = LogisticRegression(class_weight=dict_class)\n",
    "train_f1_balanced = cross_val_score(model, \n",
    "                                    features_train, \n",
    "                                    target_train, \n",
    "                                    cv = cv_counts, \n",
    "                                    scoring = 'f1').mean()\n",
    "print('F1 на CV с балансированными классами', train_f1_balanced)"
   ]
  },
  {
   "cell_type": "code",
   "execution_count": 11,
   "metadata": {},
   "outputs": [
    {
     "name": "stdout",
     "output_type": "stream",
     "text": [
      "F1 на CV с балансированными классами 0.7444308965221991\n",
      "CPU times: user 16.1 s, sys: 16.7 s, total: 32.8 s\n",
      "Wall time: 32.8 s\n"
     ]
    }
   ],
   "source": [
    "%%time\n",
    "\n",
    "model = LogisticRegression(class_weight='balanced')\n",
    "train_f1_blnc = cross_val_score(model, \n",
    "                                    features_train, \n",
    "                                    target_train, \n",
    "                                    cv = cv_counts, \n",
    "                                    scoring = 'f1').mean()\n",
    "print('F1 на CV с балансированными классами', train_f1_blnc)"
   ]
  },
  {
   "cell_type": "markdown",
   "metadata": {},
   "source": [
    "На обучающей выборке F1-метрика увеличилась. Встроенный метод повторяет значение F1."
   ]
  },
  {
   "cell_type": "markdown",
   "metadata": {},
   "source": [
    "#### Ресемплирование с уменьшением класса"
   ]
  },
  {
   "cell_type": "markdown",
   "metadata": {},
   "source": [
    "Приравняем количество записей с классом 0 с количеством записей с классом 1."
   ]
  },
  {
   "cell_type": "code",
   "execution_count": 12,
   "metadata": {},
   "outputs": [],
   "source": [
    "toxic_train = toxic_df.iloc[target_train.index]\n",
    "\n",
    "target_train_class_zero = toxic_train[toxic_train['toxic'] == 0]['toxic']\n",
    "target_train_class_one = toxic_train[toxic_train['toxic'] == 1]['toxic']"
   ]
  },
  {
   "cell_type": "code",
   "execution_count": 13,
   "metadata": {},
   "outputs": [],
   "source": [
    "class_zero_downsample = target_train_class_zero.sample(target_train_class_one.shape[0],\n",
    "                                                                    random_state = 12345)\n",
    "_downsample = pd.concat([class_zero_downsample, target_train_class_one])\n",
    "\n",
    "features_train_downsample = toxic_df.iloc[_downsample.index]\n",
    "features_train_downsample, _downsample = shuffle(features_train_downsample,\n",
    "                                                             _downsample,\n",
    "                                                             random_state = 12345)\n",
    "features_train_downsample = count_tf_idf.transform(features_train_downsample['lemm_text']\n",
    "                                                   .values.astype('U'))\n",
    "del count_tf_idf\n",
    "del stopwords"
   ]
  },
  {
   "cell_type": "code",
   "execution_count": 14,
   "metadata": {},
   "outputs": [
    {
     "name": "stdout",
     "output_type": "stream",
     "text": [
      "F1 на CV с уменьшением классов 0.8792825300830076\n"
     ]
    }
   ],
   "source": [
    "model = LogisticRegression()\n",
    "train_f1_downsampled = cross_val_score(model,\n",
    "                      features_train_downsample, \n",
    "                      _downsample, \n",
    "                      cv = cv_counts, \n",
    "                      scoring = 'f1').mean()\n",
    "print('F1 на CV с уменьшением классов', train_f1_downsampled)"
   ]
  },
  {
   "cell_type": "markdown",
   "metadata": {},
   "source": [
    "Наблюдаем значительный рост F1-метрики. Построим ROC-AUC графики и просмотрим таблицу результатов балансирования."
   ]
  },
  {
   "cell_type": "code",
   "execution_count": 16,
   "metadata": {},
   "outputs": [
    {
     "data": {
      "image/png": "[encoded data removed]",
      "text/plain": [
       "<Figure size 1080x720 with 1 Axes>"
      ]
     },
     "metadata": {
      "needs_background": "light"
     },
     "output_type": "display_data"
    }
   ],
   "source": [
    "plt.figure(figsize = [15,10])\n",
    "plt.plot([0, 1], [0, 1], linestyle = '--', label = 'RandomModel')\n",
    "model = LogisticRegression()\n",
    "model.fit(features_train, target_train)\n",
    "probabilities_valid = model.predict_proba(features_valid)\n",
    "probabilities_one_valid = probabilities_valid[:, 1]\n",
    "fpr, tpr, thresholds = roc_curve(target_valid, probabilities_one_valid)\n",
    "auc_roc = roc_auc_score(target_valid, probabilities_one_valid)\n",
    "valid_f1 = f1_score(target_valid, model.predict(features_valid))\n",
    "plt.plot(fpr, tpr, label = 'LR')\n",
    "model = LogisticRegression(class_weight=dict_class)\n",
    "model.fit(features_train, target_train)\n",
    "probabilities_valid = model.predict_proba(features_valid)\n",
    "probabilities_one_valid = probabilities_valid[:, 1]\n",
    "fpr, tpr, thresholds = roc_curve(target_valid, probabilities_one_valid)\n",
    "auc_roc_balanced = roc_auc_score(target_valid, probabilities_one_valid)\n",
    "valid_f1_balanced = f1_score(target_valid, model.predict(features_valid))\n",
    "plt.plot(fpr, tpr, label='LR balanсed classes')\n",
    "model = LogisticRegression()\n",
    "model.fit(features_train_downsample, _downsample)\n",
    "probabilities_valid = model.predict_proba(features_valid)\n",
    "probabilities_one_valid = probabilities_valid[:, 1]\n",
    "fpr, tpr, thresholds = roc_curve(target_valid, probabilities_one_valid)\n",
    "auc_roc_downsampled = roc_auc_score(target_valid, probabilities_one_valid)\n",
    "valid_f1_downsampled = f1_score(target_valid, model.predict(features_valid))\n",
    "\n",
    "plt.plot(fpr, tpr, label = 'LR downsampled classes')\n",
    "plt.xlim([0,1])\n",
    "plt.ylim([0,1])\n",
    "plt.xlabel(\"False Positive Rate\")\n",
    "plt.ylabel(\"True Positive Rate\")\n",
    "plt.legend(loc = 'lower right', fontsize = 'x-large')\n",
    "plt.title(\"ROC-кривая\")\n",
    "plt.show()"
   ]
  },
  {
   "cell_type": "code",
   "execution_count": 17,
   "metadata": {},
   "outputs": [
    {
     "data": {
      "text/html": [
       "<div>\n",
       "<style scoped>\n",
       "    .dataframe tbody tr th:only-of-type {\n",
       "        vertical-align: middle;\n",
       "    }\n",
       "\n",
       "    .dataframe tbody tr th {\n",
       "        vertical-align: top;\n",
       "    }\n",
       "\n",
       "    .dataframe thead th {\n",
       "        text-align: right;\n",
       "    }\n",
       "</style>\n",
       "<table border=\"1\" class=\"dataframe\">\n",
       "  <thead>\n",
       "    <tr style=\"text-align: right;\">\n",
       "      <th></th>\n",
       "      <th>F1 на CV</th>\n",
       "      <th>F1 на валидации</th>\n",
       "      <th>AUC-ROC</th>\n",
       "    </tr>\n",
       "  </thead>\n",
       "  <tbody>\n",
       "    <tr>\n",
       "      <td>LogisticRegression</td>\n",
       "      <td>0.673540</td>\n",
       "      <td>0.727239</td>\n",
       "      <td>0.967525</td>\n",
       "    </tr>\n",
       "    <tr>\n",
       "      <td>LR balanсed classes</td>\n",
       "      <td>0.744431</td>\n",
       "      <td>0.762996</td>\n",
       "      <td>0.969334</td>\n",
       "    </tr>\n",
       "    <tr>\n",
       "      <td>LR downsampled classes</td>\n",
       "      <td>0.879283</td>\n",
       "      <td>0.695479</td>\n",
       "      <td>0.960052</td>\n",
       "    </tr>\n",
       "  </tbody>\n",
       "</table>\n",
       "</div>"
      ],
      "text/plain": [
       "                        F1 на CV  F1 на валидации   AUC-ROC\n",
       "LogisticRegression      0.673540         0.727239  0.967525\n",
       "LR balanсed classes     0.744431         0.762996  0.969334\n",
       "LR downsampled classes  0.879283         0.695479  0.960052"
      ]
     },
     "execution_count": 17,
     "metadata": {},
     "output_type": "execute_result"
    }
   ],
   "source": [
    "index = ['LogisticRegression',\n",
    "         'LR balanсed classes',\n",
    "         'LR downsampled classes']\n",
    "data = {'F1 на CV':[train_f1,\n",
    "                    train_f1_blnc,\n",
    "                    train_f1_downsampled],\n",
    "        'F1 на валидации':[valid_f1,\n",
    "                           valid_f1_balanced,\n",
    "                           valid_f1_downsampled],\n",
    "        'AUC-ROC':[auc_roc,\n",
    "                   auc_roc_balanced,\n",
    "                   auc_roc_downsampled]}\n",
    "\n",
    "scores_data = pd.DataFrame(data = data, index = index)\n",
    "scores_data"
   ]
  },
  {
   "cell_type": "markdown",
   "metadata": {},
   "source": [
    "Выберем метод балансировки по весу"
   ]
  },
  {
   "cell_type": "markdown",
   "metadata": {},
   "source": [
    "### Вывод по шагу 1"
   ]
  },
  {
   "cell_type": "markdown",
   "metadata": {},
   "source": [
    "Данные загружены. В рамках предобработки данных были получены признаки для дальнейшего обучения и общая выборка разделена на обучающую, валидационную и тестовую.\n",
    "\n",
    "Выберем для дальнейшего использования классификатор, где учтен вес классов,исходя из тестирования показателей F1 и AUC-ROC. В обучении будем использовать именно этот метод балансирования."
   ]
  },
  {
   "cell_type": "markdown",
   "metadata": {},
   "source": [
    "## Обучение"
   ]
  },
  {
   "cell_type": "markdown",
   "metadata": {},
   "source": [
    "Для обучения выберем следующие модели:\n",
    "\n",
    "LogisticRegression\n",
    "\n",
    "DecisionTreeClassifier\n",
    "\n",
    "CatBoostClassifier\n",
    "\n",
    "SGDClassifier"
   ]
  },
  {
   "cell_type": "markdown",
   "metadata": {},
   "source": [
    "### Модель LogisticRegression"
   ]
  },
  {
   "cell_type": "code",
   "execution_count": 18,
   "metadata": {},
   "outputs": [
    {
     "name": "stdout",
     "output_type": "stream",
     "text": [
      "# Tuning hyperparameters for f1_score\n",
      "\n",
      "Best parameters set:\n",
      "\n",
      "{'C': 10, 'class_weight': {0: 1, 1: 8.834884437596301}, 'solver': 'newton-cg'}\n",
      "\n",
      "Grid scores on set:\n",
      "\n",
      "0.714455 for {'C': 0.1, 'class_weight': {0: 1, 1: 8.834884437596301}, 'solver': 'newton-cg'}\n",
      "0.714545 for {'C': 0.1, 'class_weight': {0: 1, 1: 8.834884437596301}, 'solver': 'lbfgs'}\n",
      "0.714455 for {'C': 0.1, 'class_weight': {0: 1, 1: 8.834884437596301}, 'solver': 'liblinear'}\n",
      "0.751426 for {'C': 1, 'class_weight': {0: 1, 1: 8.834884437596301}, 'solver': 'newton-cg'}\n",
      "0.751544 for {'C': 1, 'class_weight': {0: 1, 1: 8.834884437596301}, 'solver': 'lbfgs'}\n",
      "0.751258 for {'C': 1, 'class_weight': {0: 1, 1: 8.834884437596301}, 'solver': 'liblinear'}\n",
      "0.764921 for {'C': 10, 'class_weight': {0: 1, 1: 8.834884437596301}, 'solver': 'newton-cg'}\n",
      "0.762277 for {'C': 10, 'class_weight': {0: 1, 1: 8.834884437596301}, 'solver': 'lbfgs'}\n",
      "0.764859 for {'C': 10, 'class_weight': {0: 1, 1: 8.834884437596301}, 'solver': 'liblinear'}\n",
      "\n",
      "CPU times: user 4min 53s, sys: 5min 39s, total: 10min 32s\n",
      "Wall time: 10min 33s\n"
     ]
    }
   ],
   "source": [
    "%%time\n",
    "\n",
    "model = LogisticRegression()\n",
    "prmtrs = [{'solver':['newton-cg', 'lbfgs', 'liblinear'],\n",
    "                'C':[0.1, 1, 10],\n",
    "                'class_weight':[dict_class]}]\n",
    "\n",
    "\n",
    "print('# Tuning hyperparameters for f1_score')\n",
    "print()\n",
    "clf = GridSearchCV(model, prmtrs, scoring = 'f1',cv = cv_counts)\n",
    "clf.fit(features_train, target_train)\n",
    "print(\"Best parameters set:\")\n",
    "print()\n",
    "LR_best_params = clf.best_params_\n",
    "print(LR_best_params)\n",
    "print()\n",
    "print(\"Grid scores on set:\")\n",
    "print()\n",
    "means = clf.cv_results_['mean_test_score']\n",
    "stds = clf.cv_results_['std_test_score']\n",
    "for mean, std, params in zip(means, stds, clf.cv_results_['params']):\n",
    "    print(\"%0.6f for %r\"% (mean, params))\n",
    "print()\n",
    "\n",
    "cv_f1_LR = max(means)"
   ]
  },
  {
   "cell_type": "code",
   "execution_count": 19,
   "metadata": {},
   "outputs": [
    {
     "name": "stdout",
     "output_type": "stream",
     "text": [
      "F1 на cv 0.764921323455282\n",
      "F1 на валидации 0.7676588183029764\n",
      "CPU times: user 19.8 s, sys: 20.6 s, total: 40.4 s\n",
      "Wall time: 40.5 s\n"
     ]
    }
   ],
   "source": [
    "%%time\n",
    "\n",
    "model = LogisticRegression()\n",
    "model.set_params(**LR_best_params)\n",
    "model.fit(features_train, target_train)\n",
    "target_predict = model.predict(features_valid)\n",
    "valid_f1_LR = f1_score(target_valid, target_predict)\n",
    "print('F1 на cv', cv_f1_LR)\n",
    "print('F1 на валидации', valid_f1_LR)"
   ]
  },
  {
   "cell_type": "markdown",
   "metadata": {},
   "source": [
    "### Модель DecisionTreeClassifier"
   ]
  },
  {
   "cell_type": "code",
   "execution_count": 20,
   "metadata": {},
   "outputs": [
    {
     "name": "stdout",
     "output_type": "stream",
     "text": [
      "# Tuning hyperparameters for f1_score\n",
      "\n",
      "Best parameters set:\n",
      "\n",
      "{'class_weight': {0: 1, 1: 8.834884437596301}, 'max_depth': 48, 'random_state': 12345}\n",
      "\n",
      "Grid scores on set:\n",
      "\n",
      "0.616925 for {'class_weight': {0: 1, 1: 8.834884437596301}, 'max_depth': 30, 'random_state': 12345}\n",
      "0.610969 for {'class_weight': {0: 1, 1: 8.834884437596301}, 'max_depth': 32, 'random_state': 12345}\n",
      "0.618525 for {'class_weight': {0: 1, 1: 8.834884437596301}, 'max_depth': 34, 'random_state': 12345}\n",
      "0.621639 for {'class_weight': {0: 1, 1: 8.834884437596301}, 'max_depth': 36, 'random_state': 12345}\n",
      "0.618858 for {'class_weight': {0: 1, 1: 8.834884437596301}, 'max_depth': 38, 'random_state': 12345}\n",
      "0.607957 for {'class_weight': {0: 1, 1: 8.834884437596301}, 'max_depth': 40, 'random_state': 12345}\n",
      "0.609750 for {'class_weight': {0: 1, 1: 8.834884437596301}, 'max_depth': 42, 'random_state': 12345}\n",
      "0.614160 for {'class_weight': {0: 1, 1: 8.834884437596301}, 'max_depth': 44, 'random_state': 12345}\n",
      "0.617789 for {'class_weight': {0: 1, 1: 8.834884437596301}, 'max_depth': 46, 'random_state': 12345}\n",
      "0.622229 for {'class_weight': {0: 1, 1: 8.834884437596301}, 'max_depth': 48, 'random_state': 12345}\n",
      "\n",
      "CPU times: user 9min 15s, sys: 0 ns, total: 9min 15s\n",
      "Wall time: 9min 18s\n"
     ]
    }
   ],
   "source": [
    "%%time\n",
    "\n",
    "model = DecisionTreeClassifier()\n",
    "prmtrs = [{'max_depth':[x for x in range(30,50,2)],\n",
    "                'random_state':[12345],\n",
    "                'class_weight':[dict_class]}]\n",
    "\n",
    "\n",
    "print('# Tuning hyperparameters for f1_score')\n",
    "print()\n",
    "clf = GridSearchCV(model, prmtrs, scoring = 'f1',cv = cv_counts)\n",
    "clf.fit(features_train, target_train)\n",
    "print(\"Best parameters set:\")\n",
    "print()\n",
    "DTC_best_params = clf.best_params_\n",
    "print(DTC_best_params)\n",
    "print()\n",
    "print(\"Grid scores on set:\")\n",
    "print()\n",
    "means = clf.cv_results_['mean_test_score']\n",
    "stds = clf.cv_results_['std_test_score']\n",
    "for mean, std, params in zip(means, stds, clf.cv_results_['params']):\n",
    "    print(\"%0.6f for %r\"% (mean, params))\n",
    "print()\n",
    "\n",
    "cv_f1_DTC = max(means)"
   ]
  },
  {
   "cell_type": "code",
   "execution_count": 21,
   "metadata": {},
   "outputs": [
    {
     "name": "stdout",
     "output_type": "stream",
     "text": [
      "F1 на cv 0.6222294422525377\n",
      "F1 на валидации 0.6054352565034151\n",
      "CPU times: user 27.4 s, sys: 0 ns, total: 27.4 s\n",
      "Wall time: 27.5 s\n"
     ]
    }
   ],
   "source": [
    "%%time\n",
    "\n",
    "model = DecisionTreeClassifier()\n",
    "model.set_params(**DTC_best_params)\n",
    "model.fit(features_train, target_train)\n",
    "target_predict = model.predict(features_valid)\n",
    "valid_f1_DTC = f1_score(target_valid, target_predict)\n",
    "print('F1 на cv', cv_f1_DTC)\n",
    "print('F1 на валидации', valid_f1_DTC)"
   ]
  },
  {
   "cell_type": "markdown",
   "metadata": {},
   "source": [
    "### Модель CatBoostClassifier"
   ]
  },
  {
   "cell_type": "code",
   "execution_count": 22,
   "metadata": {},
   "outputs": [
    {
     "name": "stdout",
     "output_type": "stream",
     "text": [
      "F1 на cv 0.7189826116815015\n",
      "F1 на валидации 0.7447037701974866\n",
      "CPU times: user 18min 32s, sys: 3min 5s, total: 21min 37s\n",
      "Wall time: 21min 42s\n"
     ]
    }
   ],
   "source": [
    "%%time\n",
    "\n",
    "model = CatBoostClassifier(verbose = False, iterations = 100)\n",
    "model.fit(features_train, target_train)\n",
    "target_predict = model.predict(features_valid)\n",
    "cv_f1_CBC = cross_val_score(model,\n",
    "                            features_train, \n",
    "                            target_train, \n",
    "                            cv = cv_counts, \n",
    "                            scoring = 'f1').mean()\n",
    "valid_f1_CBC = f1_score(target_valid, target_predict)\n",
    "print('F1 на cv', cv_f1_CBC)\n",
    "print('F1 на валидации', valid_f1_CBC)"
   ]
  },
  {
   "cell_type": "markdown",
   "metadata": {},
   "source": [
    "### Модель SGDClassifier"
   ]
  },
  {
   "cell_type": "code",
   "execution_count": 23,
   "metadata": {},
   "outputs": [
    {
     "name": "stdout",
     "output_type": "stream",
     "text": [
      "# Tuning hyperparameters for f1_score\n",
      "\n",
      "Best parameters set:\n",
      "\n",
      "{'class_weight': {0: 1, 1: 8.834884437596301}, 'eta0': 0.5, 'learning_rate': 'adaptive', 'loss': 'modified_huber', 'random_state': 12345}\n",
      "\n",
      "Grid scores on set:\n",
      "\n",
      "0.738449 for {'class_weight': {0: 1, 1: 8.834884437596301}, 'eta0': 0.01, 'learning_rate': 'constant', 'loss': 'hinge', 'random_state': 12345}\n",
      "0.717600 for {'class_weight': {0: 1, 1: 8.834884437596301}, 'eta0': 0.01, 'learning_rate': 'constant', 'loss': 'log', 'random_state': 12345}\n",
      "0.752431 for {'class_weight': {0: 1, 1: 8.834884437596301}, 'eta0': 0.01, 'learning_rate': 'constant', 'loss': 'modified_huber', 'random_state': 12345}\n",
      "0.737587 for {'class_weight': {0: 1, 1: 8.834884437596301}, 'eta0': 0.01, 'learning_rate': 'optimal', 'loss': 'hinge', 'random_state': 12345}\n",
      "0.720393 for {'class_weight': {0: 1, 1: 8.834884437596301}, 'eta0': 0.01, 'learning_rate': 'optimal', 'loss': 'log', 'random_state': 12345}\n",
      "0.748816 for {'class_weight': {0: 1, 1: 8.834884437596301}, 'eta0': 0.01, 'learning_rate': 'optimal', 'loss': 'modified_huber', 'random_state': 12345}\n",
      "0.654827 for {'class_weight': {0: 1, 1: 8.834884437596301}, 'eta0': 0.01, 'learning_rate': 'invscaling', 'loss': 'hinge', 'random_state': 12345}\n",
      "0.652063 for {'class_weight': {0: 1, 1: 8.834884437596301}, 'eta0': 0.01, 'learning_rate': 'invscaling', 'loss': 'log', 'random_state': 12345}\n",
      "0.673290 for {'class_weight': {0: 1, 1: 8.834884437596301}, 'eta0': 0.01, 'learning_rate': 'invscaling', 'loss': 'modified_huber', 'random_state': 12345}\n",
      "0.739306 for {'class_weight': {0: 1, 1: 8.834884437596301}, 'eta0': 0.01, 'learning_rate': 'adaptive', 'loss': 'hinge', 'random_state': 12345}\n",
      "0.719420 for {'class_weight': {0: 1, 1: 8.834884437596301}, 'eta0': 0.01, 'learning_rate': 'adaptive', 'loss': 'log', 'random_state': 12345}\n",
      "0.757709 for {'class_weight': {0: 1, 1: 8.834884437596301}, 'eta0': 0.01, 'learning_rate': 'adaptive', 'loss': 'modified_huber', 'random_state': 12345}\n",
      "0.727659 for {'class_weight': {0: 1, 1: 8.834884437596301}, 'eta0': 0.05, 'learning_rate': 'constant', 'loss': 'hinge', 'random_state': 12345}\n",
      "0.710493 for {'class_weight': {0: 1, 1: 8.834884437596301}, 'eta0': 0.05, 'learning_rate': 'constant', 'loss': 'log', 'random_state': 12345}\n",
      "0.721127 for {'class_weight': {0: 1, 1: 8.834884437596301}, 'eta0': 0.05, 'learning_rate': 'constant', 'loss': 'modified_huber', 'random_state': 12345}\n",
      "0.737587 for {'class_weight': {0: 1, 1: 8.834884437596301}, 'eta0': 0.05, 'learning_rate': 'optimal', 'loss': 'hinge', 'random_state': 12345}\n",
      "0.720393 for {'class_weight': {0: 1, 1: 8.834884437596301}, 'eta0': 0.05, 'learning_rate': 'optimal', 'loss': 'log', 'random_state': 12345}\n",
      "0.748816 for {'class_weight': {0: 1, 1: 8.834884437596301}, 'eta0': 0.05, 'learning_rate': 'optimal', 'loss': 'modified_huber', 'random_state': 12345}\n",
      "0.693579 for {'class_weight': {0: 1, 1: 8.834884437596301}, 'eta0': 0.05, 'learning_rate': 'invscaling', 'loss': 'hinge', 'random_state': 12345}\n",
      "0.667884 for {'class_weight': {0: 1, 1: 8.834884437596301}, 'eta0': 0.05, 'learning_rate': 'invscaling', 'loss': 'log', 'random_state': 12345}\n",
      "0.675361 for {'class_weight': {0: 1, 1: 8.834884437596301}, 'eta0': 0.05, 'learning_rate': 'invscaling', 'loss': 'modified_huber', 'random_state': 12345}\n",
      "0.739722 for {'class_weight': {0: 1, 1: 8.834884437596301}, 'eta0': 0.05, 'learning_rate': 'adaptive', 'loss': 'hinge', 'random_state': 12345}\n",
      "0.721517 for {'class_weight': {0: 1, 1: 8.834884437596301}, 'eta0': 0.05, 'learning_rate': 'adaptive', 'loss': 'log', 'random_state': 12345}\n",
      "0.758299 for {'class_weight': {0: 1, 1: 8.834884437596301}, 'eta0': 0.05, 'learning_rate': 'adaptive', 'loss': 'modified_huber', 'random_state': 12345}\n",
      "0.710077 for {'class_weight': {0: 1, 1: 8.834884437596301}, 'eta0': 0.1, 'learning_rate': 'constant', 'loss': 'hinge', 'random_state': 12345}\n",
      "0.707580 for {'class_weight': {0: 1, 1: 8.834884437596301}, 'eta0': 0.1, 'learning_rate': 'constant', 'loss': 'log', 'random_state': 12345}\n",
      "0.710001 for {'class_weight': {0: 1, 1: 8.834884437596301}, 'eta0': 0.1, 'learning_rate': 'constant', 'loss': 'modified_huber', 'random_state': 12345}\n",
      "0.737587 for {'class_weight': {0: 1, 1: 8.834884437596301}, 'eta0': 0.1, 'learning_rate': 'optimal', 'loss': 'hinge', 'random_state': 12345}\n",
      "0.720393 for {'class_weight': {0: 1, 1: 8.834884437596301}, 'eta0': 0.1, 'learning_rate': 'optimal', 'loss': 'log', 'random_state': 12345}\n",
      "0.748816 for {'class_weight': {0: 1, 1: 8.834884437596301}, 'eta0': 0.1, 'learning_rate': 'optimal', 'loss': 'modified_huber', 'random_state': 12345}\n",
      "0.691888 for {'class_weight': {0: 1, 1: 8.834884437596301}, 'eta0': 0.1, 'learning_rate': 'invscaling', 'loss': 'hinge', 'random_state': 12345}\n",
      "0.669209 for {'class_weight': {0: 1, 1: 8.834884437596301}, 'eta0': 0.1, 'learning_rate': 'invscaling', 'loss': 'log', 'random_state': 12345}\n",
      "0.692423 for {'class_weight': {0: 1, 1: 8.834884437596301}, 'eta0': 0.1, 'learning_rate': 'invscaling', 'loss': 'modified_huber', 'random_state': 12345}\n",
      "0.740100 for {'class_weight': {0: 1, 1: 8.834884437596301}, 'eta0': 0.1, 'learning_rate': 'adaptive', 'loss': 'hinge', 'random_state': 12345}\n",
      "0.721794 for {'class_weight': {0: 1, 1: 8.834884437596301}, 'eta0': 0.1, 'learning_rate': 'adaptive', 'loss': 'log', 'random_state': 12345}\n",
      "0.758269 for {'class_weight': {0: 1, 1: 8.834884437596301}, 'eta0': 0.1, 'learning_rate': 'adaptive', 'loss': 'modified_huber', 'random_state': 12345}\n",
      "0.687928 for {'class_weight': {0: 1, 1: 8.834884437596301}, 'eta0': 0.2, 'learning_rate': 'constant', 'loss': 'hinge', 'random_state': 12345}\n",
      "0.687604 for {'class_weight': {0: 1, 1: 8.834884437596301}, 'eta0': 0.2, 'learning_rate': 'constant', 'loss': 'log', 'random_state': 12345}\n",
      "0.646795 for {'class_weight': {0: 1, 1: 8.834884437596301}, 'eta0': 0.2, 'learning_rate': 'constant', 'loss': 'modified_huber', 'random_state': 12345}\n",
      "0.737587 for {'class_weight': {0: 1, 1: 8.834884437596301}, 'eta0': 0.2, 'learning_rate': 'optimal', 'loss': 'hinge', 'random_state': 12345}\n",
      "0.720393 for {'class_weight': {0: 1, 1: 8.834884437596301}, 'eta0': 0.2, 'learning_rate': 'optimal', 'loss': 'log', 'random_state': 12345}\n",
      "0.748816 for {'class_weight': {0: 1, 1: 8.834884437596301}, 'eta0': 0.2, 'learning_rate': 'optimal', 'loss': 'modified_huber', 'random_state': 12345}\n",
      "0.690173 for {'class_weight': {0: 1, 1: 8.834884437596301}, 'eta0': 0.2, 'learning_rate': 'invscaling', 'loss': 'hinge', 'random_state': 12345}\n",
      "0.668711 for {'class_weight': {0: 1, 1: 8.834884437596301}, 'eta0': 0.2, 'learning_rate': 'invscaling', 'loss': 'log', 'random_state': 12345}\n",
      "0.712430 for {'class_weight': {0: 1, 1: 8.834884437596301}, 'eta0': 0.2, 'learning_rate': 'invscaling', 'loss': 'modified_huber', 'random_state': 12345}\n",
      "0.740383 for {'class_weight': {0: 1, 1: 8.834884437596301}, 'eta0': 0.2, 'learning_rate': 'adaptive', 'loss': 'hinge', 'random_state': 12345}\n",
      "0.721799 for {'class_weight': {0: 1, 1: 8.834884437596301}, 'eta0': 0.2, 'learning_rate': 'adaptive', 'loss': 'log', 'random_state': 12345}\n",
      "0.758543 for {'class_weight': {0: 1, 1: 8.834884437596301}, 'eta0': 0.2, 'learning_rate': 'adaptive', 'loss': 'modified_huber', 'random_state': 12345}\n",
      "0.670930 for {'class_weight': {0: 1, 1: 8.834884437596301}, 'eta0': 0.3, 'learning_rate': 'constant', 'loss': 'hinge', 'random_state': 12345}\n",
      "0.673838 for {'class_weight': {0: 1, 1: 8.834884437596301}, 'eta0': 0.3, 'learning_rate': 'constant', 'loss': 'log', 'random_state': 12345}\n",
      "0.571397 for {'class_weight': {0: 1, 1: 8.834884437596301}, 'eta0': 0.3, 'learning_rate': 'constant', 'loss': 'modified_huber', 'random_state': 12345}\n",
      "0.737587 for {'class_weight': {0: 1, 1: 8.834884437596301}, 'eta0': 0.3, 'learning_rate': 'optimal', 'loss': 'hinge', 'random_state': 12345}\n",
      "0.720393 for {'class_weight': {0: 1, 1: 8.834884437596301}, 'eta0': 0.3, 'learning_rate': 'optimal', 'loss': 'log', 'random_state': 12345}\n",
      "0.748816 for {'class_weight': {0: 1, 1: 8.834884437596301}, 'eta0': 0.3, 'learning_rate': 'optimal', 'loss': 'modified_huber', 'random_state': 12345}\n",
      "0.695523 for {'class_weight': {0: 1, 1: 8.834884437596301}, 'eta0': 0.3, 'learning_rate': 'invscaling', 'loss': 'hinge', 'random_state': 12345}\n",
      "0.667722 for {'class_weight': {0: 1, 1: 8.834884437596301}, 'eta0': 0.3, 'learning_rate': 'invscaling', 'loss': 'log', 'random_state': 12345}\n",
      "0.724034 for {'class_weight': {0: 1, 1: 8.834884437596301}, 'eta0': 0.3, 'learning_rate': 'invscaling', 'loss': 'modified_huber', 'random_state': 12345}\n",
      "0.740597 for {'class_weight': {0: 1, 1: 8.834884437596301}, 'eta0': 0.3, 'learning_rate': 'adaptive', 'loss': 'hinge', 'random_state': 12345}\n",
      "0.721687 for {'class_weight': {0: 1, 1: 8.834884437596301}, 'eta0': 0.3, 'learning_rate': 'adaptive', 'loss': 'log', 'random_state': 12345}\n",
      "0.757833 for {'class_weight': {0: 1, 1: 8.834884437596301}, 'eta0': 0.3, 'learning_rate': 'adaptive', 'loss': 'modified_huber', 'random_state': 12345}\n",
      "0.595954 for {'class_weight': {0: 1, 1: 8.834884437596301}, 'eta0': 0.5, 'learning_rate': 'constant', 'loss': 'hinge', 'random_state': 12345}\n",
      "0.653138 for {'class_weight': {0: 1, 1: 8.834884437596301}, 'eta0': 0.5, 'learning_rate': 'constant', 'loss': 'log', 'random_state': 12345}\n",
      "0.560037 for {'class_weight': {0: 1, 1: 8.834884437596301}, 'eta0': 0.5, 'learning_rate': 'constant', 'loss': 'modified_huber', 'random_state': 12345}\n",
      "0.737587 for {'class_weight': {0: 1, 1: 8.834884437596301}, 'eta0': 0.5, 'learning_rate': 'optimal', 'loss': 'hinge', 'random_state': 12345}\n",
      "0.720393 for {'class_weight': {0: 1, 1: 8.834884437596301}, 'eta0': 0.5, 'learning_rate': 'optimal', 'loss': 'log', 'random_state': 12345}\n",
      "0.748816 for {'class_weight': {0: 1, 1: 8.834884437596301}, 'eta0': 0.5, 'learning_rate': 'optimal', 'loss': 'modified_huber', 'random_state': 12345}\n",
      "0.705696 for {'class_weight': {0: 1, 1: 8.834884437596301}, 'eta0': 0.5, 'learning_rate': 'invscaling', 'loss': 'hinge', 'random_state': 12345}\n",
      "0.671214 for {'class_weight': {0: 1, 1: 8.834884437596301}, 'eta0': 0.5, 'learning_rate': 'invscaling', 'loss': 'log', 'random_state': 12345}\n",
      "0.734502 for {'class_weight': {0: 1, 1: 8.834884437596301}, 'eta0': 0.5, 'learning_rate': 'invscaling', 'loss': 'modified_huber', 'random_state': 12345}\n",
      "0.741165 for {'class_weight': {0: 1, 1: 8.834884437596301}, 'eta0': 0.5, 'learning_rate': 'adaptive', 'loss': 'hinge', 'random_state': 12345}\n",
      "0.721473 for {'class_weight': {0: 1, 1: 8.834884437596301}, 'eta0': 0.5, 'learning_rate': 'adaptive', 'loss': 'log', 'random_state': 12345}\n",
      "0.758750 for {'class_weight': {0: 1, 1: 8.834884437596301}, 'eta0': 0.5, 'learning_rate': 'adaptive', 'loss': 'modified_huber', 'random_state': 12345}\n",
      "\n",
      "CPU times: user 2min 22s, sys: 17.5 s, total: 2min 40s\n",
      "Wall time: 2min 40s\n"
     ]
    }
   ],
   "source": [
    "%%time\n",
    "\n",
    "model = SGDClassifier()\n",
    "prmtrs = [{'loss':['hinge', 'log', 'modified_huber'],\n",
    "                'learning_rate':['constant', 'optimal', 'invscaling', 'adaptive'],\n",
    "                'eta0':[0.01, 0.05, 0.1, 0.2, 0.3, 0.5],\n",
    "                'random_state':[12345],\n",
    "                'class_weight':[dict_class]}]\n",
    "\n",
    "\n",
    "print('# Tuning hyperparameters for f1_score')\n",
    "print()\n",
    "clf = GridSearchCV(model, prmtrs, scoring = 'f1',cv = cv_counts)\n",
    "clf.fit(features_train, target_train)\n",
    "print(\"Best parameters set:\")\n",
    "print()\n",
    "SGDC_best_params = clf.best_params_\n",
    "print(SGDC_best_params)\n",
    "print()\n",
    "print(\"Grid scores on set:\")\n",
    "print()\n",
    "means = clf.cv_results_['mean_test_score']\n",
    "stds = clf.cv_results_['std_test_score']\n",
    "for mean, std, params in zip(means, stds, clf.cv_results_['params']):\n",
    "    print(\"%0.6f for %r\"% (mean, params))\n",
    "print()\n",
    "\n",
    "cv_f1_SGDC = max(means)"
   ]
  },
  {
   "cell_type": "code",
   "execution_count": 24,
   "metadata": {},
   "outputs": [
    {
     "name": "stdout",
     "output_type": "stream",
     "text": [
      "F1 на cv 0.7587496819928928\n",
      "F1 на валидации 0.7636516381965837\n",
      "CPU times: user 1.52 s, sys: 82.5 ms, total: 1.61 s\n",
      "Wall time: 1.62 s\n"
     ]
    }
   ],
   "source": [
    "%%time\n",
    "\n",
    "model = SGDClassifier()\n",
    "model.set_params(**SGDC_best_params)\n",
    "model.fit(features_train, target_train)\n",
    "target_predict = model.predict(features_valid)\n",
    "valid_f1_SGDC = f1_score(target_valid, target_predict)\n",
    "print('F1 на cv', cv_f1_SGDC)\n",
    "print('F1 на валидации', valid_f1_SGDC)"
   ]
  },
  {
   "cell_type": "code",
   "execution_count": 25,
   "metadata": {
    "scrolled": false
   },
   "outputs": [
    {
     "data": {
      "text/html": [
       "<div>\n",
       "<style scoped>\n",
       "    .dataframe tbody tr th:only-of-type {\n",
       "        vertical-align: middle;\n",
       "    }\n",
       "\n",
       "    .dataframe tbody tr th {\n",
       "        vertical-align: top;\n",
       "    }\n",
       "\n",
       "    .dataframe thead th {\n",
       "        text-align: right;\n",
       "    }\n",
       "</style>\n",
       "<table border=\"1\" class=\"dataframe\">\n",
       "  <thead>\n",
       "    <tr style=\"text-align: right;\">\n",
       "      <th></th>\n",
       "      <th>F1 на CV</th>\n",
       "      <th>F1 на валидации</th>\n",
       "      <th>Выполнение задачи</th>\n",
       "    </tr>\n",
       "  </thead>\n",
       "  <tbody>\n",
       "    <tr>\n",
       "      <td>LogisticRegression</td>\n",
       "      <td>0.764921</td>\n",
       "      <td>0.767659</td>\n",
       "      <td>True</td>\n",
       "    </tr>\n",
       "    <tr>\n",
       "      <td>DecisionTreeClassifier</td>\n",
       "      <td>0.622229</td>\n",
       "      <td>0.605435</td>\n",
       "      <td>False</td>\n",
       "    </tr>\n",
       "    <tr>\n",
       "      <td>CatBoostClassifier</td>\n",
       "      <td>0.718983</td>\n",
       "      <td>0.744704</td>\n",
       "      <td>False</td>\n",
       "    </tr>\n",
       "    <tr>\n",
       "      <td>SGDClassifier</td>\n",
       "      <td>0.758750</td>\n",
       "      <td>0.763652</td>\n",
       "      <td>True</td>\n",
       "    </tr>\n",
       "  </tbody>\n",
       "</table>\n",
       "</div>"
      ],
      "text/plain": [
       "                        F1 на CV  F1 на валидации  Выполнение задачи\n",
       "LogisticRegression      0.764921         0.767659               True\n",
       "DecisionTreeClassifier  0.622229         0.605435              False\n",
       "CatBoostClassifier      0.718983         0.744704              False\n",
       "SGDClassifier           0.758750         0.763652               True"
      ]
     },
     "execution_count": 25,
     "metadata": {},
     "output_type": "execute_result"
    }
   ],
   "source": [
    "index = ['LogisticRegression',\n",
    "         'DecisionTreeClassifier',\n",
    "         'CatBoostClassifier',\n",
    "         'SGDClassifier']\n",
    "data = {'F1 на CV':[cv_f1_LR,\n",
    "                    cv_f1_DTC,\n",
    "                    cv_f1_CBC,\n",
    "                    cv_f1_SGDC],\n",
    "        'F1 на валидации':[valid_f1_LR,\n",
    "                           valid_f1_DTC,\n",
    "                           valid_f1_CBC,\n",
    "                           valid_f1_SGDC]}\n",
    "\n",
    "scores_data = pd.DataFrame(data = data, index = index)\n",
    "scores_data['Выполнение задачи'] = scores_data['F1 на валидации'] > 0.75\n",
    "scores_data"
   ]
  },
  {
   "cell_type": "markdown",
   "metadata": {},
   "source": [
    "### Вывод по шагу 2"
   ]
  },
  {
   "cell_type": "markdown",
   "metadata": {},
   "source": [
    "По критерию выполнения задачи к тестовому набору данных перейдут LogisticRegression и SGDClassifier."
   ]
  },
  {
   "cell_type": "markdown",
   "metadata": {},
   "source": [
    "## Выводы"
   ]
  },
  {
   "cell_type": "markdown",
   "metadata": {},
   "source": [
    "Проведем получение F1-метрики, метрик precision, accuracy, recall и roc_auc и построим графики."
   ]
  },
  {
   "cell_type": "code",
   "execution_count": 26,
   "metadata": {},
   "outputs": [
    {
     "name": "stdout",
     "output_type": "stream",
     "text": [
      "Метрики LogisticRegression\n",
      "ROC AUC: 0.9644859975874468\n",
      "F1: 0.7646619907476495\n",
      "Precision: 0.733887138355772\n",
      "Recall: 0.7981308411214953\n",
      "Accuracy: 0.9505874980416732\n",
      "\n",
      "Метрики SGDClassifier\n",
      "ROC AUC: 0.969185603254939\n",
      "F1: 0.7575928008998876\n",
      "Precision: 0.690415171706817\n",
      "Recall: 0.8392523364485981\n",
      "Accuracy: 0.9459815133949554\n",
      "\n"
     ]
    },
    {
     "data": {
      "image/png": "[encoded data removed]",
      "text/plain": [
       "<Figure size 1080x720 with 1 Axes>"
      ]
     },
     "metadata": {
      "needs_background": "light"
     },
     "output_type": "display_data"
    }
   ],
   "source": [
    "plt.figure(figsize = [15,10])\n",
    "\n",
    "plt.plot([0, 1], [0, 1], linestyle = '--', label = 'RandomModel')\n",
    "\n",
    "\n",
    "model = LogisticRegression()\n",
    "model.set_params(**LR_best_params)\n",
    "model.fit(features_train, target_train)\n",
    "probabilities_test = model.predict_proba(features_test)\n",
    "probabilities_one_test = probabilities_test[:, 1]\n",
    "fpr, tpr, thresholds = roc_curve(target_test, probabilities_one_test)\n",
    "predict_test = model.predict(features_test)\n",
    "plt.plot(fpr, tpr, label = 'LogisticRegression')\n",
    "print('Метрики LogisticRegression')\n",
    "print('ROC AUC:', roc_auc_score(target_test, probabilities_one_test))\n",
    "print('F1:', f1_score(target_test, predict_test))\n",
    "print('Precision:', precision_score(target_test, predict_test))\n",
    "print('Recall:', recall_score(target_test, predict_test))\n",
    "print('Accuracy:', accuracy_score(target_test, predict_test))\n",
    "print()\n",
    "\n",
    "model = SGDClassifier()\n",
    "model.set_params(**SGDC_best_params)\n",
    "model.fit(features_train, target_train)\n",
    "probabilities_test = model.predict_proba(features_test)\n",
    "probabilities_one_test = probabilities_test[:, 1]\n",
    "fpr, tpr, thresholds = roc_curve(target_test, probabilities_one_test)\n",
    "predict_test = model.predict(features_test)\n",
    "plt.plot(fpr, tpr, label = 'SGDClassifier')\n",
    "print('Метрики SGDClassifier')\n",
    "print('ROC AUC:', roc_auc_score(target_test, probabilities_one_test))\n",
    "print('F1:', f1_score(target_test, predict_test))\n",
    "print('Precision:', precision_score(target_test, predict_test))\n",
    "print('Recall:', recall_score(target_test, predict_test))\n",
    "print('Accuracy:', accuracy_score(target_test, predict_test))\n",
    "print()\n",
    "\n",
    "plt.xlim([0,1])\n",
    "plt.ylim([0,1])\n",
    "\n",
    "plt.xlabel(\"False Positive Rate\")\n",
    "plt.ylabel(\"True Positive Rate\")\n",
    "\n",
    "plt.legend(loc = 'lower right', fontsize = 'x-large')\n",
    "\n",
    "plt.title(\"ROC-кривая\")\n",
    "plt.show()"
   ]
  },
  {
   "cell_type": "markdown",
   "metadata": {},
   "source": [
    "## Итоговый вывод"
   ]
  },
  {
   "cell_type": "markdown",
   "metadata": {},
   "source": [
    "В ходе работы над проектом было сделано:\n",
    "\n",
    "Данные загружены и подготовленны для дальнейшего обучения на моделях.\n",
    "Из рассмотренных способов был выбран способ баланса классов и далее данные разделены на обучающую, валидационную и тестовою выборку.\n",
    "Модели обучены используя следующие классификаторы - LogisticRegression, CatBoostClassifier, SGDClassifier и DecisionTreeClassifier; выбраны лучшие из них на валидационной выборке.\n",
    "Показаны параметры качества моделей.\n",
    "В исходных данных большое количество признаков. Так как TF-IDF конвертирует текст в численные значения, лучшими моделями стали LogisticRegression и SGDClassifier. CatBoostClassifier как обычно расходует много времени на вычисления - в ходе тестов этот классификатор мог обучатся до 3 часов.\n",
    "\n",
    "На тестовой выбоке по метрике F1 лучше всего себя показал LogisticRegression , немногим больше чем у SGDClassifier. Данная модель обладает лучшими показателями Precision и Accuracy, что говорит о том, что токсичные комментарии находятся лучше.\n",
    "\n",
    "В тоже время классификатор SGDClassifier показал себя лучше в ROC AUC и Recall метриках - модель способна обработать больше записей."
   ]
  },
  {
   "cell_type": "code",
   "execution_count": null,
   "metadata": {},
   "outputs": [],
   "source": []
  }
 ],
 "metadata": {
  "ExecuteTimeLog": [
   {
    "duration": 1231,
    "start_time": "2021-07-30T06:43:07.520Z"
   },
   {
    "duration": 587,
    "start_time": "2021-07-30T06:43:41.685Z"
   },
   {
    "duration": 27,
    "start_time": "2021-07-30T06:43:57.127Z"
   },
   {
    "duration": 11,
    "start_time": "2021-07-30T06:44:47.416Z"
   },
   {
    "duration": 7,
    "start_time": "2021-07-30T06:45:05.091Z"
   },
   {
    "duration": 6,
    "start_time": "2021-07-30T06:45:10.433Z"
   },
   {
    "duration": 4670,
    "start_time": "2021-07-30T06:45:13.171Z"
   },
   {
    "duration": 91658,
    "start_time": "2021-07-30T06:46:41.555Z"
   },
   {
    "duration": 18,
    "start_time": "2021-07-30T06:48:19.523Z"
   },
   {
    "duration": 40,
    "start_time": "2021-07-30T06:48:24.559Z"
   },
   {
    "duration": 10717,
    "start_time": "2021-07-30T06:48:54.807Z"
   },
   {
    "duration": 23775,
    "start_time": "2021-07-30T06:52:29.753Z"
   },
   {
    "duration": 40648,
    "start_time": "2021-07-30T06:55:34.277Z"
   },
   {
    "duration": 32362,
    "start_time": "2021-07-30T06:56:18.749Z"
   },
   {
    "duration": 32549,
    "start_time": "2021-07-30T06:57:36.977Z"
   },
   {
    "duration": 27,
    "start_time": "2021-07-30T06:59:53.443Z"
   },
   {
    "duration": 1215,
    "start_time": "2021-07-30T07:03:59.310Z"
   },
   {
    "duration": 9038,
    "start_time": "2021-07-30T07:04:25.954Z"
   },
   {
    "duration": 268,
    "start_time": "2021-07-30T07:05:02.885Z"
   },
   {
    "duration": 8408,
    "start_time": "2021-07-30T07:07:50.320Z"
   },
   {
    "duration": 26836,
    "start_time": "2021-07-30T07:08:35.667Z"
   },
   {
    "duration": 273,
    "start_time": "2021-07-30T07:12:16.961Z"
   },
   {
    "duration": 556,
    "start_time": "2021-07-30T07:12:39.631Z"
   },
   {
    "duration": 304,
    "start_time": "2021-07-30T07:12:53.590Z"
   },
   {
    "duration": 259,
    "start_time": "2021-07-30T07:13:02.899Z"
   },
   {
    "duration": 10,
    "start_time": "2021-07-30T07:13:14.048Z"
   },
   {
    "duration": 242,
    "start_time": "2021-07-30T07:13:45.175Z"
   },
   {
    "duration": 236,
    "start_time": "2021-07-30T07:13:49.584Z"
   },
   {
    "duration": 234,
    "start_time": "2021-07-30T07:13:55.521Z"
   },
   {
    "duration": 2,
    "start_time": "2021-07-30T07:14:00.429Z"
   },
   {
    "duration": 244,
    "start_time": "2021-07-30T07:20:15.566Z"
   },
   {
    "duration": 646196,
    "start_time": "2021-07-30T07:29:46.561Z"
   },
   {
    "duration": 40812,
    "start_time": "2021-07-30T07:40:32.759Z"
   },
   {
    "duration": 614270,
    "start_time": "2021-07-30T07:53:42.983Z"
   },
   {
    "duration": 28708,
    "start_time": "2021-07-30T08:03:57.255Z"
   },
   {
    "duration": 194,
    "start_time": "2021-07-30T08:07:20.698Z"
   },
   {
    "duration": 1224,
    "start_time": "2021-07-30T08:07:35.725Z"
   },
   {
    "duration": 595,
    "start_time": "2021-07-30T08:07:36.951Z"
   },
   {
    "duration": 21,
    "start_time": "2021-07-30T08:07:37.547Z"
   },
   {
    "duration": 31,
    "start_time": "2021-07-30T08:07:37.570Z"
   },
   {
    "duration": 92423,
    "start_time": "2021-07-30T08:07:41.890Z"
   },
   {
    "duration": 13,
    "start_time": "2021-07-30T08:09:14.315Z"
   },
   {
    "duration": 45,
    "start_time": "2021-07-30T08:09:14.329Z"
   },
   {
    "duration": 10837,
    "start_time": "2021-07-30T08:09:14.392Z"
   },
   {
    "duration": 23593,
    "start_time": "2021-07-30T08:09:25.231Z"
   },
   {
    "duration": 41096,
    "start_time": "2021-07-30T08:09:48.826Z"
   },
   {
    "duration": 32704,
    "start_time": "2021-07-30T08:10:29.924Z"
   },
   {
    "duration": 30,
    "start_time": "2021-07-30T08:11:02.630Z"
   },
   {
    "duration": 1261,
    "start_time": "2021-07-30T08:11:02.661Z"
   },
   {
    "duration": 8770,
    "start_time": "2021-07-30T08:11:03.924Z"
   },
   {
    "duration": 28203,
    "start_time": "2021-07-30T08:11:12.696Z"
   },
   {
    "duration": 9,
    "start_time": "2021-07-30T08:11:40.901Z"
   },
   {
    "duration": 653469,
    "start_time": "2021-07-30T08:23:34.294Z"
   },
   {
    "duration": 41512,
    "start_time": "2021-07-30T08:34:27.765Z"
   },
   {
    "duration": 655367,
    "start_time": "2021-07-30T08:35:09.279Z"
   },
   {
    "duration": 28024,
    "start_time": "2021-07-30T08:46:04.648Z"
   },
   {
    "duration": 1356654,
    "start_time": "2021-07-30T08:46:32.674Z"
   },
   {
    "duration": 163247,
    "start_time": "2021-07-30T09:44:20.648Z"
   },
   {
    "duration": 1727,
    "start_time": "2021-07-30T09:47:03.897Z"
   },
   {
    "duration": 9,
    "start_time": "2021-07-30T09:47:05.626Z"
   },
   {
    "duration": 1237,
    "start_time": "2021-08-01T09:32:50.197Z"
   },
   {
    "duration": 602,
    "start_time": "2021-08-01T09:32:52.614Z"
   },
   {
    "duration": 29,
    "start_time": "2021-08-01T09:32:53.582Z"
   },
   {
    "duration": 14,
    "start_time": "2021-08-01T09:32:55.852Z"
   },
   {
    "duration": 100506,
    "start_time": "2021-08-01T09:34:35.814Z"
   },
   {
    "duration": 14,
    "start_time": "2021-08-01T09:36:16.322Z"
   },
   {
    "duration": 55,
    "start_time": "2021-08-01T09:37:35.886Z"
   },
   {
    "duration": 10224,
    "start_time": "2021-08-01T09:37:45.111Z"
   },
   {
    "duration": 24095,
    "start_time": "2021-08-01T09:37:55.336Z"
   },
   {
    "duration": 41316,
    "start_time": "2021-08-01T09:39:05.517Z"
   },
   {
    "duration": 32797,
    "start_time": "2021-08-01T09:39:46.835Z"
   },
   {
    "duration": 28,
    "start_time": "2021-08-01T09:40:49.087Z"
   },
   {
    "duration": 1172,
    "start_time": "2021-08-01T09:40:49.594Z"
   },
   {
    "duration": 8309,
    "start_time": "2021-08-01T09:40:51.284Z"
   },
   {
    "duration": 29027,
    "start_time": "2021-08-01T09:42:30.987Z"
   },
   {
    "duration": 29814,
    "start_time": "2021-08-01T09:43:34.379Z"
   },
   {
    "duration": 11,
    "start_time": "2021-08-01T09:44:04.195Z"
   },
   {
    "duration": 633154,
    "start_time": "2021-08-01T09:50:49.806Z"
   },
   {
    "duration": 40500,
    "start_time": "2021-08-01T10:01:22.962Z"
   },
   {
    "duration": 558994,
    "start_time": "2021-08-01T10:02:03.464Z"
   },
   {
    "duration": 27466,
    "start_time": "2021-08-01T10:11:22.460Z"
   },
   {
    "duration": 1302925,
    "start_time": "2021-08-01T10:11:49.928Z"
   },
   {
    "duration": 160712,
    "start_time": "2021-08-01T10:33:32.855Z"
   },
   {
    "duration": 1625,
    "start_time": "2021-08-01T10:36:13.569Z"
   },
   {
    "duration": 9,
    "start_time": "2021-08-01T10:36:15.196Z"
   },
   {
    "duration": 43647,
    "start_time": "2021-08-01T10:59:39.905Z"
   }
  ],
  "kernelspec": {
   "display_name": "Python 3",
   "language": "python",
   "name": "python3"
  },
  "language_info": {
   "codemirror_mode": {
    "name": "ipython",
    "version": 3
   },
   "file_extension": ".py",
   "mimetype": "text/x-python",
   "name": "python",
   "nbconvert_exporter": "python",
   "pygments_lexer": "ipython3",
   "version": "3.7.7"
  },
  "toc": {
   "base_numbering": 1,
   "nav_menu": {},
   "number_sections": true,
   "sideBar": true,
   "skip_h1_title": true,
   "title_cell": "Содержание",
   "title_sidebar": "Contents",
   "toc_cell": true,
   "toc_position": {
    "height": "calc(100% - 180px)",
    "left": "10px",
    "top": "150px",
    "width": "302.391px"
   },
   "toc_section_display": true,
   "toc_window_display": false
  }
 },
 "nbformat": 4,
 "nbformat_minor": 2
}
