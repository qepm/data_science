{
 "cells": [
  {
   "cell_type": "markdown",
   "metadata": {},
   "source": [
    "## Поведение клиентов федерального оператора сотовой связи"
   ]
  },
  {
   "cell_type": "markdown",
   "metadata": {},
   "source": [
    "### Рассмотрим общую информацию из датасетов"
   ]
  },
  {
   "cell_type": "code",
   "execution_count": 1,
   "metadata": {},
   "outputs": [],
   "source": [
    "import pandas as pd\n",
    "import numpy as np\n",
    "import matplotlib.pyplot as plt\n",
    "%matplotlib inline\n",
    "import seaborn as sns\n",
    "from scipy import stats as st\n",
    "from math import ceil as math"
   ]
  },
  {
   "cell_type": "code",
   "execution_count": 2,
   "metadata": {},
   "outputs": [],
   "source": [
    "calls = pd.read_csv('/datasets/calls.csv')\n",
    "internet = pd.read_csv('/datasets/internet.csv')\n",
    "messages = pd.read_csv('/datasets/messages.csv')\n",
    "tariffs = pd.read_csv('/datasets/tariffs.csv')\n",
    "users = pd.read_csv('/datasets/users.csv')"
   ]
  },
  {
   "cell_type": "markdown",
   "metadata": {},
   "source": [
    "### Рассмотрим звонки"
   ]
  },
  {
   "cell_type": "code",
   "execution_count": 3,
   "metadata": {},
   "outputs": [
    {
     "name": "stdout",
     "output_type": "stream",
     "text": [
      "<class 'pandas.core.frame.DataFrame'>\n",
      "RangeIndex: 202607 entries, 0 to 202606\n",
      "Data columns (total 4 columns):\n",
      "id           202607 non-null object\n",
      "call_date    202607 non-null object\n",
      "duration     202607 non-null float64\n",
      "user_id      202607 non-null int64\n",
      "dtypes: float64(1), int64(1), object(2)\n",
      "memory usage: 6.2+ MB\n"
     ]
    }
   ],
   "source": [
    "calls.info()"
   ]
  },
  {
   "cell_type": "code",
   "execution_count": 4,
   "metadata": {},
   "outputs": [
    {
     "data": {
      "text/html": [
       "<div>\n",
       "<style scoped>\n",
       "    .dataframe tbody tr th:only-of-type {\n",
       "        vertical-align: middle;\n",
       "    }\n",
       "\n",
       "    .dataframe tbody tr th {\n",
       "        vertical-align: top;\n",
       "    }\n",
       "\n",
       "    .dataframe thead th {\n",
       "        text-align: right;\n",
       "    }\n",
       "</style>\n",
       "<table border=\"1\" class=\"dataframe\">\n",
       "  <thead>\n",
       "    <tr style=\"text-align: right;\">\n",
       "      <th></th>\n",
       "      <th>id</th>\n",
       "      <th>call_date</th>\n",
       "      <th>duration</th>\n",
       "      <th>user_id</th>\n",
       "    </tr>\n",
       "  </thead>\n",
       "  <tbody>\n",
       "    <tr>\n",
       "      <td>0</td>\n",
       "      <td>1000_0</td>\n",
       "      <td>2018-07-25</td>\n",
       "      <td>0.00</td>\n",
       "      <td>1000</td>\n",
       "    </tr>\n",
       "    <tr>\n",
       "      <td>1</td>\n",
       "      <td>1000_1</td>\n",
       "      <td>2018-08-17</td>\n",
       "      <td>0.00</td>\n",
       "      <td>1000</td>\n",
       "    </tr>\n",
       "    <tr>\n",
       "      <td>2</td>\n",
       "      <td>1000_2</td>\n",
       "      <td>2018-06-11</td>\n",
       "      <td>2.85</td>\n",
       "      <td>1000</td>\n",
       "    </tr>\n",
       "    <tr>\n",
       "      <td>3</td>\n",
       "      <td>1000_3</td>\n",
       "      <td>2018-09-21</td>\n",
       "      <td>13.80</td>\n",
       "      <td>1000</td>\n",
       "    </tr>\n",
       "    <tr>\n",
       "      <td>4</td>\n",
       "      <td>1000_4</td>\n",
       "      <td>2018-12-15</td>\n",
       "      <td>5.18</td>\n",
       "      <td>1000</td>\n",
       "    </tr>\n",
       "  </tbody>\n",
       "</table>\n",
       "</div>"
      ],
      "text/plain": [
       "       id   call_date  duration  user_id\n",
       "0  1000_0  2018-07-25      0.00     1000\n",
       "1  1000_1  2018-08-17      0.00     1000\n",
       "2  1000_2  2018-06-11      2.85     1000\n",
       "3  1000_3  2018-09-21     13.80     1000\n",
       "4  1000_4  2018-12-15      5.18     1000"
      ]
     },
     "execution_count": 4,
     "metadata": {},
     "output_type": "execute_result"
    }
   ],
   "source": [
    "calls.head()"
   ]
  },
  {
   "cell_type": "code",
   "execution_count": 5,
   "metadata": {},
   "outputs": [
    {
     "data": {
      "text/plain": [
       "Index(['id', 'call_date', 'duration', 'user_id'], dtype='object')"
      ]
     },
     "execution_count": 5,
     "metadata": {},
     "output_type": "execute_result"
    }
   ],
   "source": [
    "calls.columns"
   ]
  },
  {
   "cell_type": "code",
   "execution_count": 6,
   "metadata": {},
   "outputs": [
    {
     "data": {
      "text/plain": [
       "id           0\n",
       "call_date    0\n",
       "duration     0\n",
       "user_id      0\n",
       "dtype: int64"
      ]
     },
     "execution_count": 6,
     "metadata": {},
     "output_type": "execute_result"
    }
   ],
   "source": [
    "calls.isna().sum()"
   ]
  },
  {
   "cell_type": "code",
   "execution_count": 7,
   "metadata": {},
   "outputs": [
    {
     "data": {
      "text/plain": [
       "0"
      ]
     },
     "execution_count": 7,
     "metadata": {},
     "output_type": "execute_result"
    }
   ],
   "source": [
    "calls.duplicated().sum()"
   ]
  },
  {
   "cell_type": "code",
   "execution_count": 8,
   "metadata": {},
   "outputs": [
    {
     "data": {
      "text/plain": [
       "47927"
      ]
     },
     "execution_count": 8,
     "metadata": {},
     "output_type": "execute_result"
    }
   ],
   "source": [
    "len(calls[calls.duration < 1])"
   ]
  },
  {
   "cell_type": "markdown",
   "metadata": {},
   "source": [
    "Вывод по звонкам"
   ]
  },
  {
   "cell_type": "markdown",
   "metadata": {},
   "source": [
    "Пропусков и дубликатов в датасете нет, столбец call_date необходимо поменять тип на DateTime. Количество звонков длительностью менее 1 мин - 47927, можно применить метод np.ceil для округления в большую сторону всех значений."
   ]
  },
  {
   "cell_type": "markdown",
   "metadata": {},
   "source": [
    "### Рассмотрим интернет"
   ]
  },
  {
   "cell_type": "code",
   "execution_count": 9,
   "metadata": {},
   "outputs": [
    {
     "name": "stdout",
     "output_type": "stream",
     "text": [
      "<class 'pandas.core.frame.DataFrame'>\n",
      "RangeIndex: 149396 entries, 0 to 149395\n",
      "Data columns (total 5 columns):\n",
      "Unnamed: 0      149396 non-null int64\n",
      "id              149396 non-null object\n",
      "mb_used         149396 non-null float64\n",
      "session_date    149396 non-null object\n",
      "user_id         149396 non-null int64\n",
      "dtypes: float64(1), int64(2), object(2)\n",
      "memory usage: 5.7+ MB\n"
     ]
    }
   ],
   "source": [
    "internet.info()"
   ]
  },
  {
   "cell_type": "code",
   "execution_count": 10,
   "metadata": {},
   "outputs": [
    {
     "data": {
      "text/html": [
       "<div>\n",
       "<style scoped>\n",
       "    .dataframe tbody tr th:only-of-type {\n",
       "        vertical-align: middle;\n",
       "    }\n",
       "\n",
       "    .dataframe tbody tr th {\n",
       "        vertical-align: top;\n",
       "    }\n",
       "\n",
       "    .dataframe thead th {\n",
       "        text-align: right;\n",
       "    }\n",
       "</style>\n",
       "<table border=\"1\" class=\"dataframe\">\n",
       "  <thead>\n",
       "    <tr style=\"text-align: right;\">\n",
       "      <th></th>\n",
       "      <th>Unnamed: 0</th>\n",
       "      <th>id</th>\n",
       "      <th>mb_used</th>\n",
       "      <th>session_date</th>\n",
       "      <th>user_id</th>\n",
       "    </tr>\n",
       "  </thead>\n",
       "  <tbody>\n",
       "    <tr>\n",
       "      <td>0</td>\n",
       "      <td>0</td>\n",
       "      <td>1000_0</td>\n",
       "      <td>112.95</td>\n",
       "      <td>2018-11-25</td>\n",
       "      <td>1000</td>\n",
       "    </tr>\n",
       "    <tr>\n",
       "      <td>1</td>\n",
       "      <td>1</td>\n",
       "      <td>1000_1</td>\n",
       "      <td>1052.81</td>\n",
       "      <td>2018-09-07</td>\n",
       "      <td>1000</td>\n",
       "    </tr>\n",
       "    <tr>\n",
       "      <td>2</td>\n",
       "      <td>2</td>\n",
       "      <td>1000_2</td>\n",
       "      <td>1197.26</td>\n",
       "      <td>2018-06-25</td>\n",
       "      <td>1000</td>\n",
       "    </tr>\n",
       "    <tr>\n",
       "      <td>3</td>\n",
       "      <td>3</td>\n",
       "      <td>1000_3</td>\n",
       "      <td>550.27</td>\n",
       "      <td>2018-08-22</td>\n",
       "      <td>1000</td>\n",
       "    </tr>\n",
       "    <tr>\n",
       "      <td>4</td>\n",
       "      <td>4</td>\n",
       "      <td>1000_4</td>\n",
       "      <td>302.56</td>\n",
       "      <td>2018-09-24</td>\n",
       "      <td>1000</td>\n",
       "    </tr>\n",
       "  </tbody>\n",
       "</table>\n",
       "</div>"
      ],
      "text/plain": [
       "   Unnamed: 0      id  mb_used session_date  user_id\n",
       "0           0  1000_0   112.95   2018-11-25     1000\n",
       "1           1  1000_1  1052.81   2018-09-07     1000\n",
       "2           2  1000_2  1197.26   2018-06-25     1000\n",
       "3           3  1000_3   550.27   2018-08-22     1000\n",
       "4           4  1000_4   302.56   2018-09-24     1000"
      ]
     },
     "execution_count": 10,
     "metadata": {},
     "output_type": "execute_result"
    }
   ],
   "source": [
    "internet.head()"
   ]
  },
  {
   "cell_type": "code",
   "execution_count": 11,
   "metadata": {},
   "outputs": [
    {
     "data": {
      "text/plain": [
       "Unnamed: 0      0\n",
       "id              0\n",
       "mb_used         0\n",
       "session_date    0\n",
       "user_id         0\n",
       "dtype: int64"
      ]
     },
     "execution_count": 11,
     "metadata": {},
     "output_type": "execute_result"
    }
   ],
   "source": [
    "internet.isna().sum()"
   ]
  },
  {
   "cell_type": "code",
   "execution_count": 12,
   "metadata": {},
   "outputs": [
    {
     "data": {
      "text/plain": [
       "0"
      ]
     },
     "execution_count": 12,
     "metadata": {},
     "output_type": "execute_result"
    }
   ],
   "source": [
    "internet.duplicated().sum()"
   ]
  },
  {
   "cell_type": "code",
   "execution_count": 13,
   "metadata": {},
   "outputs": [
    {
     "data": {
      "text/plain": [
       "101"
      ]
     },
     "execution_count": 13,
     "metadata": {},
     "output_type": "execute_result"
    }
   ],
   "source": [
    "len(internet.query('mb_used < 1 and mb_used > 0'))"
   ]
  },
  {
   "cell_type": "code",
   "execution_count": 14,
   "metadata": {},
   "outputs": [
    {
     "data": {
      "text/plain": [
       "19699"
      ]
     },
     "execution_count": 14,
     "metadata": {},
     "output_type": "execute_result"
    }
   ],
   "source": [
    "len(internet.query('mb_used < 1 '))"
   ]
  },
  {
   "cell_type": "markdown",
   "metadata": {},
   "source": [
    "Вывод по интернету"
   ]
  },
  {
   "cell_type": "markdown",
   "metadata": {},
   "source": [
    "Пустых значений и дубликатов нет, тип данных в столбце session_date поменять на DateTime. Также, можно удалить столбец unnamed (дубликат индексации). Количество сессий с объемом потраченного трафика менее 1 Мб - 19699, количество сессий с объемом потраченного трафика от 0 Мб до 1 Мб - 101 , можно применить метод np.ceil для округления всех значений в большую сторону."
   ]
  },
  {
   "cell_type": "markdown",
   "metadata": {},
   "source": [
    "### Рассмотрим сообщения"
   ]
  },
  {
   "cell_type": "code",
   "execution_count": 15,
   "metadata": {},
   "outputs": [
    {
     "name": "stdout",
     "output_type": "stream",
     "text": [
      "<class 'pandas.core.frame.DataFrame'>\n",
      "RangeIndex: 123036 entries, 0 to 123035\n",
      "Data columns (total 3 columns):\n",
      "id              123036 non-null object\n",
      "message_date    123036 non-null object\n",
      "user_id         123036 non-null int64\n",
      "dtypes: int64(1), object(2)\n",
      "memory usage: 2.8+ MB\n"
     ]
    }
   ],
   "source": [
    "messages.info()"
   ]
  },
  {
   "cell_type": "code",
   "execution_count": 16,
   "metadata": {},
   "outputs": [
    {
     "data": {
      "text/html": [
       "<div>\n",
       "<style scoped>\n",
       "    .dataframe tbody tr th:only-of-type {\n",
       "        vertical-align: middle;\n",
       "    }\n",
       "\n",
       "    .dataframe tbody tr th {\n",
       "        vertical-align: top;\n",
       "    }\n",
       "\n",
       "    .dataframe thead th {\n",
       "        text-align: right;\n",
       "    }\n",
       "</style>\n",
       "<table border=\"1\" class=\"dataframe\">\n",
       "  <thead>\n",
       "    <tr style=\"text-align: right;\">\n",
       "      <th></th>\n",
       "      <th>id</th>\n",
       "      <th>message_date</th>\n",
       "      <th>user_id</th>\n",
       "    </tr>\n",
       "  </thead>\n",
       "  <tbody>\n",
       "    <tr>\n",
       "      <td>0</td>\n",
       "      <td>1000_0</td>\n",
       "      <td>2018-06-27</td>\n",
       "      <td>1000</td>\n",
       "    </tr>\n",
       "    <tr>\n",
       "      <td>1</td>\n",
       "      <td>1000_1</td>\n",
       "      <td>2018-10-08</td>\n",
       "      <td>1000</td>\n",
       "    </tr>\n",
       "    <tr>\n",
       "      <td>2</td>\n",
       "      <td>1000_2</td>\n",
       "      <td>2018-08-04</td>\n",
       "      <td>1000</td>\n",
       "    </tr>\n",
       "    <tr>\n",
       "      <td>3</td>\n",
       "      <td>1000_3</td>\n",
       "      <td>2018-06-16</td>\n",
       "      <td>1000</td>\n",
       "    </tr>\n",
       "    <tr>\n",
       "      <td>4</td>\n",
       "      <td>1000_4</td>\n",
       "      <td>2018-12-05</td>\n",
       "      <td>1000</td>\n",
       "    </tr>\n",
       "  </tbody>\n",
       "</table>\n",
       "</div>"
      ],
      "text/plain": [
       "       id message_date  user_id\n",
       "0  1000_0   2018-06-27     1000\n",
       "1  1000_1   2018-10-08     1000\n",
       "2  1000_2   2018-08-04     1000\n",
       "3  1000_3   2018-06-16     1000\n",
       "4  1000_4   2018-12-05     1000"
      ]
     },
     "execution_count": 16,
     "metadata": {},
     "output_type": "execute_result"
    }
   ],
   "source": [
    "messages.head()"
   ]
  },
  {
   "cell_type": "code",
   "execution_count": 17,
   "metadata": {},
   "outputs": [
    {
     "data": {
      "text/plain": [
       "id              0\n",
       "message_date    0\n",
       "user_id         0\n",
       "dtype: int64"
      ]
     },
     "execution_count": 17,
     "metadata": {},
     "output_type": "execute_result"
    }
   ],
   "source": [
    "messages.isna().sum()"
   ]
  },
  {
   "cell_type": "code",
   "execution_count": 18,
   "metadata": {},
   "outputs": [
    {
     "data": {
      "text/plain": [
       "0"
      ]
     },
     "execution_count": 18,
     "metadata": {},
     "output_type": "execute_result"
    }
   ],
   "source": [
    "messages.duplicated().sum()"
   ]
  },
  {
   "cell_type": "markdown",
   "metadata": {},
   "source": [
    "Вывод по сообщекниям"
   ]
  },
  {
   "cell_type": "markdown",
   "metadata": {},
   "source": [
    "Пустых значенийи и дубликатов нет, тип данных для столбца message_date заменим на DateTime"
   ]
  },
  {
   "cell_type": "markdown",
   "metadata": {},
   "source": [
    "### Рассмотрим тарифы"
   ]
  },
  {
   "cell_type": "code",
   "execution_count": 19,
   "metadata": {},
   "outputs": [
    {
     "name": "stdout",
     "output_type": "stream",
     "text": [
      "<class 'pandas.core.frame.DataFrame'>\n",
      "RangeIndex: 2 entries, 0 to 1\n",
      "Data columns (total 8 columns):\n",
      "messages_included        2 non-null int64\n",
      "mb_per_month_included    2 non-null int64\n",
      "minutes_included         2 non-null int64\n",
      "rub_monthly_fee          2 non-null int64\n",
      "rub_per_gb               2 non-null int64\n",
      "rub_per_message          2 non-null int64\n",
      "rub_per_minute           2 non-null int64\n",
      "tariff_name              2 non-null object\n",
      "dtypes: int64(7), object(1)\n",
      "memory usage: 256.0+ bytes\n"
     ]
    }
   ],
   "source": [
    "tariffs.info()"
   ]
  },
  {
   "cell_type": "code",
   "execution_count": 20,
   "metadata": {},
   "outputs": [
    {
     "data": {
      "text/html": [
       "<div>\n",
       "<style scoped>\n",
       "    .dataframe tbody tr th:only-of-type {\n",
       "        vertical-align: middle;\n",
       "    }\n",
       "\n",
       "    .dataframe tbody tr th {\n",
       "        vertical-align: top;\n",
       "    }\n",
       "\n",
       "    .dataframe thead th {\n",
       "        text-align: right;\n",
       "    }\n",
       "</style>\n",
       "<table border=\"1\" class=\"dataframe\">\n",
       "  <thead>\n",
       "    <tr style=\"text-align: right;\">\n",
       "      <th></th>\n",
       "      <th>messages_included</th>\n",
       "      <th>mb_per_month_included</th>\n",
       "      <th>minutes_included</th>\n",
       "      <th>rub_monthly_fee</th>\n",
       "      <th>rub_per_gb</th>\n",
       "      <th>rub_per_message</th>\n",
       "      <th>rub_per_minute</th>\n",
       "      <th>tariff_name</th>\n",
       "    </tr>\n",
       "  </thead>\n",
       "  <tbody>\n",
       "    <tr>\n",
       "      <td>0</td>\n",
       "      <td>50</td>\n",
       "      <td>15360</td>\n",
       "      <td>500</td>\n",
       "      <td>550</td>\n",
       "      <td>200</td>\n",
       "      <td>3</td>\n",
       "      <td>3</td>\n",
       "      <td>smart</td>\n",
       "    </tr>\n",
       "    <tr>\n",
       "      <td>1</td>\n",
       "      <td>1000</td>\n",
       "      <td>30720</td>\n",
       "      <td>3000</td>\n",
       "      <td>1950</td>\n",
       "      <td>150</td>\n",
       "      <td>1</td>\n",
       "      <td>1</td>\n",
       "      <td>ultra</td>\n",
       "    </tr>\n",
       "  </tbody>\n",
       "</table>\n",
       "</div>"
      ],
      "text/plain": [
       "   messages_included  mb_per_month_included  minutes_included  \\\n",
       "0                 50                  15360               500   \n",
       "1               1000                  30720              3000   \n",
       "\n",
       "   rub_monthly_fee  rub_per_gb  rub_per_message  rub_per_minute tariff_name  \n",
       "0              550         200                3               3       smart  \n",
       "1             1950         150                1               1       ultra  "
      ]
     },
     "execution_count": 20,
     "metadata": {},
     "output_type": "execute_result"
    }
   ],
   "source": [
    "tariffs.head()"
   ]
  },
  {
   "cell_type": "code",
   "execution_count": 21,
   "metadata": {},
   "outputs": [
    {
     "data": {
      "text/plain": [
       "messages_included        0\n",
       "mb_per_month_included    0\n",
       "minutes_included         0\n",
       "rub_monthly_fee          0\n",
       "rub_per_gb               0\n",
       "rub_per_message          0\n",
       "rub_per_minute           0\n",
       "tariff_name              0\n",
       "dtype: int64"
      ]
     },
     "execution_count": 21,
     "metadata": {},
     "output_type": "execute_result"
    }
   ],
   "source": [
    "tariffs.isna().sum()"
   ]
  },
  {
   "cell_type": "code",
   "execution_count": 22,
   "metadata": {},
   "outputs": [
    {
     "data": {
      "text/plain": [
       "0"
      ]
     },
     "execution_count": 22,
     "metadata": {},
     "output_type": "execute_result"
    }
   ],
   "source": [
    "tariffs.duplicated().sum()"
   ]
  },
  {
   "cell_type": "markdown",
   "metadata": {},
   "source": [
    "Вывод по тарифам"
   ]
  },
  {
   "cell_type": "markdown",
   "metadata": {},
   "source": [
    "Пустых значений и дубликатов нет, тип данных везде корректный"
   ]
  },
  {
   "cell_type": "markdown",
   "metadata": {},
   "source": [
    "### Рассмотрим пользователей"
   ]
  },
  {
   "cell_type": "code",
   "execution_count": 23,
   "metadata": {},
   "outputs": [
    {
     "name": "stdout",
     "output_type": "stream",
     "text": [
      "<class 'pandas.core.frame.DataFrame'>\n",
      "RangeIndex: 500 entries, 0 to 499\n",
      "Data columns (total 8 columns):\n",
      "user_id       500 non-null int64\n",
      "age           500 non-null int64\n",
      "churn_date    38 non-null object\n",
      "city          500 non-null object\n",
      "first_name    500 non-null object\n",
      "last_name     500 non-null object\n",
      "reg_date      500 non-null object\n",
      "tariff        500 non-null object\n",
      "dtypes: int64(2), object(6)\n",
      "memory usage: 31.4+ KB\n"
     ]
    }
   ],
   "source": [
    "users.info()"
   ]
  },
  {
   "cell_type": "code",
   "execution_count": 24,
   "metadata": {},
   "outputs": [
    {
     "data": {
      "text/html": [
       "<div>\n",
       "<style scoped>\n",
       "    .dataframe tbody tr th:only-of-type {\n",
       "        vertical-align: middle;\n",
       "    }\n",
       "\n",
       "    .dataframe tbody tr th {\n",
       "        vertical-align: top;\n",
       "    }\n",
       "\n",
       "    .dataframe thead th {\n",
       "        text-align: right;\n",
       "    }\n",
       "</style>\n",
       "<table border=\"1\" class=\"dataframe\">\n",
       "  <thead>\n",
       "    <tr style=\"text-align: right;\">\n",
       "      <th></th>\n",
       "      <th>user_id</th>\n",
       "      <th>age</th>\n",
       "      <th>churn_date</th>\n",
       "      <th>city</th>\n",
       "      <th>first_name</th>\n",
       "      <th>last_name</th>\n",
       "      <th>reg_date</th>\n",
       "      <th>tariff</th>\n",
       "    </tr>\n",
       "  </thead>\n",
       "  <tbody>\n",
       "    <tr>\n",
       "      <td>0</td>\n",
       "      <td>1000</td>\n",
       "      <td>52</td>\n",
       "      <td>NaN</td>\n",
       "      <td>Краснодар</td>\n",
       "      <td>Рафаил</td>\n",
       "      <td>Верещагин</td>\n",
       "      <td>2018-05-25</td>\n",
       "      <td>ultra</td>\n",
       "    </tr>\n",
       "    <tr>\n",
       "      <td>1</td>\n",
       "      <td>1001</td>\n",
       "      <td>41</td>\n",
       "      <td>NaN</td>\n",
       "      <td>Москва</td>\n",
       "      <td>Иван</td>\n",
       "      <td>Ежов</td>\n",
       "      <td>2018-11-01</td>\n",
       "      <td>smart</td>\n",
       "    </tr>\n",
       "    <tr>\n",
       "      <td>2</td>\n",
       "      <td>1002</td>\n",
       "      <td>59</td>\n",
       "      <td>NaN</td>\n",
       "      <td>Стерлитамак</td>\n",
       "      <td>Евгений</td>\n",
       "      <td>Абрамович</td>\n",
       "      <td>2018-06-17</td>\n",
       "      <td>smart</td>\n",
       "    </tr>\n",
       "    <tr>\n",
       "      <td>3</td>\n",
       "      <td>1003</td>\n",
       "      <td>23</td>\n",
       "      <td>NaN</td>\n",
       "      <td>Москва</td>\n",
       "      <td>Белла</td>\n",
       "      <td>Белякова</td>\n",
       "      <td>2018-08-17</td>\n",
       "      <td>ultra</td>\n",
       "    </tr>\n",
       "    <tr>\n",
       "      <td>4</td>\n",
       "      <td>1004</td>\n",
       "      <td>68</td>\n",
       "      <td>NaN</td>\n",
       "      <td>Новокузнецк</td>\n",
       "      <td>Татьяна</td>\n",
       "      <td>Авдеенко</td>\n",
       "      <td>2018-05-14</td>\n",
       "      <td>ultra</td>\n",
       "    </tr>\n",
       "  </tbody>\n",
       "</table>\n",
       "</div>"
      ],
      "text/plain": [
       "   user_id  age churn_date         city first_name  last_name    reg_date  \\\n",
       "0     1000   52        NaN    Краснодар     Рафаил  Верещагин  2018-05-25   \n",
       "1     1001   41        NaN       Москва       Иван       Ежов  2018-11-01   \n",
       "2     1002   59        NaN  Стерлитамак    Евгений  Абрамович  2018-06-17   \n",
       "3     1003   23        NaN       Москва      Белла   Белякова  2018-08-17   \n",
       "4     1004   68        NaN  Новокузнецк    Татьяна   Авдеенко  2018-05-14   \n",
       "\n",
       "  tariff  \n",
       "0  ultra  \n",
       "1  smart  \n",
       "2  smart  \n",
       "3  ultra  \n",
       "4  ultra  "
      ]
     },
     "execution_count": 24,
     "metadata": {},
     "output_type": "execute_result"
    }
   ],
   "source": [
    "users.head()"
   ]
  },
  {
   "cell_type": "code",
   "execution_count": 25,
   "metadata": {},
   "outputs": [
    {
     "data": {
      "text/plain": [
       "user_id         0\n",
       "age             0\n",
       "churn_date    462\n",
       "city            0\n",
       "first_name      0\n",
       "last_name       0\n",
       "reg_date        0\n",
       "tariff          0\n",
       "dtype: int64"
      ]
     },
     "execution_count": 25,
     "metadata": {},
     "output_type": "execute_result"
    }
   ],
   "source": [
    "users.isna().sum()"
   ]
  },
  {
   "cell_type": "code",
   "execution_count": 26,
   "metadata": {},
   "outputs": [
    {
     "data": {
      "text/plain": [
       "0"
      ]
     },
     "execution_count": 26,
     "metadata": {},
     "output_type": "execute_result"
    }
   ],
   "source": [
    "users.duplicated().sum()"
   ]
  },
  {
   "cell_type": "code",
   "execution_count": 27,
   "metadata": {},
   "outputs": [
    {
     "data": {
      "text/plain": [
       "smart    351\n",
       "ultra    149\n",
       "Name: tariff, dtype: int64"
      ]
     },
     "execution_count": 27,
     "metadata": {},
     "output_type": "execute_result"
    }
   ],
   "source": [
    "users['tariff'].value_counts()"
   ]
  },
  {
   "cell_type": "markdown",
   "metadata": {},
   "source": [
    "Вывод по пользователям"
   ]
  },
  {
   "cell_type": "markdown",
   "metadata": {},
   "source": [
    "Дубликатов нет, но есть пустые значения в столбце churn_date. Тип данных для столбцов churn_date и reg_date поменять на DateTime. пменять регистр на нижний в city, first_name, last_name. Из 500 пользователей у 351 тариф смарт, а у 149 - ультра"
   ]
  },
  {
   "cell_type": "markdown",
   "metadata": {},
   "source": [
    "### Вывод по общей информации"
   ]
  },
  {
   "cell_type": "markdown",
   "metadata": {},
   "source": [
    "Во всех датасетах 0 пропусков, в одном датасете решить вопрос с дубликатами, в одном датасете удалить столбец. Необходимо будет поменять тип данных. В ряде случаев необходимо округление значений."
   ]
  },
  {
   "cell_type": "markdown",
   "metadata": {},
   "source": [
    "## Подготовка данных"
   ]
  },
  {
   "cell_type": "markdown",
   "metadata": {},
   "source": [
    "Поменяем тип данных"
   ]
  },
  {
   "cell_type": "code",
   "execution_count": 28,
   "metadata": {},
   "outputs": [],
   "source": [
    "calls['id'] = calls['id'].astype('int64')\n",
    "calls['call_date'] = pd.to_datetime(calls['call_date'])"
   ]
  },
  {
   "cell_type": "code",
   "execution_count": 29,
   "metadata": {},
   "outputs": [
    {
     "data": {
      "text/plain": [
       "id                    int64\n",
       "call_date    datetime64[ns]\n",
       "duration            float64\n",
       "user_id               int64\n",
       "dtype: object"
      ]
     },
     "execution_count": 29,
     "metadata": {},
     "output_type": "execute_result"
    }
   ],
   "source": [
    "calls.dtypes"
   ]
  },
  {
   "cell_type": "code",
   "execution_count": 30,
   "metadata": {},
   "outputs": [],
   "source": [
    "messages['id'] = messages['id'].astype('int64')\n",
    "messages['message_date'] = pd.to_datetime(messages['message_date'])"
   ]
  },
  {
   "cell_type": "code",
   "execution_count": 31,
   "metadata": {},
   "outputs": [
    {
     "data": {
      "text/plain": [
       "id                       int64\n",
       "message_date    datetime64[ns]\n",
       "user_id                  int64\n",
       "dtype: object"
      ]
     },
     "execution_count": 31,
     "metadata": {},
     "output_type": "execute_result"
    }
   ],
   "source": [
    "messages.dtypes"
   ]
  },
  {
   "cell_type": "code",
   "execution_count": 32,
   "metadata": {},
   "outputs": [],
   "source": [
    "users['city'] = users['city'].str.lower()\n",
    "users['first_name'] = users['first_name'].str.lower()\n",
    "users['last_name'] = users['last_name'].str.lower()"
   ]
  },
  {
   "cell_type": "code",
   "execution_count": 33,
   "metadata": {},
   "outputs": [],
   "source": [
    "users['churn_date'] = pd.to_datetime(users['churn_date'])\n",
    "users['reg_date'] = pd.to_datetime(users['reg_date'])"
   ]
  },
  {
   "cell_type": "code",
   "execution_count": 34,
   "metadata": {},
   "outputs": [],
   "source": [
    "internet['id'] = internet['id'].astype(int)\n",
    "internet['session_date'] = pd.to_datetime(internet['session_date'])"
   ]
  },
  {
   "cell_type": "code",
   "execution_count": 35,
   "metadata": {},
   "outputs": [],
   "source": [
    "internet.drop('Unnamed: 0', axis = 'columns', inplace = True)"
   ]
  },
  {
   "cell_type": "code",
   "execution_count": 36,
   "metadata": {},
   "outputs": [
    {
     "data": {
      "text/plain": [
       "id                       int64\n",
       "mb_used                float64\n",
       "session_date    datetime64[ns]\n",
       "user_id                  int64\n",
       "dtype: object"
      ]
     },
     "execution_count": 36,
     "metadata": {},
     "output_type": "execute_result"
    }
   ],
   "source": [
    "internet.dtypes"
   ]
  },
  {
   "cell_type": "markdown",
   "metadata": {},
   "source": [
    "Округлим значения в данных"
   ]
  },
  {
   "cell_type": "code",
   "execution_count": 37,
   "metadata": {},
   "outputs": [],
   "source": [
    "calls['duration'] = calls['duration'].apply(np.ceil)\n",
    "calls.loc[calls['duration'] == 0 ,'duration'] = 1\n",
    "internet['mb_used'] = internet['mb_used'].apply(np.ceil)\n",
    "internet.loc[internet['mb_used'] == 0 ,'mb_used'] = 1"
   ]
  },
  {
   "cell_type": "code",
   "execution_count": 38,
   "metadata": {},
   "outputs": [],
   "source": [
    "calls['duration'] = calls['duration'].astype('int64')\n",
    "internet['mb_used'] = internet['mb_used'].astype('int64')"
   ]
  },
  {
   "cell_type": "markdown",
   "metadata": {},
   "source": [
    "### Расчет количества сделанных звонков и израсходованных минут разговора по месяцам"
   ]
  },
  {
   "cell_type": "code",
   "execution_count": 39,
   "metadata": {
    "scrolled": false
   },
   "outputs": [
    {
     "data": {
      "text/html": [
       "<div>\n",
       "<style scoped>\n",
       "    .dataframe tbody tr th:only-of-type {\n",
       "        vertical-align: middle;\n",
       "    }\n",
       "\n",
       "    .dataframe tbody tr th {\n",
       "        vertical-align: top;\n",
       "    }\n",
       "\n",
       "    .dataframe thead tr th {\n",
       "        text-align: left;\n",
       "    }\n",
       "\n",
       "    .dataframe thead tr:last-of-type th {\n",
       "        text-align: right;\n",
       "    }\n",
       "</style>\n",
       "<table border=\"1\" class=\"dataframe\">\n",
       "  <thead>\n",
       "    <tr>\n",
       "      <th></th>\n",
       "      <th></th>\n",
       "      <th>count</th>\n",
       "      <th>sum</th>\n",
       "    </tr>\n",
       "    <tr>\n",
       "      <th></th>\n",
       "      <th></th>\n",
       "      <th>duration</th>\n",
       "      <th>duration</th>\n",
       "    </tr>\n",
       "    <tr>\n",
       "      <th>month</th>\n",
       "      <th>user_id</th>\n",
       "      <th></th>\n",
       "      <th></th>\n",
       "    </tr>\n",
       "  </thead>\n",
       "  <tbody>\n",
       "    <tr>\n",
       "      <td rowspan=\"5\" valign=\"top\">1</td>\n",
       "      <td>1005</td>\n",
       "      <td>15</td>\n",
       "      <td>99</td>\n",
       "    </tr>\n",
       "    <tr>\n",
       "      <td>1032</td>\n",
       "      <td>61</td>\n",
       "      <td>397</td>\n",
       "    </tr>\n",
       "    <tr>\n",
       "      <td>1045</td>\n",
       "      <td>1</td>\n",
       "      <td>9</td>\n",
       "    </tr>\n",
       "    <tr>\n",
       "      <td>1055</td>\n",
       "      <td>64</td>\n",
       "      <td>568</td>\n",
       "    </tr>\n",
       "    <tr>\n",
       "      <td>1071</td>\n",
       "      <td>24</td>\n",
       "      <td>200</td>\n",
       "    </tr>\n",
       "    <tr>\n",
       "      <td>...</td>\n",
       "      <td>...</td>\n",
       "      <td>...</td>\n",
       "      <td>...</td>\n",
       "    </tr>\n",
       "    <tr>\n",
       "      <td rowspan=\"5\" valign=\"top\">12</td>\n",
       "      <td>1494</td>\n",
       "      <td>62</td>\n",
       "      <td>426</td>\n",
       "    </tr>\n",
       "    <tr>\n",
       "      <td>1495</td>\n",
       "      <td>155</td>\n",
       "      <td>1066</td>\n",
       "    </tr>\n",
       "    <tr>\n",
       "      <td>1496</td>\n",
       "      <td>80</td>\n",
       "      <td>533</td>\n",
       "    </tr>\n",
       "    <tr>\n",
       "      <td>1497</td>\n",
       "      <td>71</td>\n",
       "      <td>558</td>\n",
       "    </tr>\n",
       "    <tr>\n",
       "      <td>1499</td>\n",
       "      <td>69</td>\n",
       "      <td>505</td>\n",
       "    </tr>\n",
       "  </tbody>\n",
       "</table>\n",
       "<p>3174 rows × 2 columns</p>\n",
       "</div>"
      ],
      "text/plain": [
       "                 count      sum\n",
       "              duration duration\n",
       "month user_id                  \n",
       "1     1005          15       99\n",
       "      1032          61      397\n",
       "      1045           1        9\n",
       "      1055          64      568\n",
       "      1071          24      200\n",
       "...                ...      ...\n",
       "12    1494          62      426\n",
       "      1495         155     1066\n",
       "      1496          80      533\n",
       "      1497          71      558\n",
       "      1499          69      505\n",
       "\n",
       "[3174 rows x 2 columns]"
      ]
     },
     "execution_count": 39,
     "metadata": {},
     "output_type": "execute_result"
    }
   ],
   "source": [
    "calls['month'] = pd.DatetimeIndex(calls['call_date']).month\n",
    "calls_per_month = calls.pivot_table(index=['month', 'user_id'], values='duration', aggfunc=['count', 'sum'])\n",
    "calls_per_month"
   ]
  },
  {
   "cell_type": "code",
   "execution_count": 40,
   "metadata": {},
   "outputs": [],
   "source": [
    "user_cost = pd.DataFrame()  # создаем датафрейм для анализа каждого пользователя\n",
    "tmp_df = pd.DataFrame(calls_per_month.to_records()) \n",
    "\n",
    "user_cost['user_id'] = tmp_df['user_id']\n",
    "user_cost['month']   = tmp_df['month']\n",
    "user_cost['calls']   = tmp_df.iloc[:, 2]\n",
    "user_cost['minutes'] = tmp_df.iloc[:, 3]"
   ]
  },
  {
   "cell_type": "markdown",
   "metadata": {},
   "source": [
    "### Расчет количества отправленных сообщений по месяцам"
   ]
  },
  {
   "cell_type": "code",
   "execution_count": 41,
   "metadata": {},
   "outputs": [
    {
     "data": {
      "text/html": [
       "<div>\n",
       "<style scoped>\n",
       "    .dataframe tbody tr th:only-of-type {\n",
       "        vertical-align: middle;\n",
       "    }\n",
       "\n",
       "    .dataframe tbody tr th {\n",
       "        vertical-align: top;\n",
       "    }\n",
       "\n",
       "    .dataframe thead th {\n",
       "        text-align: right;\n",
       "    }\n",
       "</style>\n",
       "<table border=\"1\" class=\"dataframe\">\n",
       "  <thead>\n",
       "    <tr style=\"text-align: right;\">\n",
       "      <th></th>\n",
       "      <th></th>\n",
       "      <th>id</th>\n",
       "    </tr>\n",
       "    <tr>\n",
       "      <th>month</th>\n",
       "      <th>user_id</th>\n",
       "      <th></th>\n",
       "    </tr>\n",
       "  </thead>\n",
       "  <tbody>\n",
       "    <tr>\n",
       "      <td rowspan=\"5\" valign=\"top\">1</td>\n",
       "      <td>1005</td>\n",
       "      <td>7</td>\n",
       "    </tr>\n",
       "    <tr>\n",
       "      <td>1032</td>\n",
       "      <td>38</td>\n",
       "    </tr>\n",
       "    <tr>\n",
       "      <td>1045</td>\n",
       "      <td>5</td>\n",
       "    </tr>\n",
       "    <tr>\n",
       "      <td>1055</td>\n",
       "      <td>30</td>\n",
       "    </tr>\n",
       "    <tr>\n",
       "      <td>1071</td>\n",
       "      <td>16</td>\n",
       "    </tr>\n",
       "    <tr>\n",
       "      <td>...</td>\n",
       "      <td>...</td>\n",
       "      <td>...</td>\n",
       "    </tr>\n",
       "    <tr>\n",
       "      <td rowspan=\"5\" valign=\"top\">12</td>\n",
       "      <td>1493</td>\n",
       "      <td>78</td>\n",
       "    </tr>\n",
       "    <tr>\n",
       "      <td>1495</td>\n",
       "      <td>84</td>\n",
       "    </tr>\n",
       "    <tr>\n",
       "      <td>1496</td>\n",
       "      <td>51</td>\n",
       "    </tr>\n",
       "    <tr>\n",
       "      <td>1497</td>\n",
       "      <td>17</td>\n",
       "    </tr>\n",
       "    <tr>\n",
       "      <td>1499</td>\n",
       "      <td>66</td>\n",
       "    </tr>\n",
       "  </tbody>\n",
       "</table>\n",
       "<p>2717 rows × 1 columns</p>\n",
       "</div>"
      ],
      "text/plain": [
       "               id\n",
       "month user_id    \n",
       "1     1005      7\n",
       "      1032     38\n",
       "      1045      5\n",
       "      1055     30\n",
       "      1071     16\n",
       "...            ..\n",
       "12    1493     78\n",
       "      1495     84\n",
       "      1496     51\n",
       "      1497     17\n",
       "      1499     66\n",
       "\n",
       "[2717 rows x 1 columns]"
      ]
     },
     "execution_count": 41,
     "metadata": {},
     "output_type": "execute_result"
    }
   ],
   "source": [
    "messages['month'] = pd.DatetimeIndex(messages['message_date']).month\n",
    "messages_per_month = messages.pivot_table(index=['month','user_id'], values='id', aggfunc='count')\n",
    "messages_per_month"
   ]
  },
  {
   "cell_type": "code",
   "execution_count": 42,
   "metadata": {},
   "outputs": [],
   "source": [
    "tmp_df = pd.DataFrame(messages_per_month.to_records()).rename(columns={'id': 'messages'})\n",
    "user_cost = user_cost.merge(tmp_df, on=['user_id', 'month'], how='outer')"
   ]
  },
  {
   "cell_type": "markdown",
   "metadata": {},
   "source": [
    "### Расчет объема израсходованного интернет-трафика по месяцам"
   ]
  },
  {
   "cell_type": "code",
   "execution_count": 43,
   "metadata": {},
   "outputs": [
    {
     "data": {
      "text/html": [
       "<div>\n",
       "<style scoped>\n",
       "    .dataframe tbody tr th:only-of-type {\n",
       "        vertical-align: middle;\n",
       "    }\n",
       "\n",
       "    .dataframe tbody tr th {\n",
       "        vertical-align: top;\n",
       "    }\n",
       "\n",
       "    .dataframe thead th {\n",
       "        text-align: right;\n",
       "    }\n",
       "</style>\n",
       "<table border=\"1\" class=\"dataframe\">\n",
       "  <thead>\n",
       "    <tr style=\"text-align: right;\">\n",
       "      <th></th>\n",
       "      <th></th>\n",
       "      <th>mb_used</th>\n",
       "    </tr>\n",
       "    <tr>\n",
       "      <th>month</th>\n",
       "      <th>user_id</th>\n",
       "      <th></th>\n",
       "    </tr>\n",
       "  </thead>\n",
       "  <tbody>\n",
       "    <tr>\n",
       "      <td rowspan=\"5\" valign=\"top\">1</td>\n",
       "      <td>1005</td>\n",
       "      <td>2730</td>\n",
       "    </tr>\n",
       "    <tr>\n",
       "      <td>1032</td>\n",
       "      <td>24158</td>\n",
       "    </tr>\n",
       "    <tr>\n",
       "      <td>1045</td>\n",
       "      <td>2348</td>\n",
       "    </tr>\n",
       "    <tr>\n",
       "      <td>1055</td>\n",
       "      <td>17115</td>\n",
       "    </tr>\n",
       "    <tr>\n",
       "      <td>1071</td>\n",
       "      <td>15625</td>\n",
       "    </tr>\n",
       "    <tr>\n",
       "      <td>...</td>\n",
       "      <td>...</td>\n",
       "      <td>...</td>\n",
       "    </tr>\n",
       "    <tr>\n",
       "      <td rowspan=\"5\" valign=\"top\">12</td>\n",
       "      <td>1494</td>\n",
       "      <td>17650</td>\n",
       "    </tr>\n",
       "    <tr>\n",
       "      <td>1495</td>\n",
       "      <td>23451</td>\n",
       "    </tr>\n",
       "    <tr>\n",
       "      <td>1496</td>\n",
       "      <td>20770</td>\n",
       "    </tr>\n",
       "    <tr>\n",
       "      <td>1497</td>\n",
       "      <td>19946</td>\n",
       "    </tr>\n",
       "    <tr>\n",
       "      <td>1499</td>\n",
       "      <td>13082</td>\n",
       "    </tr>\n",
       "  </tbody>\n",
       "</table>\n",
       "<p>3203 rows × 1 columns</p>\n",
       "</div>"
      ],
      "text/plain": [
       "               mb_used\n",
       "month user_id         \n",
       "1     1005        2730\n",
       "      1032       24158\n",
       "      1045        2348\n",
       "      1055       17115\n",
       "      1071       15625\n",
       "...                ...\n",
       "12    1494       17650\n",
       "      1495       23451\n",
       "      1496       20770\n",
       "      1497       19946\n",
       "      1499       13082\n",
       "\n",
       "[3203 rows x 1 columns]"
      ]
     },
     "execution_count": 43,
     "metadata": {},
     "output_type": "execute_result"
    }
   ],
   "source": [
    "internet['month'] = pd.DatetimeIndex(internet['session_date']).month\n",
    "internet_per_month = internet.pivot_table(index=['month','user_id'], values='mb_used', aggfunc='sum')\n",
    "internet_per_month"
   ]
  },
  {
   "cell_type": "code",
   "execution_count": 44,
   "metadata": {},
   "outputs": [],
   "source": [
    "tmp_df = pd.DataFrame(internet_per_month.to_records())\n",
    "user_cost = user_cost.merge(tmp_df, on=['user_id', 'month'], how='outer')"
   ]
  },
  {
   "cell_type": "code",
   "execution_count": 45,
   "metadata": {},
   "outputs": [
    {
     "name": "stdout",
     "output_type": "stream",
     "text": [
      "<class 'pandas.core.frame.DataFrame'>\n",
      "Int64Index: 3214 entries, 0 to 3213\n",
      "Data columns (total 6 columns):\n",
      "user_id     3214 non-null int64\n",
      "month       3214 non-null int64\n",
      "calls       3174 non-null float64\n",
      "minutes     3174 non-null float64\n",
      "messages    2717 non-null float64\n",
      "mb_used     3203 non-null float64\n",
      "dtypes: float64(4), int64(2)\n",
      "memory usage: 175.8 KB\n"
     ]
    }
   ],
   "source": [
    "user_cost.info()"
   ]
  },
  {
   "cell_type": "markdown",
   "metadata": {},
   "source": [
    "В одном датафрйме сейчас можно увидеть следующую информацию по пользователям в разрезе месяца - количество сделанных звонков и израсходованных минут разговора; количество отправленных сообщений и объем израсходованного интернет-трафика в Мб"
   ]
  },
  {
   "cell_type": "markdown",
   "metadata": {},
   "source": [
    "Так как есть пользователи, которые пользовались не всеми услугами в некоторые месяцы, появились пропуски (заполняем их нулями). "
   ]
  },
  {
   "cell_type": "code",
   "execution_count": 46,
   "metadata": {},
   "outputs": [],
   "source": [
    "to_integer = ['calls', 'minutes', 'messages', 'mb_used']\n",
    "for x1 in to_integer:\n",
    "    user_cost[x1] = user_cost[x1].fillna(0).astype('int64')"
   ]
  },
  {
   "cell_type": "code",
   "execution_count": 47,
   "metadata": {
    "scrolled": true
   },
   "outputs": [
    {
     "data": {
      "text/html": [
       "<div>\n",
       "<style scoped>\n",
       "    .dataframe tbody tr th:only-of-type {\n",
       "        vertical-align: middle;\n",
       "    }\n",
       "\n",
       "    .dataframe tbody tr th {\n",
       "        vertical-align: top;\n",
       "    }\n",
       "\n",
       "    .dataframe thead th {\n",
       "        text-align: right;\n",
       "    }\n",
       "</style>\n",
       "<table border=\"1\" class=\"dataframe\">\n",
       "  <thead>\n",
       "    <tr style=\"text-align: right;\">\n",
       "      <th></th>\n",
       "      <th>user_id</th>\n",
       "      <th>month</th>\n",
       "      <th>calls</th>\n",
       "      <th>minutes</th>\n",
       "      <th>messages</th>\n",
       "      <th>mb_used</th>\n",
       "    </tr>\n",
       "  </thead>\n",
       "  <tbody>\n",
       "    <tr>\n",
       "      <td>0</td>\n",
       "      <td>1005</td>\n",
       "      <td>1</td>\n",
       "      <td>15</td>\n",
       "      <td>99</td>\n",
       "      <td>7</td>\n",
       "      <td>2730</td>\n",
       "    </tr>\n",
       "    <tr>\n",
       "      <td>1</td>\n",
       "      <td>1032</td>\n",
       "      <td>1</td>\n",
       "      <td>61</td>\n",
       "      <td>397</td>\n",
       "      <td>38</td>\n",
       "      <td>24158</td>\n",
       "    </tr>\n",
       "    <tr>\n",
       "      <td>2</td>\n",
       "      <td>1045</td>\n",
       "      <td>1</td>\n",
       "      <td>1</td>\n",
       "      <td>9</td>\n",
       "      <td>5</td>\n",
       "      <td>2348</td>\n",
       "    </tr>\n",
       "    <tr>\n",
       "      <td>3</td>\n",
       "      <td>1055</td>\n",
       "      <td>1</td>\n",
       "      <td>64</td>\n",
       "      <td>568</td>\n",
       "      <td>30</td>\n",
       "      <td>17115</td>\n",
       "    </tr>\n",
       "    <tr>\n",
       "      <td>4</td>\n",
       "      <td>1071</td>\n",
       "      <td>1</td>\n",
       "      <td>24</td>\n",
       "      <td>200</td>\n",
       "      <td>16</td>\n",
       "      <td>15625</td>\n",
       "    </tr>\n",
       "    <tr>\n",
       "      <td>5</td>\n",
       "      <td>1113</td>\n",
       "      <td>1</td>\n",
       "      <td>18</td>\n",
       "      <td>115</td>\n",
       "      <td>14</td>\n",
       "      <td>768</td>\n",
       "    </tr>\n",
       "    <tr>\n",
       "      <td>6</td>\n",
       "      <td>1120</td>\n",
       "      <td>1</td>\n",
       "      <td>5</td>\n",
       "      <td>56</td>\n",
       "      <td>0</td>\n",
       "      <td>657</td>\n",
       "    </tr>\n",
       "    <tr>\n",
       "      <td>7</td>\n",
       "      <td>1126</td>\n",
       "      <td>1</td>\n",
       "      <td>35</td>\n",
       "      <td>279</td>\n",
       "      <td>4</td>\n",
       "      <td>16378</td>\n",
       "    </tr>\n",
       "    <tr>\n",
       "      <td>8</td>\n",
       "      <td>1134</td>\n",
       "      <td>1</td>\n",
       "      <td>42</td>\n",
       "      <td>341</td>\n",
       "      <td>32</td>\n",
       "      <td>10218</td>\n",
       "    </tr>\n",
       "    <tr>\n",
       "      <td>9</td>\n",
       "      <td>1135</td>\n",
       "      <td>1</td>\n",
       "      <td>9</td>\n",
       "      <td>90</td>\n",
       "      <td>1</td>\n",
       "      <td>1602</td>\n",
       "    </tr>\n",
       "  </tbody>\n",
       "</table>\n",
       "</div>"
      ],
      "text/plain": [
       "   user_id  month  calls  minutes  messages  mb_used\n",
       "0     1005      1     15       99         7     2730\n",
       "1     1032      1     61      397        38    24158\n",
       "2     1045      1      1        9         5     2348\n",
       "3     1055      1     64      568        30    17115\n",
       "4     1071      1     24      200        16    15625\n",
       "5     1113      1     18      115        14      768\n",
       "6     1120      1      5       56         0      657\n",
       "7     1126      1     35      279         4    16378\n",
       "8     1134      1     42      341        32    10218\n",
       "9     1135      1      9       90         1     1602"
      ]
     },
     "execution_count": 47,
     "metadata": {},
     "output_type": "execute_result"
    }
   ],
   "source": [
    "user_cost.head(10)"
   ]
  },
  {
   "cell_type": "markdown",
   "metadata": {},
   "source": [
    "### Расчет помесячной выручки с каждого пользователя"
   ]
  },
  {
   "cell_type": "markdown",
   "metadata": {},
   "source": [
    "необходимо добавить в датафрейм информацию о пользователях и тарифах"
   ]
  },
  {
   "cell_type": "code",
   "execution_count": 48,
   "metadata": {},
   "outputs": [],
   "source": [
    "# из-за наличия дубликата переименуем название одного столбца\n",
    "tariffs = tariffs.rename(columns={'tariff_name': 'tariff'})"
   ]
  },
  {
   "cell_type": "code",
   "execution_count": 49,
   "metadata": {},
   "outputs": [],
   "source": [
    "user_cost = user_cost.merge(users, on = 'user_id', how = 'left').merge(tariffs, on = 'tariff', how = 'left')"
   ]
  },
  {
   "cell_type": "code",
   "execution_count": 50,
   "metadata": {},
   "outputs": [],
   "source": [
    "# выявим перерасход минут, сообщений и мб\n",
    "user_cost['minutes_over']  = user_cost['minutes'] - user_cost['minutes_included']\n",
    "user_cost['messages_over'] = user_cost['messages'] - user_cost['messages_included']\n",
    "user_cost['mb_used_over']  = user_cost['mb_used'] - user_cost['mb_per_month_included']"
   ]
  },
  {
   "cell_type": "code",
   "execution_count": 51,
   "metadata": {},
   "outputs": [
    {
     "data": {
      "text/html": [
       "<div>\n",
       "<style scoped>\n",
       "    .dataframe tbody tr th:only-of-type {\n",
       "        vertical-align: middle;\n",
       "    }\n",
       "\n",
       "    .dataframe tbody tr th {\n",
       "        vertical-align: top;\n",
       "    }\n",
       "\n",
       "    .dataframe thead th {\n",
       "        text-align: right;\n",
       "    }\n",
       "</style>\n",
       "<table border=\"1\" class=\"dataframe\">\n",
       "  <thead>\n",
       "    <tr style=\"text-align: right;\">\n",
       "      <th></th>\n",
       "      <th>user_id</th>\n",
       "      <th>month</th>\n",
       "      <th>calls</th>\n",
       "      <th>minutes</th>\n",
       "      <th>messages</th>\n",
       "      <th>mb_used</th>\n",
       "      <th>age</th>\n",
       "      <th>churn_date</th>\n",
       "      <th>city</th>\n",
       "      <th>first_name</th>\n",
       "      <th>...</th>\n",
       "      <th>messages_included</th>\n",
       "      <th>mb_per_month_included</th>\n",
       "      <th>minutes_included</th>\n",
       "      <th>rub_monthly_fee</th>\n",
       "      <th>rub_per_gb</th>\n",
       "      <th>rub_per_message</th>\n",
       "      <th>rub_per_minute</th>\n",
       "      <th>minutes_over</th>\n",
       "      <th>messages_over</th>\n",
       "      <th>mb_used_over</th>\n",
       "    </tr>\n",
       "  </thead>\n",
       "  <tbody>\n",
       "    <tr>\n",
       "      <td>0</td>\n",
       "      <td>1005</td>\n",
       "      <td>1</td>\n",
       "      <td>15</td>\n",
       "      <td>99</td>\n",
       "      <td>7</td>\n",
       "      <td>2730</td>\n",
       "      <td>67</td>\n",
       "      <td>NaT</td>\n",
       "      <td>набережные челны</td>\n",
       "      <td>афанасий</td>\n",
       "      <td>...</td>\n",
       "      <td>50</td>\n",
       "      <td>15360</td>\n",
       "      <td>500</td>\n",
       "      <td>550</td>\n",
       "      <td>200</td>\n",
       "      <td>3</td>\n",
       "      <td>3</td>\n",
       "      <td>-401</td>\n",
       "      <td>-43</td>\n",
       "      <td>-12630</td>\n",
       "    </tr>\n",
       "    <tr>\n",
       "      <td>1</td>\n",
       "      <td>1032</td>\n",
       "      <td>1</td>\n",
       "      <td>61</td>\n",
       "      <td>397</td>\n",
       "      <td>38</td>\n",
       "      <td>24158</td>\n",
       "      <td>31</td>\n",
       "      <td>NaT</td>\n",
       "      <td>ульяновск</td>\n",
       "      <td>инна</td>\n",
       "      <td>...</td>\n",
       "      <td>50</td>\n",
       "      <td>15360</td>\n",
       "      <td>500</td>\n",
       "      <td>550</td>\n",
       "      <td>200</td>\n",
       "      <td>3</td>\n",
       "      <td>3</td>\n",
       "      <td>-103</td>\n",
       "      <td>-12</td>\n",
       "      <td>8798</td>\n",
       "    </tr>\n",
       "    <tr>\n",
       "      <td>2</td>\n",
       "      <td>1045</td>\n",
       "      <td>1</td>\n",
       "      <td>1</td>\n",
       "      <td>9</td>\n",
       "      <td>5</td>\n",
       "      <td>2348</td>\n",
       "      <td>48</td>\n",
       "      <td>NaT</td>\n",
       "      <td>улан-удэ</td>\n",
       "      <td>джемма</td>\n",
       "      <td>...</td>\n",
       "      <td>50</td>\n",
       "      <td>15360</td>\n",
       "      <td>500</td>\n",
       "      <td>550</td>\n",
       "      <td>200</td>\n",
       "      <td>3</td>\n",
       "      <td>3</td>\n",
       "      <td>-491</td>\n",
       "      <td>-45</td>\n",
       "      <td>-13012</td>\n",
       "    </tr>\n",
       "    <tr>\n",
       "      <td>3</td>\n",
       "      <td>1055</td>\n",
       "      <td>1</td>\n",
       "      <td>64</td>\n",
       "      <td>568</td>\n",
       "      <td>30</td>\n",
       "      <td>17115</td>\n",
       "      <td>39</td>\n",
       "      <td>NaT</td>\n",
       "      <td>казань</td>\n",
       "      <td>луиза</td>\n",
       "      <td>...</td>\n",
       "      <td>50</td>\n",
       "      <td>15360</td>\n",
       "      <td>500</td>\n",
       "      <td>550</td>\n",
       "      <td>200</td>\n",
       "      <td>3</td>\n",
       "      <td>3</td>\n",
       "      <td>68</td>\n",
       "      <td>-20</td>\n",
       "      <td>1755</td>\n",
       "    </tr>\n",
       "    <tr>\n",
       "      <td>4</td>\n",
       "      <td>1071</td>\n",
       "      <td>1</td>\n",
       "      <td>24</td>\n",
       "      <td>200</td>\n",
       "      <td>16</td>\n",
       "      <td>15625</td>\n",
       "      <td>20</td>\n",
       "      <td>2018-08-31</td>\n",
       "      <td>омск</td>\n",
       "      <td>гектор</td>\n",
       "      <td>...</td>\n",
       "      <td>50</td>\n",
       "      <td>15360</td>\n",
       "      <td>500</td>\n",
       "      <td>550</td>\n",
       "      <td>200</td>\n",
       "      <td>3</td>\n",
       "      <td>3</td>\n",
       "      <td>-300</td>\n",
       "      <td>-34</td>\n",
       "      <td>265</td>\n",
       "    </tr>\n",
       "    <tr>\n",
       "      <td>5</td>\n",
       "      <td>1113</td>\n",
       "      <td>1</td>\n",
       "      <td>18</td>\n",
       "      <td>115</td>\n",
       "      <td>14</td>\n",
       "      <td>768</td>\n",
       "      <td>52</td>\n",
       "      <td>NaT</td>\n",
       "      <td>чита</td>\n",
       "      <td>харитон</td>\n",
       "      <td>...</td>\n",
       "      <td>50</td>\n",
       "      <td>15360</td>\n",
       "      <td>500</td>\n",
       "      <td>550</td>\n",
       "      <td>200</td>\n",
       "      <td>3</td>\n",
       "      <td>3</td>\n",
       "      <td>-385</td>\n",
       "      <td>-36</td>\n",
       "      <td>-14592</td>\n",
       "    </tr>\n",
       "    <tr>\n",
       "      <td>6</td>\n",
       "      <td>1120</td>\n",
       "      <td>1</td>\n",
       "      <td>5</td>\n",
       "      <td>56</td>\n",
       "      <td>0</td>\n",
       "      <td>657</td>\n",
       "      <td>25</td>\n",
       "      <td>NaT</td>\n",
       "      <td>краснодар</td>\n",
       "      <td>агнесса</td>\n",
       "      <td>...</td>\n",
       "      <td>1000</td>\n",
       "      <td>30720</td>\n",
       "      <td>3000</td>\n",
       "      <td>1950</td>\n",
       "      <td>150</td>\n",
       "      <td>1</td>\n",
       "      <td>1</td>\n",
       "      <td>-2944</td>\n",
       "      <td>-1000</td>\n",
       "      <td>-30063</td>\n",
       "    </tr>\n",
       "    <tr>\n",
       "      <td>7</td>\n",
       "      <td>1126</td>\n",
       "      <td>1</td>\n",
       "      <td>35</td>\n",
       "      <td>279</td>\n",
       "      <td>4</td>\n",
       "      <td>16378</td>\n",
       "      <td>71</td>\n",
       "      <td>NaT</td>\n",
       "      <td>санкт-петербург</td>\n",
       "      <td>яна</td>\n",
       "      <td>...</td>\n",
       "      <td>1000</td>\n",
       "      <td>30720</td>\n",
       "      <td>3000</td>\n",
       "      <td>1950</td>\n",
       "      <td>150</td>\n",
       "      <td>1</td>\n",
       "      <td>1</td>\n",
       "      <td>-2721</td>\n",
       "      <td>-996</td>\n",
       "      <td>-14342</td>\n",
       "    </tr>\n",
       "    <tr>\n",
       "      <td>8</td>\n",
       "      <td>1134</td>\n",
       "      <td>1</td>\n",
       "      <td>42</td>\n",
       "      <td>341</td>\n",
       "      <td>32</td>\n",
       "      <td>10218</td>\n",
       "      <td>65</td>\n",
       "      <td>NaT</td>\n",
       "      <td>красноярск</td>\n",
       "      <td>марьяна</td>\n",
       "      <td>...</td>\n",
       "      <td>50</td>\n",
       "      <td>15360</td>\n",
       "      <td>500</td>\n",
       "      <td>550</td>\n",
       "      <td>200</td>\n",
       "      <td>3</td>\n",
       "      <td>3</td>\n",
       "      <td>-159</td>\n",
       "      <td>-18</td>\n",
       "      <td>-5142</td>\n",
       "    </tr>\n",
       "    <tr>\n",
       "      <td>9</td>\n",
       "      <td>1135</td>\n",
       "      <td>1</td>\n",
       "      <td>9</td>\n",
       "      <td>90</td>\n",
       "      <td>1</td>\n",
       "      <td>1602</td>\n",
       "      <td>64</td>\n",
       "      <td>NaT</td>\n",
       "      <td>архангельск</td>\n",
       "      <td>милена</td>\n",
       "      <td>...</td>\n",
       "      <td>50</td>\n",
       "      <td>15360</td>\n",
       "      <td>500</td>\n",
       "      <td>550</td>\n",
       "      <td>200</td>\n",
       "      <td>3</td>\n",
       "      <td>3</td>\n",
       "      <td>-410</td>\n",
       "      <td>-49</td>\n",
       "      <td>-13758</td>\n",
       "    </tr>\n",
       "  </tbody>\n",
       "</table>\n",
       "<p>10 rows × 23 columns</p>\n",
       "</div>"
      ],
      "text/plain": [
       "   user_id  month  calls  minutes  messages  mb_used  age churn_date  \\\n",
       "0     1005      1     15       99         7     2730   67        NaT   \n",
       "1     1032      1     61      397        38    24158   31        NaT   \n",
       "2     1045      1      1        9         5     2348   48        NaT   \n",
       "3     1055      1     64      568        30    17115   39        NaT   \n",
       "4     1071      1     24      200        16    15625   20 2018-08-31   \n",
       "5     1113      1     18      115        14      768   52        NaT   \n",
       "6     1120      1      5       56         0      657   25        NaT   \n",
       "7     1126      1     35      279         4    16378   71        NaT   \n",
       "8     1134      1     42      341        32    10218   65        NaT   \n",
       "9     1135      1      9       90         1     1602   64        NaT   \n",
       "\n",
       "               city first_name  ... messages_included mb_per_month_included  \\\n",
       "0  набережные челны   афанасий  ...                50                 15360   \n",
       "1         ульяновск       инна  ...                50                 15360   \n",
       "2          улан-удэ     джемма  ...                50                 15360   \n",
       "3            казань      луиза  ...                50                 15360   \n",
       "4              омск     гектор  ...                50                 15360   \n",
       "5              чита    харитон  ...                50                 15360   \n",
       "6         краснодар    агнесса  ...              1000                 30720   \n",
       "7   санкт-петербург        яна  ...              1000                 30720   \n",
       "8        красноярск    марьяна  ...                50                 15360   \n",
       "9       архангельск     милена  ...                50                 15360   \n",
       "\n",
       "  minutes_included  rub_monthly_fee  rub_per_gb  rub_per_message  \\\n",
       "0              500              550         200                3   \n",
       "1              500              550         200                3   \n",
       "2              500              550         200                3   \n",
       "3              500              550         200                3   \n",
       "4              500              550         200                3   \n",
       "5              500              550         200                3   \n",
       "6             3000             1950         150                1   \n",
       "7             3000             1950         150                1   \n",
       "8              500              550         200                3   \n",
       "9              500              550         200                3   \n",
       "\n",
       "   rub_per_minute  minutes_over  messages_over  mb_used_over  \n",
       "0               3          -401            -43        -12630  \n",
       "1               3          -103            -12          8798  \n",
       "2               3          -491            -45        -13012  \n",
       "3               3            68            -20          1755  \n",
       "4               3          -300            -34           265  \n",
       "5               3          -385            -36        -14592  \n",
       "6               1         -2944          -1000        -30063  \n",
       "7               1         -2721           -996        -14342  \n",
       "8               3          -159            -18         -5142  \n",
       "9               3          -410            -49        -13758  \n",
       "\n",
       "[10 rows x 23 columns]"
      ]
     },
     "execution_count": 51,
     "metadata": {},
     "output_type": "execute_result"
    }
   ],
   "source": [
    "user_cost.head(10)"
   ]
  },
  {
   "cell_type": "markdown",
   "metadata": {},
   "source": [
    "В данном случае если значение + , это перерасход, если значение - , это в рамках тарифа"
   ]
  },
  {
   "cell_type": "code",
   "execution_count": 52,
   "metadata": {},
   "outputs": [],
   "source": [
    "# функция расчета стоимости дополнительных минут, сообщений и мб\n",
    "def month_price(row):\n",
    "    min_price = 0\n",
    "    mess_price = 0\n",
    "    mb_price = 0    \n",
    "    # стоимость дополнительных минут, остаток умножаемм на значение из тарифного плана\n",
    "    if row['minutes_over'] > 0:\n",
    "        min_price = row['minutes_over'] * row['rub_per_minute']\n",
    "    # стоимость дополнительных сообщений, остаток умножаемм на значение из тарифного плана\n",
    "    if row['messages_over'] > 0:\n",
    "        mess_price = row['messages_over'] * row['rub_per_message']\n",
    "    # стоимость дополнительного трафика, остаток умножаемм на значение из тарифного плана\n",
    "    if row['mb_used_over'] > 0:\n",
    "        mb_price = (row['mb_used_over'] / 1024) * row['rub_per_gb']    \n",
    "    return min_price + mess_price + mb_price"
   ]
  },
  {
   "cell_type": "code",
   "execution_count": 53,
   "metadata": {},
   "outputs": [],
   "source": [
    "user_cost['overlimit_rub_per_month'] = user_cost.apply(month_price, axis=1)\n",
    "user_cost['total_rub_per_month'] = user_cost['rub_monthly_fee'] + user_cost['overlimit_rub_per_month']"
   ]
  },
  {
   "cell_type": "code",
   "execution_count": 54,
   "metadata": {
    "scrolled": false
   },
   "outputs": [
    {
     "data": {
      "text/html": [
       "<div>\n",
       "<style scoped>\n",
       "    .dataframe tbody tr th:only-of-type {\n",
       "        vertical-align: middle;\n",
       "    }\n",
       "\n",
       "    .dataframe tbody tr th {\n",
       "        vertical-align: top;\n",
       "    }\n",
       "\n",
       "    .dataframe thead th {\n",
       "        text-align: right;\n",
       "    }\n",
       "</style>\n",
       "<table border=\"1\" class=\"dataframe\">\n",
       "  <thead>\n",
       "    <tr style=\"text-align: right;\">\n",
       "      <th></th>\n",
       "      <th>user_id</th>\n",
       "      <th>month</th>\n",
       "      <th>calls</th>\n",
       "      <th>minutes</th>\n",
       "      <th>messages</th>\n",
       "      <th>mb_used</th>\n",
       "      <th>age</th>\n",
       "      <th>churn_date</th>\n",
       "      <th>city</th>\n",
       "      <th>first_name</th>\n",
       "      <th>...</th>\n",
       "      <th>minutes_included</th>\n",
       "      <th>rub_monthly_fee</th>\n",
       "      <th>rub_per_gb</th>\n",
       "      <th>rub_per_message</th>\n",
       "      <th>rub_per_minute</th>\n",
       "      <th>minutes_over</th>\n",
       "      <th>messages_over</th>\n",
       "      <th>mb_used_over</th>\n",
       "      <th>overlimit_rub_per_month</th>\n",
       "      <th>total_rub_per_month</th>\n",
       "    </tr>\n",
       "  </thead>\n",
       "  <tbody>\n",
       "    <tr>\n",
       "      <td>0</td>\n",
       "      <td>1005</td>\n",
       "      <td>1</td>\n",
       "      <td>15</td>\n",
       "      <td>99</td>\n",
       "      <td>7</td>\n",
       "      <td>2730</td>\n",
       "      <td>67</td>\n",
       "      <td>NaT</td>\n",
       "      <td>набережные челны</td>\n",
       "      <td>афанасий</td>\n",
       "      <td>...</td>\n",
       "      <td>500</td>\n",
       "      <td>550</td>\n",
       "      <td>200</td>\n",
       "      <td>3</td>\n",
       "      <td>3</td>\n",
       "      <td>-401</td>\n",
       "      <td>-43</td>\n",
       "      <td>-12630</td>\n",
       "      <td>0.000000</td>\n",
       "      <td>550.000000</td>\n",
       "    </tr>\n",
       "    <tr>\n",
       "      <td>1</td>\n",
       "      <td>1032</td>\n",
       "      <td>1</td>\n",
       "      <td>61</td>\n",
       "      <td>397</td>\n",
       "      <td>38</td>\n",
       "      <td>24158</td>\n",
       "      <td>31</td>\n",
       "      <td>NaT</td>\n",
       "      <td>ульяновск</td>\n",
       "      <td>инна</td>\n",
       "      <td>...</td>\n",
       "      <td>500</td>\n",
       "      <td>550</td>\n",
       "      <td>200</td>\n",
       "      <td>3</td>\n",
       "      <td>3</td>\n",
       "      <td>-103</td>\n",
       "      <td>-12</td>\n",
       "      <td>8798</td>\n",
       "      <td>1718.359375</td>\n",
       "      <td>2268.359375</td>\n",
       "    </tr>\n",
       "    <tr>\n",
       "      <td>2</td>\n",
       "      <td>1045</td>\n",
       "      <td>1</td>\n",
       "      <td>1</td>\n",
       "      <td>9</td>\n",
       "      <td>5</td>\n",
       "      <td>2348</td>\n",
       "      <td>48</td>\n",
       "      <td>NaT</td>\n",
       "      <td>улан-удэ</td>\n",
       "      <td>джемма</td>\n",
       "      <td>...</td>\n",
       "      <td>500</td>\n",
       "      <td>550</td>\n",
       "      <td>200</td>\n",
       "      <td>3</td>\n",
       "      <td>3</td>\n",
       "      <td>-491</td>\n",
       "      <td>-45</td>\n",
       "      <td>-13012</td>\n",
       "      <td>0.000000</td>\n",
       "      <td>550.000000</td>\n",
       "    </tr>\n",
       "    <tr>\n",
       "      <td>3</td>\n",
       "      <td>1055</td>\n",
       "      <td>1</td>\n",
       "      <td>64</td>\n",
       "      <td>568</td>\n",
       "      <td>30</td>\n",
       "      <td>17115</td>\n",
       "      <td>39</td>\n",
       "      <td>NaT</td>\n",
       "      <td>казань</td>\n",
       "      <td>луиза</td>\n",
       "      <td>...</td>\n",
       "      <td>500</td>\n",
       "      <td>550</td>\n",
       "      <td>200</td>\n",
       "      <td>3</td>\n",
       "      <td>3</td>\n",
       "      <td>68</td>\n",
       "      <td>-20</td>\n",
       "      <td>1755</td>\n",
       "      <td>546.773438</td>\n",
       "      <td>1096.773438</td>\n",
       "    </tr>\n",
       "    <tr>\n",
       "      <td>4</td>\n",
       "      <td>1071</td>\n",
       "      <td>1</td>\n",
       "      <td>24</td>\n",
       "      <td>200</td>\n",
       "      <td>16</td>\n",
       "      <td>15625</td>\n",
       "      <td>20</td>\n",
       "      <td>2018-08-31</td>\n",
       "      <td>омск</td>\n",
       "      <td>гектор</td>\n",
       "      <td>...</td>\n",
       "      <td>500</td>\n",
       "      <td>550</td>\n",
       "      <td>200</td>\n",
       "      <td>3</td>\n",
       "      <td>3</td>\n",
       "      <td>-300</td>\n",
       "      <td>-34</td>\n",
       "      <td>265</td>\n",
       "      <td>51.757812</td>\n",
       "      <td>601.757812</td>\n",
       "    </tr>\n",
       "    <tr>\n",
       "      <td>5</td>\n",
       "      <td>1113</td>\n",
       "      <td>1</td>\n",
       "      <td>18</td>\n",
       "      <td>115</td>\n",
       "      <td>14</td>\n",
       "      <td>768</td>\n",
       "      <td>52</td>\n",
       "      <td>NaT</td>\n",
       "      <td>чита</td>\n",
       "      <td>харитон</td>\n",
       "      <td>...</td>\n",
       "      <td>500</td>\n",
       "      <td>550</td>\n",
       "      <td>200</td>\n",
       "      <td>3</td>\n",
       "      <td>3</td>\n",
       "      <td>-385</td>\n",
       "      <td>-36</td>\n",
       "      <td>-14592</td>\n",
       "      <td>0.000000</td>\n",
       "      <td>550.000000</td>\n",
       "    </tr>\n",
       "    <tr>\n",
       "      <td>6</td>\n",
       "      <td>1120</td>\n",
       "      <td>1</td>\n",
       "      <td>5</td>\n",
       "      <td>56</td>\n",
       "      <td>0</td>\n",
       "      <td>657</td>\n",
       "      <td>25</td>\n",
       "      <td>NaT</td>\n",
       "      <td>краснодар</td>\n",
       "      <td>агнесса</td>\n",
       "      <td>...</td>\n",
       "      <td>3000</td>\n",
       "      <td>1950</td>\n",
       "      <td>150</td>\n",
       "      <td>1</td>\n",
       "      <td>1</td>\n",
       "      <td>-2944</td>\n",
       "      <td>-1000</td>\n",
       "      <td>-30063</td>\n",
       "      <td>0.000000</td>\n",
       "      <td>1950.000000</td>\n",
       "    </tr>\n",
       "    <tr>\n",
       "      <td>7</td>\n",
       "      <td>1126</td>\n",
       "      <td>1</td>\n",
       "      <td>35</td>\n",
       "      <td>279</td>\n",
       "      <td>4</td>\n",
       "      <td>16378</td>\n",
       "      <td>71</td>\n",
       "      <td>NaT</td>\n",
       "      <td>санкт-петербург</td>\n",
       "      <td>яна</td>\n",
       "      <td>...</td>\n",
       "      <td>3000</td>\n",
       "      <td>1950</td>\n",
       "      <td>150</td>\n",
       "      <td>1</td>\n",
       "      <td>1</td>\n",
       "      <td>-2721</td>\n",
       "      <td>-996</td>\n",
       "      <td>-14342</td>\n",
       "      <td>0.000000</td>\n",
       "      <td>1950.000000</td>\n",
       "    </tr>\n",
       "    <tr>\n",
       "      <td>8</td>\n",
       "      <td>1134</td>\n",
       "      <td>1</td>\n",
       "      <td>42</td>\n",
       "      <td>341</td>\n",
       "      <td>32</td>\n",
       "      <td>10218</td>\n",
       "      <td>65</td>\n",
       "      <td>NaT</td>\n",
       "      <td>красноярск</td>\n",
       "      <td>марьяна</td>\n",
       "      <td>...</td>\n",
       "      <td>500</td>\n",
       "      <td>550</td>\n",
       "      <td>200</td>\n",
       "      <td>3</td>\n",
       "      <td>3</td>\n",
       "      <td>-159</td>\n",
       "      <td>-18</td>\n",
       "      <td>-5142</td>\n",
       "      <td>0.000000</td>\n",
       "      <td>550.000000</td>\n",
       "    </tr>\n",
       "    <tr>\n",
       "      <td>9</td>\n",
       "      <td>1135</td>\n",
       "      <td>1</td>\n",
       "      <td>9</td>\n",
       "      <td>90</td>\n",
       "      <td>1</td>\n",
       "      <td>1602</td>\n",
       "      <td>64</td>\n",
       "      <td>NaT</td>\n",
       "      <td>архангельск</td>\n",
       "      <td>милена</td>\n",
       "      <td>...</td>\n",
       "      <td>500</td>\n",
       "      <td>550</td>\n",
       "      <td>200</td>\n",
       "      <td>3</td>\n",
       "      <td>3</td>\n",
       "      <td>-410</td>\n",
       "      <td>-49</td>\n",
       "      <td>-13758</td>\n",
       "      <td>0.000000</td>\n",
       "      <td>550.000000</td>\n",
       "    </tr>\n",
       "  </tbody>\n",
       "</table>\n",
       "<p>10 rows × 25 columns</p>\n",
       "</div>"
      ],
      "text/plain": [
       "   user_id  month  calls  minutes  messages  mb_used  age churn_date  \\\n",
       "0     1005      1     15       99         7     2730   67        NaT   \n",
       "1     1032      1     61      397        38    24158   31        NaT   \n",
       "2     1045      1      1        9         5     2348   48        NaT   \n",
       "3     1055      1     64      568        30    17115   39        NaT   \n",
       "4     1071      1     24      200        16    15625   20 2018-08-31   \n",
       "5     1113      1     18      115        14      768   52        NaT   \n",
       "6     1120      1      5       56         0      657   25        NaT   \n",
       "7     1126      1     35      279         4    16378   71        NaT   \n",
       "8     1134      1     42      341        32    10218   65        NaT   \n",
       "9     1135      1      9       90         1     1602   64        NaT   \n",
       "\n",
       "               city first_name  ... minutes_included rub_monthly_fee  \\\n",
       "0  набережные челны   афанасий  ...              500             550   \n",
       "1         ульяновск       инна  ...              500             550   \n",
       "2          улан-удэ     джемма  ...              500             550   \n",
       "3            казань      луиза  ...              500             550   \n",
       "4              омск     гектор  ...              500             550   \n",
       "5              чита    харитон  ...              500             550   \n",
       "6         краснодар    агнесса  ...             3000            1950   \n",
       "7   санкт-петербург        яна  ...             3000            1950   \n",
       "8        красноярск    марьяна  ...              500             550   \n",
       "9       архангельск     милена  ...              500             550   \n",
       "\n",
       "  rub_per_gb  rub_per_message  rub_per_minute  minutes_over  messages_over  \\\n",
       "0        200                3               3          -401            -43   \n",
       "1        200                3               3          -103            -12   \n",
       "2        200                3               3          -491            -45   \n",
       "3        200                3               3            68            -20   \n",
       "4        200                3               3          -300            -34   \n",
       "5        200                3               3          -385            -36   \n",
       "6        150                1               1         -2944          -1000   \n",
       "7        150                1               1         -2721           -996   \n",
       "8        200                3               3          -159            -18   \n",
       "9        200                3               3          -410            -49   \n",
       "\n",
       "   mb_used_over  overlimit_rub_per_month  total_rub_per_month  \n",
       "0        -12630                 0.000000           550.000000  \n",
       "1          8798              1718.359375          2268.359375  \n",
       "2        -13012                 0.000000           550.000000  \n",
       "3          1755               546.773438          1096.773438  \n",
       "4           265                51.757812           601.757812  \n",
       "5        -14592                 0.000000           550.000000  \n",
       "6        -30063                 0.000000          1950.000000  \n",
       "7        -14342                 0.000000          1950.000000  \n",
       "8         -5142                 0.000000           550.000000  \n",
       "9        -13758                 0.000000           550.000000  \n",
       "\n",
       "[10 rows x 25 columns]"
      ]
     },
     "execution_count": 54,
     "metadata": {},
     "output_type": "execute_result"
    }
   ],
   "source": [
    "user_cost.head(10)"
   ]
  },
  {
   "cell_type": "code",
   "execution_count": 55,
   "metadata": {},
   "outputs": [],
   "source": [
    "smart = user_cost.query(\"tariff == 'smart'\")"
   ]
  },
  {
   "cell_type": "code",
   "execution_count": 56,
   "metadata": {},
   "outputs": [
    {
     "data": {
      "text/plain": [
       "350"
      ]
     },
     "execution_count": 56,
     "metadata": {},
     "output_type": "execute_result"
    }
   ],
   "source": [
    "len(smart.groupby('user_id'))"
   ]
  },
  {
   "cell_type": "code",
   "execution_count": 57,
   "metadata": {},
   "outputs": [],
   "source": [
    "ultra = user_cost.query(\"tariff == 'ultra'\")"
   ]
  },
  {
   "cell_type": "code",
   "execution_count": 58,
   "metadata": {},
   "outputs": [
    {
     "data": {
      "text/plain": [
       "148"
      ]
     },
     "execution_count": 58,
     "metadata": {},
     "output_type": "execute_result"
    }
   ],
   "source": [
    "len(ultra.groupby('user_id'))"
   ]
  },
  {
   "cell_type": "markdown",
   "metadata": {},
   "source": [
    "### Вывод по предобработке данных"
   ]
  },
  {
   "cell_type": "markdown",
   "metadata": {},
   "source": [
    "Данные стали с корректным типом, лишние столбцы удалены, решен вопрос с пропусками, количество пользователей с тарифом смарт = 350, с тарифом ультра = 148 "
   ]
  },
  {
   "cell_type": "markdown",
   "metadata": {},
   "source": [
    "## Анализ данных"
   ]
  },
  {
   "cell_type": "markdown",
   "metadata": {},
   "source": [
    "Поведение клиентов оператора исходя из выборки"
   ]
  },
  {
   "cell_type": "code",
   "execution_count": 59,
   "metadata": {},
   "outputs": [],
   "source": [
    "list_ = ['minutes', 'messages', 'mb_used', 'overlimit_rub_per_month', 'total_rub_per_month']\n",
    "tariff_per_month = user_cost.pivot_table(index = ['tariff', 'month'], values = list_)"
   ]
  },
  {
   "cell_type": "code",
   "execution_count": 60,
   "metadata": {},
   "outputs": [],
   "source": [
    "smart_cost = tariff_per_month.loc['smart']"
   ]
  },
  {
   "cell_type": "code",
   "execution_count": 61,
   "metadata": {},
   "outputs": [
    {
     "data": {
      "text/html": [
       "<div>\n",
       "<style scoped>\n",
       "    .dataframe tbody tr th:only-of-type {\n",
       "        vertical-align: middle;\n",
       "    }\n",
       "\n",
       "    .dataframe tbody tr th {\n",
       "        vertical-align: top;\n",
       "    }\n",
       "\n",
       "    .dataframe thead th {\n",
       "        text-align: right;\n",
       "    }\n",
       "</style>\n",
       "<table border=\"1\" class=\"dataframe\">\n",
       "  <thead>\n",
       "    <tr style=\"text-align: right;\">\n",
       "      <th></th>\n",
       "      <th>mb_used</th>\n",
       "      <th>messages</th>\n",
       "      <th>minutes</th>\n",
       "      <th>overlimit_rub_per_month</th>\n",
       "      <th>total_rub_per_month</th>\n",
       "    </tr>\n",
       "    <tr>\n",
       "      <th>month</th>\n",
       "      <th></th>\n",
       "      <th></th>\n",
       "      <th></th>\n",
       "      <th></th>\n",
       "      <th></th>\n",
       "    </tr>\n",
       "  </thead>\n",
       "  <tbody>\n",
       "    <tr>\n",
       "      <td>1</td>\n",
       "      <td>8528.588235</td>\n",
       "      <td>18.235294</td>\n",
       "      <td>209.647059</td>\n",
       "      <td>154.895910</td>\n",
       "      <td>704.895910</td>\n",
       "    </tr>\n",
       "    <tr>\n",
       "      <td>2</td>\n",
       "      <td>11617.344828</td>\n",
       "      <td>24.086207</td>\n",
       "      <td>306.310345</td>\n",
       "      <td>262.159752</td>\n",
       "      <td>812.159752</td>\n",
       "    </tr>\n",
       "    <tr>\n",
       "      <td>3</td>\n",
       "      <td>15131.207792</td>\n",
       "      <td>31.857143</td>\n",
       "      <td>400.532468</td>\n",
       "      <td>583.213271</td>\n",
       "      <td>1133.213271</td>\n",
       "    </tr>\n",
       "    <tr>\n",
       "      <td>4</td>\n",
       "      <td>13486.080357</td>\n",
       "      <td>30.741071</td>\n",
       "      <td>377.000000</td>\n",
       "      <td>384.781878</td>\n",
       "      <td>934.781878</td>\n",
       "    </tr>\n",
       "    <tr>\n",
       "      <td>5</td>\n",
       "      <td>15832.751773</td>\n",
       "      <td>33.773050</td>\n",
       "      <td>398.404255</td>\n",
       "      <td>611.004377</td>\n",
       "      <td>1161.004377</td>\n",
       "    </tr>\n",
       "    <tr>\n",
       "      <td>6</td>\n",
       "      <td>15822.445122</td>\n",
       "      <td>33.402439</td>\n",
       "      <td>406.701220</td>\n",
       "      <td>614.601038</td>\n",
       "      <td>1164.601038</td>\n",
       "    </tr>\n",
       "    <tr>\n",
       "      <td>7</td>\n",
       "      <td>15771.398010</td>\n",
       "      <td>33.751244</td>\n",
       "      <td>419.288557</td>\n",
       "      <td>635.629392</td>\n",
       "      <td>1185.629392</td>\n",
       "    </tr>\n",
       "    <tr>\n",
       "      <td>8</td>\n",
       "      <td>16640.212766</td>\n",
       "      <td>33.638298</td>\n",
       "      <td>433.191489</td>\n",
       "      <td>726.647008</td>\n",
       "      <td>1276.647008</td>\n",
       "    </tr>\n",
       "    <tr>\n",
       "      <td>9</td>\n",
       "      <td>16332.615385</td>\n",
       "      <td>33.638462</td>\n",
       "      <td>440.080769</td>\n",
       "      <td>667.753456</td>\n",
       "      <td>1217.753456</td>\n",
       "    </tr>\n",
       "    <tr>\n",
       "      <td>10</td>\n",
       "      <td>16786.853741</td>\n",
       "      <td>33.765306</td>\n",
       "      <td>438.295918</td>\n",
       "      <td>773.870669</td>\n",
       "      <td>1323.870669</td>\n",
       "    </tr>\n",
       "    <tr>\n",
       "      <td>11</td>\n",
       "      <td>16925.962025</td>\n",
       "      <td>34.075949</td>\n",
       "      <td>447.620253</td>\n",
       "      <td>754.095703</td>\n",
       "      <td>1304.095703</td>\n",
       "    </tr>\n",
       "    <tr>\n",
       "      <td>12</td>\n",
       "      <td>18145.824926</td>\n",
       "      <td>35.994065</td>\n",
       "      <td>491.418398</td>\n",
       "      <td>979.434927</td>\n",
       "      <td>1529.434927</td>\n",
       "    </tr>\n",
       "  </tbody>\n",
       "</table>\n",
       "</div>"
      ],
      "text/plain": [
       "            mb_used   messages     minutes  overlimit_rub_per_month  \\\n",
       "month                                                                 \n",
       "1       8528.588235  18.235294  209.647059               154.895910   \n",
       "2      11617.344828  24.086207  306.310345               262.159752   \n",
       "3      15131.207792  31.857143  400.532468               583.213271   \n",
       "4      13486.080357  30.741071  377.000000               384.781878   \n",
       "5      15832.751773  33.773050  398.404255               611.004377   \n",
       "6      15822.445122  33.402439  406.701220               614.601038   \n",
       "7      15771.398010  33.751244  419.288557               635.629392   \n",
       "8      16640.212766  33.638298  433.191489               726.647008   \n",
       "9      16332.615385  33.638462  440.080769               667.753456   \n",
       "10     16786.853741  33.765306  438.295918               773.870669   \n",
       "11     16925.962025  34.075949  447.620253               754.095703   \n",
       "12     18145.824926  35.994065  491.418398               979.434927   \n",
       "\n",
       "       total_rub_per_month  \n",
       "month                       \n",
       "1               704.895910  \n",
       "2               812.159752  \n",
       "3              1133.213271  \n",
       "4               934.781878  \n",
       "5              1161.004377  \n",
       "6              1164.601038  \n",
       "7              1185.629392  \n",
       "8              1276.647008  \n",
       "9              1217.753456  \n",
       "10             1323.870669  \n",
       "11             1304.095703  \n",
       "12             1529.434927  "
      ]
     },
     "execution_count": 61,
     "metadata": {},
     "output_type": "execute_result"
    }
   ],
   "source": [
    "smart_cost"
   ]
  },
  {
   "cell_type": "code",
   "execution_count": 62,
   "metadata": {},
   "outputs": [],
   "source": [
    "ultra_cost = tariff_per_month.loc['ultra']"
   ]
  },
  {
   "cell_type": "code",
   "execution_count": 63,
   "metadata": {},
   "outputs": [
    {
     "data": {
      "text/html": [
       "<div>\n",
       "<style scoped>\n",
       "    .dataframe tbody tr th:only-of-type {\n",
       "        vertical-align: middle;\n",
       "    }\n",
       "\n",
       "    .dataframe tbody tr th {\n",
       "        vertical-align: top;\n",
       "    }\n",
       "\n",
       "    .dataframe thead th {\n",
       "        text-align: right;\n",
       "    }\n",
       "</style>\n",
       "<table border=\"1\" class=\"dataframe\">\n",
       "  <thead>\n",
       "    <tr style=\"text-align: right;\">\n",
       "      <th></th>\n",
       "      <th>mb_used</th>\n",
       "      <th>messages</th>\n",
       "      <th>minutes</th>\n",
       "      <th>overlimit_rub_per_month</th>\n",
       "      <th>total_rub_per_month</th>\n",
       "    </tr>\n",
       "    <tr>\n",
       "      <th>month</th>\n",
       "      <th></th>\n",
       "      <th></th>\n",
       "      <th></th>\n",
       "      <th></th>\n",
       "      <th></th>\n",
       "    </tr>\n",
       "  </thead>\n",
       "  <tbody>\n",
       "    <tr>\n",
       "      <td>1</td>\n",
       "      <td>13154.666667</td>\n",
       "      <td>33.777778</td>\n",
       "      <td>440.888889</td>\n",
       "      <td>0.000000</td>\n",
       "      <td>1950.000000</td>\n",
       "    </tr>\n",
       "    <tr>\n",
       "      <td>2</td>\n",
       "      <td>11788.333333</td>\n",
       "      <td>21.958333</td>\n",
       "      <td>304.666667</td>\n",
       "      <td>23.095703</td>\n",
       "      <td>1973.095703</td>\n",
       "    </tr>\n",
       "    <tr>\n",
       "      <td>3</td>\n",
       "      <td>17553.513514</td>\n",
       "      <td>32.297297</td>\n",
       "      <td>503.081081</td>\n",
       "      <td>54.254645</td>\n",
       "      <td>2004.254645</td>\n",
       "    </tr>\n",
       "    <tr>\n",
       "      <td>4</td>\n",
       "      <td>16845.254545</td>\n",
       "      <td>31.563636</td>\n",
       "      <td>470.072727</td>\n",
       "      <td>45.474077</td>\n",
       "      <td>1995.474077</td>\n",
       "    </tr>\n",
       "    <tr>\n",
       "      <td>5</td>\n",
       "      <td>19383.194030</td>\n",
       "      <td>37.850746</td>\n",
       "      <td>524.865672</td>\n",
       "      <td>105.022738</td>\n",
       "      <td>2055.022738</td>\n",
       "    </tr>\n",
       "    <tr>\n",
       "      <td>6</td>\n",
       "      <td>18943.928571</td>\n",
       "      <td>41.726190</td>\n",
       "      <td>492.428571</td>\n",
       "      <td>82.109724</td>\n",
       "      <td>2032.109724</td>\n",
       "    </tr>\n",
       "    <tr>\n",
       "      <td>7</td>\n",
       "      <td>20516.571429</td>\n",
       "      <td>49.846154</td>\n",
       "      <td>560.296703</td>\n",
       "      <td>158.562092</td>\n",
       "      <td>2108.562092</td>\n",
       "    </tr>\n",
       "    <tr>\n",
       "      <td>8</td>\n",
       "      <td>19595.878505</td>\n",
       "      <td>48.439252</td>\n",
       "      <td>524.570093</td>\n",
       "      <td>121.230195</td>\n",
       "      <td>2071.230195</td>\n",
       "    </tr>\n",
       "    <tr>\n",
       "      <td>9</td>\n",
       "      <td>19224.043478</td>\n",
       "      <td>52.286957</td>\n",
       "      <td>553.643478</td>\n",
       "      <td>63.776749</td>\n",
       "      <td>2013.776749</td>\n",
       "    </tr>\n",
       "    <tr>\n",
       "      <td>10</td>\n",
       "      <td>20065.536585</td>\n",
       "      <td>58.430894</td>\n",
       "      <td>572.829268</td>\n",
       "      <td>106.975276</td>\n",
       "      <td>2056.975276</td>\n",
       "    </tr>\n",
       "    <tr>\n",
       "      <td>11</td>\n",
       "      <td>19807.126866</td>\n",
       "      <td>55.791045</td>\n",
       "      <td>555.805970</td>\n",
       "      <td>130.850994</td>\n",
       "      <td>2080.850994</td>\n",
       "    </tr>\n",
       "    <tr>\n",
       "      <td>12</td>\n",
       "      <td>21815.683453</td>\n",
       "      <td>60.611511</td>\n",
       "      <td>609.129496</td>\n",
       "      <td>176.322926</td>\n",
       "      <td>2126.322926</td>\n",
       "    </tr>\n",
       "  </tbody>\n",
       "</table>\n",
       "</div>"
      ],
      "text/plain": [
       "            mb_used   messages     minutes  overlimit_rub_per_month  \\\n",
       "month                                                                 \n",
       "1      13154.666667  33.777778  440.888889                 0.000000   \n",
       "2      11788.333333  21.958333  304.666667                23.095703   \n",
       "3      17553.513514  32.297297  503.081081                54.254645   \n",
       "4      16845.254545  31.563636  470.072727                45.474077   \n",
       "5      19383.194030  37.850746  524.865672               105.022738   \n",
       "6      18943.928571  41.726190  492.428571                82.109724   \n",
       "7      20516.571429  49.846154  560.296703               158.562092   \n",
       "8      19595.878505  48.439252  524.570093               121.230195   \n",
       "9      19224.043478  52.286957  553.643478                63.776749   \n",
       "10     20065.536585  58.430894  572.829268               106.975276   \n",
       "11     19807.126866  55.791045  555.805970               130.850994   \n",
       "12     21815.683453  60.611511  609.129496               176.322926   \n",
       "\n",
       "       total_rub_per_month  \n",
       "month                       \n",
       "1              1950.000000  \n",
       "2              1973.095703  \n",
       "3              2004.254645  \n",
       "4              1995.474077  \n",
       "5              2055.022738  \n",
       "6              2032.109724  \n",
       "7              2108.562092  \n",
       "8              2071.230195  \n",
       "9              2013.776749  \n",
       "10             2056.975276  \n",
       "11             2080.850994  \n",
       "12             2126.322926  "
      ]
     },
     "execution_count": 63,
     "metadata": {},
     "output_type": "execute_result"
    }
   ],
   "source": [
    "ultra_cost"
   ]
  },
  {
   "cell_type": "code",
   "execution_count": 64,
   "metadata": {},
   "outputs": [],
   "source": [
    "#Сколько минут разговора, сколько сообщений и какой объём интернет-трафика требуется пользователям каждого тарифа в месяц? \n",
    "tariff_count = tariff_per_month.pivot_table(index = 'tariff', values = list_)"
   ]
  },
  {
   "cell_type": "code",
   "execution_count": 65,
   "metadata": {},
   "outputs": [
    {
     "data": {
      "text/html": [
       "<div>\n",
       "<style scoped>\n",
       "    .dataframe tbody tr th:only-of-type {\n",
       "        vertical-align: middle;\n",
       "    }\n",
       "\n",
       "    .dataframe tbody tr th {\n",
       "        vertical-align: top;\n",
       "    }\n",
       "\n",
       "    .dataframe thead th {\n",
       "        text-align: right;\n",
       "    }\n",
       "</style>\n",
       "<table border=\"1\" class=\"dataframe\">\n",
       "  <thead>\n",
       "    <tr style=\"text-align: right;\">\n",
       "      <th></th>\n",
       "      <th>mb_used</th>\n",
       "      <th>messages</th>\n",
       "      <th>minutes</th>\n",
       "      <th>overlimit_rub_per_month</th>\n",
       "      <th>total_rub_per_month</th>\n",
       "    </tr>\n",
       "    <tr>\n",
       "      <th>tariff</th>\n",
       "      <th></th>\n",
       "      <th></th>\n",
       "      <th></th>\n",
       "      <th></th>\n",
       "      <th></th>\n",
       "    </tr>\n",
       "  </thead>\n",
       "  <tbody>\n",
       "    <tr>\n",
       "      <td>smart</td>\n",
       "      <td>15085.107080</td>\n",
       "      <td>31.413211</td>\n",
       "      <td>397.374228</td>\n",
       "      <td>595.673948</td>\n",
       "      <td>1145.673948</td>\n",
       "    </tr>\n",
       "    <tr>\n",
       "      <td>ultra</td>\n",
       "      <td>18224.477581</td>\n",
       "      <td>43.714983</td>\n",
       "      <td>509.356551</td>\n",
       "      <td>88.972927</td>\n",
       "      <td>2038.972927</td>\n",
       "    </tr>\n",
       "  </tbody>\n",
       "</table>\n",
       "</div>"
      ],
      "text/plain": [
       "             mb_used   messages     minutes  overlimit_rub_per_month  \\\n",
       "tariff                                                                 \n",
       "smart   15085.107080  31.413211  397.374228               595.673948   \n",
       "ultra   18224.477581  43.714983  509.356551                88.972927   \n",
       "\n",
       "        total_rub_per_month  \n",
       "tariff                       \n",
       "smart           1145.673948  \n",
       "ultra           2038.972927  "
      ]
     },
     "execution_count": 65,
     "metadata": {},
     "output_type": "execute_result"
    }
   ],
   "source": [
    "tariff_count"
   ]
  },
  {
   "cell_type": "markdown",
   "metadata": {},
   "source": [
    "### Дисперсия и стандартное отклонение"
   ]
  },
  {
   "cell_type": "markdown",
   "metadata": {},
   "source": [
    "#### Количество минут"
   ]
  },
  {
   "cell_type": "code",
   "execution_count": 66,
   "metadata": {},
   "outputs": [
    {
     "data": {
      "text/plain": [
       "count    2229.000000\n",
       "mean      429.450875\n",
       "std       194.871174\n",
       "min         0.000000\n",
       "25%       291.000000\n",
       "50%       435.000000\n",
       "75%       560.000000\n",
       "max      1471.000000\n",
       "Name: minutes, dtype: float64"
      ]
     },
     "execution_count": 66,
     "metadata": {},
     "output_type": "execute_result"
    }
   ],
   "source": [
    "smart['minutes'].describe()"
   ]
  },
  {
   "cell_type": "code",
   "execution_count": 67,
   "metadata": {},
   "outputs": [
    {
     "data": {
      "text/plain": [
       "count     985.000000\n",
       "mean      540.779695\n",
       "std       325.738740\n",
       "min         0.000000\n",
       "25%       292.000000\n",
       "50%       532.000000\n",
       "75%       773.000000\n",
       "max      1727.000000\n",
       "Name: minutes, dtype: float64"
      ]
     },
     "execution_count": 67,
     "metadata": {},
     "output_type": "execute_result"
    }
   ],
   "source": [
    "ultra['minutes'].describe()"
   ]
  },
  {
   "cell_type": "code",
   "execution_count": 68,
   "metadata": {},
   "outputs": [
    {
     "name": "stdout",
     "output_type": "stream",
     "text": [
      "Дисперсия тарифа Cмарт по минутам: 37958\n",
      "Дисперсия тарифа Ультра по минутам: 105998\n"
     ]
    }
   ],
   "source": [
    "smart_var = round(np.var(smart['minutes']))\n",
    "ultra_var = round(np.var(ultra['minutes']))\n",
    "print('Дисперсия тарифа Cмарт по минутам: {}'.format(smart_var))\n",
    "print('Дисперсия тарифа Ультра по минутам: {}'.format(ultra_var))"
   ]
  },
  {
   "cell_type": "code",
   "execution_count": 69,
   "metadata": {},
   "outputs": [
    {
     "name": "stdout",
     "output_type": "stream",
     "text": [
      "Стандартное отклонение тарифа Cмарт по минутам: 195\n",
      "Стандартное отклонение тарифа Ультра по минутам: 326\n"
     ]
    }
   ],
   "source": [
    "smart_std = round(smart['minutes'].std())\n",
    "ultra_std = round(ultra['minutes'].std())\n",
    "print('Стандартное отклонение тарифа Cмарт по минутам: {}'.format(smart_std))\n",
    "print('Стандартное отклонение тарифа Ультра по минутам: {}'.format(ultra_std))"
   ]
  },
  {
   "cell_type": "code",
   "execution_count": 70,
   "metadata": {},
   "outputs": [],
   "source": [
    "def hist_tariffs(column, title):\n",
    "    sns.set_style('whitegrid')\n",
    "    plt.figure(figsize=(12,6))\n",
    "    plt.title(title, fontsize=20)\n",
    "    sns.distplot(smart[column], label='Смарт', kde=False)\n",
    "    sns.distplot(ultra[column], label='Ultra', kde=False)\n",
    "    plt.axvline(np.mean(smart[column]),color = 'r', linestyle = '-', label='Смарт среднее')\n",
    "    plt.axvline(np.mean(ultra[column]),color = 'r', linestyle = '--', label='Ultra среднее')\n",
    "    plt.legend()"
   ]
  },
  {
   "cell_type": "code",
   "execution_count": 71,
   "metadata": {},
   "outputs": [
    {
     "data": {
      "image/png": "[encoded data removed]",
      "text/plain": [
       "<Figure size 864x432 with 1 Axes>"
      ]
     },
     "metadata": {},
     "output_type": "display_data"
    }
   ],
   "source": [
    "hist_tariffs('minutes', 'Распределение по minutes у тарифов Ultra и Смарт')"
   ]
  },
  {
   "cell_type": "code",
   "execution_count": null,
   "metadata": {},
   "outputs": [],
   "source": []
  },
  {
   "cell_type": "markdown",
   "metadata": {},
   "source": [
    "#### Количество сообщений"
   ]
  },
  {
   "cell_type": "code",
   "execution_count": 72,
   "metadata": {},
   "outputs": [
    {
     "data": {
      "text/plain": [
       "count    2229.000000\n",
       "mean       33.384029\n",
       "std        28.227876\n",
       "min         0.000000\n",
       "25%        10.000000\n",
       "50%        28.000000\n",
       "75%        51.000000\n",
       "max       143.000000\n",
       "Name: messages, dtype: float64"
      ]
     },
     "execution_count": 72,
     "metadata": {},
     "output_type": "execute_result"
    }
   ],
   "source": [
    "smart['messages'].describe()"
   ]
  },
  {
   "cell_type": "code",
   "execution_count": 73,
   "metadata": {},
   "outputs": [
    {
     "data": {
      "text/plain": [
       "count    985.000000\n",
       "mean      49.363452\n",
       "std       47.804457\n",
       "min        0.000000\n",
       "25%        6.000000\n",
       "50%       38.000000\n",
       "75%       79.000000\n",
       "max      224.000000\n",
       "Name: messages, dtype: float64"
      ]
     },
     "execution_count": 73,
     "metadata": {},
     "output_type": "execute_result"
    }
   ],
   "source": [
    "ultra['messages'].describe()"
   ]
  },
  {
   "cell_type": "code",
   "execution_count": 74,
   "metadata": {},
   "outputs": [
    {
     "name": "stdout",
     "output_type": "stream",
     "text": [
      "Дисперсия тарифа Cмарт по сообщениям: 796\n",
      "Дисперсия тарифа Ультра по сообщениям: 2283\n"
     ]
    }
   ],
   "source": [
    "smart_var_mes = round(np.var(smart['messages']))\n",
    "ultra_var_mes = round(np.var(ultra['messages']))\n",
    "print('Дисперсия тарифа Cмарт по сообщениям: {}'.format(smart_var_mes))\n",
    "print('Дисперсия тарифа Ультра по сообщениям: {}'.format(ultra_var_mes))"
   ]
  },
  {
   "cell_type": "code",
   "execution_count": 75,
   "metadata": {},
   "outputs": [
    {
     "name": "stdout",
     "output_type": "stream",
     "text": [
      "Стандартное отклонение тарифа Cмарт по минутам: 28\n",
      "Стандартное отклонение тарифа Ультра по минутам: 48\n"
     ]
    }
   ],
   "source": [
    "smart_std_mes = round(smart['messages'].std())\n",
    "ultra_std_mes = round(ultra['messages'].std())\n",
    "print('Стандартное отклонение тарифа Cмарт по минутам: {}'.format(smart_std_mes))\n",
    "print('Стандартное отклонение тарифа Ультра по минутам: {}'.format(ultra_std_mes))"
   ]
  },
  {
   "cell_type": "code",
   "execution_count": 76,
   "metadata": {},
   "outputs": [
    {
     "data": {
      "image/png": "[encoded data removed]",
      "text/plain": [
       "<Figure size 864x432 with 1 Axes>"
      ]
     },
     "metadata": {},
     "output_type": "display_data"
    }
   ],
   "source": [
    "hist_tariffs('messages', 'Распределение по messages у тарифов Ultra и Смарт')"
   ]
  },
  {
   "cell_type": "markdown",
   "metadata": {},
   "source": [
    "#### Количесто Мб"
   ]
  },
  {
   "cell_type": "code",
   "execution_count": 77,
   "metadata": {},
   "outputs": [
    {
     "data": {
      "text/plain": [
       "count     2229.000000\n",
       "mean     16237.184388\n",
       "std       5879.795158\n",
       "min          0.000000\n",
       "25%      12662.000000\n",
       "50%      16540.000000\n",
       "75%      20078.000000\n",
       "max      38627.000000\n",
       "Name: mb_used, dtype: float64"
      ]
     },
     "execution_count": 77,
     "metadata": {},
     "output_type": "execute_result"
    }
   ],
   "source": [
    "smart['mb_used'].describe()"
   ]
  },
  {
   "cell_type": "code",
   "execution_count": 78,
   "metadata": {},
   "outputs": [
    {
     "data": {
      "text/plain": [
       "count      985.000000\n",
       "mean     19488.703553\n",
       "std      10097.107541\n",
       "min          0.000000\n",
       "25%      11787.000000\n",
       "50%      19324.000000\n",
       "75%      26866.000000\n",
       "max      49793.000000\n",
       "Name: mb_used, dtype: float64"
      ]
     },
     "execution_count": 78,
     "metadata": {},
     "output_type": "execute_result"
    }
   ],
   "source": [
    "ultra['mb_used'].describe()"
   ]
  },
  {
   "cell_type": "code",
   "execution_count": 79,
   "metadata": {},
   "outputs": [
    {
     "name": "stdout",
     "output_type": "stream",
     "text": [
      "Дисперсия тарифа Cмарт по сообщениям: 34556481\n",
      "Дисперсия тарифа Ультра по сообщениям: 101848077\n"
     ]
    }
   ],
   "source": [
    "smart_var_mb = round(np.var(smart['mb_used']))\n",
    "ultra_var_mb = round(np.var(ultra['mb_used']))\n",
    "print('Дисперсия тарифа Cмарт по сообщениям: {}'.format(smart_var_mb))\n",
    "print('Дисперсия тарифа Ультра по сообщениям: {}'.format(ultra_var_mb))"
   ]
  },
  {
   "cell_type": "code",
   "execution_count": 80,
   "metadata": {},
   "outputs": [
    {
     "name": "stdout",
     "output_type": "stream",
     "text": [
      "Стандартное отклонение тарифа Cмарт по минутам: 5880\n",
      "Стандартное отклонение тарифа Ультра по минутам: 10097\n"
     ]
    }
   ],
   "source": [
    "smart_std_mb = round(smart['mb_used'].std())\n",
    "ultra_std_mb = round(ultra['mb_used'].std())\n",
    "print('Стандартное отклонение тарифа Cмарт по минутам: {}'.format(smart_std_mb))\n",
    "print('Стандартное отклонение тарифа Ультра по минутам: {}'.format(ultra_std_mb))"
   ]
  },
  {
   "cell_type": "code",
   "execution_count": 81,
   "metadata": {},
   "outputs": [
    {
     "data": {
      "image/png": "[encoded data removed]",
      "text/plain": [
       "<Figure size 864x432 with 1 Axes>"
      ]
     },
     "metadata": {},
     "output_type": "display_data"
    }
   ],
   "source": [
    "hist_tariffs('mb_used', 'Распределение по Мегабайт у тарифов Ultra и Смарт')"
   ]
  },
  {
   "cell_type": "code",
   "execution_count": 82,
   "metadata": {},
   "outputs": [
    {
     "data": {
      "text/plain": [
       "<matplotlib.legend.Legend at 0x7fca05e5a510>"
      ]
     },
     "execution_count": 82,
     "metadata": {},
     "output_type": "execute_result"
    },
    {
     "data": {
      "image/png": "[encoded data removed]",
      "text/plain": [
       "<Figure size 1080x720 with 1 Axes>"
      ]
     },
     "metadata": {},
     "output_type": "display_data"
    }
   ],
   "source": [
    "plt.figure(figsize = (15,10))\n",
    "plt.title('Распределение выручки у тарифов Ultra и Smart', fontsize = 12)\n",
    "ax = sns.distplot(a=smart['total_rub_per_month'], label='Тариф Смарт', kde=False)\n",
    "ax = sns.distplot(a=ultra['total_rub_per_month'], label='Тариф Ультра', kde=False)\n",
    "ax.set(xlabel='Выручка в рублях по тарифам ')\n",
    "plt.legend()"
   ]
  },
  {
   "cell_type": "markdown",
   "metadata": {},
   "source": [
    "### Вывод по анализу данных"
   ]
  },
  {
   "cell_type": "markdown",
   "metadata": {},
   "source": [
    "Те, кто пользуется тарифом Ультра, платят в ~6 раз меньше на дополнительные услуги и при этом они судя по total_rub_per_month более активны. ,Для абонента получается выгоднее тариф Смарт, так как они тратят меньше денегв конечном итоге."
   ]
  },
  {
   "cell_type": "markdown",
   "metadata": {},
   "source": [
    "Пользователи тарифа Смарт в среднем тратят 400 мин, тарифа Ultra около 500 мин; пользователи тарифа Смарт пишут в среднем 33 сообщения, тарифа Ultra 49 сообщений; пользователи тарифа Смарт скачивают около 16000 мегабайт,  пользователи тарифа Ultra скачивают около 20 000 мегабайт"
   ]
  },
  {
   "cell_type": "code",
   "execution_count": null,
   "metadata": {},
   "outputs": [],
   "source": []
  },
  {
   "cell_type": "markdown",
   "metadata": {},
   "source": [
    "## Проверка гипотез"
   ]
  },
  {
   "cell_type": "markdown",
   "metadata": {},
   "source": [
    "средняя выручка пользователей тарифов «Ультра» и «Смарт» различается"
   ]
  },
  {
   "cell_type": "markdown",
   "metadata": {},
   "source": [
    "Сформулируем нулевые гипотезы:\n",
    "\n",
    "- Нулевая гипотеза H₀: Средняя выручка пользователей тарифов Смарт и Ультра не различается\n",
    "- Альтернативная гипотеза H₁: Средняя выручка пользователей тарифов Смарт и Ультра различается"
   ]
  },
  {
   "cell_type": "code",
   "execution_count": 83,
   "metadata": {},
   "outputs": [
    {
     "name": "stdout",
     "output_type": "stream",
     "text": [
      "p-значение: 8.009674149482176e-180\n",
      "Отвергаем нулевую гипотезу\n"
     ]
    }
   ],
   "source": [
    "alpha = 0.05 # критический уровень статистической значимости, если p-value окажется меньше него - отвергнем гипотезу\n",
    "\n",
    "results = st.ttest_ind(smart['total_rub_per_month'], ultra['total_rub_per_month'])\n",
    "\n",
    "print('p-значение:', results.pvalue)\n",
    "\n",
    "if (results.pvalue < alpha):\n",
    "    print(\"Отвергаем нулевую гипотезу\")\n",
    "else:\n",
    "    print(\"Не получилось отвергнуть нулевую гипотезу\")"
   ]
  },
  {
   "cell_type": "markdown",
   "metadata": {},
   "source": [
    "проверим гипотезу по выручке от каждого пользователя в месяц"
   ]
  },
  {
   "cell_type": "code",
   "execution_count": 84,
   "metadata": {},
   "outputs": [
    {
     "data": {
      "text/html": [
       "<div>\n",
       "<style scoped>\n",
       "    .dataframe tbody tr th:only-of-type {\n",
       "        vertical-align: middle;\n",
       "    }\n",
       "\n",
       "    .dataframe tbody tr th {\n",
       "        vertical-align: top;\n",
       "    }\n",
       "\n",
       "    .dataframe thead tr th {\n",
       "        text-align: left;\n",
       "    }\n",
       "\n",
       "    .dataframe thead tr:last-of-type th {\n",
       "        text-align: right;\n",
       "    }\n",
       "</style>\n",
       "<table border=\"1\" class=\"dataframe\">\n",
       "  <thead>\n",
       "    <tr>\n",
       "      <th></th>\n",
       "      <th></th>\n",
       "      <th>count</th>\n",
       "      <th>sum</th>\n",
       "    </tr>\n",
       "    <tr>\n",
       "      <th></th>\n",
       "      <th></th>\n",
       "      <th>total_calls</th>\n",
       "      <th>total_calls</th>\n",
       "    </tr>\n",
       "    <tr>\n",
       "      <th>month</th>\n",
       "      <th>user_id</th>\n",
       "      <th></th>\n",
       "      <th></th>\n",
       "    </tr>\n",
       "  </thead>\n",
       "  <tbody>\n",
       "    <tr>\n",
       "      <td rowspan=\"5\" valign=\"top\">1</td>\n",
       "      <td>1005</td>\n",
       "      <td>15</td>\n",
       "      <td>99</td>\n",
       "    </tr>\n",
       "    <tr>\n",
       "      <td>1032</td>\n",
       "      <td>61</td>\n",
       "      <td>397</td>\n",
       "    </tr>\n",
       "    <tr>\n",
       "      <td>1045</td>\n",
       "      <td>1</td>\n",
       "      <td>9</td>\n",
       "    </tr>\n",
       "    <tr>\n",
       "      <td>1055</td>\n",
       "      <td>64</td>\n",
       "      <td>568</td>\n",
       "    </tr>\n",
       "    <tr>\n",
       "      <td>1071</td>\n",
       "      <td>24</td>\n",
       "      <td>200</td>\n",
       "    </tr>\n",
       "    <tr>\n",
       "      <td>...</td>\n",
       "      <td>...</td>\n",
       "      <td>...</td>\n",
       "      <td>...</td>\n",
       "    </tr>\n",
       "    <tr>\n",
       "      <td rowspan=\"5\" valign=\"top\">12</td>\n",
       "      <td>1494</td>\n",
       "      <td>62</td>\n",
       "      <td>426</td>\n",
       "    </tr>\n",
       "    <tr>\n",
       "      <td>1495</td>\n",
       "      <td>155</td>\n",
       "      <td>1066</td>\n",
       "    </tr>\n",
       "    <tr>\n",
       "      <td>1496</td>\n",
       "      <td>80</td>\n",
       "      <td>533</td>\n",
       "    </tr>\n",
       "    <tr>\n",
       "      <td>1497</td>\n",
       "      <td>71</td>\n",
       "      <td>558</td>\n",
       "    </tr>\n",
       "    <tr>\n",
       "      <td>1499</td>\n",
       "      <td>69</td>\n",
       "      <td>505</td>\n",
       "    </tr>\n",
       "  </tbody>\n",
       "</table>\n",
       "<p>3174 rows × 2 columns</p>\n",
       "</div>"
      ],
      "text/plain": [
       "                    count         sum\n",
       "              total_calls total_calls\n",
       "month user_id                        \n",
       "1     1005             15          99\n",
       "      1032             61         397\n",
       "      1045              1           9\n",
       "      1055             64         568\n",
       "      1071             24         200\n",
       "...                   ...         ...\n",
       "12    1494             62         426\n",
       "      1495            155        1066\n",
       "      1496             80         533\n",
       "      1497             71         558\n",
       "      1499             69         505\n",
       "\n",
       "[3174 rows x 2 columns]"
      ]
     },
     "execution_count": 84,
     "metadata": {},
     "output_type": "execute_result"
    }
   ],
   "source": [
    "calls_count = calls.pivot_table(index=['month', 'user_id'], values='duration', aggfunc=['count', 'sum']).rename(columns={'duration': 'total_calls'})\n",
    "calls_count"
   ]
  },
  {
   "cell_type": "code",
   "execution_count": 85,
   "metadata": {},
   "outputs": [
    {
     "data": {
      "text/html": [
       "<div>\n",
       "<style scoped>\n",
       "    .dataframe tbody tr th:only-of-type {\n",
       "        vertical-align: middle;\n",
       "    }\n",
       "\n",
       "    .dataframe tbody tr th {\n",
       "        vertical-align: top;\n",
       "    }\n",
       "\n",
       "    .dataframe thead th {\n",
       "        text-align: right;\n",
       "    }\n",
       "</style>\n",
       "<table border=\"1\" class=\"dataframe\">\n",
       "  <thead>\n",
       "    <tr style=\"text-align: right;\">\n",
       "      <th></th>\n",
       "      <th>month</th>\n",
       "      <th>user_id</th>\n",
       "      <th>('count', 'total_calls')</th>\n",
       "      <th>('sum', 'total_calls')</th>\n",
       "    </tr>\n",
       "  </thead>\n",
       "  <tbody>\n",
       "    <tr>\n",
       "      <td>0</td>\n",
       "      <td>1</td>\n",
       "      <td>1005</td>\n",
       "      <td>15</td>\n",
       "      <td>99</td>\n",
       "    </tr>\n",
       "    <tr>\n",
       "      <td>1</td>\n",
       "      <td>1</td>\n",
       "      <td>1032</td>\n",
       "      <td>61</td>\n",
       "      <td>397</td>\n",
       "    </tr>\n",
       "    <tr>\n",
       "      <td>2</td>\n",
       "      <td>1</td>\n",
       "      <td>1045</td>\n",
       "      <td>1</td>\n",
       "      <td>9</td>\n",
       "    </tr>\n",
       "    <tr>\n",
       "      <td>3</td>\n",
       "      <td>1</td>\n",
       "      <td>1055</td>\n",
       "      <td>64</td>\n",
       "      <td>568</td>\n",
       "    </tr>\n",
       "    <tr>\n",
       "      <td>4</td>\n",
       "      <td>1</td>\n",
       "      <td>1071</td>\n",
       "      <td>24</td>\n",
       "      <td>200</td>\n",
       "    </tr>\n",
       "    <tr>\n",
       "      <td>...</td>\n",
       "      <td>...</td>\n",
       "      <td>...</td>\n",
       "      <td>...</td>\n",
       "      <td>...</td>\n",
       "    </tr>\n",
       "    <tr>\n",
       "      <td>3169</td>\n",
       "      <td>12</td>\n",
       "      <td>1494</td>\n",
       "      <td>62</td>\n",
       "      <td>426</td>\n",
       "    </tr>\n",
       "    <tr>\n",
       "      <td>3170</td>\n",
       "      <td>12</td>\n",
       "      <td>1495</td>\n",
       "      <td>155</td>\n",
       "      <td>1066</td>\n",
       "    </tr>\n",
       "    <tr>\n",
       "      <td>3171</td>\n",
       "      <td>12</td>\n",
       "      <td>1496</td>\n",
       "      <td>80</td>\n",
       "      <td>533</td>\n",
       "    </tr>\n",
       "    <tr>\n",
       "      <td>3172</td>\n",
       "      <td>12</td>\n",
       "      <td>1497</td>\n",
       "      <td>71</td>\n",
       "      <td>558</td>\n",
       "    </tr>\n",
       "    <tr>\n",
       "      <td>3173</td>\n",
       "      <td>12</td>\n",
       "      <td>1499</td>\n",
       "      <td>69</td>\n",
       "      <td>505</td>\n",
       "    </tr>\n",
       "  </tbody>\n",
       "</table>\n",
       "<p>3174 rows × 4 columns</p>\n",
       "</div>"
      ],
      "text/plain": [
       "      month  user_id  ('count', 'total_calls')  ('sum', 'total_calls')\n",
       "0         1     1005                        15                      99\n",
       "1         1     1032                        61                     397\n",
       "2         1     1045                         1                       9\n",
       "3         1     1055                        64                     568\n",
       "4         1     1071                        24                     200\n",
       "...     ...      ...                       ...                     ...\n",
       "3169     12     1494                        62                     426\n",
       "3170     12     1495                       155                    1066\n",
       "3171     12     1496                        80                     533\n",
       "3172     12     1497                        71                     558\n",
       "3173     12     1499                        69                     505\n",
       "\n",
       "[3174 rows x 4 columns]"
      ]
     },
     "execution_count": 85,
     "metadata": {},
     "output_type": "execute_result"
    }
   ],
   "source": [
    "# Создадим временный DataFrame c таблицей calls\n",
    "tempdf = pd.DataFrame(calls_count.to_records())\n",
    "tempdf"
   ]
  },
  {
   "cell_type": "code",
   "execution_count": null,
   "metadata": {},
   "outputs": [],
   "source": []
  },
  {
   "cell_type": "code",
   "execution_count": 86,
   "metadata": {},
   "outputs": [],
   "source": [
    "# создадим датафрейм для вычисления выручки от каждого пользователя\n",
    "profit_per_month = pd.DataFrame()\n",
    "profit_per_month['user_id'] = tempdf['user_id']\n",
    "profit_per_month['month'] = tempdf['month']\n",
    "profit_per_month['calls'] = user_cost['calls']\n",
    "profit_per_month['minutes'] = user_cost['minutes']"
   ]
  },
  {
   "cell_type": "code",
   "execution_count": 87,
   "metadata": {
    "scrolled": false
   },
   "outputs": [
    {
     "data": {
      "text/html": [
       "<div>\n",
       "<style scoped>\n",
       "    .dataframe tbody tr th:only-of-type {\n",
       "        vertical-align: middle;\n",
       "    }\n",
       "\n",
       "    .dataframe tbody tr th {\n",
       "        vertical-align: top;\n",
       "    }\n",
       "\n",
       "    .dataframe thead th {\n",
       "        text-align: right;\n",
       "    }\n",
       "</style>\n",
       "<table border=\"1\" class=\"dataframe\">\n",
       "  <thead>\n",
       "    <tr style=\"text-align: right;\">\n",
       "      <th></th>\n",
       "      <th>user_id</th>\n",
       "      <th>month</th>\n",
       "      <th>calls</th>\n",
       "      <th>minutes</th>\n",
       "    </tr>\n",
       "  </thead>\n",
       "  <tbody>\n",
       "    <tr>\n",
       "      <td>0</td>\n",
       "      <td>1005</td>\n",
       "      <td>1</td>\n",
       "      <td>15</td>\n",
       "      <td>99</td>\n",
       "    </tr>\n",
       "    <tr>\n",
       "      <td>1</td>\n",
       "      <td>1032</td>\n",
       "      <td>1</td>\n",
       "      <td>61</td>\n",
       "      <td>397</td>\n",
       "    </tr>\n",
       "    <tr>\n",
       "      <td>2</td>\n",
       "      <td>1045</td>\n",
       "      <td>1</td>\n",
       "      <td>1</td>\n",
       "      <td>9</td>\n",
       "    </tr>\n",
       "    <tr>\n",
       "      <td>3</td>\n",
       "      <td>1055</td>\n",
       "      <td>1</td>\n",
       "      <td>64</td>\n",
       "      <td>568</td>\n",
       "    </tr>\n",
       "    <tr>\n",
       "      <td>4</td>\n",
       "      <td>1071</td>\n",
       "      <td>1</td>\n",
       "      <td>24</td>\n",
       "      <td>200</td>\n",
       "    </tr>\n",
       "    <tr>\n",
       "      <td>...</td>\n",
       "      <td>...</td>\n",
       "      <td>...</td>\n",
       "      <td>...</td>\n",
       "      <td>...</td>\n",
       "    </tr>\n",
       "    <tr>\n",
       "      <td>3169</td>\n",
       "      <td>1494</td>\n",
       "      <td>12</td>\n",
       "      <td>62</td>\n",
       "      <td>426</td>\n",
       "    </tr>\n",
       "    <tr>\n",
       "      <td>3170</td>\n",
       "      <td>1495</td>\n",
       "      <td>12</td>\n",
       "      <td>155</td>\n",
       "      <td>1066</td>\n",
       "    </tr>\n",
       "    <tr>\n",
       "      <td>3171</td>\n",
       "      <td>1496</td>\n",
       "      <td>12</td>\n",
       "      <td>80</td>\n",
       "      <td>533</td>\n",
       "    </tr>\n",
       "    <tr>\n",
       "      <td>3172</td>\n",
       "      <td>1497</td>\n",
       "      <td>12</td>\n",
       "      <td>71</td>\n",
       "      <td>558</td>\n",
       "    </tr>\n",
       "    <tr>\n",
       "      <td>3173</td>\n",
       "      <td>1499</td>\n",
       "      <td>12</td>\n",
       "      <td>69</td>\n",
       "      <td>505</td>\n",
       "    </tr>\n",
       "  </tbody>\n",
       "</table>\n",
       "<p>3174 rows × 4 columns</p>\n",
       "</div>"
      ],
      "text/plain": [
       "      user_id  month  calls  minutes\n",
       "0        1005      1     15       99\n",
       "1        1032      1     61      397\n",
       "2        1045      1      1        9\n",
       "3        1055      1     64      568\n",
       "4        1071      1     24      200\n",
       "...       ...    ...    ...      ...\n",
       "3169     1494     12     62      426\n",
       "3170     1495     12    155     1066\n",
       "3171     1496     12     80      533\n",
       "3172     1497     12     71      558\n",
       "3173     1499     12     69      505\n",
       "\n",
       "[3174 rows x 4 columns]"
      ]
     },
     "execution_count": 87,
     "metadata": {},
     "output_type": "execute_result"
    }
   ],
   "source": [
    "profit_per_month"
   ]
  },
  {
   "cell_type": "code",
   "execution_count": 88,
   "metadata": {},
   "outputs": [
    {
     "data": {
      "text/html": [
       "<div>\n",
       "<style scoped>\n",
       "    .dataframe tbody tr th:only-of-type {\n",
       "        vertical-align: middle;\n",
       "    }\n",
       "\n",
       "    .dataframe tbody tr th {\n",
       "        vertical-align: top;\n",
       "    }\n",
       "\n",
       "    .dataframe thead th {\n",
       "        text-align: right;\n",
       "    }\n",
       "</style>\n",
       "<table border=\"1\" class=\"dataframe\">\n",
       "  <thead>\n",
       "    <tr style=\"text-align: right;\">\n",
       "      <th></th>\n",
       "      <th>month</th>\n",
       "      <th>user_id</th>\n",
       "      <th>messages</th>\n",
       "    </tr>\n",
       "  </thead>\n",
       "  <tbody>\n",
       "    <tr>\n",
       "      <td>0</td>\n",
       "      <td>1</td>\n",
       "      <td>1005</td>\n",
       "      <td>7</td>\n",
       "    </tr>\n",
       "    <tr>\n",
       "      <td>1</td>\n",
       "      <td>1</td>\n",
       "      <td>1032</td>\n",
       "      <td>38</td>\n",
       "    </tr>\n",
       "    <tr>\n",
       "      <td>2</td>\n",
       "      <td>1</td>\n",
       "      <td>1045</td>\n",
       "      <td>5</td>\n",
       "    </tr>\n",
       "    <tr>\n",
       "      <td>3</td>\n",
       "      <td>1</td>\n",
       "      <td>1055</td>\n",
       "      <td>30</td>\n",
       "    </tr>\n",
       "    <tr>\n",
       "      <td>4</td>\n",
       "      <td>1</td>\n",
       "      <td>1071</td>\n",
       "      <td>16</td>\n",
       "    </tr>\n",
       "    <tr>\n",
       "      <td>...</td>\n",
       "      <td>...</td>\n",
       "      <td>...</td>\n",
       "      <td>...</td>\n",
       "    </tr>\n",
       "    <tr>\n",
       "      <td>2712</td>\n",
       "      <td>12</td>\n",
       "      <td>1493</td>\n",
       "      <td>78</td>\n",
       "    </tr>\n",
       "    <tr>\n",
       "      <td>2713</td>\n",
       "      <td>12</td>\n",
       "      <td>1495</td>\n",
       "      <td>84</td>\n",
       "    </tr>\n",
       "    <tr>\n",
       "      <td>2714</td>\n",
       "      <td>12</td>\n",
       "      <td>1496</td>\n",
       "      <td>51</td>\n",
       "    </tr>\n",
       "    <tr>\n",
       "      <td>2715</td>\n",
       "      <td>12</td>\n",
       "      <td>1497</td>\n",
       "      <td>17</td>\n",
       "    </tr>\n",
       "    <tr>\n",
       "      <td>2716</td>\n",
       "      <td>12</td>\n",
       "      <td>1499</td>\n",
       "      <td>66</td>\n",
       "    </tr>\n",
       "  </tbody>\n",
       "</table>\n",
       "<p>2717 rows × 3 columns</p>\n",
       "</div>"
      ],
      "text/plain": [
       "      month  user_id  messages\n",
       "0         1     1005         7\n",
       "1         1     1032        38\n",
       "2         1     1045         5\n",
       "3         1     1055        30\n",
       "4         1     1071        16\n",
       "...     ...      ...       ...\n",
       "2712     12     1493        78\n",
       "2713     12     1495        84\n",
       "2714     12     1496        51\n",
       "2715     12     1497        17\n",
       "2716     12     1499        66\n",
       "\n",
       "[2717 rows x 3 columns]"
      ]
     },
     "execution_count": 88,
     "metadata": {},
     "output_type": "execute_result"
    }
   ],
   "source": [
    "# новый датафрейм с таблицей messages, переименуем столбец id  в messages\n",
    "tempdf = pd.DataFrame(messages_per_month.to_records()).rename(columns={'id': 'messages'})\n",
    "tempdf"
   ]
  },
  {
   "cell_type": "code",
   "execution_count": 89,
   "metadata": {},
   "outputs": [
    {
     "data": {
      "text/html": [
       "<div>\n",
       "<style scoped>\n",
       "    .dataframe tbody tr th:only-of-type {\n",
       "        vertical-align: middle;\n",
       "    }\n",
       "\n",
       "    .dataframe tbody tr th {\n",
       "        vertical-align: top;\n",
       "    }\n",
       "\n",
       "    .dataframe thead th {\n",
       "        text-align: right;\n",
       "    }\n",
       "</style>\n",
       "<table border=\"1\" class=\"dataframe\">\n",
       "  <thead>\n",
       "    <tr style=\"text-align: right;\">\n",
       "      <th></th>\n",
       "      <th>user_id</th>\n",
       "      <th>month</th>\n",
       "      <th>calls</th>\n",
       "      <th>minutes</th>\n",
       "      <th>messages</th>\n",
       "    </tr>\n",
       "  </thead>\n",
       "  <tbody>\n",
       "    <tr>\n",
       "      <td>0</td>\n",
       "      <td>1005</td>\n",
       "      <td>1</td>\n",
       "      <td>15.0</td>\n",
       "      <td>99.0</td>\n",
       "      <td>7.0</td>\n",
       "    </tr>\n",
       "    <tr>\n",
       "      <td>1</td>\n",
       "      <td>1032</td>\n",
       "      <td>1</td>\n",
       "      <td>61.0</td>\n",
       "      <td>397.0</td>\n",
       "      <td>38.0</td>\n",
       "    </tr>\n",
       "    <tr>\n",
       "      <td>2</td>\n",
       "      <td>1045</td>\n",
       "      <td>1</td>\n",
       "      <td>1.0</td>\n",
       "      <td>9.0</td>\n",
       "      <td>5.0</td>\n",
       "    </tr>\n",
       "    <tr>\n",
       "      <td>3</td>\n",
       "      <td>1055</td>\n",
       "      <td>1</td>\n",
       "      <td>64.0</td>\n",
       "      <td>568.0</td>\n",
       "      <td>30.0</td>\n",
       "    </tr>\n",
       "    <tr>\n",
       "      <td>4</td>\n",
       "      <td>1071</td>\n",
       "      <td>1</td>\n",
       "      <td>24.0</td>\n",
       "      <td>200.0</td>\n",
       "      <td>16.0</td>\n",
       "    </tr>\n",
       "    <tr>\n",
       "      <td>...</td>\n",
       "      <td>...</td>\n",
       "      <td>...</td>\n",
       "      <td>...</td>\n",
       "      <td>...</td>\n",
       "      <td>...</td>\n",
       "    </tr>\n",
       "    <tr>\n",
       "      <td>3208</td>\n",
       "      <td>1106</td>\n",
       "      <td>12</td>\n",
       "      <td>NaN</td>\n",
       "      <td>NaN</td>\n",
       "      <td>24.0</td>\n",
       "    </tr>\n",
       "    <tr>\n",
       "      <td>3209</td>\n",
       "      <td>1231</td>\n",
       "      <td>12</td>\n",
       "      <td>NaN</td>\n",
       "      <td>NaN</td>\n",
       "      <td>191.0</td>\n",
       "    </tr>\n",
       "    <tr>\n",
       "      <td>3210</td>\n",
       "      <td>1328</td>\n",
       "      <td>12</td>\n",
       "      <td>NaN</td>\n",
       "      <td>NaN</td>\n",
       "      <td>7.0</td>\n",
       "    </tr>\n",
       "    <tr>\n",
       "      <td>3211</td>\n",
       "      <td>1473</td>\n",
       "      <td>12</td>\n",
       "      <td>NaN</td>\n",
       "      <td>NaN</td>\n",
       "      <td>20.0</td>\n",
       "    </tr>\n",
       "    <tr>\n",
       "      <td>3212</td>\n",
       "      <td>1489</td>\n",
       "      <td>12</td>\n",
       "      <td>NaN</td>\n",
       "      <td>NaN</td>\n",
       "      <td>35.0</td>\n",
       "    </tr>\n",
       "  </tbody>\n",
       "</table>\n",
       "<p>3213 rows × 5 columns</p>\n",
       "</div>"
      ],
      "text/plain": [
       "      user_id  month  calls  minutes  messages\n",
       "0        1005      1   15.0     99.0       7.0\n",
       "1        1032      1   61.0    397.0      38.0\n",
       "2        1045      1    1.0      9.0       5.0\n",
       "3        1055      1   64.0    568.0      30.0\n",
       "4        1071      1   24.0    200.0      16.0\n",
       "...       ...    ...    ...      ...       ...\n",
       "3208     1106     12    NaN      NaN      24.0\n",
       "3209     1231     12    NaN      NaN     191.0\n",
       "3210     1328     12    NaN      NaN       7.0\n",
       "3211     1473     12    NaN      NaN      20.0\n",
       "3212     1489     12    NaN      NaN      35.0\n",
       "\n",
       "[3213 rows x 5 columns]"
      ]
     },
     "execution_count": 89,
     "metadata": {},
     "output_type": "execute_result"
    }
   ],
   "source": [
    "# Соединим новый датафрейм с нашим profit_per_month таблицей\n",
    "profit_per_month = profit_per_month.merge(tempdf, on=['user_id', 'month'], how='outer')\n",
    "profit_per_month"
   ]
  },
  {
   "cell_type": "code",
   "execution_count": 90,
   "metadata": {},
   "outputs": [
    {
     "data": {
      "text/html": [
       "<div>\n",
       "<style scoped>\n",
       "    .dataframe tbody tr th:only-of-type {\n",
       "        vertical-align: middle;\n",
       "    }\n",
       "\n",
       "    .dataframe tbody tr th {\n",
       "        vertical-align: top;\n",
       "    }\n",
       "\n",
       "    .dataframe thead th {\n",
       "        text-align: right;\n",
       "    }\n",
       "</style>\n",
       "<table border=\"1\" class=\"dataframe\">\n",
       "  <thead>\n",
       "    <tr style=\"text-align: right;\">\n",
       "      <th></th>\n",
       "      <th>user_id</th>\n",
       "      <th>month</th>\n",
       "      <th>calls</th>\n",
       "      <th>minutes</th>\n",
       "      <th>messages</th>\n",
       "      <th>mb_used</th>\n",
       "    </tr>\n",
       "  </thead>\n",
       "  <tbody>\n",
       "    <tr>\n",
       "      <td>0</td>\n",
       "      <td>1005</td>\n",
       "      <td>1</td>\n",
       "      <td>15.0</td>\n",
       "      <td>99.0</td>\n",
       "      <td>7.0</td>\n",
       "      <td>2730.0</td>\n",
       "    </tr>\n",
       "    <tr>\n",
       "      <td>1</td>\n",
       "      <td>1032</td>\n",
       "      <td>1</td>\n",
       "      <td>61.0</td>\n",
       "      <td>397.0</td>\n",
       "      <td>38.0</td>\n",
       "      <td>24158.0</td>\n",
       "    </tr>\n",
       "    <tr>\n",
       "      <td>2</td>\n",
       "      <td>1045</td>\n",
       "      <td>1</td>\n",
       "      <td>1.0</td>\n",
       "      <td>9.0</td>\n",
       "      <td>5.0</td>\n",
       "      <td>2348.0</td>\n",
       "    </tr>\n",
       "    <tr>\n",
       "      <td>3</td>\n",
       "      <td>1055</td>\n",
       "      <td>1</td>\n",
       "      <td>64.0</td>\n",
       "      <td>568.0</td>\n",
       "      <td>30.0</td>\n",
       "      <td>17115.0</td>\n",
       "    </tr>\n",
       "    <tr>\n",
       "      <td>4</td>\n",
       "      <td>1071</td>\n",
       "      <td>1</td>\n",
       "      <td>24.0</td>\n",
       "      <td>200.0</td>\n",
       "      <td>16.0</td>\n",
       "      <td>15625.0</td>\n",
       "    </tr>\n",
       "    <tr>\n",
       "      <td>...</td>\n",
       "      <td>...</td>\n",
       "      <td>...</td>\n",
       "      <td>...</td>\n",
       "      <td>...</td>\n",
       "      <td>...</td>\n",
       "      <td>...</td>\n",
       "    </tr>\n",
       "    <tr>\n",
       "      <td>3209</td>\n",
       "      <td>1231</td>\n",
       "      <td>12</td>\n",
       "      <td>NaN</td>\n",
       "      <td>NaN</td>\n",
       "      <td>191.0</td>\n",
       "      <td>32483.0</td>\n",
       "    </tr>\n",
       "    <tr>\n",
       "      <td>3210</td>\n",
       "      <td>1328</td>\n",
       "      <td>12</td>\n",
       "      <td>NaN</td>\n",
       "      <td>NaN</td>\n",
       "      <td>7.0</td>\n",
       "      <td>39465.0</td>\n",
       "    </tr>\n",
       "    <tr>\n",
       "      <td>3211</td>\n",
       "      <td>1473</td>\n",
       "      <td>12</td>\n",
       "      <td>NaN</td>\n",
       "      <td>NaN</td>\n",
       "      <td>20.0</td>\n",
       "      <td>18433.0</td>\n",
       "    </tr>\n",
       "    <tr>\n",
       "      <td>3212</td>\n",
       "      <td>1489</td>\n",
       "      <td>12</td>\n",
       "      <td>NaN</td>\n",
       "      <td>NaN</td>\n",
       "      <td>35.0</td>\n",
       "      <td>17349.0</td>\n",
       "    </tr>\n",
       "    <tr>\n",
       "      <td>3213</td>\n",
       "      <td>1476</td>\n",
       "      <td>4</td>\n",
       "      <td>NaN</td>\n",
       "      <td>NaN</td>\n",
       "      <td>NaN</td>\n",
       "      <td>531.0</td>\n",
       "    </tr>\n",
       "  </tbody>\n",
       "</table>\n",
       "<p>3214 rows × 6 columns</p>\n",
       "</div>"
      ],
      "text/plain": [
       "      user_id  month  calls  minutes  messages  mb_used\n",
       "0        1005      1   15.0     99.0       7.0   2730.0\n",
       "1        1032      1   61.0    397.0      38.0  24158.0\n",
       "2        1045      1    1.0      9.0       5.0   2348.0\n",
       "3        1055      1   64.0    568.0      30.0  17115.0\n",
       "4        1071      1   24.0    200.0      16.0  15625.0\n",
       "...       ...    ...    ...      ...       ...      ...\n",
       "3209     1231     12    NaN      NaN     191.0  32483.0\n",
       "3210     1328     12    NaN      NaN       7.0  39465.0\n",
       "3211     1473     12    NaN      NaN      20.0  18433.0\n",
       "3212     1489     12    NaN      NaN      35.0  17349.0\n",
       "3213     1476      4    NaN      NaN       NaN    531.0\n",
       "\n",
       "[3214 rows x 6 columns]"
      ]
     },
     "execution_count": 90,
     "metadata": {},
     "output_type": "execute_result"
    }
   ],
   "source": [
    "# новый временный датафрейм с таблицей internet_per_month и соединим его с нашим profit_per_month таблицей\n",
    "tempdf = pd.DataFrame(internet_per_month.to_records())\n",
    "profit_per_month = profit_per_month.merge(tempdf, on=['user_id', 'month'], how='outer')\n",
    "profit_per_month"
   ]
  },
  {
   "cell_type": "code",
   "execution_count": null,
   "metadata": {},
   "outputs": [],
   "source": []
  },
  {
   "cell_type": "code",
   "execution_count": 91,
   "metadata": {},
   "outputs": [
    {
     "data": {
      "text/html": [
       "<div>\n",
       "<style scoped>\n",
       "    .dataframe tbody tr th:only-of-type {\n",
       "        vertical-align: middle;\n",
       "    }\n",
       "\n",
       "    .dataframe tbody tr th {\n",
       "        vertical-align: top;\n",
       "    }\n",
       "\n",
       "    .dataframe thead th {\n",
       "        text-align: right;\n",
       "    }\n",
       "</style>\n",
       "<table border=\"1\" class=\"dataframe\">\n",
       "  <thead>\n",
       "    <tr style=\"text-align: right;\">\n",
       "      <th></th>\n",
       "      <th>user_id</th>\n",
       "      <th>month</th>\n",
       "      <th>calls</th>\n",
       "      <th>minutes</th>\n",
       "      <th>messages</th>\n",
       "      <th>mb_used</th>\n",
       "      <th>tariff</th>\n",
       "      <th>city</th>\n",
       "      <th>age</th>\n",
       "    </tr>\n",
       "  </thead>\n",
       "  <tbody>\n",
       "    <tr>\n",
       "      <td>0</td>\n",
       "      <td>1005</td>\n",
       "      <td>1.0</td>\n",
       "      <td>15.0</td>\n",
       "      <td>99.0</td>\n",
       "      <td>7.0</td>\n",
       "      <td>2730.0</td>\n",
       "      <td>smart</td>\n",
       "      <td>набережные челны</td>\n",
       "      <td>67</td>\n",
       "    </tr>\n",
       "    <tr>\n",
       "      <td>1</td>\n",
       "      <td>1005</td>\n",
       "      <td>2.0</td>\n",
       "      <td>69.0</td>\n",
       "      <td>470.0</td>\n",
       "      <td>38.0</td>\n",
       "      <td>7396.0</td>\n",
       "      <td>smart</td>\n",
       "      <td>набережные челны</td>\n",
       "      <td>67</td>\n",
       "    </tr>\n",
       "    <tr>\n",
       "      <td>2</td>\n",
       "      <td>1005</td>\n",
       "      <td>3.0</td>\n",
       "      <td>77.0</td>\n",
       "      <td>620.0</td>\n",
       "      <td>56.0</td>\n",
       "      <td>11120.0</td>\n",
       "      <td>smart</td>\n",
       "      <td>набережные челны</td>\n",
       "      <td>67</td>\n",
       "    </tr>\n",
       "    <tr>\n",
       "      <td>3</td>\n",
       "      <td>1005</td>\n",
       "      <td>4.0</td>\n",
       "      <td>101.0</td>\n",
       "      <td>736.0</td>\n",
       "      <td>41.0</td>\n",
       "      <td>9371.0</td>\n",
       "      <td>smart</td>\n",
       "      <td>набережные челны</td>\n",
       "      <td>67</td>\n",
       "    </tr>\n",
       "    <tr>\n",
       "      <td>4</td>\n",
       "      <td>1005</td>\n",
       "      <td>5.0</td>\n",
       "      <td>73.0</td>\n",
       "      <td>606.0</td>\n",
       "      <td>42.0</td>\n",
       "      <td>7882.0</td>\n",
       "      <td>smart</td>\n",
       "      <td>набережные челны</td>\n",
       "      <td>67</td>\n",
       "    </tr>\n",
       "    <tr>\n",
       "      <td>...</td>\n",
       "      <td>...</td>\n",
       "      <td>...</td>\n",
       "      <td>...</td>\n",
       "      <td>...</td>\n",
       "      <td>...</td>\n",
       "      <td>...</td>\n",
       "      <td>...</td>\n",
       "      <td>...</td>\n",
       "      <td>...</td>\n",
       "    </tr>\n",
       "    <tr>\n",
       "      <td>3211</td>\n",
       "      <td>1328</td>\n",
       "      <td>10.0</td>\n",
       "      <td>NaN</td>\n",
       "      <td>NaN</td>\n",
       "      <td>6.0</td>\n",
       "      <td>22449.0</td>\n",
       "      <td>ultra</td>\n",
       "      <td>мурманск</td>\n",
       "      <td>44</td>\n",
       "    </tr>\n",
       "    <tr>\n",
       "      <td>3212</td>\n",
       "      <td>1328</td>\n",
       "      <td>11.0</td>\n",
       "      <td>NaN</td>\n",
       "      <td>NaN</td>\n",
       "      <td>8.0</td>\n",
       "      <td>35570.0</td>\n",
       "      <td>ultra</td>\n",
       "      <td>мурманск</td>\n",
       "      <td>44</td>\n",
       "    </tr>\n",
       "    <tr>\n",
       "      <td>3213</td>\n",
       "      <td>1328</td>\n",
       "      <td>12.0</td>\n",
       "      <td>NaN</td>\n",
       "      <td>NaN</td>\n",
       "      <td>7.0</td>\n",
       "      <td>39465.0</td>\n",
       "      <td>ultra</td>\n",
       "      <td>мурманск</td>\n",
       "      <td>44</td>\n",
       "    </tr>\n",
       "    <tr>\n",
       "      <td>3214</td>\n",
       "      <td>1128</td>\n",
       "      <td>NaN</td>\n",
       "      <td>NaN</td>\n",
       "      <td>NaN</td>\n",
       "      <td>NaN</td>\n",
       "      <td>NaN</td>\n",
       "      <td>ultra</td>\n",
       "      <td>волжский</td>\n",
       "      <td>51</td>\n",
       "    </tr>\n",
       "    <tr>\n",
       "      <td>3215</td>\n",
       "      <td>1371</td>\n",
       "      <td>NaN</td>\n",
       "      <td>NaN</td>\n",
       "      <td>NaN</td>\n",
       "      <td>NaN</td>\n",
       "      <td>NaN</td>\n",
       "      <td>smart</td>\n",
       "      <td>омск</td>\n",
       "      <td>50</td>\n",
       "    </tr>\n",
       "  </tbody>\n",
       "</table>\n",
       "<p>3216 rows × 9 columns</p>\n",
       "</div>"
      ],
      "text/plain": [
       "      user_id  month  calls  minutes  messages  mb_used tariff  \\\n",
       "0        1005    1.0   15.0     99.0       7.0   2730.0  smart   \n",
       "1        1005    2.0   69.0    470.0      38.0   7396.0  smart   \n",
       "2        1005    3.0   77.0    620.0      56.0  11120.0  smart   \n",
       "3        1005    4.0  101.0    736.0      41.0   9371.0  smart   \n",
       "4        1005    5.0   73.0    606.0      42.0   7882.0  smart   \n",
       "...       ...    ...    ...      ...       ...      ...    ...   \n",
       "3211     1328   10.0    NaN      NaN       6.0  22449.0  ultra   \n",
       "3212     1328   11.0    NaN      NaN       8.0  35570.0  ultra   \n",
       "3213     1328   12.0    NaN      NaN       7.0  39465.0  ultra   \n",
       "3214     1128    NaN    NaN      NaN       NaN      NaN  ultra   \n",
       "3215     1371    NaN    NaN      NaN       NaN      NaN  smart   \n",
       "\n",
       "                  city  age  \n",
       "0     набережные челны   67  \n",
       "1     набережные челны   67  \n",
       "2     набережные челны   67  \n",
       "3     набережные челны   67  \n",
       "4     набережные челны   67  \n",
       "...                ...  ...  \n",
       "3211          мурманск   44  \n",
       "3212          мурманск   44  \n",
       "3213          мурманск   44  \n",
       "3214          волжский   51  \n",
       "3215              омск   50  \n",
       "\n",
       "[3216 rows x 9 columns]"
      ]
     },
     "execution_count": 91,
     "metadata": {},
     "output_type": "execute_result"
    }
   ],
   "source": [
    "# новый датафрейм tariff_t и перенесем в него столбцы из таблицы users далее соединим с profit_per_month таблицей\n",
    "tariff_t = pd.DataFrame()\n",
    "tariff_t[['user_id','tariff','city','age']] = users[['user_id','tariff','city','age']]\n",
    "profit_per_month = profit_per_month.merge(tariff_t, on='user_id', how='outer')\n",
    "profit_per_month"
   ]
  },
  {
   "cell_type": "code",
   "execution_count": 92,
   "metadata": {},
   "outputs": [
    {
     "data": {
      "text/plain": [
       "user_id       0\n",
       "month         2\n",
       "calls        42\n",
       "minutes      42\n",
       "messages    499\n",
       "mb_used      13\n",
       "tariff        0\n",
       "city          0\n",
       "age           0\n",
       "dtype: int64"
      ]
     },
     "execution_count": 92,
     "metadata": {},
     "output_type": "execute_result"
    }
   ],
   "source": [
    "profit_per_month.isnull().sum()"
   ]
  },
  {
   "cell_type": "code",
   "execution_count": 93,
   "metadata": {},
   "outputs": [],
   "source": [
    "profit_per_month = profit_per_month.fillna(0)"
   ]
  },
  {
   "cell_type": "code",
   "execution_count": 94,
   "metadata": {},
   "outputs": [],
   "source": [
    "# Обозначим следующие переменные с ценами и включенными пакетами по тарифам\n",
    "smart_megabytes_included = 15360\n",
    "smart_messages_included = 50\n",
    "smart_minutes_included = 500\n",
    "smart_monthly_price = 550\n",
    "smart_price_for_megabyte = 0.1953\n",
    "smart_price_for_message = 3\n",
    "smart_price_for_minute = 3"
   ]
  },
  {
   "cell_type": "code",
   "execution_count": 95,
   "metadata": {},
   "outputs": [],
   "source": [
    "ultra_megabytes_included = 30720\n",
    "ultra_messages_included = 1000\n",
    "ultra_minutes_included = 3000\n",
    "ultra_monthly_price = 1950\n",
    "ultra_price_for_megabyte = 0.1464\n",
    "ultra_price_for_message = 1\n",
    "ultra_price_for_minute = 1"
   ]
  },
  {
   "cell_type": "code",
   "execution_count": 96,
   "metadata": {},
   "outputs": [],
   "source": [
    "# Напишем функцию для подсчета прибыли \n",
    "def profit_function(row):    # Обозначим следующие переменные из столбцов таблицы\n",
    "    mb_used = row['mb_used']\n",
    "    tariff = row['tariff']\n",
    "    minutes = row['minutes']\n",
    "    messages = row['messages']\n",
    "    total_megabytes = 0\n",
    "    total_messages = 0 \n",
    "    total_minutes = 0\n",
    "    \n",
    "    if tariff == 'smart':\n",
    "        if mb_used > smart_megabytes_included:\n",
    "            total_megabytes = (mb_used - smart_megabytes_included) * smart_price_for_megabyte\n",
    "        if minutes > smart_minutes_included:\n",
    "            total_minutes = (minutes - smart_minutes_included) * smart_price_for_minute\n",
    "        if messages > smart_messages_included:\n",
    "            total_messages = (messages - smart_messages_included) * smart_price_for_message\n",
    "        \n",
    "        return total_megabytes + total_minutes + total_messages + smart_monthly_price\n",
    "    \n",
    "    if tariff == 'ultra':\n",
    "        if mb_used > ultra_megabytes_included:\n",
    "            total_megabytes = (mb_used - ultra_megabytes_included) * ultra_price_for_megabyte\n",
    "        if minutes > ultra_minutes_included:\n",
    "            total_minutes = (minutes - ultra_minutes_included) * ultra_price_for_minute\n",
    "        if messages > ultra_messages_included:\n",
    "            total_messages = (messages - ultra_messages_included) * ultra_price_for_message\n",
    "        return total_megabytes + total_minutes + total_messages + ultra_monthly_price"
   ]
  },
  {
   "cell_type": "code",
   "execution_count": 97,
   "metadata": {},
   "outputs": [],
   "source": [
    "profit_per_month['profit'] = profit_per_month.apply(profit_function, axis = 1)"
   ]
  },
  {
   "cell_type": "code",
   "execution_count": null,
   "metadata": {},
   "outputs": [],
   "source": []
  },
  {
   "cell_type": "code",
   "execution_count": 98,
   "metadata": {},
   "outputs": [
    {
     "data": {
      "text/html": [
       "<div>\n",
       "<style scoped>\n",
       "    .dataframe tbody tr th:only-of-type {\n",
       "        vertical-align: middle;\n",
       "    }\n",
       "\n",
       "    .dataframe tbody tr th {\n",
       "        vertical-align: top;\n",
       "    }\n",
       "\n",
       "    .dataframe thead th {\n",
       "        text-align: right;\n",
       "    }\n",
       "</style>\n",
       "<table border=\"1\" class=\"dataframe\">\n",
       "  <thead>\n",
       "    <tr style=\"text-align: right;\">\n",
       "      <th></th>\n",
       "      <th>user_id</th>\n",
       "      <th>month</th>\n",
       "      <th>calls</th>\n",
       "      <th>minutes</th>\n",
       "      <th>messages</th>\n",
       "      <th>mb_used</th>\n",
       "      <th>tariff</th>\n",
       "      <th>city</th>\n",
       "      <th>age</th>\n",
       "      <th>profit</th>\n",
       "    </tr>\n",
       "  </thead>\n",
       "  <tbody>\n",
       "    <tr>\n",
       "      <td>0</td>\n",
       "      <td>1005</td>\n",
       "      <td>1.0</td>\n",
       "      <td>15.0</td>\n",
       "      <td>99.0</td>\n",
       "      <td>7.0</td>\n",
       "      <td>2730.0</td>\n",
       "      <td>smart</td>\n",
       "      <td>набережные челны</td>\n",
       "      <td>67</td>\n",
       "      <td>550.000</td>\n",
       "    </tr>\n",
       "    <tr>\n",
       "      <td>1</td>\n",
       "      <td>1005</td>\n",
       "      <td>2.0</td>\n",
       "      <td>69.0</td>\n",
       "      <td>470.0</td>\n",
       "      <td>38.0</td>\n",
       "      <td>7396.0</td>\n",
       "      <td>smart</td>\n",
       "      <td>набережные челны</td>\n",
       "      <td>67</td>\n",
       "      <td>550.000</td>\n",
       "    </tr>\n",
       "    <tr>\n",
       "      <td>2</td>\n",
       "      <td>1005</td>\n",
       "      <td>3.0</td>\n",
       "      <td>77.0</td>\n",
       "      <td>620.0</td>\n",
       "      <td>56.0</td>\n",
       "      <td>11120.0</td>\n",
       "      <td>smart</td>\n",
       "      <td>набережные челны</td>\n",
       "      <td>67</td>\n",
       "      <td>928.000</td>\n",
       "    </tr>\n",
       "    <tr>\n",
       "      <td>3</td>\n",
       "      <td>1005</td>\n",
       "      <td>4.0</td>\n",
       "      <td>101.0</td>\n",
       "      <td>736.0</td>\n",
       "      <td>41.0</td>\n",
       "      <td>9371.0</td>\n",
       "      <td>smart</td>\n",
       "      <td>набережные челны</td>\n",
       "      <td>67</td>\n",
       "      <td>1258.000</td>\n",
       "    </tr>\n",
       "    <tr>\n",
       "      <td>4</td>\n",
       "      <td>1005</td>\n",
       "      <td>5.0</td>\n",
       "      <td>73.0</td>\n",
       "      <td>606.0</td>\n",
       "      <td>42.0</td>\n",
       "      <td>7882.0</td>\n",
       "      <td>smart</td>\n",
       "      <td>набережные челны</td>\n",
       "      <td>67</td>\n",
       "      <td>868.000</td>\n",
       "    </tr>\n",
       "    <tr>\n",
       "      <td>...</td>\n",
       "      <td>...</td>\n",
       "      <td>...</td>\n",
       "      <td>...</td>\n",
       "      <td>...</td>\n",
       "      <td>...</td>\n",
       "      <td>...</td>\n",
       "      <td>...</td>\n",
       "      <td>...</td>\n",
       "      <td>...</td>\n",
       "      <td>...</td>\n",
       "    </tr>\n",
       "    <tr>\n",
       "      <td>3211</td>\n",
       "      <td>1328</td>\n",
       "      <td>10.0</td>\n",
       "      <td>0.0</td>\n",
       "      <td>0.0</td>\n",
       "      <td>6.0</td>\n",
       "      <td>22449.0</td>\n",
       "      <td>ultra</td>\n",
       "      <td>мурманск</td>\n",
       "      <td>44</td>\n",
       "      <td>1950.000</td>\n",
       "    </tr>\n",
       "    <tr>\n",
       "      <td>3212</td>\n",
       "      <td>1328</td>\n",
       "      <td>11.0</td>\n",
       "      <td>0.0</td>\n",
       "      <td>0.0</td>\n",
       "      <td>8.0</td>\n",
       "      <td>35570.0</td>\n",
       "      <td>ultra</td>\n",
       "      <td>мурманск</td>\n",
       "      <td>44</td>\n",
       "      <td>2660.040</td>\n",
       "    </tr>\n",
       "    <tr>\n",
       "      <td>3213</td>\n",
       "      <td>1328</td>\n",
       "      <td>12.0</td>\n",
       "      <td>0.0</td>\n",
       "      <td>0.0</td>\n",
       "      <td>7.0</td>\n",
       "      <td>39465.0</td>\n",
       "      <td>ultra</td>\n",
       "      <td>мурманск</td>\n",
       "      <td>44</td>\n",
       "      <td>3230.268</td>\n",
       "    </tr>\n",
       "    <tr>\n",
       "      <td>3214</td>\n",
       "      <td>1128</td>\n",
       "      <td>0.0</td>\n",
       "      <td>0.0</td>\n",
       "      <td>0.0</td>\n",
       "      <td>0.0</td>\n",
       "      <td>0.0</td>\n",
       "      <td>ultra</td>\n",
       "      <td>волжский</td>\n",
       "      <td>51</td>\n",
       "      <td>1950.000</td>\n",
       "    </tr>\n",
       "    <tr>\n",
       "      <td>3215</td>\n",
       "      <td>1371</td>\n",
       "      <td>0.0</td>\n",
       "      <td>0.0</td>\n",
       "      <td>0.0</td>\n",
       "      <td>0.0</td>\n",
       "      <td>0.0</td>\n",
       "      <td>smart</td>\n",
       "      <td>омск</td>\n",
       "      <td>50</td>\n",
       "      <td>550.000</td>\n",
       "    </tr>\n",
       "  </tbody>\n",
       "</table>\n",
       "<p>3216 rows × 10 columns</p>\n",
       "</div>"
      ],
      "text/plain": [
       "      user_id  month  calls  minutes  messages  mb_used tariff  \\\n",
       "0        1005    1.0   15.0     99.0       7.0   2730.0  smart   \n",
       "1        1005    2.0   69.0    470.0      38.0   7396.0  smart   \n",
       "2        1005    3.0   77.0    620.0      56.0  11120.0  smart   \n",
       "3        1005    4.0  101.0    736.0      41.0   9371.0  smart   \n",
       "4        1005    5.0   73.0    606.0      42.0   7882.0  smart   \n",
       "...       ...    ...    ...      ...       ...      ...    ...   \n",
       "3211     1328   10.0    0.0      0.0       6.0  22449.0  ultra   \n",
       "3212     1328   11.0    0.0      0.0       8.0  35570.0  ultra   \n",
       "3213     1328   12.0    0.0      0.0       7.0  39465.0  ultra   \n",
       "3214     1128    0.0    0.0      0.0       0.0      0.0  ultra   \n",
       "3215     1371    0.0    0.0      0.0       0.0      0.0  smart   \n",
       "\n",
       "                  city  age    profit  \n",
       "0     набережные челны   67   550.000  \n",
       "1     набережные челны   67   550.000  \n",
       "2     набережные челны   67   928.000  \n",
       "3     набережные челны   67  1258.000  \n",
       "4     набережные челны   67   868.000  \n",
       "...                ...  ...       ...  \n",
       "3211          мурманск   44  1950.000  \n",
       "3212          мурманск   44  2660.040  \n",
       "3213          мурманск   44  3230.268  \n",
       "3214          волжский   51  1950.000  \n",
       "3215              омск   50   550.000  \n",
       "\n",
       "[3216 rows x 10 columns]"
      ]
     },
     "execution_count": 98,
     "metadata": {},
     "output_type": "execute_result"
    }
   ],
   "source": [
    "profit_per_month"
   ]
  },
  {
   "cell_type": "code",
   "execution_count": 99,
   "metadata": {},
   "outputs": [],
   "source": [
    "# Посчитаем данные по выручке от каждого пользователя \n",
    "ultra_revenue = profit_per_month[profit_per_month['tariff']=='ultra']['profit']\n",
    "smart_revenue = profit_per_month[profit_per_month['tariff']=='smart']['profit']"
   ]
  },
  {
   "cell_type": "code",
   "execution_count": 100,
   "metadata": {},
   "outputs": [
    {
     "data": {
      "text/plain": [
       "68      1950.000\n",
       "69      1950.000\n",
       "70      1950.000\n",
       "71      1950.000\n",
       "72      1950.000\n",
       "          ...   \n",
       "3205    1950.000\n",
       "3211    1950.000\n",
       "3212    2660.040\n",
       "3213    3230.268\n",
       "3214    1950.000\n",
       "Name: profit, Length: 986, dtype: float64"
      ]
     },
     "execution_count": 100,
     "metadata": {},
     "output_type": "execute_result"
    }
   ],
   "source": [
    "ultra_revenue"
   ]
  },
  {
   "cell_type": "code",
   "execution_count": 101,
   "metadata": {},
   "outputs": [
    {
     "data": {
      "text/plain": [
       "0        550.0000\n",
       "1        550.0000\n",
       "2        928.0000\n",
       "3       1258.0000\n",
       "4        868.0000\n",
       "          ...    \n",
       "3207     918.3358\n",
       "3208    1377.8767\n",
       "3209     973.0198\n",
       "3210     938.4517\n",
       "3215     550.0000\n",
       "Name: profit, Length: 2230, dtype: float64"
      ]
     },
     "execution_count": 101,
     "metadata": {},
     "output_type": "execute_result"
    }
   ],
   "source": [
    "smart_revenue"
   ]
  },
  {
   "cell_type": "code",
   "execution_count": null,
   "metadata": {},
   "outputs": [],
   "source": []
  },
  {
   "cell_type": "code",
   "execution_count": 102,
   "metadata": {},
   "outputs": [
    {
     "name": "stdout",
     "output_type": "stream",
     "text": [
      "p-значение: 4.118812366381322e-180\n",
      "Отвергаем нулевую гипотезу\n"
     ]
    }
   ],
   "source": [
    "#Выполним проверку гипотезы. Будем использовать метод ttest_ind\n",
    "\n",
    "alpha = .05\n",
    "\n",
    "results = st.ttest_ind(ultra_revenue, smart_revenue)\n",
    "\n",
    "print('p-значение:', results.pvalue)\n",
    "\n",
    "\n",
    "if (results.pvalue < alpha):\n",
    "    print(\"Отвергаем нулевую гипотезу\")\n",
    "else:\n",
    "    print(\"Не получилось отвергнуть нулевую гипотезу\")"
   ]
  },
  {
   "cell_type": "markdown",
   "metadata": {},
   "source": [
    "средняя выручка в тарифах ультра и смарт различается. Отвергаем нулевую гипотезу"
   ]
  },
  {
   "cell_type": "markdown",
   "metadata": {},
   "source": [
    "Сформулируем нулевые гипотезы :\n",
    "\n",
    "- Нулевая гипотеза H₀: Средняя выручка пользователей из Москвы не отличается от выручки пользователей из других регионов\n",
    "- Альтернативная гипотеза H₁: Средняя выручка пользователей ииз Москвы отличается от выручки пользователей из других регионов"
   ]
  },
  {
   "cell_type": "code",
   "execution_count": 103,
   "metadata": {},
   "outputs": [],
   "source": [
    "moscow_city = profit_per_month[profit_per_month['city']=='москва'].profit\n",
    "others_city = profit_per_month[profit_per_month['city']!='москва'].profit"
   ]
  },
  {
   "cell_type": "code",
   "execution_count": 104,
   "metadata": {},
   "outputs": [
    {
     "name": "stdout",
     "output_type": "stream",
     "text": [
      "p-значение: 0.5185594755046896\n",
      "Не получилось отвергнуть нулевую гипотезу\n"
     ]
    }
   ],
   "source": [
    "#Выполним проверку гипотезы.\n",
    "\n",
    "alpha = .05\n",
    "\n",
    "results = st.ttest_ind(moscow_city, others_city)\n",
    "\n",
    "print('p-значение:', results.pvalue)\n",
    "\n",
    "\n",
    "if (results.pvalue < alpha):\n",
    "    print(\"Отвергаем нулевую гипотезу\")\n",
    "else:\n",
    "    print(\"Не получилось отвергнуть нулевую гипотезу\")"
   ]
  },
  {
   "cell_type": "markdown",
   "metadata": {},
   "source": [
    "Вероятность получить одинаковую среднюю выручку составляет 0.51 - это большая вероятность следовательно гипотеза не подтвердилась и средняя выручка пользователей из Москвы не отличается от выручки пользователей из других регионов."
   ]
  },
  {
   "cell_type": "code",
   "execution_count": 105,
   "metadata": {},
   "outputs": [
    {
     "data": {
      "text/html": [
       "<div>\n",
       "<style scoped>\n",
       "    .dataframe tbody tr th:only-of-type {\n",
       "        vertical-align: middle;\n",
       "    }\n",
       "\n",
       "    .dataframe tbody tr th {\n",
       "        vertical-align: top;\n",
       "    }\n",
       "\n",
       "    .dataframe thead th {\n",
       "        text-align: right;\n",
       "    }\n",
       "</style>\n",
       "<table border=\"1\" class=\"dataframe\">\n",
       "  <thead>\n",
       "    <tr style=\"text-align: right;\">\n",
       "      <th></th>\n",
       "      <th>user_id</th>\n",
       "      <th>month</th>\n",
       "      <th>calls</th>\n",
       "      <th>minutes</th>\n",
       "      <th>messages</th>\n",
       "      <th>mb_used</th>\n",
       "      <th>tariff</th>\n",
       "      <th>city</th>\n",
       "      <th>age</th>\n",
       "      <th>profit</th>\n",
       "    </tr>\n",
       "  </thead>\n",
       "  <tbody>\n",
       "    <tr>\n",
       "      <td>0</td>\n",
       "      <td>1005</td>\n",
       "      <td>1.0</td>\n",
       "      <td>15.0</td>\n",
       "      <td>99.0</td>\n",
       "      <td>7.0</td>\n",
       "      <td>2730.0</td>\n",
       "      <td>smart</td>\n",
       "      <td>набережные челны</td>\n",
       "      <td>67</td>\n",
       "      <td>550.000</td>\n",
       "    </tr>\n",
       "    <tr>\n",
       "      <td>1</td>\n",
       "      <td>1005</td>\n",
       "      <td>2.0</td>\n",
       "      <td>69.0</td>\n",
       "      <td>470.0</td>\n",
       "      <td>38.0</td>\n",
       "      <td>7396.0</td>\n",
       "      <td>smart</td>\n",
       "      <td>набережные челны</td>\n",
       "      <td>67</td>\n",
       "      <td>550.000</td>\n",
       "    </tr>\n",
       "    <tr>\n",
       "      <td>2</td>\n",
       "      <td>1005</td>\n",
       "      <td>3.0</td>\n",
       "      <td>77.0</td>\n",
       "      <td>620.0</td>\n",
       "      <td>56.0</td>\n",
       "      <td>11120.0</td>\n",
       "      <td>smart</td>\n",
       "      <td>набережные челны</td>\n",
       "      <td>67</td>\n",
       "      <td>928.000</td>\n",
       "    </tr>\n",
       "    <tr>\n",
       "      <td>3</td>\n",
       "      <td>1005</td>\n",
       "      <td>4.0</td>\n",
       "      <td>101.0</td>\n",
       "      <td>736.0</td>\n",
       "      <td>41.0</td>\n",
       "      <td>9371.0</td>\n",
       "      <td>smart</td>\n",
       "      <td>набережные челны</td>\n",
       "      <td>67</td>\n",
       "      <td>1258.000</td>\n",
       "    </tr>\n",
       "    <tr>\n",
       "      <td>4</td>\n",
       "      <td>1005</td>\n",
       "      <td>5.0</td>\n",
       "      <td>73.0</td>\n",
       "      <td>606.0</td>\n",
       "      <td>42.0</td>\n",
       "      <td>7882.0</td>\n",
       "      <td>smart</td>\n",
       "      <td>набережные челны</td>\n",
       "      <td>67</td>\n",
       "      <td>868.000</td>\n",
       "    </tr>\n",
       "    <tr>\n",
       "      <td>...</td>\n",
       "      <td>...</td>\n",
       "      <td>...</td>\n",
       "      <td>...</td>\n",
       "      <td>...</td>\n",
       "      <td>...</td>\n",
       "      <td>...</td>\n",
       "      <td>...</td>\n",
       "      <td>...</td>\n",
       "      <td>...</td>\n",
       "      <td>...</td>\n",
       "    </tr>\n",
       "    <tr>\n",
       "      <td>3211</td>\n",
       "      <td>1328</td>\n",
       "      <td>10.0</td>\n",
       "      <td>0.0</td>\n",
       "      <td>0.0</td>\n",
       "      <td>6.0</td>\n",
       "      <td>22449.0</td>\n",
       "      <td>ultra</td>\n",
       "      <td>мурманск</td>\n",
       "      <td>44</td>\n",
       "      <td>1950.000</td>\n",
       "    </tr>\n",
       "    <tr>\n",
       "      <td>3212</td>\n",
       "      <td>1328</td>\n",
       "      <td>11.0</td>\n",
       "      <td>0.0</td>\n",
       "      <td>0.0</td>\n",
       "      <td>8.0</td>\n",
       "      <td>35570.0</td>\n",
       "      <td>ultra</td>\n",
       "      <td>мурманск</td>\n",
       "      <td>44</td>\n",
       "      <td>2660.040</td>\n",
       "    </tr>\n",
       "    <tr>\n",
       "      <td>3213</td>\n",
       "      <td>1328</td>\n",
       "      <td>12.0</td>\n",
       "      <td>0.0</td>\n",
       "      <td>0.0</td>\n",
       "      <td>7.0</td>\n",
       "      <td>39465.0</td>\n",
       "      <td>ultra</td>\n",
       "      <td>мурманск</td>\n",
       "      <td>44</td>\n",
       "      <td>3230.268</td>\n",
       "    </tr>\n",
       "    <tr>\n",
       "      <td>3214</td>\n",
       "      <td>1128</td>\n",
       "      <td>0.0</td>\n",
       "      <td>0.0</td>\n",
       "      <td>0.0</td>\n",
       "      <td>0.0</td>\n",
       "      <td>0.0</td>\n",
       "      <td>ultra</td>\n",
       "      <td>волжский</td>\n",
       "      <td>51</td>\n",
       "      <td>1950.000</td>\n",
       "    </tr>\n",
       "    <tr>\n",
       "      <td>3215</td>\n",
       "      <td>1371</td>\n",
       "      <td>0.0</td>\n",
       "      <td>0.0</td>\n",
       "      <td>0.0</td>\n",
       "      <td>0.0</td>\n",
       "      <td>0.0</td>\n",
       "      <td>smart</td>\n",
       "      <td>омск</td>\n",
       "      <td>50</td>\n",
       "      <td>550.000</td>\n",
       "    </tr>\n",
       "  </tbody>\n",
       "</table>\n",
       "<p>3216 rows × 10 columns</p>\n",
       "</div>"
      ],
      "text/plain": [
       "      user_id  month  calls  minutes  messages  mb_used tariff  \\\n",
       "0        1005    1.0   15.0     99.0       7.0   2730.0  smart   \n",
       "1        1005    2.0   69.0    470.0      38.0   7396.0  smart   \n",
       "2        1005    3.0   77.0    620.0      56.0  11120.0  smart   \n",
       "3        1005    4.0  101.0    736.0      41.0   9371.0  smart   \n",
       "4        1005    5.0   73.0    606.0      42.0   7882.0  smart   \n",
       "...       ...    ...    ...      ...       ...      ...    ...   \n",
       "3211     1328   10.0    0.0      0.0       6.0  22449.0  ultra   \n",
       "3212     1328   11.0    0.0      0.0       8.0  35570.0  ultra   \n",
       "3213     1328   12.0    0.0      0.0       7.0  39465.0  ultra   \n",
       "3214     1128    0.0    0.0      0.0       0.0      0.0  ultra   \n",
       "3215     1371    0.0    0.0      0.0       0.0      0.0  smart   \n",
       "\n",
       "                  city  age    profit  \n",
       "0     набережные челны   67   550.000  \n",
       "1     набережные челны   67   550.000  \n",
       "2     набережные челны   67   928.000  \n",
       "3     набережные челны   67  1258.000  \n",
       "4     набережные челны   67   868.000  \n",
       "...                ...  ...       ...  \n",
       "3211          мурманск   44  1950.000  \n",
       "3212          мурманск   44  2660.040  \n",
       "3213          мурманск   44  3230.268  \n",
       "3214          волжский   51  1950.000  \n",
       "3215              омск   50   550.000  \n",
       "\n",
       "[3216 rows x 10 columns]"
      ]
     },
     "execution_count": 105,
     "metadata": {},
     "output_type": "execute_result"
    }
   ],
   "source": [
    "profit_per_month"
   ]
  },
  {
   "cell_type": "markdown",
   "metadata": {},
   "source": [
    "## Общий вывод"
   ]
  },
  {
   "cell_type": "markdown",
   "metadata": {},
   "source": [
    "- Таблицы изучены, осуществлена проверка на дубликат ыи пустые значения , далее в предобработке тип данных сделан корректным.\n",
    "\n",
    "- посчитано сколько минут разговора, сколько сообщений и какой объем интернет-трафика требуется пользователям каждого тарифа в месяц, также осуществлен расчет дисперсии и стандартного отклонения\n",
    "\n",
    "- гипотезы проверены с соответствующими выводами\n",
    "\n",
    "Из двух поставленных гипотез подтвердилась одна. для оператора выгоден тариф Ультра, так как он приносит больше денег; для пользователя выгоден тариф Смарт, так как полного пакета достаточно длоя пользования."
   ]
  },
  {
   "cell_type": "code",
   "execution_count": null,
   "metadata": {},
   "outputs": [],
   "source": []
  }
 ],
 "metadata": {
  "kernelspec": {
   "display_name": "Python 3",
   "language": "python",
   "name": "python3"
  },
  "language_info": {
   "codemirror_mode": {
    "name": "ipython",
    "version": 3
   },
   "file_extension": ".py",
   "mimetype": "text/x-python",
   "name": "python",
   "nbconvert_exporter": "python",
   "pygments_lexer": "ipython3",
   "version": "3.7.7"
  },
  "toc": {
   "base_numbering": 1,
   "nav_menu": {},
   "number_sections": true,
   "sideBar": true,
   "skip_h1_title": true,
   "title_cell": "Table of Contents",
   "title_sidebar": "Contents",
   "toc_cell": false,
   "toc_position": {},
   "toc_section_display": true,
   "toc_window_display": false
  }
 },
 "nbformat": 4,
 "nbformat_minor": 2
}
